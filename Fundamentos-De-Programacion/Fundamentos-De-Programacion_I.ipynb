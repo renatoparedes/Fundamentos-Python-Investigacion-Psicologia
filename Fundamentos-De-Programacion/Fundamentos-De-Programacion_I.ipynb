{
 "cells": [
  {
   "cell_type": "markdown",
   "metadata": {
    "slideshow": {
     "slide_type": "slide"
    }
   },
   "source": [
    "# Fundamentos de Programación I\n",
    "\n",
    "Este tutorial es una adaptación al español del tutorial [Foundations of Python Programming](https://runestone.academy/runestone/books/published/fopp/index.html) desarrollado por Brad Miller, Paul Resnick, Lauren Murphy, Jeffrey Elkner, Peter Wentworth, Allen B. Downey, Chris como parte del proyecto [Runstone Interactive](http://runestoneinteractive.org/).\n",
    "\n",
    ">Barbara Ericson and Bradley Miller. 2020 Runestone: A Platform for Free, On-line, and Interactive Ebooks In Proceedings of the 51st ACM Technical Symposium on Computer Science Education (SIGCSE ’20). Association for Computing Machinery, New York, NY, USA, 1240.\n"
   ]
  },
  {
   "cell_type": "markdown",
   "metadata": {
    "slideshow": {
     "slide_type": "slide"
    }
   },
   "source": [
    "# Valores y Tipos de datos\n",
    "\n",
    "Un valor es una de las cosas fundamentales, como una palabra o un número, que un programa manipula. Algunos valores son `5` (el resultado cuando sumamos `2 + 3`) y `\"¡Hola, mundo!\"`. \n",
    "\n",
    "Estos objetos se clasifican en diferentes clases o tipos de datos: `4` es un número entero (**integer**) y \"¡Hola, mundo!\" es una cadena (**string**), así llamada porque contiene una cadena o secuencia de letras. Usted (y el intérprete) pueden identificar cadenas porque están entre comillas."
   ]
  },
  {
   "cell_type": "markdown",
   "metadata": {
    "slideshow": {
     "slide_type": "subslide"
    }
   },
   "source": [
    "Durante la ejecución de un programa, el intérprete de Python crea una representación interna de literales que se especifican en un programa. Luego puede manipularlos, por ejemplo, multiplicando dos números. Llamamos a las representaciones internas **objetos** o simplemente **valores**.\n",
    "\n",
    "No puedes ver directamente las representaciones internas de valores. Sin embargo, puede utilizar la función `print` para ver una representación impresa en la ventana de salida."
   ]
  },
  {
   "cell_type": "markdown",
   "metadata": {
    "slideshow": {
     "slide_type": "subslide"
    }
   },
   "source": [
    "Prueba imprimiendo valores decimales y literales:"
   ]
  },
  {
   "cell_type": "code",
   "execution_count": 13,
   "metadata": {
    "slideshow": {
     "slide_type": "fragment"
    }
   },
   "outputs": [
    {
     "name": "stdout",
     "output_type": "stream",
     "text": [
      "3.2\n",
      "Hello, World!\n"
     ]
    }
   ],
   "source": [
    "print(3.2)\n",
    "print(\"Hello, World!\")"
   ]
  },
  {
   "cell_type": "markdown",
   "metadata": {
    "slideshow": {
     "slide_type": "subslide"
    }
   },
   "source": [
    "> **Nota** <br />\n",
    "Los literales (**literals**) aparecen en los programas. El intérprete de Python convierte los literales en valores (**values**), que tienen representaciones internas que la gente nunca puede ver directamente. Las salidas (**outputs**) son representaciones externas de valores que aparecen en la ventana de salida. En ese tutorial se usarán los términos de esta manera. A veces, sin embargo, nos volveremos un poco descuidados y nos referiremos a literales o representaciones externas como valores (**values**)."
   ]
  },
  {
   "cell_type": "markdown",
   "metadata": {
    "slideshow": {
     "slide_type": "subslide"
    }
   },
   "source": [
    "Los números con un punto decimal pertenecen a un tipo llamado **float**, porque estos números se representan en un formato llamado floating-point.\n",
    "\n",
    "Pronto encontrarás también otros tipos de objetos, como listas (**lists**) y diccionarios (**dictionaries**). Cada uno de estos tiene su propia representación especial para especificar un objeto como literal en un programa y para mostrar un objeto cuando se imprime. Por ejemplo, el contenido de la lista se incluye entre corchetes `[]`. \n",
    "\n",
    "También encontrarás algunos objetos más complicados que no tienen representaciones impresas muy agradables: imprimirlos no será muy útil."
   ]
  },
  {
   "cell_type": "markdown",
   "metadata": {
    "slideshow": {
     "slide_type": "slide"
    }
   },
   "source": [
    "# Operadores y operandos\n",
    "\n",
    "Puede construir expresiones complejas a partir de expresiones más simples usando operadores (**operators**). Los operadores son símbolos especiales que representan cálculos como suma, multiplicación y división. \n",
    "\n",
    "Los valores con los que trabaja el operador se denominan operandos.\n",
    "\n",
    "\n",
    "\n",
    "Los símbolos `+`, `-` y `*`, y el uso de paréntesis para agrupar, significan en Python lo que significan en matemáticas. El asterisco (`*`) es el símbolo para la multiplicación y `**` es el símbolo para la potenciación. La suma, la resta, la multiplicación y la potenciación hacen lo que esperas."
   ]
  },
  {
   "cell_type": "markdown",
   "metadata": {
    "slideshow": {
     "slide_type": "subslide"
    }
   },
   "source": [
    "Las siguientes son expresiones legales de Python cuyo significado es más o menos claro:\n",
    "\n",
    ">20 + 32<br />\n",
    "5 ** 2<br />\n",
    "(5 + 9) * (15 - 7)"
   ]
  },
  {
   "cell_type": "markdown",
   "metadata": {
    "slideshow": {
     "slide_type": "subslide"
    }
   },
   "source": [
    "Los símbolos `+`, `-` y `*`, y el uso de paréntesis para agrupar, significan en Python lo que significan en matemáticas. El asterisco (`*`) es el símbolo para la multiplicación y `**` es el símbolo para la potenciación. La suma, la resta, la multiplicación y la potenciación hacen lo que esperas."
   ]
  },
  {
   "cell_type": "code",
   "execution_count": 18,
   "metadata": {
    "slideshow": {
     "slide_type": "fragment"
    }
   },
   "outputs": [
    {
     "name": "stdout",
     "output_type": "stream",
     "text": [
      "12\n"
     ]
    }
   ],
   "source": [
    "20 + 32\n",
    "5**2\n",
    "(5 + 9) * (15 - 7)\n",
    "print(7 + 5)"
   ]
  },
  {
   "cell_type": "markdown",
   "metadata": {
    "slideshow": {
     "slide_type": "fragment"
    }
   },
   "source": [
    "Recuerda utilizar `print` para mostrar el resultado de las operaciones."
   ]
  },
  {
   "cell_type": "markdown",
   "metadata": {
    "slideshow": {
     "slide_type": "subslide"
    }
   },
   "source": [
    "En Python el operador de división `/` produce un resultado de punto flotante (incluso si el resultado es un número entero; `4/2` es `2.0`). \n",
    "\n",
    "Si deseas una división truncada, que ignora el residuo, puedes usar el operador `//` (por ejemplo: `5 // 2` es `2`)."
   ]
  },
  {
   "cell_type": "code",
   "execution_count": 35,
   "metadata": {
    "slideshow": {
     "slide_type": "subslide"
    }
   },
   "outputs": [
    {
     "name": "stdout",
     "output_type": "stream",
     "text": [
      "1.8\n",
      "0.5555555555555556\n",
      "1\n"
     ]
    }
   ],
   "source": [
    "print(9 / 5)\n",
    "print(5 / 9)\n",
    "print(9 // 5)"
   ]
  },
  {
   "cell_type": "markdown",
   "metadata": {
    "slideshow": {
     "slide_type": "fragment"
    }
   },
   "source": [
    "Presta especial atención a los ejemplos anteriores. Ten en cuenta que `9 // 5` trunca en lugar de redondear, por lo que produce el valor 1 en lugar de 2.\n",
    "\n",
    "El operador de división truncado, `//`, también funciona con números de punto flotante. Se trunca al número entero más cercano, pero aún produce un resultado de punto flotante. \n",
    "\n",
    "Por tanto, `7.0 // 3.0` es `2.0`."
   ]
  },
  {
   "cell_type": "code",
   "execution_count": 4,
   "metadata": {
    "slideshow": {
     "slide_type": "fragment"
    }
   },
   "outputs": [
    {
     "name": "stdout",
     "output_type": "stream",
     "text": [
      "2.3333333333333335\n",
      "2.0\n"
     ]
    }
   ],
   "source": [
    "print(7.0 / 3.0)\n",
    "print(7.0 // 3.0)"
   ]
  },
  {
   "cell_type": "markdown",
   "metadata": {
    "slideshow": {
     "slide_type": "subslide"
    }
   },
   "source": [
    "El operador módulo (**modulus**), a veces también llamado operador de residuo (**remainder**) o operador de residuo entero (**integer remainder**), funciona con enteros (**integers**) (y expresiones de números enteros) y produce el residuo cuando el primer operando se divide por el segundo. "
   ]
  },
  {
   "cell_type": "markdown",
   "metadata": {
    "slideshow": {
     "slide_type": "subslide"
    }
   },
   "source": [
    "En Python, el operador de módulo es un signo de porcentaje (`%`). La sintaxis es la misma que para otros operadores."
   ]
  },
  {
   "cell_type": "code",
   "execution_count": 5,
   "metadata": {
    "slideshow": {
     "slide_type": "fragment"
    }
   },
   "outputs": [
    {
     "name": "stdout",
     "output_type": "stream",
     "text": [
      "2\n",
      "1\n"
     ]
    }
   ],
   "source": [
    "print(7 // 3)  # Este es operador de división de enteros\n",
    "print(7 % 3)  # Este es el operador de residuo o módulo"
   ]
  },
  {
   "cell_type": "markdown",
   "metadata": {
    "slideshow": {
     "slide_type": "fragment"
    }
   },
   "source": [
    "En el ejemplo anterior, 7 dividido por 3 es 2 cuando usamos la división entera y hay un resto de 1.\n",
    "\n",
    "El operador de módulo resulta sorprendentemente útil. Por ejemplo, puedes verificar si un número es divisible por otro; si `x % y` es cero, entonces x es divisible por y. Además, puede extraer el dígito o dígitos más a la derecha de un número. Por ejemplo, `x % 10` produce el dígito más a la derecha de `x` (en base 10). De manera similar, `x % 100` produce los dos últimos dígitos."
   ]
  },
  {
   "cell_type": "markdown",
   "metadata": {
    "slideshow": {
     "slide_type": "slide"
    }
   },
   "source": [
    "# Uso de funciones\n",
    "\n",
    "El intérprete de Python puede calcular nuevos valores con el uso de funciones. Estás familiarizado con la idea de funciones del álgebra de la escuela secundaria. \n",
    "\n",
    "Allí puedes definir una función `f` especificando cómo transforma una entrada en una salida, `f (x) = 3x + 2`. Luego, puede escribir `f(5)` y esperar obtener el valor 17.\n",
    "\n",
    "Python adopta una sintaxis similar para invocar funciones. Si hay una función con nombre `foo` que toma una sola entrada, podemos invocar a foo en el valor 5 escribiendo `foo (5)`.\n",
    "\n",
    "Hay muchas funciones integradas disponibles en Python. Veremos algunas en este tutorial."
   ]
  },
  {
   "cell_type": "markdown",
   "metadata": {
    "slideshow": {
     "slide_type": "subslide"
    }
   },
   "source": [
    "\n",
    "Las funciones son como fábricas que toman algún material, realizan alguna operación y luego envían el objeto resultante. En este caso, nos referimos a los materiales como argumentos o entradas (**input**) y el objeto resultante se denomina salida o valor de retorno (**output**). Este proceso de tomar información, hacer algo y luego devolver la salida se demuestra en el siguiente gif: \n",
    "\n",
    "<center><img src=\"https://runestone.academy/runestone/books/published/fopp/_images/function_calls.gif\" alt=\"Funciones\"\n",
    "\ttitle=\"Funciones\" width=\"300\" height=\"300\" /></center>"
   ]
  },
  {
   "cell_type": "markdown",
   "metadata": {
    "slideshow": {
     "slide_type": "subslide"
    }
   },
   "source": [
    "También es posible que los programadores definan nuevas funciones en sus programas. A continuación un par de ejemplos sobre funciones definidas por un usuario como tú: "
   ]
  },
  {
   "cell_type": "code",
   "execution_count": 68,
   "metadata": {
    "slideshow": {
     "slide_type": "fragment"
    }
   },
   "outputs": [],
   "source": [
    "def square(x):\n",
    "    return x * x\n",
    "\n",
    "\n",
    "def sub(x, y):\n",
    "    return x - y"
   ]
  },
  {
   "cell_type": "markdown",
   "metadata": {
    "slideshow": {
     "slide_type": "fragment"
    }
   },
   "source": [
    "La función `square` toma un único parámetro de entrada y devuelve esa entrada multiplicada por sí misma. La función `sub` toma dos parámetros de entrada y devuelve el resultado de restar el segundo del primero. \n",
    "\n",
    "Obviamente, estas funciones no son particularmente útiles, ya que tenemos los operadores `*` y `-` disponibles, pero ilustran cómo operan las funciones."
   ]
  },
  {
   "cell_type": "markdown",
   "metadata": {
    "slideshow": {
     "slide_type": "subslide"
    }
   },
   "source": [
    "La imagen siguiente ilustra cómo opera la función `square`.\n",
    "\n",
    "<center><img src=\"https://runestone.academy/runestone/books/published/fopp/_images/square_function.gif\" alt=\"Square\"\n",
    "\ttitle=\"Square\" width=\"800\" height=\"400\" /></center>"
   ]
  },
  {
   "cell_type": "code",
   "execution_count": 69,
   "metadata": {
    "slideshow": {
     "slide_type": "subslide"
    }
   },
   "outputs": [
    {
     "name": "stdout",
     "output_type": "stream",
     "text": [
      "9\n",
      "2\n",
      "-4\n"
     ]
    }
   ],
   "source": [
    "print(square(3))\n",
    "square(5)\n",
    "print(sub(6, 4))\n",
    "print(sub(5, 9))"
   ]
  },
  {
   "cell_type": "markdown",
   "metadata": {
    "slideshow": {
     "slide_type": "fragment"
    }
   },
   "source": [
    "Observa que cuando una función toma más de un parámetro de entrada, las entradas están separadas por una coma. También ten en cuenta que el orden de las entradas es importante. El valor antes de la coma se trata como la primera entrada, el valor después de ella como la segunda entrada."
   ]
  },
  {
   "cell_type": "markdown",
   "metadata": {
    "slideshow": {
     "slide_type": "slide"
    }
   },
   "source": [
    "## Uso de funciones como parte de expresiones complejas\n",
    "\n",
    "En cualquier lugar de una expresión en la que puedas escribir un literal como un número, también puedes escribir una invocación de función que produzca un número.\n",
    "\n",
    "Por ejemplo:\n"
   ]
  },
  {
   "cell_type": "code",
   "execution_count": 74,
   "metadata": {
    "slideshow": {
     "slide_type": "fragment"
    }
   },
   "outputs": [
    {
     "name": "stdout",
     "output_type": "stream",
     "text": [
      "11\n",
      "5\n"
     ]
    }
   ],
   "source": [
    "print(square(3) + 2)\n",
    "print(sub(square(3), square(1 + 1)))"
   ]
  },
  {
   "cell_type": "markdown",
   "metadata": {
    "slideshow": {
     "slide_type": "slide"
    }
   },
   "source": [
    "## Las funciones son objetos. Los paréntesis invocan funciones\n",
    "\n",
    "Las funciones son en sí mismas solo objetos. Si le dice a Python que imprima el objeto de la función, en lugar de imprimir los resultados de invocar el objeto de la función, obtendrá una representacón impresas no tan agradable.\n",
    "\n",
    "Simplemente escribir el nombre de la función produce una referencia a la función como un objeto. Escribir el nombre de la función seguido de paréntesis `()` invoca la función."
   ]
  },
  {
   "cell_type": "code",
   "execution_count": 76,
   "metadata": {
    "slideshow": {
     "slide_type": "subslide"
    }
   },
   "outputs": [
    {
     "name": "stdout",
     "output_type": "stream",
     "text": [
      "<function square at 0x7f5cb0521ea0>\n",
      "9\n"
     ]
    }
   ],
   "source": [
    "print(square)\n",
    "print(square(3))"
   ]
  },
  {
   "cell_type": "markdown",
   "metadata": {
    "slideshow": {
     "slide_type": "slide"
    }
   },
   "source": [
    "# Tipos de datos\n",
    "Si no estás seguro de qué tipo de dato se trata un valor determinado, Python tiene una función llamada `type` que puede decírtelo.\n"
   ]
  },
  {
   "cell_type": "code",
   "execution_count": 95,
   "metadata": {
    "slideshow": {
     "slide_type": "fragment"
    }
   },
   "outputs": [
    {
     "name": "stdout",
     "output_type": "stream",
     "text": [
      "<class 'str'>\n",
      "<class 'int'>\n",
      "Hello, World\n",
      "<class 'float'>\n"
     ]
    }
   ],
   "source": [
    "print(type(\"Hello, World!\"))\n",
    "print(type(17))\n",
    "print(\"Hello, World\")\n",
    "print(type(3.2))"
   ]
  },
  {
   "cell_type": "markdown",
   "metadata": {
    "slideshow": {
     "slide_type": "subslide"
    }
   },
   "source": [
    "¿Qué pasa con valores como `\"17\"` y `\"3,2\"`? Parecen números, pero están entre comillas como cadenas."
   ]
  },
  {
   "cell_type": "code",
   "execution_count": 11,
   "metadata": {
    "slideshow": {
     "slide_type": "fragment"
    }
   },
   "outputs": [
    {
     "name": "stdout",
     "output_type": "stream",
     "text": [
      "<class 'str'>\n",
      "<class 'str'>\n"
     ]
    }
   ],
   "source": [
    "print(type(\"17\"))\n",
    "print(type(\"3.2\"))"
   ]
  },
  {
   "cell_type": "markdown",
   "metadata": {
    "slideshow": {
     "slide_type": "fragment"
    }
   },
   "source": [
    "¡Son cadenas!"
   ]
  },
  {
   "cell_type": "markdown",
   "metadata": {
    "slideshow": {
     "slide_type": "subslide"
    }
   },
   "source": [
    "Las cadenas en Python se pueden escribir entre comillas simples (`'`) o comillas dobles (`\"`), o tres de cada uno (`'''` o `\"\"\"`)."
   ]
  },
  {
   "cell_type": "code",
   "execution_count": 12,
   "metadata": {
    "slideshow": {
     "slide_type": "fragment"
    }
   },
   "outputs": [
    {
     "name": "stdout",
     "output_type": "stream",
     "text": [
      "<class 'str'>\n",
      "<class 'str'>\n",
      "<class 'str'>\n",
      "<class 'str'>\n"
     ]
    }
   ],
   "source": [
    "print(type(\"This is a string.\"))\n",
    "print(type(\"And so is this.\"))\n",
    "print(type(\"\"\"and this.\"\"\"))\n",
    "print(type(\"\"\"and even this...\"\"\"))"
   ]
  },
  {
   "cell_type": "markdown",
   "metadata": {
    "slideshow": {
     "slide_type": "subslide"
    }
   },
   "source": [
    "A Python no le importa si usas comillas simples o dobles o las comillas tripartitas para rodear sus cadenas. Una vez que ha analizado el texto de su programa o comando, la forma en que almacena el valor es idéntica en todos los casos, y las comillas circundantes no forman parte del valor."
   ]
  },
  {
   "cell_type": "code",
   "execution_count": 13,
   "metadata": {
    "slideshow": {
     "slide_type": "fragment"
    }
   },
   "outputs": [
    {
     "name": "stdout",
     "output_type": "stream",
     "text": [
      "This is a string.\n",
      "And so is this.\n"
     ]
    }
   ],
   "source": [
    "print(\"This is a string.\")\n",
    "print(\"\"\"And so is this.\"\"\")"
   ]
  },
  {
   "cell_type": "markdown",
   "metadata": {
    "slideshow": {
     "slide_type": "subslide"
    }
   },
   "source": [
    "Cuando escribas un número entero grande, puede tener la tentación de utilizar comas entre grupos de tres dígitos, como en `42,000`. Este no es legal en Python, pero significa algo más:"
   ]
  },
  {
   "cell_type": "code",
   "execution_count": 104,
   "metadata": {
    "slideshow": {
     "slide_type": "fragment"
    }
   },
   "outputs": [
    {
     "name": "stdout",
     "output_type": "stream",
     "text": [
      "42500\n",
      "42 500\n"
     ]
    }
   ],
   "source": [
    "print(42500)\n",
    "print(42, 500)"
   ]
  },
  {
   "cell_type": "markdown",
   "metadata": {
    "slideshow": {
     "slide_type": "fragment"
    }
   },
   "source": [
    "Bueno, ¡eso no es lo que esperábamos en absoluto! Debido a la coma, Python eligió tratar esto como un par de valores. "
   ]
  },
  {
   "cell_type": "markdown",
   "metadata": {
    "slideshow": {
     "slide_type": "subslide"
    }
   },
   "source": [
    "De hecho, una declaración `print` puede imprimir cualquier número de valores siempre que sean separados con comas. Observa que los valores están separados por espacios cuando se imprimen."
   ]
  },
  {
   "cell_type": "code",
   "execution_count": 106,
   "metadata": {
    "slideshow": {
     "slide_type": "fragment"
    }
   },
   "outputs": [
    {
     "name": "stdout",
     "output_type": "stream",
     "text": [
      "42 17 56 34 11 4.35 32\n",
      "3.4 hello 45\n"
     ]
    }
   ],
   "source": [
    "print(42, 17, 56, 34, 11, 4.35, 32)\n",
    "print(3.4, \"hello\", 45)"
   ]
  },
  {
   "cell_type": "markdown",
   "metadata": {
    "slideshow": {
     "slide_type": "fragment"
    }
   },
   "source": [
    "Recuerda no poner comas o espacios en los números enteros, sin importar cuán grandes sean. \n",
    "\n",
    "*Los lenguajes formales son estrictos, la notación es concisa e incluso el cambio más pequeño puede significar algo bastante diferente de lo que se pretendía*."
   ]
  },
  {
   "cell_type": "markdown",
   "metadata": {
    "slideshow": {
     "slide_type": "slide"
    }
   },
   "source": [
    "# Variables\n",
    "\n",
    "Una de las características más poderosas de un lenguaje de programación es la capacidad de manipular variables. Una variable es un nombre que hace referencia a un valor."
   ]
  },
  {
   "cell_type": "markdown",
   "metadata": {
    "slideshow": {
     "slide_type": "subslide"
    }
   },
   "source": [
    "Las declaraciones de asignación (**assignment statements**) crean nuevas variables y también les dan valores a los que hacer referencia.\n",
    "\n",
    ">mensaje = \"¿Qué onda, Doc?\"<br />\n",
    "n = 17<br />\n",
    "pi = 3.14159\n",
    "\n",
    "Este ejemplo hace tres asignaciones. El primero asigna el valor de cadena `\"¿Qué onda, Doc?\"` a una nueva variable llamada `mensaje`. El segundo asigna el integer `17` a `n`, y el tercero asigna el número de punto flotante `3.14159` a una variable llamada `pi`."
   ]
  },
  {
   "cell_type": "markdown",
   "metadata": {
    "slideshow": {
     "slide_type": "subslide"
    }
   },
   "source": [
    "El token de asignación, `=`, no debe confundirse con la igualdad (veremos más adelante que la igualdad usa el token `==`). \n",
    "\n",
    "La declaración de asignación vincula un nombre, en el lado izquierdo del operador, con un *valor*, en el lado derecho. Es por eso que obtendrás un error si ingresas:\n",
    "\n",
    ">17 = n"
   ]
  },
  {
   "cell_type": "markdown",
   "metadata": {
    "slideshow": {
     "slide_type": "subslide"
    }
   },
   "source": [
    ">**Consejo**: Al leer o escribir código, di \"a n se asigna 17\" o \"n obtiene el valor 17\" o \"n es una referencia al objeto 17\" o \"n se refiere al objeto 17\". No digas \"n es igual a 17\".\n",
    ">"
   ]
  },
  {
   "cell_type": "markdown",
   "metadata": {
    "slideshow": {
     "slide_type": "subslide"
    }
   },
   "source": [
    "Si tu programa incluye una variable en cualquier expresión, siempre que se ejecute esa expresión producirá el valor que está vinculado a la variable en el momento de la ejecución. \n",
    "\n",
    "En otras palabras, evaluar una variable busca su valor. Por ejemplo:"
   ]
  },
  {
   "cell_type": "code",
   "execution_count": 140,
   "metadata": {
    "slideshow": {
     "slide_type": "fragment"
    }
   },
   "outputs": [
    {
     "name": "stdout",
     "output_type": "stream",
     "text": [
      "¿Qué onda, Doc?\n",
      "17\n",
      "3.14159\n"
     ]
    }
   ],
   "source": [
    "mensaje = \"¿Qué onda, Doc?\"\n",
    "n = 17\n",
    "pi = 3.14159\n",
    "\n",
    "print(mensaje)\n",
    "print(n)\n",
    "print(pi)"
   ]
  },
  {
   "cell_type": "markdown",
   "metadata": {
    "slideshow": {
     "slide_type": "subslide"
    }
   },
   "source": [
    "**Usamos variables en un programa para \"recordar\" cosas**, como la puntuación actual en el partido de fútbol. \n",
    "\n",
    "Pero **las variables son mutables**. Esto significa que pueden cambiar con el tiempo, al igual que el marcador en un partido de fútbol. Puedes asignar un valor a una variable y luego asignar un valor diferente a la misma variable.\n",
    "\n",
    "Gran parte de **la programación consiste en que la computadora recuerde cosas**. Por ejemplo, es posible que deseemos realizar un seguimiento de la cantidad de llamadas perdidas en tu teléfono. Cada vez que se pierda otra llamada, haremos los arreglos para actualizar o cambiar la variable para que siempre refleje el valor correcto."
   ]
  },
  {
   "cell_type": "markdown",
   "metadata": {
    "slideshow": {
     "slide_type": "subslide"
    }
   },
   "source": [
    "En cualquier lugar de un programa Python donde se espere un número o una cadena, puede poner un nombre de variable en su lugar. El intérprete de Python sustituirá el valor por el nombre de la variable.\n",
    "\n",
    "Por ejemplo, podemos averiguar el tipo de datos del valor actual de una variable poniendo el nombre de la variable entre paréntesis después de la función `type`:"
   ]
  },
  {
   "cell_type": "code",
   "execution_count": 160,
   "metadata": {
    "slideshow": {
     "slide_type": "fragment"
    }
   },
   "outputs": [
    {
     "name": "stdout",
     "output_type": "stream",
     "text": [
      "<class 'str'>\n",
      "<class 'int'>\n",
      "<class 'float'>\n"
     ]
    }
   ],
   "source": [
    "mensaje = \"¿Qué onda, Doc?\"\n",
    "n = 17\n",
    "pi = 3.14159\n",
    "\n",
    "print(type(mensaje))\n",
    "print(type(n))\n",
    "print(type(pi))"
   ]
  },
  {
   "cell_type": "markdown",
   "metadata": {
    "slideshow": {
     "slide_type": "slide"
    }
   },
   "source": [
    "# Valores booleanos y expresiones booleanas\n",
    "\n",
    "El tipo de datos en Python utilizado para almacenar valores verdaderos y falsos se llama `bool`, llamado así por el matemático británico George Boole. George Boole creó el álgebra booleana, que es la base de toda la aritmética informática moderna.\n",
    "\n",
    "Solo hay dos valores booleanos: Son verdaderos (`True`) o falsos (`False`). \n",
    "\n",
    "El uso de mayúsculas es importante, ya que `true` y `false` no son valores booleanos (recuerda que Python distingue entre mayúsculas y minúsculas)."
   ]
  },
  {
   "cell_type": "code",
   "execution_count": 168,
   "metadata": {
    "slideshow": {
     "slide_type": "subslide"
    }
   },
   "outputs": [
    {
     "name": "stdout",
     "output_type": "stream",
     "text": [
      "True\n",
      "<class 'bool'>\n",
      "<class 'bool'>\n"
     ]
    }
   ],
   "source": [
    "print(True)\n",
    "print(type(True))\n",
    "print(type(False))"
   ]
  },
  {
   "cell_type": "markdown",
   "metadata": {
    "slideshow": {
     "slide_type": "subslide"
    }
   },
   "source": [
    "¡Los valores booleanos no son cadenas!\n",
    "\n",
    "Es extremadamente importante darse cuenta de que `True` y `False` no son cadenas. No están rodeados de comillas. Son los únicos dos valores del tipo de datos `bool`. \n",
    "\n",
    "Echa un vistazo de cerca a los tipos que se muestran a continuación:"
   ]
  },
  {
   "cell_type": "code",
   "execution_count": 19,
   "metadata": {
    "slideshow": {
     "slide_type": "fragment"
    }
   },
   "outputs": [
    {
     "name": "stdout",
     "output_type": "stream",
     "text": [
      "<class 'bool'>\n",
      "<class 'str'>\n"
     ]
    }
   ],
   "source": [
    "print(type(True))\n",
    "print(type(\"True\"))"
   ]
  },
  {
   "cell_type": "markdown",
   "metadata": {
    "slideshow": {
     "slide_type": "subslide"
    }
   },
   "source": [
    "Una expresión booleana es una expresión que da como resultado un valor booleano. El operador de igualdad, `==`, compara dos valores y produce un valor booleano que indica si los dos valores son iguales entre sí. Por ejemplo:"
   ]
  },
  {
   "cell_type": "code",
   "execution_count": 20,
   "metadata": {
    "slideshow": {
     "slide_type": "fragment"
    }
   },
   "outputs": [
    {
     "name": "stdout",
     "output_type": "stream",
     "text": [
      "True\n",
      "False\n"
     ]
    }
   ],
   "source": [
    "print(5 == 5)\n",
    "print(5 == 6)"
   ]
  },
  {
   "cell_type": "markdown",
   "metadata": {
    "slideshow": {
     "slide_type": "fragment"
    }
   },
   "source": [
    "En la primera declaración, los dos operandos son iguales, por lo que la expresión se evalúa como `True`. En la segunda declaración, 5 no es igual a 6, por lo que obtenemos `False`."
   ]
  },
  {
   "cell_type": "markdown",
   "metadata": {
    "slideshow": {
     "slide_type": "subslide"
    }
   },
   "source": [
    "El operador `==` es uno de los seis operadores de comparación comunes, los demás son:\n",
    "\n",
    ">x != y     : x no es igual a y <br />\n",
    "x > y        : x es mayor que y <br />\n",
    "x < y        : x es menor que y <br />\n",
    "x >= y      : x es mayor o igual que y <br />\n",
    "x <= y      : x es menor o igual que y <br />"
   ]
  },
  {
   "cell_type": "markdown",
   "metadata": {
    "slideshow": {
     "slide_type": "subslide"
    }
   },
   "source": [
    "Aunque estas operaciones probablemente le resulten familiares, **los símbolos de Python son diferentes de los símbolos matemáticos**. Un error común es usar un solo signo igual (`=`) en lugar de un doble signo igual (`==`). Recuerda que `=` es un operador de asignación y `==` es un operador de comparación. \n",
    "\n",
    "Ten en cuenta también que una prueba de igualdad es simétrica, pero la asignación no lo es. Por ejemplo, si a == 7 entonces 7 == a. Pero en Python, la declaración `a = 7` es legal y `7 = a` no lo es."
   ]
  },
  {
   "cell_type": "markdown",
   "metadata": {
    "slideshow": {
     "slide_type": "slide"
    }
   },
   "source": [
    "## Operadores lógicos\n",
    "\n",
    "Hay tres operadores lógicos: `and`, `or` y `not`. Los tres operadores toman operandos booleanos y producen valores booleanos. \n",
    "\n",
    "El significado de estos operadores es similar a su significado en inglés:\n",
    "\n",
    "`x and y` es verdadero si tanto `x` como `y` son `True`. De lo contrario, produce `False`.\n",
    "\n",
    "`x or y` da como resultado `True` si `x` o `y` es `True`. Solo si ambos operandos son `False`, `or` produce `False`.\n",
    "\n",
    "`not x` produce `False` si x es `True`, y viceversa."
   ]
  },
  {
   "cell_type": "markdown",
   "metadata": {
    "slideshow": {
     "slide_type": "subslide"
    }
   },
   "source": [
    "Mira el siguiente ejemplo. Ve si puedes predecir la salida. Luego, ejecuta la celda para ver si tus predicciones fueron correctas:"
   ]
  },
  {
   "cell_type": "code",
   "execution_count": 171,
   "metadata": {
    "slideshow": {
     "slide_type": "fragment"
    }
   },
   "outputs": [
    {
     "name": "stdout",
     "output_type": "stream",
     "text": [
      "True\n",
      "False\n",
      "False\n"
     ]
    }
   ],
   "source": [
    "x = True\n",
    "y = False\n",
    "print(x or y)\n",
    "print(x and y)\n",
    "print(not x)"
   ]
  },
  {
   "cell_type": "markdown",
   "metadata": {
    "slideshow": {
     "slide_type": "fragment"
    }
   },
   "source": [
    "Aunque puedes usar operadores booleanos con variables o literales booleanos simples como en el ejemplo anterior, a menudo se combinan con los operadores de comparación, como en este ejemplo. "
   ]
  },
  {
   "cell_type": "markdown",
   "metadata": {
    "slideshow": {
     "slide_type": "subslide"
    }
   },
   "source": [
    "Nuevamente, antes de ejecutar esto, ve si puedes predecir el resultado:"
   ]
  },
  {
   "cell_type": "code",
   "execution_count": 172,
   "metadata": {
    "slideshow": {
     "slide_type": "fragment"
    }
   },
   "outputs": [
    {
     "name": "stdout",
     "output_type": "stream",
     "text": [
      "True\n",
      "False\n"
     ]
    }
   ],
   "source": [
    "x = 5\n",
    "print(x > 0 and x < 10)\n",
    "\n",
    "n = 25\n",
    "print(n % 2 == 0 or n % 3 == 0)"
   ]
  },
  {
   "cell_type": "markdown",
   "metadata": {
    "slideshow": {
     "slide_type": "fragment"
    }
   },
   "source": [
    "La expresión `x>0 and x<10` es `True` solo si `x` es mayor que 0 y, al mismo tiempo, `x` es menor que 10. En otras palabras, esta expresión es `True` si `x` está entre 0 y 10, sin incluir los extremos."
   ]
  },
  {
   "cell_type": "markdown",
   "metadata": {
    "slideshow": {
     "slide_type": "slide"
    }
   },
   "source": [
    "# Declaraciones y expresiones\n",
    "\n",
    "Una **declaración** es una instrucción que puede ejecutar el intérprete de Python. Hasta ahora, solo has visto la declaración de **asignación**. Algunos otros tipos de declaraciones que verás posteriormente son declaraciones `while`, `for`, `if` e `import` (¡También hay otros tipos!).\n",
    "\n",
    "Una **expresión** es una combinación de literales, nombres de variables, operadores y llamadas a funciones. Las expresiones deben evaluarse. El resultado de evaluar una expresión es un *value* u *object*."
   ]
  },
  {
   "cell_type": "markdown",
   "metadata": {
    "slideshow": {
     "slide_type": "subslide"
    }
   },
   "source": [
    "Si les pide a Python que imprima una expresión, el intérprete evalúa la expresión y muestra el resultado:"
   ]
  },
  {
   "cell_type": "code",
   "execution_count": 23,
   "metadata": {
    "slideshow": {
     "slide_type": "fragment"
    }
   },
   "outputs": [
    {
     "name": "stdout",
     "output_type": "stream",
     "text": [
      "8\n",
      "5\n"
     ]
    }
   ],
   "source": [
    "print(1 + 1 + (2 * 3))\n",
    "print(len(\"hello\"))"
   ]
  },
  {
   "cell_type": "markdown",
   "metadata": {
    "slideshow": {
     "slide_type": "fragment"
    }
   },
   "source": [
    "En este ejemplo, `len` es una función de Python que devuelve el número de caracteres en una cadena."
   ]
  },
  {
   "cell_type": "markdown",
   "metadata": {
    "slideshow": {
     "slide_type": "subslide"
    }
   },
   "source": [
    "La *evaluación de una expresión* produce un valor, por lo que las expresiones pueden aparecer en el lado derecho de las instrucciones de asignación. Un literal en sí mismo es una expresión simple, y también una variable."
   ]
  },
  {
   "cell_type": "code",
   "execution_count": 24,
   "metadata": {
    "slideshow": {
     "slide_type": "fragment"
    }
   },
   "outputs": [
    {
     "name": "stdout",
     "output_type": "stream",
     "text": [
      "5\n",
      "3.14\n"
     ]
    }
   ],
   "source": [
    "y = 3.14\n",
    "x = len(\"hello\")\n",
    "print(x)\n",
    "print(y)"
   ]
  },
  {
   "cell_type": "markdown",
   "metadata": {
    "slideshow": {
     "slide_type": "fragment"
    }
   },
   "source": [
    "En un programa, en cualquier lugar donde sea aceptable un valor literal (una cadena o un número), también es aceptable una expresión más complicada. "
   ]
  },
  {
   "cell_type": "markdown",
   "metadata": {
    "slideshow": {
     "slide_type": "subslide"
    }
   },
   "source": [
    "A continuación, se muestran todos los tipos de expresiones que hemos visto hasta ahora:\n",
    "\n",
    "**literal** <br/>\n",
    "por ejemplo, \"Hola\" o 3.14\n",
    "\n",
    "**nombre de la variable** <br/>\n",
    "por ejemplo, x o len\n",
    "\n",
    "**expresión del operador** <br/>\n",
    "<expresión> nombre-del-operador <expresión>\n",
    "\n",
    "**expresiones de llamada a función** <br/>\n",
    "<expresión> (<expresiones separadas por comas>)\n",
    "\n",
    "Observa que las expresiones de operador (como `+` y `*`) tienen subexpresiones antes y después del operador. Cada uno de estos pueden ser expresiones simples o complejas. "
   ]
  },
  {
   "cell_type": "markdown",
   "metadata": {
    "slideshow": {
     "slide_type": "subslide"
    }
   },
   "source": [
    "De esa manera, puedes llegar a tener expresiones bastante complicadas:"
   ]
  },
  {
   "cell_type": "code",
   "execution_count": 25,
   "metadata": {
    "slideshow": {
     "slide_type": "fragment"
    }
   },
   "outputs": [
    {
     "name": "stdout",
     "output_type": "stream",
     "text": [
      "17\n"
     ]
    }
   ],
   "source": [
    "print(2 * len(\"hello\") + len(\"goodbye\"))"
   ]
  },
  {
   "cell_type": "markdown",
   "metadata": {
    "slideshow": {
     "slide_type": "subslide"
    }
   },
   "source": [
    "De manera similar, al llamar a una función, en lugar de poner un literal entre paréntesis, se puede colocar una expresión compleja entre paréntesis:"
   ]
  },
  {
   "cell_type": "code",
   "execution_count": 173,
   "metadata": {
    "slideshow": {
     "slide_type": "fragment"
    }
   },
   "outputs": [
    {
     "name": "stdout",
     "output_type": "stream",
     "text": [
      "16\n",
      "25\n",
      "-3\n"
     ]
    }
   ],
   "source": [
    "x = 2\n",
    "y = 1\n",
    "print(square(y + 3))\n",
    "print(square(y + square(x)))\n",
    "print(sub(square(y), square(x)))"
   ]
  },
  {
   "cell_type": "markdown",
   "metadata": {
    "slideshow": {
     "slide_type": "fragment"
    }
   },
   "source": [
    "Con una llamada de función, incluso es posible tener una expresión compleja antes del paréntesis izquierdo, siempre que esa expresión se evalúe como un objeto de función."
   ]
  },
  {
   "cell_type": "markdown",
   "metadata": {
    "slideshow": {
     "slide_type": "slide"
    }
   },
   "source": [
    "Es importante comenzar a **aprender a leer código que contiene expresiones complejas**. El intérprete de Python examina cualquier línea de código y la analiza en componentes. \n",
    "\n",
    "Por ejemplo, si ve un símbolo `=`, intentará tratar toda la línea como una declaración de asignación. Esperará ver un nombre de variable válido a la izquierda de `=` y analizará todo lo que esté a la derecha de `=` como una expresión. \n",
    "\n",
    "Intentará averiguar si el lado derecho es un literal, un nombre de variable, una expresión de operador o una expresión de llamada a función. "
   ]
  },
  {
   "cell_type": "markdown",
   "metadata": {
    "slideshow": {
     "slide_type": "subslide"
    }
   },
   "source": [
    "**Para evaluar una expresión de operador, el intérprete de Python primero evalúa completamente la expresión antes del operador**, luego la siguiente, luego combina los dos valores resultantes usando el operador. \n",
    "\n",
    "**Para evaluar una expresión de llamada de función, el intérprete evalúa la expresión antes del paréntesis (es decir, busca el nombre de la función)**. Luego intenta evaluar cada una de las expresiones entre paréntesis. Puede haber más de uno, separados por comas. Los valores de esas expresiones se pasan como entradas a la función cuando se llama a la función."
   ]
  },
  {
   "cell_type": "markdown",
   "metadata": {
    "slideshow": {
     "slide_type": "subslide"
    }
   },
   "source": [
    "Si una expresión de llamada a función es una subexpresión de alguna expresión más complicada, como `square(x)` está en `sub(square(y), square(x))`, entonces el valor de retorno de `square(x)` se pasa como entrada a la subfunción. Esta es una de las cosas difíciles a las que tendrás que acostumbrarte cuando leas (o escribas) código. \n",
    "\n",
    "En este ejemplo, la función `square` se llama (dos veces) antes de que se llame a `sub`, aunque la función `sub` aparece primero al leer el código de izquierda a derecha."
   ]
  },
  {
   "cell_type": "markdown",
   "metadata": {
    "slideshow": {
     "slide_type": "slide"
    }
   },
   "source": [
    "Si tienes tiempo, te invito a explorar el [Capitulo 2](https://runestone.academy/runestone/books/published/fopp/SimplePythonData/intro-VariablesExpressionsandStatements.html) del tutorial original en inglés."
   ]
  }
 ],
 "metadata": {
  "celltoolbar": "Slideshow",
  "kernelspec": {
   "display_name": "Python 3 (ipykernel)",
   "language": "python",
   "name": "python3"
  },
  "language_info": {
   "codemirror_mode": {
    "name": "ipython",
    "version": 3
   },
   "file_extension": ".py",
   "mimetype": "text/x-python",
   "name": "python",
   "nbconvert_exporter": "python",
   "pygments_lexer": "ipython3",
   "version": "3.10.12"
  }
 },
 "nbformat": 4,
 "nbformat_minor": 2
}
