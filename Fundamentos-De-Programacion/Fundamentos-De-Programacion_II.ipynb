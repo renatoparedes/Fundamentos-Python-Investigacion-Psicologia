{
 "cells": [
  {
   "cell_type": "markdown",
   "metadata": {
    "slideshow": {
     "slide_type": "slide"
    }
   },
   "source": [
    "# Fundamentos de Programación II\n",
    "\n",
    "Este tutorial es una adaptación al español del tutorial [Foundations of Python Programming](https://runestone.academy/runestone/books/published/fopp/index.html) desarrollado por Brad Miller, Paul Resnick, Lauren Murphy, Jeffrey Elkner, Peter Wentworth, Allen B. Downey, Chris como parte del proyecto [Runstone Interactive](http://runestoneinteractive.org/).\n",
    "\n",
    ">Barbara Ericson and Bradley Miller. 2020 Runestone: A Platform for Free, On-line, and Interactive Ebooks In Proceedings of the 51st ACM Technical Symposium on Computer Science Education (SIGCSE ’20). Association for Computing Machinery, New York, NY, USA, 1240.\n"
   ]
  },
  {
   "cell_type": "markdown",
   "metadata": {
    "slideshow": {
     "slide_type": "slide"
    }
   },
   "source": [
    "## Cadenas y listas\n",
    "\n",
    "Hasta el momento hemos utilizado cadenas para representar palabras o frases que queríamos imprimir (print). Nuestra definición era simple: una cadena son simplemente algunos caracteres entre comillas. En este tutorial exploraremos las cadenas con mucho más detalle.\n",
    "\n",
    "Además, exploraremos las listas, que son muy parecidas a las cadenas pero pueden contener diferentes tipos."
   ]
  },
  {
   "cell_type": "markdown",
   "metadata": {
    "slideshow": {
     "slide_type": "subslide"
    }
   },
   "source": [
    "### Cadenas\n",
    "\n",
    "Las cadenas se pueden definir como colecciones secuenciales de caracteres. Esto significa que los caracteres individuales que componen una cadena están en un orden particular de izquierda a derecha.\n",
    "\n",
    "Una cadena que no contiene caracteres, a menudo denominada **cadena vacía**, todavía se considera una cadena. Es simplemente una secuencia de cero caracteres y está representada por \"\" o \"\" (dos comillas simples o dos dobles sin nada entre ellas)."
   ]
  },
  {
   "cell_type": "markdown",
   "metadata": {
    "slideshow": {
     "slide_type": "subslide"
    }
   },
   "source": [
    "### Listas\n",
    "\n",
    "Una **lista** es una colección secuencial de valores de datos de Python, donde cada valor se identifica mediante un índice. Los valores que componen una lista se denominan **elementos**. \n",
    "\n",
    "Las listas son similares a las cadenas, que son colecciones ordenadas de caracteres, excepto que los elementos de una lista pueden tener cualquier tipo y, para cualquier lista, los elementos pueden ser de diferentes tipos."
   ]
  },
  {
   "cell_type": "markdown",
   "metadata": {
    "slideshow": {
     "slide_type": "subslide"
    }
   },
   "source": [
    "Hay varias formas de crear una lista nueva. La más simple es encerrar los elementos entre corchetes (`[` y `]`). \n",
    "\n",
    "Por ejemplo:"
   ]
  },
  {
   "cell_type": "code",
   "execution_count": 34,
   "metadata": {
    "slideshow": {
     "slide_type": "fragment"
    }
   },
   "outputs": [
    {
     "name": "stdout",
     "output_type": "stream",
     "text": [
      "[10, 20, 30, 40]\n",
      "['spam', 'bungee', 'swallow']\n"
     ]
    }
   ],
   "source": [
    "list1 = [10, 20, 30, 40]\n",
    "list2 = [\"spam\", \"bungee\", \"swallow\"]\n",
    "\n",
    "print(list1)\n",
    "print(list2)"
   ]
  },
  {
   "cell_type": "markdown",
   "metadata": {
    "slideshow": {
     "slide_type": "fragment"
    }
   },
   "source": [
    "El primer ejemplo es una lista de cuatro números enteros. El segundo es una lista de tres cadenas. Como dijimos anteriormente, los elementos de una lista no tienen que ser del mismo tipo. "
   ]
  },
  {
   "cell_type": "markdown",
   "metadata": {
    "slideshow": {
     "slide_type": "subslide"
    }
   },
   "source": [
    "La siguiente lista contiene una cadena, un flotante, un número entero y otra lista:"
   ]
  },
  {
   "cell_type": "code",
   "execution_count": 35,
   "metadata": {
    "slideshow": {
     "slide_type": "fragment"
    }
   },
   "outputs": [
    {
     "name": "stdout",
     "output_type": "stream",
     "text": [
      "['hello', 2.0, 5, [10, 20]]\n"
     ]
    }
   ],
   "source": [
    "list3 = [\"hello\", 2.0, 5, [10, 20]]\n",
    "print(list3)"
   ]
  },
  {
   "cell_type": "markdown",
   "metadata": {
    "slideshow": {
     "slide_type": "fragment"
    }
   },
   "source": [
    "**Nota**<br />\n",
    "¡No mezcles tipos!\n",
    "Es probable que nos veas hacer esto para darte combinaciones extrañas, pero cuando creas listas, por lo general, no debes mezclar tipos. Una lista de solo cadenas o solo enteros o solo flotantes es generalmente más fácil de manejar."
   ]
  },
  {
   "cell_type": "markdown",
   "metadata": {
    "slideshow": {
     "slide_type": "slide"
    }
   },
   "source": [
    "## Tuplas\n",
    "\n",
    "Una tupla (**tuple**), como una lista, es una secuencia de elementos de cualquier tipo. La representación impresa de una tupla es una secuencia de valores separados por comas entre paréntesis. En otras palabras, la representación es como una lista, excepto con paréntesis `()` en lugar de corchetes `[]`."
   ]
  },
  {
   "cell_type": "markdown",
   "metadata": {
    "slideshow": {
     "slide_type": "subslide"
    }
   },
   "source": [
    "Una forma de crear una tupla es escribir una expresión, entre paréntesis, que consta de varias otras expresiones, separadas por comas:"
   ]
  },
  {
   "cell_type": "code",
   "execution_count": 36,
   "metadata": {
    "slideshow": {
     "slide_type": "fragment"
    }
   },
   "outputs": [
    {
     "name": "stdout",
     "output_type": "stream",
     "text": [
      "('Julia', 'Roberts', 1967, 'Duplicity', 2009, 'Actress', 'Atlanta, Georgia')\n"
     ]
    }
   ],
   "source": [
    "julia = (\n",
    "    \"Julia\",\n",
    "    \"Roberts\",\n",
    "    1967,\n",
    "    \"Duplicity\",\n",
    "    2009,\n",
    "    \"Actress\",\n",
    "    \"Atlanta, Georgia\",\n",
    ")\n",
    "print(julia)"
   ]
  },
  {
   "cell_type": "markdown",
   "metadata": {
    "slideshow": {
     "slide_type": "fragment"
    }
   },
   "source": [
    "La diferencia clave entre listas y tuplas es que una tupla es inmutable, lo que significa que su contenido no se puede cambiar después de que se crea la tupla. "
   ]
  },
  {
   "cell_type": "markdown",
   "metadata": {
    "slideshow": {
     "slide_type": "subslide"
    }
   },
   "source": [
    "Para crear una tupla con un solo elemento (aunque probablemente no lo hagas con demasiada frecuencia), tenemos que incluir la coma final, porque sin la coma final, Python trata el `(5)` a continuación como un número entero entre paréntesis:"
   ]
  },
  {
   "cell_type": "code",
   "execution_count": 8,
   "metadata": {
    "slideshow": {
     "slide_type": "fragment"
    }
   },
   "outputs": [
    {
     "name": "stdout",
     "output_type": "stream",
     "text": [
      "<class 'tuple'>\n",
      "<class 'int'>\n"
     ]
    }
   ],
   "source": [
    "t = (5,)\n",
    "print(type(t))\n",
    "\n",
    "x = 5\n",
    "print(type(x))"
   ]
  },
  {
   "cell_type": "markdown",
   "metadata": {
    "slideshow": {
     "slide_type": "slide"
    }
   },
   "source": [
    "## Operador índice: trabajar con los caracteres de una cadena\n",
    "\n",
    "El **operador de indexación** (Python usa corchetes para encerrar el índice) selecciona un solo carácter de una cadena. Se accede a los caracteres por su posición o valor de índice. Por ejemplo, en la cadena que se muestra a continuación, los 14 caracteres están indexados de izquierda a derecha desde la posición 0 hasta la posición 13.\n",
    "\n",
    "<center><img src=\"https://runestone.academy/runestone/books/published/fopp/_images/indexvalues.png\" alt=\"IndexOp\"\n",
    "\ttitle=\"IndexOp\" /></center>\n",
    "\n",
    "También es el caso que las posiciones se nombran de derecha a izquierda usando números negativos donde -1 es el índice más a la derecha y así sucesivamente. Tenga en cuenta que el caracter en el índice 6 (o -8) es el carácter en blanco."
   ]
  },
  {
   "cell_type": "code",
   "execution_count": 9,
   "metadata": {
    "slideshow": {
     "slide_type": "subslide"
    }
   },
   "outputs": [
    {
     "name": "stdout",
     "output_type": "stream",
     "text": [
      "t\n",
      "e\n"
     ]
    }
   ],
   "source": [
    "school = \"Luther College\"\n",
    "m = school[2]\n",
    "print(m)\n",
    "\n",
    "lastchar = school[-1]\n",
    "print(lastchar)"
   ]
  },
  {
   "cell_type": "markdown",
   "metadata": {
    "slideshow": {
     "slide_type": "fragment"
    }
   },
   "source": [
    "La expresión `school[2]` selecciona el carácter en el índice 2 de school y crea una nueva cadena que contiene solo este carácter. La variable `m` se refiere al resultado.\n",
    "\n",
    "La letra en el índice cero de `\"Luther College\"` es `L`. Entonces, en la posición `[2]` tenemos la letra `t`."
   ]
  },
  {
   "cell_type": "markdown",
   "metadata": {
    "slideshow": {
     "slide_type": "subslide"
    }
   },
   "source": [
    "Si deseas la letra \"cero-ava\" de una cadena, simplemente pon 0, o cualquier expresión con el valor 0, entre corchetes. Inténtalo:"
   ]
  },
  {
   "cell_type": "code",
   "execution_count": 10,
   "metadata": {
    "slideshow": {
     "slide_type": "fragment"
    }
   },
   "outputs": [
    {
     "name": "stdout",
     "output_type": "stream",
     "text": [
      "L\n"
     ]
    }
   ],
   "source": [
    "firstchar = school[0]\n",
    "print(firstchar)"
   ]
  },
  {
   "cell_type": "markdown",
   "metadata": {
    "slideshow": {
     "slide_type": "subslide"
    }
   },
   "source": [
    "La expresión entre paréntesis se llama índice (**index**). Un índice especifica un miembro de una colección ordenada. En este caso, la colección de caracteres de la cadena. \n",
    "\n",
    "El índice *indica* qué carácter desea. Puede ser cualquier expresión entera siempre que se evalúe como un valor de índice válido.\n",
    "\n",
    "Ten en cuenta que la indexación devuelve una *cadena*: Python no tiene un tipo especial para un solo carácter. Es solo una cadena de longitud 1."
   ]
  },
  {
   "cell_type": "markdown",
   "metadata": {
    "slideshow": {
     "slide_type": "slide"
    }
   },
   "source": [
    "### Operador índice: Acceso a elementos de una lista o tupla\n",
    "\n",
    "La sintaxis para acceder a los elementos de una lista o tupla es la misma que la sintaxis para acceder a los caracteres de una cadena. Usamos el operador de índice (`[]` - no debe confundirse con una lista vacía). \n",
    "\n",
    "La expresión entre corchetes especifica el índice. **Recuerda que los índices comienzan en 0**.\n",
    "\n",
    "Cualquier expresión entera se puede usar como índice y, al igual que con las cadenas, los valores de índice negativos ubicarán los elementos desde la derecha en lugar de desde la izquierda."
   ]
  },
  {
   "cell_type": "markdown",
   "metadata": {
    "slideshow": {
     "slide_type": "subslide"
    }
   },
   "source": [
    "Cuando decimos el primer, tercer o n-ésimo carácter de una secuencia, generalmente nos referimos a contar de la manera habitual, comenzando con 1. \n",
    "\n",
    "El n-ésimo carácter y el carácter EN EL INDÍCE n son diferentes entonces: **El n-ésimo carácter está en el índice n-1.** \n",
    "\n",
    "¡Asegúrate de tener claro lo que quieres decir!"
   ]
  },
  {
   "cell_type": "markdown",
   "metadata": {
    "slideshow": {
     "slide_type": "subslide"
    }
   },
   "source": [
    "Intenta predecir lo que se imprimirá con el siguiente código y luego ejecútalo para verificar tu predicción:\n",
    "\n",
    ">(En general, es una buena idea hacer eso siempre con los ejemplos de código. Aprenderá mucho más si se obliga a hacer una predicción antes de ver el resultado)."
   ]
  },
  {
   "cell_type": "code",
   "execution_count": 11,
   "metadata": {
    "slideshow": {
     "slide_type": "fragment"
    }
   },
   "outputs": [
    {
     "name": "stdout",
     "output_type": "stream",
     "text": [
      "87\n",
      "123\n",
      "8398\n"
     ]
    }
   ],
   "source": [
    "numbers = [17, 123, 87, 34, 66, 8398, 44]\n",
    "print(numbers[2])\n",
    "print(numbers[9 - 8])\n",
    "print(numbers[-2])"
   ]
  },
  {
   "cell_type": "code",
   "execution_count": 12,
   "metadata": {
    "slideshow": {
     "slide_type": "fragment"
    }
   },
   "outputs": [
    {
     "name": "stdout",
     "output_type": "stream",
     "text": [
      "1.99\n",
      "100.98\n",
      "20.95\n"
     ]
    }
   ],
   "source": [
    "prices = (1.99, 2.00, 5.50, 20.95, 100.98)\n",
    "print(prices[0])\n",
    "print(prices[-1])\n",
    "print(prices[3 - 5])"
   ]
  },
  {
   "cell_type": "markdown",
   "metadata": {
    "slideshow": {
     "slide_type": "subslide"
    }
   },
   "source": [
    "## Eliminando ambigüedades []: creación e indexación\n",
    "\n",
    "Los corchetes `[]` se utilizan de varias formas en Python. La primera vez que aprende a usarlos puede resultar confuso, pero con la práctica y la repetición serán fáciles de incorporar.\n",
    "\n",
    "Actualmente, has encontrado dos casos en los que hemos utilizado corchetes. El primero es crear listas y el segundo es indexar. \n",
    "\n",
    "A primera vista, la creación y la indexación son difíciles de distinguir: la indexación requiere hacer referencia a una lista ya creada, mientras que la simple creación de una lista no lo requiere."
   ]
  },
  {
   "cell_type": "code",
   "execution_count": 13,
   "metadata": {
    "slideshow": {
     "slide_type": "subslide"
    }
   },
   "outputs": [],
   "source": [
    "new_lst = []"
   ]
  },
  {
   "cell_type": "markdown",
   "metadata": {
    "slideshow": {
     "slide_type": "fragment"
    }
   },
   "source": [
    "En el código anterior, se crea una nueva lista usando los corchetes vacíos. Sin embargo, dado que no hay nada en él, no podemos indexarlo."
   ]
  },
  {
   "cell_type": "code",
   "execution_count": 14,
   "metadata": {
    "slideshow": {
     "slide_type": "subslide"
    }
   },
   "outputs": [],
   "source": [
    "new_lst = [\"NFLX\", \"AMZN\", \"GOOGL\", \"DIS\", \"XOM\"]\n",
    "part_of_new_lst = new_lst[0]"
   ]
  },
  {
   "cell_type": "markdown",
   "metadata": {
    "slideshow": {
     "slide_type": "fragment"
    }
   },
   "source": [
    "En el código anterior, verás cómo, ahora que tenemos elementos dentro de `new_lst`, podemos indexarlos. Para extraer un elemento de la lista, usamos `[]`, pero primero tenemos que especificar qué lista estamos indexando. \n",
    "\n",
    "Imagínese si hubiera otra lista en el código activo. ¿Cómo sabría Python en qué lista queremos indexar si no se lo contamos? Además, tenemos que especificar qué elemento queremos extraer. Esto pertenece al interior de los soportes."
   ]
  },
  {
   "cell_type": "markdown",
   "metadata": {
    "slideshow": {
     "slide_type": "subslide"
    }
   },
   "source": [
    "Aunque puede ser más fácil de distinguir en el código anterior, el siguiente puede ser un poco más difícil:"
   ]
  },
  {
   "cell_type": "code",
   "execution_count": 15,
   "metadata": {
    "slideshow": {
     "slide_type": "fragment"
    }
   },
   "outputs": [
    {
     "name": "stdout",
     "output_type": "stream",
     "text": [
      "[0]\n",
      "0\n"
     ]
    }
   ],
   "source": [
    "lst = [0]\n",
    "n_lst = lst[0]\n",
    "\n",
    "print(lst)\n",
    "print(n_lst)"
   ]
  },
  {
   "cell_type": "markdown",
   "metadata": {
    "slideshow": {
     "slide_type": "fragment"
    }
   },
   "source": [
    "Aquí, vemos una lista llamada `lst` asignada a una lista con un elemento, cero. Luego, vemos cómo a `n_lst` se le asigna el valor asociado con el primer elemento de lst. A pesar de los nombres de las variables, solo una de las variables anteriores se asigna a una lista. \n",
    "\n",
    "Ten en cuenta que en este ejemplo, lo que diferencia la creación de la indexación es la referencia a la lista para que Python sepa que está extrayendo un elemento de otra lista."
   ]
  },
  {
   "cell_type": "markdown",
   "metadata": {
    "slideshow": {
     "slide_type": "slide"
    }
   },
   "source": [
    "## Longitud\n",
    "\n",
    "La función `len`, cuando se aplica a una cadena, devuelve el número de caracteres de una cadena."
   ]
  },
  {
   "cell_type": "code",
   "execution_count": 16,
   "metadata": {
    "slideshow": {
     "slide_type": "fragment"
    }
   },
   "outputs": [
    {
     "name": "stdout",
     "output_type": "stream",
     "text": [
      "6\n"
     ]
    }
   ],
   "source": [
    "fruit = \"Banana\"\n",
    "print(len(fruit))"
   ]
  },
  {
   "cell_type": "markdown",
   "metadata": {
    "slideshow": {
     "slide_type": "subslide"
    }
   },
   "source": [
    "Para obtener la última letra de una cadena, es posible que tengas la tentación de probar algo como esto:"
   ]
  },
  {
   "cell_type": "code",
   "execution_count": 17,
   "metadata": {
    "slideshow": {
     "slide_type": "fragment"
    }
   },
   "outputs": [
    {
     "ename": "IndexError",
     "evalue": "string index out of range",
     "output_type": "error",
     "traceback": [
      "\u001b[0;31m---------------------------------------------------------------------------\u001b[0m",
      "\u001b[0;31mIndexError\u001b[0m                                Traceback (most recent call last)",
      "\u001b[0;32m/tmp/ipykernel_22615/319261056.py\u001b[0m in \u001b[0;36m<module>\u001b[0;34m\u001b[0m\n\u001b[1;32m      1\u001b[0m \u001b[0mfruit\u001b[0m \u001b[0;34m=\u001b[0m \u001b[0;34m\"Banana\"\u001b[0m\u001b[0;34m\u001b[0m\u001b[0;34m\u001b[0m\u001b[0m\n\u001b[1;32m      2\u001b[0m \u001b[0msz\u001b[0m \u001b[0;34m=\u001b[0m \u001b[0mlen\u001b[0m\u001b[0;34m(\u001b[0m\u001b[0mfruit\u001b[0m\u001b[0;34m)\u001b[0m\u001b[0;34m\u001b[0m\u001b[0;34m\u001b[0m\u001b[0m\n\u001b[0;32m----> 3\u001b[0;31m \u001b[0mlast\u001b[0m \u001b[0;34m=\u001b[0m \u001b[0mfruit\u001b[0m\u001b[0;34m[\u001b[0m\u001b[0msz\u001b[0m\u001b[0;34m]\u001b[0m       \u001b[0;31m# ¡ERROR!\u001b[0m\u001b[0;34m\u001b[0m\u001b[0;34m\u001b[0m\u001b[0m\n\u001b[0m\u001b[1;32m      4\u001b[0m \u001b[0mprint\u001b[0m\u001b[0;34m(\u001b[0m\u001b[0mlast\u001b[0m\u001b[0;34m)\u001b[0m\u001b[0;34m\u001b[0m\u001b[0;34m\u001b[0m\u001b[0m\n",
      "\u001b[0;31mIndexError\u001b[0m: string index out of range"
     ]
    }
   ],
   "source": [
    "fruit = \"Banana\"\n",
    "sz = len(fruit)\n",
    "last = fruit[sz]  # ¡ERROR!\n",
    "print(last)"
   ]
  },
  {
   "cell_type": "markdown",
   "metadata": {
    "slideshow": {
     "slide_type": "fragment"
    }
   },
   "source": [
    "Eso no funcionará. Provoca el error de tiempo de ejecución `IndexError: string index out of range`. La razón es que no hay ninguna letra en la posición 6 del índice en `\"Banana\"`. Como comenzamos a contar desde cero, los seis índices están numerados del 0 al 5. \n",
    "\n",
    "Para obtener el último carácter, tenemos que restar 1 de la longitud. Pruébalo en el ejemplo anterior."
   ]
  },
  {
   "cell_type": "markdown",
   "metadata": {
    "slideshow": {
     "slide_type": "subslide"
    }
   },
   "source": [
    "Al igual que con las cadenas, la función `len` devuelve la longitud de una lista (el número de elementos de la lista). \n",
    "\n",
    "Sin embargo, dado que las listas pueden tener elementos que son en sí mismos secuencias (por ejemplo, cadenas), es importante tener en cuenta que `len` solo devuelve la longitud de la lista especificada:"
   ]
  },
  {
   "cell_type": "code",
   "execution_count": 18,
   "metadata": {
    "slideshow": {
     "slide_type": "fragment"
    }
   },
   "outputs": [
    {
     "name": "stdout",
     "output_type": "stream",
     "text": [
      "3\n",
      "5\n"
     ]
    }
   ],
   "source": [
    "alist = [\"hello\", 2.0, 5]\n",
    "print(len(alist))\n",
    "print(len(alist[0]))"
   ]
  },
  {
   "cell_type": "markdown",
   "metadata": {
    "slideshow": {
     "slide_type": "fragment"
    }
   },
   "source": [
    "Ten en cuenta que `alist[0]` es la cadena `\"hello\"`, que tiene una longitud de 5."
   ]
  },
  {
   "cell_type": "markdown",
   "metadata": {
    "slideshow": {
     "slide_type": "slide"
    }
   },
   "source": [
    "## El operador Slice\n",
    "\n",
    "Una subcadena de una cadena se llama trozo (**slice**). Seleccionar un trozo es similar a seleccionar un carácter:"
   ]
  },
  {
   "cell_type": "code",
   "execution_count": 19,
   "metadata": {
    "slideshow": {
     "slide_type": "fragment"
    }
   },
   "outputs": [
    {
     "name": "stdout",
     "output_type": "stream",
     "text": [
      "Peter\n",
      "Paul\n",
      "Mary\n"
     ]
    }
   ],
   "source": [
    "singers = \"Peter, Paul, and Mary\"\n",
    "print(singers[0:5])\n",
    "print(singers[7:11])\n",
    "print(singers[17:21])"
   ]
  },
  {
   "cell_type": "markdown",
   "metadata": {
    "slideshow": {
     "slide_type": "fragment"
    }
   },
   "source": [
    "El operador `slice` en `[n: m]` devuelve la parte de la cadena que comienza con el carácter en el índice n y va hasta pero sin incluir el carácter en el índice m. O con el conteo normal desde 1, este es el (n + 1) primer carácter hasta e incluyendo el carácter m."
   ]
  },
  {
   "cell_type": "markdown",
   "metadata": {
    "slideshow": {
     "slide_type": "subslide"
    }
   },
   "source": [
    "Si omites el primer índice (antes de los dos puntos), el segmento comienza al principio de la cadena. Si omites el segundo índice, el segmento llega al final de la cadena. \n",
    "\n",
    "Por ejemplo:"
   ]
  },
  {
   "cell_type": "code",
   "execution_count": 20,
   "metadata": {
    "slideshow": {
     "slide_type": "fragment"
    }
   },
   "outputs": [
    {
     "name": "stdout",
     "output_type": "stream",
     "text": [
      "ban\n",
      "ana\n"
     ]
    }
   ],
   "source": [
    "fruit = \"banana\"\n",
    "print(fruit[:3])\n",
    "print(fruit[3:])"
   ]
  },
  {
   "cell_type": "markdown",
   "metadata": {
    "slideshow": {
     "slide_type": "subslide"
    }
   },
   "source": [
    "¿Qué crees que significa `fruit[:]`?"
   ]
  },
  {
   "cell_type": "code",
   "execution_count": 21,
   "metadata": {
    "slideshow": {
     "slide_type": "fragment"
    }
   },
   "outputs": [
    {
     "name": "stdout",
     "output_type": "stream",
     "text": [
      "banana\n"
     ]
    }
   ],
   "source": [
    "print(fruit[:])"
   ]
  },
  {
   "cell_type": "markdown",
   "metadata": {
    "slideshow": {
     "slide_type": "slide"
    }
   },
   "source": [
    "## Concatenación y repetición\n",
    "\n",
    "Al igual que con las cadenas, el operador `+` concatena listas. De manera similar, el operador `*` repite los elementos de una lista un número determinado de veces.\n",
    "\n",
    "Veamos un ejemplo:"
   ]
  },
  {
   "cell_type": "code",
   "execution_count": 22,
   "metadata": {
    "slideshow": {
     "slide_type": "fragment"
    }
   },
   "outputs": [
    {
     "name": "stdout",
     "output_type": "stream",
     "text": [
      "[1, 2, 3, 4]\n",
      "['apple', 'orange', 'banana', 'cherry', 6, 7, 8, 9]\n",
      "[0, 0, 0, 0]\n"
     ]
    }
   ],
   "source": [
    "fruit = [\"apple\", \"orange\", \"banana\", \"cherry\"]\n",
    "print([1, 2] + [3, 4])\n",
    "print(fruit + [6, 7, 8, 9])\n",
    "\n",
    "print([0] * 4)"
   ]
  },
  {
   "cell_type": "markdown",
   "metadata": {
    "slideshow": {
     "slide_type": "fragment"
    }
   },
   "source": [
    "Es importante ver que estos operadores crean nuevas listas a partir de los elementos de las listas de operandos. \n",
    "\n",
    "Si concatenas una lista con 2 elementos y una lista con 4 elementos, obtendrás una nueva lista con 6 elementos (no una lista con dos sublistas). Del mismo modo, la repetición de una lista de 2 elementos 4 veces dará como resultado una lista de 8 elementos."
   ]
  },
  {
   "cell_type": "markdown",
   "metadata": {
    "slideshow": {
     "slide_type": "subslide"
    }
   },
   "source": [
    "¡Ten cuidado al agregar diferentes tipos juntos! **Python no entiende cómo concatenar diferentes tipos juntos**. \n",
    "\n",
    "Por lo tanto, si intentamos agregar una cadena a una lista con `['primero'] + \"segundo\"`, el intérprete devolverá un error. \n",
    "\n",
    "Para hacer esto, necesitará hacer que los dos objetos sean del mismo tipo. En este caso, significa poner la cadena en su propia lista y luego agregar las dos juntas así: `['primero'] + [\"segundo\"]`. \n",
    "\n",
    "Sin embargo, este proceso se verá diferente para otros tipos. ¡Recuerda que hay funciones para convertir tipos!"
   ]
  },
  {
   "cell_type": "markdown",
   "metadata": {
    "slideshow": {
     "slide_type": "slide"
    }
   },
   "source": [
    "## El bucle **For**\n",
    "\n",
    "Un componente básico de todos los programas es poder repetir código una y otra vez. Nos referimos a esta idea de repetición como **iteración**. En esta sección, exploraremos algunos mecanismos para la iteración básica. \n",
    "\n",
    "En Python, la instrucción **for** nos permite escribir programas que implementan la iteración. \n",
    "\n",
    "Como ejemplo simple, digamos que tenemos algunos amigos, y nos gustaría enviarles a cada uno un correo electrónico invitándolos a nuestra fiesta. "
   ]
  },
  {
   "cell_type": "markdown",
   "metadata": {
    "slideshow": {
     "slide_type": "subslide"
    }
   },
   "source": [
    "Todavía no sabemos cómo enviar correos electrónicos, así que por el momento solo imprimiremos un mensaje para cada amigo:"
   ]
  },
  {
   "cell_type": "code",
   "execution_count": 26,
   "metadata": {
    "slideshow": {
     "slide_type": "fragment"
    }
   },
   "outputs": [
    {
     "name": "stdout",
     "output_type": "stream",
     "text": [
      "Hola Joe ¡Por favor, ven a mi fiesta el viernes!\n",
      "Hola Amy ¡Por favor, ven a mi fiesta el viernes!\n",
      "Hola Brad ¡Por favor, ven a mi fiesta el viernes!\n",
      "Hola Angelina ¡Por favor, ven a mi fiesta el viernes!\n",
      "Hola Zuki ¡Por favor, ven a mi fiesta el viernes!\n",
      "Hola Thandi ¡Por favor, ven a mi fiesta el viernes!\n"
     ]
    }
   ],
   "source": [
    "for name in [\"Joe\", \"Amy\", \"Brad\", \"Angelina\", \"Zuki\", \"Thandi\"]:\n",
    "    print(\"Hola\", name, \"¡Por favor, ven a mi fiesta el viernes!\")"
   ]
  },
  {
   "cell_type": "markdown",
   "metadata": {
    "slideshow": {
     "slide_type": "fragment"
    }
   },
   "source": [
    "Echa un vistazo a la salida producida cuando ejecuta la celda. Hay una línea impresa para cada amigo. \n",
    "\n",
    "Así es como funciona:\n",
    "\n",
    "- **name** en esta instrucción `for` se llama **variable de bucle** o, alternativamente, **variable de iterador**.\n",
    "- La lista de nombres entre corchetes es la secuencia sobre la que iteraremos.\n",
    "- La línea 2 es el **cuerpo del bucle**. El cuerpo del bucle siempre tiene sangría. La sangría determina exactamente qué declaraciones están \"en el bucle\". El cuerpo del bucle se realiza una vez para cada nombre de la lista.\n"
   ]
  },
  {
   "cell_type": "code",
   "execution_count": 27,
   "metadata": {
    "slideshow": {
     "slide_type": "subslide"
    }
   },
   "outputs": [
    {
     "name": "stdout",
     "output_type": "stream",
     "text": [
      "Hola Joe ¡Por favor, ven a mi fiesta el viernes!\n",
      "Hola Amy ¡Por favor, ven a mi fiesta el viernes!\n",
      "Hola Brad ¡Por favor, ven a mi fiesta el viernes!\n",
      "Hola Angelina ¡Por favor, ven a mi fiesta el viernes!\n",
      "Hola Zuki ¡Por favor, ven a mi fiesta el viernes!\n",
      "Hola Thandi ¡Por favor, ven a mi fiesta el viernes!\n"
     ]
    }
   ],
   "source": [
    "for name in [\"Joe\", \"Amy\", \"Brad\", \"Angelina\", \"Zuki\", \"Thandi\"]:\n",
    "    print(\"Hola\", name, \"¡Por favor, ven a mi fiesta el viernes!\")"
   ]
  },
  {
   "cell_type": "markdown",
   "metadata": {
    "slideshow": {
     "slide_type": "fragment"
    }
   },
   "source": [
    "- En cada *iteración* o pasada del ciclo, primero se realiza una verificación para ver si aún quedan más elementos por procesar. Si no queda ninguno (esto se denomina **condición de terminación** del bucle), el bucle ha finalizado. La ejecución del programa continúa en la siguiente instrucción después del cuerpo del bucle.\n",
    "- Si aún quedan elementos por procesar, la variable de bucle se actualiza para hacer referencia al siguiente elemento de la lista. Esto significa, en este caso, que el cuerpo del bucle se ejecuta aquí 7 veces, y cada vez `name` se referirá a un amigo diferente.\n",
    "- Al final de cada ejecución del cuerpo del bucle, Python regresa a la instrucción `for` para ver si hay más elementos que manejar."
   ]
  },
  {
   "cell_type": "markdown",
   "metadata": {
    "slideshow": {
     "slide_type": "subslide"
    }
   },
   "source": [
    "La sintaxis general es `for <loop_var_name> in <sequence>`:\n",
    "\n",
    "- Entre las palabras *for* e *in*, debe haber un nombre de variable para la variable de bucle. No puedes poner una expresión completa ahí.\n",
    "- Se requieren dos puntos al final de la línea.\n",
    "- Después de la palabra *in* y antes de los dos puntos hay una expresión que debe evaluarse como una secuencia (por ejemplo, una cadena, una lista o una tupla). Puede ser un literal, una variable o una expresión más compleja."
   ]
  },
  {
   "cell_type": "markdown",
   "metadata": {
    "slideshow": {
     "slide_type": "slide"
    }
   },
   "source": [
    "## Flujo de ejecución del bucle For\n",
    "\n",
    "A medida que se ejecuta un programa, el intérprete siempre realiza un seguimiento de qué declaración está a punto de ejecutarse. A esto lo llamamos **flujo de control** o **flujo de ejecución** del programa. Cuando los humanos ejecutan programas, a menudo usan su dedo para señalar cada declaración por turno. Entonces, podría pensar en el flujo de control como \"el dedo en movimiento de Python\".\n",
    "\n",
    "El flujo de control hasta ahora ha sido estrictamente de arriba a abajo, una declaración a la vez. A este tipo de control lo llamamos **secuencial**. Siempre se asume que el flujo secuencial de control es el comportamiento predeterminado de un programa de computadora. La declaración `for` cambia esto."
   ]
  },
  {
   "cell_type": "markdown",
   "metadata": {
    "slideshow": {
     "slide_type": "subslide"
    }
   },
   "source": [
    "El flujo de control es a menudo fácil de visualizar y comprender si dibujamos un diagrama de flujo. Este diagrama de flujo muestra los pasos exactos y la lógica de cómo se ejecuta la instrucción `for`.\n",
    "\n",
    "<center><img src=\"https://runestone.academy/runestone/books/published/fopp/_images/new_flowchart_for.png\n",
    "\" alt=\"FlowFor\"\n",
    "\ttitle=\"FlowFor\" /></center>\n"
   ]
  },
  {
   "cell_type": "markdown",
   "metadata": {
    "slideshow": {
     "slide_type": "slide"
    }
   },
   "source": [
    "## Listas y bucles For\n",
    "\n",
    "También es posible realizar un recorrido de lista mediante iteración por elemento. Una lista es una secuencia de elementos, por lo que el ciclo `for` itera sobre cada elemento de la lista automáticamente:"
   ]
  },
  {
   "cell_type": "code",
   "execution_count": null,
   "metadata": {
    "slideshow": {
     "slide_type": "fragment"
    }
   },
   "outputs": [],
   "source": [
    "fruits = [\"apple\", \"orange\", \"banana\", \"cherry\"]\n",
    "\n",
    "for afruit in fruits:  # by item\n",
    "    print(afruit)"
   ]
  },
  {
   "cell_type": "markdown",
   "metadata": {
    "slideshow": {
     "slide_type": "subslide"
    }
   },
   "source": [
    "### Uso de la función de rango para generar una secuencia sobre la que iterar\n",
    "\n",
    "Ahora estamos en condiciones de comprender el funcionamiento interno de la siguiente expresión:\n"
   ]
  },
  {
   "cell_type": "code",
   "execution_count": 28,
   "metadata": {
    "slideshow": {
     "slide_type": "fragment"
    }
   },
   "outputs": [
    {
     "name": "stdout",
     "output_type": "stream",
     "text": [
      "This will execute first\n",
      "This line will execute three times\n",
      "This line will also execute three times\n",
      "This line will execute three times\n",
      "This line will also execute three times\n",
      "This line will execute three times\n",
      "This line will also execute three times\n",
      "Now we are outside of the for loop!\n"
     ]
    }
   ],
   "source": [
    "print(\"This will execute first\")\n",
    "\n",
    "for _ in range(3):\n",
    "    print(\"This line will execute three times\")\n",
    "    print(\"This line will also execute three times\")\n",
    "\n",
    "print(\"Now we are outside of the for loop!\")"
   ]
  },
  {
   "cell_type": "markdown",
   "metadata": {
    "slideshow": {
     "slide_type": "fragment"
    }
   },
   "source": [
    "La función de `range` toma un número entero n como entrada y devuelve una secuencia de números, comenzando en 0 y subiendo pero sin incluir n. Por lo tanto, en lugar de `range(3)`, podríamos haber escrito `[0, 1, 2]`."
   ]
  },
  {
   "cell_type": "markdown",
   "metadata": {
    "slideshow": {
     "slide_type": "subslide"
    }
   },
   "source": [
    "La variable de ciclo `_` está vinculada a 0 la primera vez que se ejecutan las líneas 4 y 5. La próxima vez, `_` está vinculado a 1. La tercera vez, está vinculado a 2. `_` es un nombre extraño para una variable, pero si observa detenidamente las reglas sobre los nombres de variable, es un nombre legal. \n",
    "\n",
    "Por convención, usamos `_` como nuestra variable de ciclo cuando no pretendemos referirnos nunca a la variable de ciclo. Es decir, solo intentamos repetir el bloque de código varias veces (una vez para cada elemento de una secuencia), pero no vamos a hacer nada con los elementos en particular. `_` estará vinculado a un elemento diferente cada vez, pero nunca nos referiremos a esos elementos en particular en el código."
   ]
  },
  {
   "cell_type": "markdown",
   "metadata": {
    "slideshow": {
     "slide_type": "subslide"
    }
   },
   "source": [
    "Por el contrario, observa que en la ventana de código activo anterior, la variable de bucle es `afruit`. En ese bucle for, sí nos referimos a cada elemento, con `print(afruit)`."
   ]
  },
  {
   "cell_type": "markdown",
   "metadata": {
    "slideshow": {
     "slide_type": "slide"
    }
   },
   "source": [
    "## Condicionales\n",
    "\n",
    "Para escribir programas útiles, casi siempre necesitamos la capacidad de verificar las condiciones y cambiar el comportamiento del programa en consecuencia. Las **declaraciones de selección**, a veces también denominadas **declaraciones condicionales**, nos brindan esta capacidad. \n",
    "\n",
    "La forma más simple de selección es la **declaración if**. Esto a veces se denomina **selección binaria**, ya que hay dos posibles rutas de ejecución."
   ]
  },
  {
   "cell_type": "markdown",
   "metadata": {
    "slideshow": {
     "slide_type": "subslide"
    }
   },
   "source": [
    "Veamos un ejemplo:"
   ]
  },
  {
   "cell_type": "code",
   "execution_count": 29,
   "metadata": {
    "slideshow": {
     "slide_type": "fragment"
    }
   },
   "outputs": [
    {
     "name": "stdout",
     "output_type": "stream",
     "text": [
      "15 es impar\n"
     ]
    }
   ],
   "source": [
    "x = 15\n",
    "\n",
    "if x % 2 == 0:\n",
    "    print(x, \"es par\")\n",
    "else:\n",
    "    print(x, \"es impar\")"
   ]
  },
  {
   "cell_type": "markdown",
   "metadata": {
    "slideshow": {
     "slide_type": "fragment"
    }
   },
   "source": [
    "La sintaxis de una declaración `if` se ve así:\n",
    "\n",
    ">\n",
    "if BOOLEAN EXPRESSION: <br /> \n",
    "    STATEMENTS_1        # ejecutada si la condición se evalúa como True <br />\n",
    "else: <br />\n",
    "    STATEMENTS_2        # ejectuada si la condición se evalúa como False <br />\n",
    ">\n",
    "\n"
   ]
  },
  {
   "cell_type": "markdown",
   "metadata": {
    "slideshow": {
     "slide_type": "subslide"
    }
   },
   "source": [
    "La expresión booleana después de la instrucción `if` se denomina **condición**. Si es cierto, entonces se ejecutan las declaraciones con sangría. Si no es así, se ejecutan las declaraciones con sangría bajo la cláusula `else`.\n",
    "\n",
    "Al igual que con la definición de `for`, la instrucción `if` consta de una línea de encabezado y un cuerpo. La línea del encabezado comienza con la palabra clave `if` seguida de una *expresión booleana* y termina con dos puntos (:).\n",
    "\n",
    "Las declaraciones sangradas que siguen se denominan **bloque**. La primera declaración sin sangría marca el final del bloque.\n",
    "\n",
    "Cada una de las declaraciones dentro del primer bloque de declaraciones se ejecuta en orden si la expresión booleana se evalúa como `True`. El primer bloque completo de declaraciones se omite si la expresión booleana se evalúa como `False` y, en su lugar, se ejecutan todas las declaraciones de la cláusula `else`.\n",
    "\n",
    "No hay límite en el número de declaraciones que pueden aparecer bajo las dos cláusulas de una declaración `if`, pero debe haber al menos una declaración en cada bloque."
   ]
  },
  {
   "cell_type": "markdown",
   "metadata": {
    "slideshow": {
     "slide_type": "slide"
    }
   },
   "source": [
    "## Omitir la cláusula else: selección unaria\n",
    "\n",
    "Otra forma de la declaración `if` es aquella en la que la cláusula `else` se omite por completo. Esto crea lo que a veces se llama **selección unaria**. \n",
    "\n",
    "En este caso, cuando la condición se evalúa como `True`, se ejecutan las declaraciones. De lo contrario, el flujo de ejecución continúa hasta la instrucción después del cuerpo del `if`."
   ]
  },
  {
   "cell_type": "markdown",
   "metadata": {
    "slideshow": {
     "slide_type": "subslide"
    }
   },
   "source": [
    "Por ejemplo:"
   ]
  },
  {
   "cell_type": "code",
   "execution_count": 30,
   "metadata": {
    "slideshow": {
     "slide_type": "fragment"
    }
   },
   "outputs": [
    {
     "name": "stdout",
     "output_type": "stream",
     "text": [
      "Esto siempre se imprime\n"
     ]
    }
   ],
   "source": [
    "x = 10\n",
    "if x < 0:\n",
    "    print(\"El número negativo \", x, \" no es válido aquí.\")\n",
    "print(\"Esto siempre se imprime\")"
   ]
  },
  {
   "cell_type": "markdown",
   "metadata": {
    "slideshow": {
     "slide_type": "subslide"
    }
   },
   "source": [
    "## Condicionales anidados\n",
    "\n",
    "Un condicional también se puede **anidar** dentro de otro. Por ejemplo, suponga que tenemos dos variables enteras, `x` e `y`. \n",
    "\n",
    "El siguiente patrón de selección muestra cómo podríamos decidir cómo se relacionan entre sí:"
   ]
  },
  {
   "cell_type": "code",
   "execution_count": null,
   "metadata": {
    "slideshow": {
     "slide_type": "fragment"
    }
   },
   "outputs": [],
   "source": [
    "if x < y:\n",
    "    print(\"x es menor que y\")\n",
    "else:\n",
    "    if x > y:\n",
    "        print(\"x es mayor que y\")\n",
    "    else:\n",
    "        print(\"x e y deben ser iguales\")"
   ]
  },
  {
   "cell_type": "markdown",
   "metadata": {
    "slideshow": {
     "slide_type": "fragment"
    }
   },
   "source": [
    "El condicional externo contiene dos ramas. La segunda rama (el else del exterior) contiene otra declaración `if`, que tiene dos ramas propias. Esas dos ramas también podrían contener declaraciones condicionales."
   ]
  },
  {
   "cell_type": "markdown",
   "metadata": {
    "slideshow": {
     "slide_type": "subslide"
    }
   },
   "source": [
    "El flujo de control de este ejemplo se puede ver en esta ilustración de diagrama de flujo:\n",
    "\n",
    "<center><img src=\"https://runestone.academy/runestone/books/published/fopp/_images/flowchart_nested_conditional.png\n",
    "\" alt=\"FlowIf\"\n",
    "\ttitle=\"FlowIf\" /></center>"
   ]
  },
  {
   "cell_type": "markdown",
   "metadata": {
    "slideshow": {
     "slide_type": "subslide"
    }
   },
   "source": [
    "Aquí hay un programa completo que define valores para `x` e `y`: "
   ]
  },
  {
   "cell_type": "code",
   "execution_count": 31,
   "metadata": {
    "slideshow": {
     "slide_type": "fragment"
    }
   },
   "outputs": [
    {
     "name": "stdout",
     "output_type": "stream",
     "text": [
      "x e y deben ser iguales\n"
     ]
    }
   ],
   "source": [
    "x = 10\n",
    "y = 10\n",
    "\n",
    "if x < y:\n",
    "    print(\"x es menor que y\")\n",
    "else:\n",
    "    if x > y:\n",
    "        print(\"x es mayor que y\")\n",
    "    else:\n",
    "        print(\"x e y deben ser iguales\")"
   ]
  },
  {
   "cell_type": "markdown",
   "metadata": {
    "slideshow": {
     "slide_type": "fragment"
    }
   },
   "source": [
    "Ejecuta el programa y ve el resultado. Luego cambia los valores de las variables para cambiar el flujo de control."
   ]
  },
  {
   "cell_type": "markdown",
   "metadata": {
    "slideshow": {
     "slide_type": "subslide"
    }
   },
   "source": [
    "## Condicionales encadenados\n",
    "\n",
    "Python proporciona una forma alternativa de escribir una selección anidada como la que se muestra en la sección anterior. Esto a veces se denomina **condicional encadenado**."
   ]
  },
  {
   "cell_type": "code",
   "execution_count": 32,
   "metadata": {
    "slideshow": {
     "slide_type": "fragment"
    }
   },
   "outputs": [
    {
     "name": "stdout",
     "output_type": "stream",
     "text": [
      "x e y deben ser iguales\n"
     ]
    }
   ],
   "source": [
    "if x < y:\n",
    "    print(\"x es menor que y\")\n",
    "elif x > y:\n",
    "    print(\"x es mayor que y\")\n",
    "else:\n",
    "    print(\"x e y deben ser iguales\")"
   ]
  },
  {
   "cell_type": "markdown",
   "metadata": {
    "slideshow": {
     "slide_type": "subslide"
    }
   },
   "source": [
    "El flujo de control se puede dibujar en una orientación diferente, pero el patrón resultante es idéntico al que se muestra arriba.\n",
    "\n",
    "<center><img src=\"https://runestone.academy/runestone/books/published/fopp/_images/flowchart_chained_conditional.png\n",
    "\" alt=\"FlowIf\"\n",
    "\ttitle=\"FlowIf\" /></center>\n",
    "\n",
    "`elif` es una abreviatura de `else if`. Nuevamente, se ejecutará exactamente una rama. No hay límite en el número de declaraciones `elif`, pero solo se permite una única (y opcional) declaración `else` final y debe ser la última rama en la declaración.\n",
    "\n",
    "Cada condición se verifica en orden. Si el primero es falso, se marca el siguiente y así sucesivamente. Si uno de ellos es verdadero, la rama correspondiente se ejecuta y la declaración finaliza. Incluso si más de una condición es verdadera, solo se ejecuta la primera rama verdadera."
   ]
  },
  {
   "cell_type": "markdown",
   "metadata": {
    "slideshow": {
     "slide_type": "subslide"
    }
   },
   "source": [
    "Aquí está el mismo programa usando `elif`:"
   ]
  },
  {
   "cell_type": "code",
   "execution_count": 33,
   "metadata": {
    "slideshow": {
     "slide_type": "fragment"
    }
   },
   "outputs": [
    {
     "name": "stdout",
     "output_type": "stream",
     "text": [
      "x e y deben ser iguales\n"
     ]
    }
   ],
   "source": [
    "x = 10\n",
    "y = 10\n",
    "\n",
    "if x < y:\n",
    "    print(\"x es menor que y\")\n",
    "elif x > y:\n",
    "    print(\"x es mayor que y\")\n",
    "else:\n",
    "    print(\"x e y deben ser iguales\")"
   ]
  },
  {
   "cell_type": "markdown",
   "metadata": {},
   "source": [
    "## Clases"
   ]
  },
  {
   "cell_type": "markdown",
   "metadata": {},
   "source": [
    "Python es un lenguaje de **programación orientado a objetos**. En la programación orientada a objetos, la atención se centra en la creación de **objetos que contienen conjuntamente datos y funciones**. \n",
    "\n",
    "Normalmente, cada definición de objeto corresponde a algún objeto o concepto del mundo real y las funciones que operan sobre ese objeto corresponden a las formas en que interactúan los objetos del mundo real."
   ]
  },
  {
   "cell_type": "markdown",
   "metadata": {},
   "source": [
    "En Python, cada valor es en realidad un objeto. Ya sea un diccionario, una lista o incluso un entero, todos son objetos. Los programas manipulan esos objetos realizando cálculos con ellos o pidiéndoles que ejecuten métodos. \n",
    "\n",
    "Para ser más específicos, decimos que **un objeto tiene un estado y una colección de métodos que puede ejecutar**. El estado de un objeto representa las cosas que el objeto sabe sobre sí mismo. **El estado se almacena en variables de instancia**."
   ]
  },
  {
   "cell_type": "markdown",
   "metadata": {},
   "source": [
    "**Los objetos son una instancias de una clase**. Las clases son una descripción detallada, la definición y la plantilla de lo que será un objeto. Pero no es el objeto en sí. \n",
    "\n",
    "Es un tipo de datos definido por el usuario, que **contiene sus propios datos y funciones (métodos)**, a los que se puede acceder y utilizar mediante la creación de una instancia de esa clase (objeto). Es el **modelo de cualquier objeto**."
   ]
  },
  {
   "cell_type": "markdown",
   "metadata": {},
   "source": [
    "Ya hemos visto clases como `str`, `int`, `float` y `list`. Estas fueron definidas por Python y puestas a nuestra disposición para su uso. Sin embargo, en muchos casos cuando estamos resolviendo problemas necesitamos crear objetos de datos que estén relacionados con el problema que estamos tratando de resolver. Necesitamos crear nuestras propias clases.\n",
    "\n",
    "Una vez que hemos escrito una clase y la hemos definido, podemos utilizarla para crear tantos objetos basados en esa clase como queramos. Veamos un ejemplo:"
   ]
  },
  {
   "cell_type": "code",
   "execution_count": 10,
   "metadata": {},
   "outputs": [],
   "source": [
    "class Point:\n",
    "\n",
    "    \"\"\"Point class for representing and manipulating x,y coordinates.\"\"\"\n",
    "\n",
    "    def __init__(self):\n",
    "        \"\"\"Create a new point at the origin\"\"\"\n",
    "\n",
    "        self.x = 0\n",
    "\n",
    "        self.y = 0\n",
    "\n",
    "    def move_x_axis(self, value):\n",
    "        \"\"\"Moves the point along the x-axis\"\"\"\n",
    "\n",
    "        self.x = self.x + value\n",
    "\n",
    "    def move_y_axis(self, value):\n",
    "        \"\"\"Moves the point along the y-axis\"\"\"\n",
    "\n",
    "        self.y = self.y + value"
   ]
  },
  {
   "cell_type": "code",
   "execution_count": 24,
   "metadata": {},
   "outputs": [
    {
     "name": "stdout",
     "output_type": "stream",
     "text": [
      "<__main__.Point object at 0x7f7844f724d0>\n",
      "0\n",
      "0\n"
     ]
    }
   ],
   "source": [
    "a = Point()\n",
    "print(a)\n",
    "print(a.x)\n",
    "print(a.y)"
   ]
  },
  {
   "cell_type": "code",
   "execution_count": 25,
   "metadata": {},
   "outputs": [
    {
     "name": "stdout",
     "output_type": "stream",
     "text": [
      "6\n"
     ]
    }
   ],
   "source": [
    "a.move_x_axis(6)\n",
    "print(a.x)"
   ]
  },
  {
   "cell_type": "markdown",
   "metadata": {},
   "source": [
    "Si tienes tiempo, te invito a explorar el [Capitulo 20](https://runestone.academy/ns/books/published/fopp/Classes/intro-ClassesandObjectstheBasics.html) del tutorial original en inglés."
   ]
  }
 ],
 "metadata": {
  "celltoolbar": "Slideshow",
  "kernelspec": {
   "display_name": "Python 3 (ipykernel)",
   "language": "python",
   "name": "python3"
  },
  "language_info": {
   "codemirror_mode": {
    "name": "ipython",
    "version": 3
   },
   "file_extension": ".py",
   "mimetype": "text/x-python",
   "name": "python",
   "nbconvert_exporter": "python",
   "pygments_lexer": "ipython3",
   "version": "3.10.12"
  }
 },
 "nbformat": 4,
 "nbformat_minor": 2
}
