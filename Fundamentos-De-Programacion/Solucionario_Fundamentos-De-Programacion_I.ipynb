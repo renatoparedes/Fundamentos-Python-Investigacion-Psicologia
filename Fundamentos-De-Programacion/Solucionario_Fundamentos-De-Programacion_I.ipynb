{
 "cells": [
  {
   "cell_type": "markdown",
   "metadata": {},
   "source": [
    "# Guía Práctica: Fundamentos de Programación I\n",
    "\n",
    "Este tutorial es una adaptación al español del tutorial [Foundations of Python Programming](https://runestone.academy/runestone/books/published/fopp/index.html) desarrollado por Brad Miller, Paul Resnick, Lauren Murphy, Jeffrey Elkner, Peter Wentworth, Allen B. Downey, Chris como parte del proyecto [Runstone Interactive](http://runestoneinteractive.org/).\n",
    "\n",
    ">Barbara Ericson and Bradley Miller. 2020 Runestone: A Platform for Free, On-line, and Interactive Ebooks In Proceedings of the 51st ACM Technical Symposium on Computer Science Education (SIGCSE ’20). Association for Computing Machinery, New York, NY, USA, 1240.\n"
   ]
  },
  {
   "cell_type": "markdown",
   "metadata": {},
   "source": [
    "# Ejercicio 1\n",
    "\n",
    "Evalúa las siguientes expresiones numéricas en tu cabeza, luego usa la ventana de código activo para verificar sus resultados:\n",
    "\n",
    ">\n",
    "1. 5 ** 2\n",
    "2. 9 * 5\n",
    "3. 15 / 12\n",
    "4. 12 / 15\n",
    "5. 15 // 12\n",
    "6. 12 // 15\n",
    "7. 5 % 2\n",
    "8. 9 % 5\n",
    "9. 15 % 12\n",
    "10. 12 % 15\n",
    "11. 6 % 6\n",
    "12. 0 % 7\n",
    ">"
   ]
  },
  {
   "cell_type": "code",
   "execution_count": 2,
   "metadata": {},
   "outputs": [],
   "source": [
    "print(5**2)"
   ]
  },
  {
   "cell_type": "markdown",
   "metadata": {},
   "source": [
    "# Ejercicio 2\n",
    "\n",
    "Toma la frase: \"Todo trabajo y nada de juego hacen de Jack un niño aburrido\". \n",
    "\n",
    "Almacena cada palabra en una variable separada, luego imprime la oración en una línea usando `print`."
   ]
  },
  {
   "cell_type": "code",
   "execution_count": 3,
   "metadata": {},
   "outputs": [
    {
     "name": "stdout",
     "output_type": "stream",
     "text": [
      "Todo trabajo y nada de juego hacen de Jack un niño aburrido.\n"
     ]
    }
   ],
   "source": [
    "# Escribe tu solución aquí\n",
    "\n",
    "v1 = \"Todo\"\n",
    "v2 = \"trabajo\"\n",
    "v3 = \"y\"\n",
    "v4 = \"nada\"\n",
    "v5 = \"de\"\n",
    "v6 = \"juego\"\n",
    "v7 = \"hacen\"\n",
    "v8 = \"de\"\n",
    "v9 = \"Jack\"\n",
    "v10 = \"un\"\n",
    "v11 = \"niño\"\n",
    "v12 = \"aburrido.\"\n",
    "\n",
    "print(v1, v2, v3, v4, v5, v6, v7, v8, v9, v10, v11, v12)"
   ]
  },
  {
   "cell_type": "markdown",
   "metadata": {},
   "source": [
    "# Ejercicio 3\n",
    "\n",
    "Escribe un programa que convierta grados centígrados a grados fahrenheit."
   ]
  },
  {
   "cell_type": "code",
   "execution_count": 6,
   "metadata": {},
   "outputs": [
    {
     "name": "stdout",
     "output_type": "stream",
     "text": [
      "86.0\n"
     ]
    }
   ],
   "source": [
    "# Escribe tu solución aquí\n",
    "\n",
    "\n",
    "def celsius_to_fahrenheit(degrees_celsius):\n",
    "    return degrees_celsius * 1.8 + 32.0\n",
    "\n",
    "\n",
    "print(celsius_to_fahrenheit(30))"
   ]
  },
  {
   "cell_type": "markdown",
   "metadata": {},
   "source": [
    "# Ejercicio 4\n",
    "\n",
    "Escribe en Python la siguiente expresión: 2 ^ 3 (dos elevados a la potencia de 3) y asígnala a una variable llamada `resultado`. Imprime el valor del resultado de la variable. Debería ver 8 como resultado."
   ]
  },
  {
   "cell_type": "code",
   "execution_count": 7,
   "metadata": {},
   "outputs": [
    {
     "name": "stdout",
     "output_type": "stream",
     "text": [
      "8\n"
     ]
    }
   ],
   "source": [
    "# Escribe tu solución aquí\n",
    "\n",
    "resultado = 2**3\n",
    "print(resultado)"
   ]
  },
  {
   "cell_type": "markdown",
   "metadata": {},
   "source": [
    "# Ejercicio 5\n",
    "\n",
    "Corrije el código a continuación que convierte minutos en segundos. Cuando un usuario proporciona una cantidad de minutos, genera los minutos convertidos en segundos. Por ejemplo, cuando un usuario proporciona el número 1, la salida debería ser 60. ¡Trabaja hasta obtener la respuesta correcta!"
   ]
  },
  {
   "cell_type": "code",
   "execution_count": 14,
   "metadata": {},
   "outputs": [
    {
     "name": "stdout",
     "output_type": "stream",
     "text": [
      "60\n"
     ]
    }
   ],
   "source": [
    "minutes = 1\n",
    "seconds_per_minute = 60\n",
    "seconds = minutes * seconds_per_minute\n",
    "print(seconds)"
   ]
  },
  {
   "cell_type": "markdown",
   "metadata": {},
   "source": [
    "## Bonus\n",
    "\n",
    "¿Cómo convertirías el código anterior a una función?"
   ]
  },
  {
   "cell_type": "code",
   "execution_count": 17,
   "metadata": {},
   "outputs": [
    {
     "name": "stdout",
     "output_type": "stream",
     "text": [
      "60\n"
     ]
    }
   ],
   "source": [
    "# Escribe tu solución aquí\n",
    "\n",
    "\n",
    "def minutes_to_seconds(minutes):\n",
    "    seconds_per_minute = 60\n",
    "    return minutes * seconds_per_minute\n",
    "\n",
    "\n",
    "print(minutes_to_seconds(1))"
   ]
  },
  {
   "cell_type": "markdown",
   "metadata": {},
   "source": [
    "# Ejercicio 6\n",
    "\n",
    "Crea una variable llamada `carname` y asígnele el valor `Honda`. Luego imprime cuántos caracteres tiene `carname`."
   ]
  },
  {
   "cell_type": "code",
   "execution_count": 20,
   "metadata": {},
   "outputs": [
    {
     "name": "stdout",
     "output_type": "stream",
     "text": [
      "5\n"
     ]
    }
   ],
   "source": [
    "# Escribe tu solución aquí\n",
    "\n",
    "carname = \"Honda\"\n",
    "print(len(carname))"
   ]
  },
  {
   "cell_type": "markdown",
   "metadata": {},
   "source": [
    "# Ejercicio 7\n",
    "\n",
    "Escribe un código que solicite a los usuarios que ingresen el año en que nacieron. Imprime cuántos años cumplirán en 2022."
   ]
  },
  {
   "cell_type": "code",
   "execution_count": 21,
   "metadata": {},
   "outputs": [
    {
     "name": "stdout",
     "output_type": "stream",
     "text": [
      "30\n"
     ]
    }
   ],
   "source": [
    "# Escribe tu solución aquí\n",
    "\n",
    "\n",
    "def age(year_born):\n",
    "    return 2022 - year_born\n",
    "\n",
    "\n",
    "print(age(1992))"
   ]
  },
  {
   "cell_type": "code",
   "execution_count": 3,
   "metadata": {},
   "outputs": [
    {
     "name": "stdout",
     "output_type": "stream",
     "text": [
      "29\n"
     ]
    }
   ],
   "source": [
    "# Solución alternativa\n",
    "\n",
    "a = int(input(\"coloca tu año de nacimiento\"))\n",
    "print(2022 - a)"
   ]
  },
  {
   "cell_type": "markdown",
   "metadata": {},
   "source": [
    "# Ejercicio 8\n",
    "\n",
    "Escribe una función llamada `cubo`. Toma un número entero y devuelve el cubo de ese valor entero. Escribe código para asignar a una variable llamada `xyz` el valor `5 * 5 * 5` (cinco al cubo). Usa la función cubo, en lugar de simplemente multiplicar con *.\n"
   ]
  },
  {
   "cell_type": "code",
   "execution_count": 1,
   "metadata": {},
   "outputs": [
    {
     "name": "stdout",
     "output_type": "stream",
     "text": [
      "125\n"
     ]
    }
   ],
   "source": [
    "# Escribe tu solución aquí\n",
    "\n",
    "\n",
    "def cubo(number):\n",
    "    return number**3\n",
    "\n",
    "\n",
    "xyz = cubo(5)\n",
    "\n",
    "print(xyz)"
   ]
  },
  {
   "cell_type": "markdown",
   "metadata": {},
   "source": [
    "# Ejercicio 9\n",
    "\n",
    "Escribe código para asignar el número de caracteres en la cadena `rv` a una variable `num_chars`."
   ]
  },
  {
   "cell_type": "code",
   "execution_count": 25,
   "metadata": {},
   "outputs": [
    {
     "name": "stdout",
     "output_type": "stream",
     "text": [
      "348\n"
     ]
    }
   ],
   "source": [
    "rv = \"\"\"Once upon a midnight dreary, while I pondered, weak and weary,\n",
    "    Over many a quaint and curious volume of forgotten lore,\n",
    "    While I nodded, nearly napping, suddenly there came a tapping,\n",
    "    As of some one gently rapping, rapping at my chamber door.\n",
    "    'Tis some visitor, I muttered, tapping at my chamber door;\n",
    "    Only this and nothing more.\"\"\"\n",
    "\n",
    "# ¡Escribe tu solución aquí!\n",
    "\n",
    "num_chars = len(rv)\n",
    "print(num_chars)"
   ]
  },
  {
   "cell_type": "markdown",
   "metadata": {},
   "source": [
    "# Ejercicio 10\n",
    "\n",
    "¿Qué valores se obtienen de estas expresiones?\n",
    "\n",
    ">\n",
    "1. 3 == 3\n",
    "2. 3! = 3\n",
    "3. 3 >= 4\n",
    "4. not (3 < 4)\n",
    ">"
   ]
  },
  {
   "cell_type": "code",
   "execution_count": 28,
   "metadata": {},
   "outputs": [
    {
     "name": "stdout",
     "output_type": "stream",
     "text": [
      "True\n",
      "False\n",
      "False\n",
      "False\n"
     ]
    }
   ],
   "source": [
    "print(3 == 3)\n",
    "print(3 != 3)\n",
    "print(3 >= 4)\n",
    "print(not (3) < 4)"
   ]
  },
  {
   "cell_type": "markdown",
   "metadata": {},
   "source": [
    "Si tienes tiempo, te invito a explorar los [ejercicios del capitulo 2](https://runestone.academy/runestone/books/published/fopp/SimplePythonData/Exercises.html) del tutorial original en inglés."
   ]
  }
 ],
 "metadata": {
  "kernelspec": {
   "display_name": "Python 3.7.9 64-bit ('base': conda)",
   "metadata": {
    "interpreter": {
     "hash": "fcc1d2c210046f8d6f0962280d91bf96fd89619bab60881df3e6b70c67140f94"
    }
   },
   "name": "python3"
  },
  "language_info": {
   "codemirror_mode": {
    "name": "ipython",
    "version": 3
   },
   "file_extension": ".py",
   "mimetype": "text/x-python",
   "name": "python",
   "nbconvert_exporter": "python",
   "pygments_lexer": "ipython3",
   "version": "3.11.6"
  },
  "orig_nbformat": 2
 },
 "nbformat": 4,
 "nbformat_minor": 2
}
