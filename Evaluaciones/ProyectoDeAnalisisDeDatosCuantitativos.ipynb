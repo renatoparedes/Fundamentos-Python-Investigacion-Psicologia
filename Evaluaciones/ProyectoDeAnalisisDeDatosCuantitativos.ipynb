{
 "cells": [
  {
   "cell_type": "markdown",
   "metadata": {},
   "source": [
    "# Proyecto de análisis de datos cuantitativos\n",
    "\n",
    "## Parte 1\n",
    "Escoge un análisis estadístico que hayas realizado previamente utilizando SPSS u otro software, o un análisis estadístico inferencial realizado en una publicación académica a cuyos datos tengas acceso.\n",
    "\n",
    "1. Escribe un párrafo detallando el análisis a realizar. Incluye un enlace o archivo adjunto para acceder a la fuente original donde se realizó el análisis (3 pts)."
   ]
  },
  {
   "cell_type": "code",
   "execution_count": null,
   "metadata": {},
   "outputs": [],
   "source": [
    "# Escribe tu respuesta aquí"
   ]
  },
  {
   "cell_type": "markdown",
   "metadata": {},
   "source": [
    "2. Carga los datos necesarios para realizar el análisis en un DataFrame de Pandas. De ser necesario, realiza transformaciones en los datos para adecuarlos a la forma requerida por tu análisis (5 pts).\n",
    "\n",
    ">Sugerencia: Utiliza la función `read_csv` de la liberería Pandas para cargar tus datos. Además, procura mostrar la forma final de tu DataFrame con el método `head`."
   ]
  },
  {
   "cell_type": "code",
   "execution_count": null,
   "metadata": {},
   "outputs": [],
   "source": [
    "# Escribe tu respuesta aquí"
   ]
  },
  {
   "cell_type": "markdown",
   "metadata": {},
   "source": [
    "## Parte 2\n",
    "\n",
    "3. Realiza un análisis exploratorio de tus datos. Este debe incluir estadísticos descriptivos y gráficos sobre las variables a ser utilizadas en tu análisis (5 pts). "
   ]
  },
  {
   "cell_type": "code",
   "execution_count": 1,
   "metadata": {},
   "outputs": [],
   "source": [
    "# Escribe tu respuesta aquí"
   ]
  },
  {
   "cell_type": "markdown",
   "metadata": {},
   "source": [
    "4. Realiza el análisis inferencial de tus datos. El código implementado debe arrojar como resultado los valores p y estadísticos relevantes para la interpretación de los resultados (7 pts). "
   ]
  },
  {
   "cell_type": "code",
   "execution_count": 2,
   "metadata": {},
   "outputs": [],
   "source": [
    "# Escribe tu respuesta aquí"
   ]
  }
 ],
 "metadata": {
  "kernelspec": {
   "display_name": "python",
   "language": "python",
   "name": "python3"
  },
  "language_info": {
   "codemirror_mode": {
    "name": "ipython",
    "version": 3
   },
   "file_extension": ".py",
   "mimetype": "text/x-python",
   "name": "python",
   "nbconvert_exporter": "python",
   "pygments_lexer": "ipython3",
   "version": "3.10.12"
  },
  "orig_nbformat": 2
 },
 "nbformat": 4,
 "nbformat_minor": 2
}
