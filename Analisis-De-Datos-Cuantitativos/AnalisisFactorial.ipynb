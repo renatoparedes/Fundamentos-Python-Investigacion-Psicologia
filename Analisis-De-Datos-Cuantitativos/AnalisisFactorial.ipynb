{
 "cells": [
  {
   "cell_type": "markdown",
   "metadata": {
    "slideshow": {
     "slide_type": "slide"
    }
   },
   "source": [
    "# Análisis Factorial Exploratorio (AFE)\n",
    "\n",
    ">Este tutorial es una selección y adaptación al español del libro [Multivariate Data Analysis](https://www.cengage.co.uk/books/9781473756540/) de Joseph F. Hair et al.\n",
    "\n",
    "> Requiere cargar el archivo [\"euthan.sav\"](https://github.com/renatoparedes/EstadisticaYPsicologiaMatematica/raw/main/AFE/euthan.sav) en el repositorio local. \n"
   ]
  },
  {
   "cell_type": "code",
   "execution_count": null,
   "metadata": {
    "slideshow": {
     "slide_type": "skip"
    }
   },
   "outputs": [],
   "source": [
    "!pip install pyreadstat\n",
    "!pip install factor_analyzer\n",
    "!wget https://github.com/renatoparedes/EstadisticaYPsicologiaMatematica/raw/main/AFE/euthan.sav"
   ]
  },
  {
   "cell_type": "markdown",
   "metadata": {
    "slideshow": {
     "slide_type": "subslide"
    }
   },
   "source": [
    "### Supuestos estadísticos\n",
    "\n",
    "El investigador debe asegurarse de que la matriz de datos tenga correlaciones suficientes para justificar la aplicación del AFE. \n",
    "\n",
    "Si se encuentra que todas las correlaciones son bajas, o que todas las correlaciones son iguales (lo que denota que no existe una estructura para agrupar las variables), entonces el investigador debe cuestionar la aplicación del AFE. Para ello, se encuentran disponibles varios enfoques:"
   ]
  },
  {
   "cell_type": "markdown",
   "metadata": {
    "slideshow": {
     "slide_type": "slide"
    }
   },
   "source": [
    "#### Inspección visual\n",
    "\n",
    "Si la inspección visual revela un **pequeño número de variables con correlaciones mayores de .30**, entonces el AFE probablemente sea inapropiado.\n",
    "\n",
    "Veamos un ejemplo:\n"
   ]
  },
  {
   "cell_type": "code",
   "execution_count": 1,
   "metadata": {
    "hideCode": true,
    "hidePrompt": true,
    "slideshow": {
     "slide_type": "fragment"
    }
   },
   "outputs": [
    {
     "data": {
      "text/html": [
       "<div>\n",
       "<style scoped>\n",
       "    .dataframe tbody tr th:only-of-type {\n",
       "        vertical-align: middle;\n",
       "    }\n",
       "\n",
       "    .dataframe tbody tr th {\n",
       "        vertical-align: top;\n",
       "    }\n",
       "\n",
       "    .dataframe thead th {\n",
       "        text-align: right;\n",
       "    }\n",
       "</style>\n",
       "<table border=\"1\" class=\"dataframe\">\n",
       "  <thead>\n",
       "    <tr style=\"text-align: right;\">\n",
       "      <th></th>\n",
       "      <th>e1</th>\n",
       "      <th>e2</th>\n",
       "      <th>e3</th>\n",
       "      <th>e4</th>\n",
       "      <th>e5</th>\n",
       "      <th>e6</th>\n",
       "      <th>e7</th>\n",
       "      <th>e8</th>\n",
       "      <th>e9</th>\n",
       "      <th>e10</th>\n",
       "      <th>e11</th>\n",
       "      <th>e12</th>\n",
       "    </tr>\n",
       "  </thead>\n",
       "  <tbody>\n",
       "    <tr>\n",
       "      <th>0</th>\n",
       "      <td>0.857588</td>\n",
       "      <td>0.785601</td>\n",
       "      <td>0.119556</td>\n",
       "      <td>0.154735</td>\n",
       "      <td>0.686161</td>\n",
       "      <td>0.865330</td>\n",
       "      <td>0.272019</td>\n",
       "      <td>0.041718</td>\n",
       "      <td>0.881063</td>\n",
       "      <td>0.916052</td>\n",
       "      <td>0.039223</td>\n",
       "      <td>0.011506</td>\n",
       "    </tr>\n",
       "    <tr>\n",
       "      <th>1</th>\n",
       "      <td>-0.867251</td>\n",
       "      <td>-0.472065</td>\n",
       "      <td>-0.717338</td>\n",
       "      <td>-0.781541</td>\n",
       "      <td>-0.402548</td>\n",
       "      <td>-0.270416</td>\n",
       "      <td>-0.595042</td>\n",
       "      <td>-1.022102</td>\n",
       "      <td>-0.072087</td>\n",
       "      <td>-1.728400</td>\n",
       "      <td>-0.784465</td>\n",
       "      <td>0.011506</td>\n",
       "    </tr>\n",
       "    <tr>\n",
       "      <th>2</th>\n",
       "      <td>0.857588</td>\n",
       "      <td>0.785601</td>\n",
       "      <td>-1.554233</td>\n",
       "      <td>0.154735</td>\n",
       "      <td>0.686161</td>\n",
       "      <td>0.865330</td>\n",
       "      <td>0.272019</td>\n",
       "      <td>0.041718</td>\n",
       "      <td>0.881063</td>\n",
       "      <td>0.916052</td>\n",
       "      <td>1.686599</td>\n",
       "      <td>0.833058</td>\n",
       "    </tr>\n",
       "    <tr>\n",
       "      <th>3</th>\n",
       "      <td>-0.004831</td>\n",
       "      <td>0.785601</td>\n",
       "      <td>-1.554233</td>\n",
       "      <td>0.154735</td>\n",
       "      <td>0.686161</td>\n",
       "      <td>0.865330</td>\n",
       "      <td>1.139081</td>\n",
       "      <td>1.105538</td>\n",
       "      <td>-1.025236</td>\n",
       "      <td>0.916052</td>\n",
       "      <td>0.039223</td>\n",
       "      <td>0.011506</td>\n",
       "    </tr>\n",
       "    <tr>\n",
       "      <th>4</th>\n",
       "      <td>-0.867251</td>\n",
       "      <td>-0.472065</td>\n",
       "      <td>0.956451</td>\n",
       "      <td>-0.781541</td>\n",
       "      <td>-1.491256</td>\n",
       "      <td>-0.270416</td>\n",
       "      <td>0.272019</td>\n",
       "      <td>0.041718</td>\n",
       "      <td>-1.025236</td>\n",
       "      <td>0.034568</td>\n",
       "      <td>0.039223</td>\n",
       "      <td>0.833058</td>\n",
       "    </tr>\n",
       "    <tr>\n",
       "      <th>...</th>\n",
       "      <td>...</td>\n",
       "      <td>...</td>\n",
       "      <td>...</td>\n",
       "      <td>...</td>\n",
       "      <td>...</td>\n",
       "      <td>...</td>\n",
       "      <td>...</td>\n",
       "      <td>...</td>\n",
       "      <td>...</td>\n",
       "      <td>...</td>\n",
       "      <td>...</td>\n",
       "      <td>...</td>\n",
       "    </tr>\n",
       "    <tr>\n",
       "      <th>352</th>\n",
       "      <td>0.857588</td>\n",
       "      <td>-0.472065</td>\n",
       "      <td>-1.554233</td>\n",
       "      <td>0.154735</td>\n",
       "      <td>0.686161</td>\n",
       "      <td>-0.270416</td>\n",
       "      <td>-0.595042</td>\n",
       "      <td>0.041718</td>\n",
       "      <td>-0.072087</td>\n",
       "      <td>0.916052</td>\n",
       "      <td>0.039223</td>\n",
       "      <td>0.011506</td>\n",
       "    </tr>\n",
       "    <tr>\n",
       "      <th>353</th>\n",
       "      <td>0.857588</td>\n",
       "      <td>0.785601</td>\n",
       "      <td>-0.717338</td>\n",
       "      <td>-0.781541</td>\n",
       "      <td>0.686161</td>\n",
       "      <td>0.865330</td>\n",
       "      <td>-0.595042</td>\n",
       "      <td>-1.022102</td>\n",
       "      <td>0.881063</td>\n",
       "      <td>0.916052</td>\n",
       "      <td>-0.784465</td>\n",
       "      <td>-0.810046</td>\n",
       "    </tr>\n",
       "    <tr>\n",
       "      <th>354</th>\n",
       "      <td>0.857588</td>\n",
       "      <td>0.785601</td>\n",
       "      <td>-0.717338</td>\n",
       "      <td>1.091011</td>\n",
       "      <td>0.686161</td>\n",
       "      <td>0.865330</td>\n",
       "      <td>1.139081</td>\n",
       "      <td>0.041718</td>\n",
       "      <td>0.881063</td>\n",
       "      <td>0.916052</td>\n",
       "      <td>1.686599</td>\n",
       "      <td>0.833058</td>\n",
       "    </tr>\n",
       "    <tr>\n",
       "      <th>355</th>\n",
       "      <td>-0.004831</td>\n",
       "      <td>-0.472065</td>\n",
       "      <td>-0.717338</td>\n",
       "      <td>0.154735</td>\n",
       "      <td>0.686161</td>\n",
       "      <td>-0.270416</td>\n",
       "      <td>0.272019</td>\n",
       "      <td>0.041718</td>\n",
       "      <td>-0.072087</td>\n",
       "      <td>0.034568</td>\n",
       "      <td>0.862911</td>\n",
       "      <td>0.011506</td>\n",
       "    </tr>\n",
       "    <tr>\n",
       "      <th>356</th>\n",
       "      <td>0.857588</td>\n",
       "      <td>0.785601</td>\n",
       "      <td>0.119556</td>\n",
       "      <td>1.091011</td>\n",
       "      <td>0.686161</td>\n",
       "      <td>0.865330</td>\n",
       "      <td>1.139081</td>\n",
       "      <td>1.105538</td>\n",
       "      <td>0.881063</td>\n",
       "      <td>0.916052</td>\n",
       "      <td>0.039223</td>\n",
       "      <td>0.011506</td>\n",
       "    </tr>\n",
       "  </tbody>\n",
       "</table>\n",
       "<p>357 rows × 12 columns</p>\n",
       "</div>"
      ],
      "text/plain": [
       "           e1        e2        e3        e4        e5        e6        e7  \\\n",
       "0    0.857588  0.785601  0.119556  0.154735  0.686161  0.865330  0.272019   \n",
       "1   -0.867251 -0.472065 -0.717338 -0.781541 -0.402548 -0.270416 -0.595042   \n",
       "2    0.857588  0.785601 -1.554233  0.154735  0.686161  0.865330  0.272019   \n",
       "3   -0.004831  0.785601 -1.554233  0.154735  0.686161  0.865330  1.139081   \n",
       "4   -0.867251 -0.472065  0.956451 -0.781541 -1.491256 -0.270416  0.272019   \n",
       "..        ...       ...       ...       ...       ...       ...       ...   \n",
       "352  0.857588 -0.472065 -1.554233  0.154735  0.686161 -0.270416 -0.595042   \n",
       "353  0.857588  0.785601 -0.717338 -0.781541  0.686161  0.865330 -0.595042   \n",
       "354  0.857588  0.785601 -0.717338  1.091011  0.686161  0.865330  1.139081   \n",
       "355 -0.004831 -0.472065 -0.717338  0.154735  0.686161 -0.270416  0.272019   \n",
       "356  0.857588  0.785601  0.119556  1.091011  0.686161  0.865330  1.139081   \n",
       "\n",
       "           e8        e9       e10       e11       e12  \n",
       "0    0.041718  0.881063  0.916052  0.039223  0.011506  \n",
       "1   -1.022102 -0.072087 -1.728400 -0.784465  0.011506  \n",
       "2    0.041718  0.881063  0.916052  1.686599  0.833058  \n",
       "3    1.105538 -1.025236  0.916052  0.039223  0.011506  \n",
       "4    0.041718 -1.025236  0.034568  0.039223  0.833058  \n",
       "..        ...       ...       ...       ...       ...  \n",
       "352  0.041718 -0.072087  0.916052  0.039223  0.011506  \n",
       "353 -1.022102  0.881063  0.916052 -0.784465 -0.810046  \n",
       "354  0.041718  0.881063  0.916052  1.686599  0.833058  \n",
       "355  0.041718 -0.072087  0.034568  0.862911  0.011506  \n",
       "356  1.105538  0.881063  0.916052  0.039223  0.011506  \n",
       "\n",
       "[357 rows x 12 columns]"
      ]
     },
     "execution_count": 1,
     "metadata": {},
     "output_type": "execute_result"
    }
   ],
   "source": [
    "import pandas as pd\n",
    "from sklearn.preprocessing import StandardScaler\n",
    "\n",
    "df = pd.read_spss(\"euthan.sav\")\n",
    "scaler = StandardScaler()\n",
    "scaled_data = scaler.fit_transform(df)\n",
    "scaled_df = pd.DataFrame(scaled_data, columns=df.columns)\n",
    "scaled_df"
   ]
  },
  {
   "cell_type": "code",
   "execution_count": 2,
   "metadata": {
    "hideCode": true,
    "hidePrompt": true,
    "slideshow": {
     "slide_type": "subslide"
    }
   },
   "outputs": [
    {
     "data": {
      "image/png": "[encoded data removed]",
      "text/plain": [
       "<Figure size 750x500 with 2 Axes>"
      ]
     },
     "metadata": {},
     "output_type": "display_data"
    }
   ],
   "source": [
    "import seaborn as sns\n",
    "import matplotlib.pyplot as plt\n",
    "\n",
    "plt.figure(figsize=(7.5, 5))\n",
    "sns.heatmap(scaled_df.corr())\n",
    "plt.show()"
   ]
  },
  {
   "cell_type": "markdown",
   "metadata": {
    "slideshow": {
     "slide_type": "subslide"
    }
   },
   "source": [
    "Veamos las correlaciones parciales en nuestro ejemplo:"
   ]
  },
  {
   "cell_type": "code",
   "execution_count": 3,
   "metadata": {
    "hideCode": true,
    "hidePrompt": true,
    "slideshow": {
     "slide_type": "fragment"
    }
   },
   "outputs": [
    {
     "name": "stderr",
     "output_type": "stream",
     "text": [
      "/home/renato/.virtualenvs/python/lib/python3.10/site-packages/outdated/utils.py:14: OutdatedPackageWarning: The package pingouin is out of date. Your version is 0.5.3, the latest is 0.5.4.\n",
      "Set the environment variable OUTDATED_IGNORE=1 to disable these warnings.\n",
      "  return warn(\n"
     ]
    },
    {
     "data": {
      "image/png": "[encoded data removed]",
      "text/plain": [
       "<Figure size 750x500 with 2 Axes>"
      ]
     },
     "metadata": {},
     "output_type": "display_data"
    }
   ],
   "source": [
    "import pingouin as pg\n",
    "\n",
    "plt.figure(figsize=(7.5, 5))\n",
    "sns.heatmap(scaled_df.pcorr())\n",
    "plt.show()"
   ]
  },
  {
   "cell_type": "markdown",
   "metadata": {
    "slideshow": {
     "slide_type": "fragment"
    }
   },
   "source": [
    "Podemos apreciar que son pocas las variables que presentan correlaciones parciales por encima de 0.7."
   ]
  },
  {
   "cell_type": "markdown",
   "metadata": {
    "slideshow": {
     "slide_type": "slide"
    }
   },
   "source": [
    "#### Prueba de Bartlett\n",
    "\n",
    "La prueba de esfericidad de Bartlett es una **prueba estadística de la presencia de correlaciones entre las variables**. Proporciona la significancia estadística que indica que la matriz de correlación tiene correlaciones significativas entre al menos algunas de las variables. \n",
    "\n",
    "El investigador debe tener en cuenta, sin embargo, que al aumentar el tamaño de la muestra, la prueba de Bartlett se vuelve más sensible para detectar correlaciones entre las variables."
   ]
  },
  {
   "cell_type": "markdown",
   "metadata": {
    "slideshow": {
     "slide_type": "subslide"
    }
   },
   "source": [
    "Apliquemos la prueba de Bartlett en nuestro ejemplo:"
   ]
  },
  {
   "cell_type": "code",
   "execution_count": 4,
   "metadata": {
    "hideCode": true,
    "hidePrompt": true,
    "slideshow": {
     "slide_type": "fragment"
    }
   },
   "outputs": [
    {
     "name": "stdout",
     "output_type": "stream",
     "text": [
      "Chi-squared:  2035.3057918223358\n",
      "p-value:  0.0\n"
     ]
    }
   ],
   "source": [
    "from factor_analyzer.factor_analyzer import calculate_bartlett_sphericity\n",
    "\n",
    "statistic, p_value = calculate_bartlett_sphericity(scaled_df)\n",
    "print(\"Chi-squared: \", statistic)\n",
    "print(\"p-value: \", p_value)"
   ]
  },
  {
   "cell_type": "markdown",
   "metadata": {
    "slideshow": {
     "slide_type": "fragment"
    }
   },
   "source": [
    "Una prueba de esfericidad de Bartlett estadísticamente significativa ($p < 0.05$) indica que existen suficientes correlaciones entre las variables para proceder a un análisis factorial."
   ]
  },
  {
   "cell_type": "markdown",
   "metadata": {
    "slideshow": {
     "slide_type": "slide"
    }
   },
   "source": [
    "#### Medida de adecuación del muestreo (MSA)\n",
    "\n",
    "Este índice va de 0 a 1, llegando a 1 cuando cada variable puede ser perfectamente predicha sin error por las demás variables.\n",
    "\n",
    "La MSA se puede interpretar con las siguientes pautas:\n",
    "- $> .80$: meritorio\n",
    "- $> .70$: medio\n",
    "- $> .60$: mediocre\n",
    "- $> .50$: miserable\n",
    "- $< .50$: inaceptable."
   ]
  },
  {
   "cell_type": "markdown",
   "metadata": {
    "slideshow": {
     "slide_type": "subslide"
    }
   },
   "source": [
    "Apliquemos esta medida en nuestro ejemplo:"
   ]
  },
  {
   "cell_type": "code",
   "execution_count": 5,
   "metadata": {
    "hideCode": true,
    "hidePrompt": true,
    "slideshow": {
     "slide_type": "fragment"
    }
   },
   "outputs": [
    {
     "name": "stdout",
     "output_type": "stream",
     "text": [
      "General MSA:  0.8652031862453038\n"
     ]
    },
    {
     "data": {
      "text/html": [
       "<div>\n",
       "<style scoped>\n",
       "    .dataframe tbody tr th:only-of-type {\n",
       "        vertical-align: middle;\n",
       "    }\n",
       "\n",
       "    .dataframe tbody tr th {\n",
       "        vertical-align: top;\n",
       "    }\n",
       "\n",
       "    .dataframe thead th {\n",
       "        text-align: right;\n",
       "    }\n",
       "</style>\n",
       "<table border=\"1\" class=\"dataframe\">\n",
       "  <thead>\n",
       "    <tr style=\"text-align: right;\">\n",
       "      <th></th>\n",
       "      <th>Individual MSA</th>\n",
       "    </tr>\n",
       "  </thead>\n",
       "  <tbody>\n",
       "    <tr>\n",
       "      <th>e1</th>\n",
       "      <td>0.881685</td>\n",
       "    </tr>\n",
       "    <tr>\n",
       "      <th>e2</th>\n",
       "      <td>0.867327</td>\n",
       "    </tr>\n",
       "    <tr>\n",
       "      <th>e3</th>\n",
       "      <td>0.806628</td>\n",
       "    </tr>\n",
       "    <tr>\n",
       "      <th>e4</th>\n",
       "      <td>0.869040</td>\n",
       "    </tr>\n",
       "    <tr>\n",
       "      <th>e5</th>\n",
       "      <td>0.911666</td>\n",
       "    </tr>\n",
       "    <tr>\n",
       "      <th>e6</th>\n",
       "      <td>0.883339</td>\n",
       "    </tr>\n",
       "    <tr>\n",
       "      <th>e7</th>\n",
       "      <td>0.801636</td>\n",
       "    </tr>\n",
       "    <tr>\n",
       "      <th>e8</th>\n",
       "      <td>0.869681</td>\n",
       "    </tr>\n",
       "    <tr>\n",
       "      <th>e9</th>\n",
       "      <td>0.920049</td>\n",
       "    </tr>\n",
       "    <tr>\n",
       "      <th>e10</th>\n",
       "      <td>0.889315</td>\n",
       "    </tr>\n",
       "    <tr>\n",
       "      <th>e11</th>\n",
       "      <td>0.877302</td>\n",
       "    </tr>\n",
       "    <tr>\n",
       "      <th>e12</th>\n",
       "      <td>0.751856</td>\n",
       "    </tr>\n",
       "  </tbody>\n",
       "</table>\n",
       "</div>"
      ],
      "text/plain": [
       "     Individual MSA\n",
       "e1         0.881685\n",
       "e2         0.867327\n",
       "e3         0.806628\n",
       "e4         0.869040\n",
       "e5         0.911666\n",
       "e6         0.883339\n",
       "e7         0.801636\n",
       "e8         0.869681\n",
       "e9         0.920049\n",
       "e10        0.889315\n",
       "e11        0.877302\n",
       "e12        0.751856"
      ]
     },
     "execution_count": 5,
     "metadata": {},
     "output_type": "execute_result"
    }
   ],
   "source": [
    "from factor_analyzer.factor_analyzer import calculate_kmo\n",
    "\n",
    "kmo_per_variable, kmo_total = calculate_kmo(scaled_df)\n",
    "\n",
    "print(\"General MSA: \", kmo_total)\n",
    "df_kmo_per_variable = pd.DataFrame(\n",
    "    kmo_per_variable,\n",
    "    index=scaled_df.columns.values,\n",
    "    columns=[\"Individual MSA\"],\n",
    ")\n",
    "df_kmo_per_variable"
   ]
  },
  {
   "cell_type": "markdown",
   "metadata": {
    "slideshow": {
     "slide_type": "fragment"
    }
   },
   "source": [
    "Nuestro ejemplo cumple con medidas de MSA adecuadas tanto a nivel individual como a nivel general."
   ]
  },
  {
   "cell_type": "markdown",
   "metadata": {
    "slideshow": {
     "slide_type": "slide"
    }
   },
   "source": [
    "## Determinar el número de factores a extraer"
   ]
  },
  {
   "cell_type": "markdown",
   "metadata": {
    "slideshow": {
     "slide_type": "subslide"
    }
   },
   "source": [
    "La pregunta clave es: **¿cuántos factores extraer o retener?**\n",
    "\n",
    "Al decidir cuándo dejar de factorizar (es decir, cuántos factores extraer), el investigador debe **combinar una base conceptual** (¿cuántos factores deberían estar en la estructura?) **con alguna evidencia empírica** (¿cuántos factores pueden ser razonablemente respaldados?).\n",
    "\n",
    "No se ha desarrollado una base cuantitativa definitiva para decidir el número de factores a extraer. Sin embargo, actualmente se utilizan algunas reglas para definir para la cantidad de factores a extraer. Las revisamos a continuación:"
   ]
  },
  {
   "cell_type": "markdown",
   "metadata": {
    "slideshow": {
     "slide_type": "slide"
    }
   },
   "source": [
    "#### Criterio de Kaiser\n",
    "\n",
    "**Retener factores con autovalores superiores a 1**. \n",
    "\n",
    "Esta técnica es sencilla de aplicar, y el fundamento es que cualquier factor individual debe tener en cuenta la varianza de al menos una sola variable si se quiere conservar para la interpretación. **Se recomienda para el Análisis de Componentes Principales, y no para el análisis factorial común**. "
   ]
  },
  {
   "cell_type": "markdown",
   "metadata": {
    "slideshow": {
     "slide_type": "subslide"
    }
   },
   "source": [
    "Apliquemos este criterio a nuestro ejemplo:"
   ]
  },
  {
   "cell_type": "code",
   "execution_count": 6,
   "metadata": {
    "hideCode": true,
    "hidePrompt": true,
    "slideshow": {
     "slide_type": "fragment"
    }
   },
   "outputs": [
    {
     "data": {
      "text/html": [
       "<div>\n",
       "<style scoped>\n",
       "    .dataframe tbody tr th:only-of-type {\n",
       "        vertical-align: middle;\n",
       "    }\n",
       "\n",
       "    .dataframe tbody tr th {\n",
       "        vertical-align: top;\n",
       "    }\n",
       "\n",
       "    .dataframe thead th {\n",
       "        text-align: right;\n",
       "    }\n",
       "</style>\n",
       "<table border=\"1\" class=\"dataframe\">\n",
       "  <thead>\n",
       "    <tr style=\"text-align: right;\">\n",
       "      <th></th>\n",
       "      <th>F1</th>\n",
       "      <th>F2</th>\n",
       "      <th>F3</th>\n",
       "      <th>F4</th>\n",
       "      <th>F5</th>\n",
       "      <th>F6</th>\n",
       "      <th>F7</th>\n",
       "      <th>F8</th>\n",
       "      <th>F9</th>\n",
       "      <th>F10</th>\n",
       "      <th>F11</th>\n",
       "      <th>F12</th>\n",
       "    </tr>\n",
       "  </thead>\n",
       "  <tbody>\n",
       "    <tr>\n",
       "      <th>PCA Eigenvalues</th>\n",
       "      <td>5.323219</td>\n",
       "      <td>1.535566</td>\n",
       "      <td>1.063282</td>\n",
       "      <td>0.941109</td>\n",
       "      <td>0.634769</td>\n",
       "      <td>0.549586</td>\n",
       "      <td>0.412997</td>\n",
       "      <td>0.371781</td>\n",
       "      <td>0.339182</td>\n",
       "      <td>0.306357</td>\n",
       "      <td>0.29829</td>\n",
       "      <td>0.223864</td>\n",
       "    </tr>\n",
       "    <tr>\n",
       "      <th>CF Eigenvalues</th>\n",
       "      <td>5.043896</td>\n",
       "      <td>1.248941</td>\n",
       "      <td>0.774931</td>\n",
       "      <td>0.626468</td>\n",
       "      <td>0.272607</td>\n",
       "      <td>0.213525</td>\n",
       "      <td>0.109535</td>\n",
       "      <td>0.078919</td>\n",
       "      <td>0.046924</td>\n",
       "      <td>0.032179</td>\n",
       "      <td>0.00941</td>\n",
       "      <td>-0.000002</td>\n",
       "    </tr>\n",
       "  </tbody>\n",
       "</table>\n",
       "</div>"
      ],
      "text/plain": [
       "                       F1        F2        F3        F4        F5        F6  \\\n",
       "PCA Eigenvalues  5.323219  1.535566  1.063282  0.941109  0.634769  0.549586   \n",
       "CF Eigenvalues   5.043896  1.248941  0.774931  0.626468  0.272607  0.213525   \n",
       "\n",
       "                       F7        F8        F9       F10      F11       F12  \n",
       "PCA Eigenvalues  0.412997  0.371781  0.339182  0.306357  0.29829  0.223864  \n",
       "CF Eigenvalues   0.109535  0.078919  0.046924  0.032179  0.00941 -0.000002  "
      ]
     },
     "execution_count": 6,
     "metadata": {},
     "output_type": "execute_result"
    }
   ],
   "source": [
    "from factor_analyzer import FactorAnalyzer\n",
    "\n",
    "fa = FactorAnalyzer(n_factors=12, rotation=None)\n",
    "fa.fit(scaled_df)\n",
    "original_eigen_values, common_factor_eigen_values = fa.get_eigenvalues()\n",
    "\n",
    "df_eigen = pd.DataFrame(\n",
    "    [original_eigen_values, common_factor_eigen_values],\n",
    "    index=[\"PCA Eigenvalues\", \"CF Eigenvalues\"],\n",
    ")\n",
    "df_eigen.columns += 1\n",
    "df_eigen = df_eigen.add_prefix(\"F\")\n",
    "df_eigen"
   ]
  },
  {
   "cell_type": "markdown",
   "metadata": {
    "slideshow": {
     "slide_type": "fragment"
    }
   },
   "source": [
    "Según este criterio deberíamos preservar solo los tres primeros factores. La recomendación es observar el resultado de `PCA Eigenvalues`."
   ]
  },
  {
   "cell_type": "markdown",
   "metadata": {
    "slideshow": {
     "slide_type": "slide"
    }
   },
   "source": [
    "#### Criterio de la varianza explicada\n",
    "\n",
    "**Retener suficientes factores para cumplir con un porcentaje específico de varianza explicada, generalmente 60 por ciento o más**.\n",
    "\n",
    "El propósito es asegurar la importancia práctica de los factores derivados, asegurándose de que expliquen al menos una cantidad específica de varianza."
   ]
  },
  {
   "cell_type": "markdown",
   "metadata": {
    "slideshow": {
     "slide_type": "subslide"
    }
   },
   "source": [
    "Apliquemos este criterio a nuestro ejemplo:"
   ]
  },
  {
   "cell_type": "code",
   "execution_count": 8,
   "metadata": {
    "hideCode": true,
    "hidePrompt": true,
    "slideshow": {
     "slide_type": "fragment"
    }
   },
   "outputs": [
    {
     "data": {
      "text/html": [
       "<div>\n",
       "<style scoped>\n",
       "    .dataframe tbody tr th:only-of-type {\n",
       "        vertical-align: middle;\n",
       "    }\n",
       "\n",
       "    .dataframe tbody tr th {\n",
       "        vertical-align: top;\n",
       "    }\n",
       "\n",
       "    .dataframe thead th {\n",
       "        text-align: right;\n",
       "    }\n",
       "</style>\n",
       "<table border=\"1\" class=\"dataframe\">\n",
       "  <thead>\n",
       "    <tr style=\"text-align: right;\">\n",
       "      <th></th>\n",
       "      <th>F1</th>\n",
       "      <th>F2</th>\n",
       "      <th>F3</th>\n",
       "      <th>F4</th>\n",
       "      <th>F5</th>\n",
       "      <th>F6</th>\n",
       "      <th>F7</th>\n",
       "      <th>F8</th>\n",
       "      <th>F9</th>\n",
       "      <th>F10</th>\n",
       "      <th>F11</th>\n",
       "      <th>F12</th>\n",
       "    </tr>\n",
       "  </thead>\n",
       "  <tbody>\n",
       "    <tr>\n",
       "      <th>SS Loadings</th>\n",
       "      <td>5.043896</td>\n",
       "      <td>1.248941</td>\n",
       "      <td>0.774931</td>\n",
       "      <td>0.626468</td>\n",
       "      <td>0.272607</td>\n",
       "      <td>0.213525</td>\n",
       "      <td>0.109535</td>\n",
       "      <td>0.078918</td>\n",
       "      <td>0.046924</td>\n",
       "      <td>0.032179</td>\n",
       "      <td>0.009410</td>\n",
       "      <td>0.000000</td>\n",
       "    </tr>\n",
       "    <tr>\n",
       "      <th>Proportional variance</th>\n",
       "      <td>0.420325</td>\n",
       "      <td>0.104078</td>\n",
       "      <td>0.064578</td>\n",
       "      <td>0.052206</td>\n",
       "      <td>0.022717</td>\n",
       "      <td>0.017794</td>\n",
       "      <td>0.009128</td>\n",
       "      <td>0.006577</td>\n",
       "      <td>0.003910</td>\n",
       "      <td>0.002682</td>\n",
       "      <td>0.000784</td>\n",
       "      <td>0.000000</td>\n",
       "    </tr>\n",
       "    <tr>\n",
       "      <th>Cumulative variance</th>\n",
       "      <td>0.420325</td>\n",
       "      <td>0.524403</td>\n",
       "      <td>0.588981</td>\n",
       "      <td>0.641186</td>\n",
       "      <td>0.663904</td>\n",
       "      <td>0.681697</td>\n",
       "      <td>0.690825</td>\n",
       "      <td>0.697402</td>\n",
       "      <td>0.701312</td>\n",
       "      <td>0.703994</td>\n",
       "      <td>0.704778</td>\n",
       "      <td>0.704778</td>\n",
       "    </tr>\n",
       "  </tbody>\n",
       "</table>\n",
       "</div>"
      ],
      "text/plain": [
       "                             F1        F2        F3        F4        F5  \\\n",
       "SS Loadings            5.043896  1.248941  0.774931  0.626468  0.272607   \n",
       "Proportional variance  0.420325  0.104078  0.064578  0.052206  0.022717   \n",
       "Cumulative variance    0.420325  0.524403  0.588981  0.641186  0.663904   \n",
       "\n",
       "                             F6        F7        F8        F9       F10  \\\n",
       "SS Loadings            0.213525  0.109535  0.078918  0.046924  0.032179   \n",
       "Proportional variance  0.017794  0.009128  0.006577  0.003910  0.002682   \n",
       "Cumulative variance    0.681697  0.690825  0.697402  0.701312  0.703994   \n",
       "\n",
       "                            F11       F12  \n",
       "SS Loadings            0.009410  0.000000  \n",
       "Proportional variance  0.000784  0.000000  \n",
       "Cumulative variance    0.704778  0.704778  "
      ]
     },
     "execution_count": 8,
     "metadata": {},
     "output_type": "execute_result"
    }
   ],
   "source": [
    "variance, proportional_variance, cumulative_variance = fa.get_factor_variance()\n",
    "\n",
    "df_var = pd.DataFrame(\n",
    "    [variance, proportional_variance, cumulative_variance],\n",
    "    index=[\"SS Loadings\", \"Proportional variance\", \"Cumulative variance\"],\n",
    ")\n",
    "df_var.columns += 1\n",
    "df_var = df_var.add_prefix(\"F\")\n",
    "df_var"
   ]
  },
  {
   "cell_type": "markdown",
   "metadata": {
    "slideshow": {
     "slide_type": "fragment"
    }
   },
   "source": [
    "Según este criterio, deberíamos preservar 4 factores para explicar al menos el 60% de la varianza. La recomendación es observar el resultado de `Cumulative variance`."
   ]
  },
  {
   "cell_type": "markdown",
   "metadata": {
    "slideshow": {
     "slide_type": "slide"
    }
   },
   "source": [
    "#### Criterio de Cattell\n",
    "\n",
    "Recuerda que los factores extraídos contienen varianza común y única. Aunque todos los factores contienen al menos alguna varianza única, la proporción de varianza única es sustancialmente mayor en los factores posteriores. \n",
    "\n",
    "El criterio de Cattell se utiliza para **identificar el número óptimo de factores que se pueden extraer antes de que la cantidad de varianza única comience a dominar la estructura de varianza común**.\n",
    "\n",
    "La prueba de criba se obtiene graficando los autovalores contra el número de factores en su orden de extracción, y la forma de la curva resultante se usa para evaluar el punto de corte."
   ]
  },
  {
   "cell_type": "markdown",
   "metadata": {
    "slideshow": {
     "slide_type": "subslide"
    }
   },
   "source": [
    "Comenzando con el primer factor, la pendiente se inclina abruptamente hacia abajo inicialmente y luego se convierte lentamente en una línea aproximadamente horizontal en un **punto de inflexión** denominado por muchos como el \"codo\". \n",
    "\n",
    "Se considera que este punto en el que la curva comienza a enderezarse **representa los factores que contienen una varianza más única que común y, por lo tanto, son menos adecuados para la retención**."
   ]
  },
  {
   "cell_type": "markdown",
   "metadata": {
    "slideshow": {
     "slide_type": "subslide"
    }
   },
   "source": [
    "Apliquemos este criterio a nuestro ejemplo:"
   ]
  },
  {
   "cell_type": "code",
   "execution_count": 13,
   "metadata": {
    "hideCode": true,
    "hidePrompt": true,
    "scrolled": true,
    "slideshow": {
     "slide_type": "fragment"
    }
   },
   "outputs": [
    {
     "data": {
      "image/png": "[encoded data removed]",
      "text/plain": [
       "<Figure size 720x360 with 1 Axes>"
      ]
     },
     "metadata": {
      "needs_background": "light"
     },
     "output_type": "display_data"
    }
   ],
   "source": [
    "import matplotlib.pyplot as plt\n",
    "import numpy as np\n",
    "\n",
    "plt.figure(figsize=(10, 5))\n",
    "plt.scatter(np.arange(original_eigen_values.size) + 1, original_eigen_values)\n",
    "plt.plot(np.arange(original_eigen_values.size) + 1, original_eigen_values)\n",
    "plt.xlabel(\"Factors\", size=14)\n",
    "plt.ylabel(\"Eigenvalue\", size=14)\n",
    "plt.show()"
   ]
  },
  {
   "cell_type": "markdown",
   "metadata": {
    "slideshow": {
     "slide_type": "fragment"
    }
   },
   "source": [
    "En nuestro caso, el codo estaría en el factor 5, de modo que optaríamos por tener solo 4 factores. Nota que con este criterio incluimos un factor más que con el criterio de Kaiser. "
   ]
  },
  {
   "cell_type": "markdown",
   "metadata": {
    "slideshow": {
     "slide_type": "subslide"
    }
   },
   "source": [
    "Identificar el codo es muchas veces difícil y, por lo tanto, este método se considera más subjetivo que los demás."
   ]
  },
  {
   "cell_type": "markdown",
   "metadata": {
    "slideshow": {
     "slide_type": "slide"
    }
   },
   "source": [
    "#### Análisis paralelo de Horn\n",
    "\n",
    "Este procedimiento **genera un gran número (por ejemplo, 500 o 1000) de conjuntos de datos simulados con valores aleatorios** para el mismo número de variables y tamaño de muestra que nuestros datos. \n",
    "\n",
    "Luego, cada uno de estos conjuntos de datos simulados se analiza factorialmente, ya sea con componentes principales o métodos de factor común, y **los autovalores se promedian para cada factor en todos los conjuntos de datos**. \n",
    "\n",
    "A continuación, estos valores se comparan con los autovalores extraídos de los datos originales y **se conservan todos los factores con autovalores superiores a los de los conjuntos de datos simulados**."
   ]
  },
  {
   "cell_type": "markdown",
   "metadata": {
    "slideshow": {
     "slide_type": "subslide"
    }
   },
   "source": [
    "Apliquemos este método a nuestro ejemplo:"
   ]
  },
  {
   "cell_type": "code",
   "execution_count": 14,
   "metadata": {
    "slideshow": {
     "slide_type": "skip"
    }
   },
   "outputs": [
    {
     "name": "stdout",
     "output_type": "stream",
     "text": [
      "The rpy2.ipython extension is already loaded. To reload it, use:\n",
      "  %reload_ext rpy2.ipython\n"
     ]
    }
   ],
   "source": [
    "%load_ext rpy2.ipython"
   ]
  },
  {
   "cell_type": "code",
   "execution_count": 1,
   "metadata": {
    "slideshow": {
     "slide_type": "skip"
    }
   },
   "outputs": [
    {
     "name": "stderr",
     "output_type": "stream",
     "text": [
      "UsageError: Cell magic `%%R` not found.\n"
     ]
    }
   ],
   "source": [
    "%%R\n",
    "## Instalación completa. Tarda algunos minutos, pero vale la pena.\n",
    "install.packages(c(\"psych\",\"GPArotation\"), dependencies=TRUE)\n",
    "\n",
    "## Instalación rápida, sin incluir rotación oblimin\n",
    "#install.packages(\"psych\")"
   ]
  },
  {
   "cell_type": "code",
   "execution_count": 15,
   "metadata": {
    "hideCode": true,
    "hidePrompt": true,
    "slideshow": {
     "slide_type": "fragment"
    }
   },
   "outputs": [
    {
     "name": "stdout",
     "output_type": "stream",
     "text": [
      "Parallel analysis suggests that the number of factors =  4  and the number of components =  NA \n"
     ]
    },
    {
     "data": {
      "image/png": "[encoded data removed]"
     },
     "metadata": {},
     "output_type": "display_data"
    }
   ],
   "source": [
    "%%R -i scaled_df\n",
    "library(foreign)\n",
    "library(psych)\n",
    "\n",
    "# Parallel Analysis with Psych package\n",
    "parallel <- fa.parallel(scaled_df, n.iter=1000, fa=\"fa\")"
   ]
  },
  {
   "cell_type": "markdown",
   "metadata": {
    "slideshow": {
     "slide_type": "fragment"
    }
   },
   "source": [
    "El método de análisis paralelo sugiere retener 4 factores. "
   ]
  },
  {
   "cell_type": "markdown",
   "metadata": {
    "slideshow": {
     "slide_type": "slide"
    }
   },
   "source": [
    "### Extracción de factores\n",
    "\n",
    "Veamos ahora el resultado de extraer 4 factores:"
   ]
  },
  {
   "cell_type": "code",
   "execution_count": 9,
   "metadata": {
    "hideCode": true,
    "hidePrompt": true,
    "slideshow": {
     "slide_type": "subslide"
    }
   },
   "outputs": [
    {
     "name": "stdout",
     "output_type": "stream",
     "text": [
      "Cargas Factoriales:\n"
     ]
    },
    {
     "data": {
      "text/html": [
       "<div>\n",
       "<style scoped>\n",
       "    .dataframe tbody tr th:only-of-type {\n",
       "        vertical-align: middle;\n",
       "    }\n",
       "\n",
       "    .dataframe tbody tr th {\n",
       "        vertical-align: top;\n",
       "    }\n",
       "\n",
       "    .dataframe thead th {\n",
       "        text-align: right;\n",
       "    }\n",
       "</style>\n",
       "<table border=\"1\" class=\"dataframe\">\n",
       "  <thead>\n",
       "    <tr style=\"text-align: right;\">\n",
       "      <th></th>\n",
       "      <th>F1</th>\n",
       "      <th>F2</th>\n",
       "      <th>F3</th>\n",
       "      <th>F4</th>\n",
       "    </tr>\n",
       "  </thead>\n",
       "  <tbody>\n",
       "    <tr>\n",
       "      <th>e1</th>\n",
       "      <td>0.746731</td>\n",
       "      <td>-0.259467</td>\n",
       "      <td>-0.016012</td>\n",
       "      <td>-0.302649</td>\n",
       "    </tr>\n",
       "    <tr>\n",
       "      <th>e2</th>\n",
       "      <td>0.769004</td>\n",
       "      <td>-0.364312</td>\n",
       "      <td>-0.000957</td>\n",
       "      <td>0.281676</td>\n",
       "    </tr>\n",
       "    <tr>\n",
       "      <th>e3</th>\n",
       "      <td>0.582640</td>\n",
       "      <td>0.402019</td>\n",
       "      <td>0.476606</td>\n",
       "      <td>-0.135526</td>\n",
       "    </tr>\n",
       "    <tr>\n",
       "      <th>e4</th>\n",
       "      <td>0.563172</td>\n",
       "      <td>0.291738</td>\n",
       "      <td>-0.274500</td>\n",
       "      <td>0.200396</td>\n",
       "    </tr>\n",
       "    <tr>\n",
       "      <th>e5</th>\n",
       "      <td>0.695196</td>\n",
       "      <td>-0.335919</td>\n",
       "      <td>0.061153</td>\n",
       "      <td>-0.179471</td>\n",
       "    </tr>\n",
       "    <tr>\n",
       "      <th>e6</th>\n",
       "      <td>0.722729</td>\n",
       "      <td>-0.310767</td>\n",
       "      <td>-0.009162</td>\n",
       "      <td>0.167908</td>\n",
       "    </tr>\n",
       "    <tr>\n",
       "      <th>e7</th>\n",
       "      <td>0.675575</td>\n",
       "      <td>0.398699</td>\n",
       "      <td>-0.465296</td>\n",
       "      <td>-0.188224</td>\n",
       "    </tr>\n",
       "    <tr>\n",
       "      <th>e8</th>\n",
       "      <td>0.577266</td>\n",
       "      <td>0.249788</td>\n",
       "      <td>-0.073649</td>\n",
       "      <td>0.274039</td>\n",
       "    </tr>\n",
       "    <tr>\n",
       "      <th>e9</th>\n",
       "      <td>0.717223</td>\n",
       "      <td>-0.183525</td>\n",
       "      <td>0.067337</td>\n",
       "      <td>-0.242321</td>\n",
       "    </tr>\n",
       "    <tr>\n",
       "      <th>e10</th>\n",
       "      <td>0.519157</td>\n",
       "      <td>-0.191664</td>\n",
       "      <td>0.062131</td>\n",
       "      <td>0.233505</td>\n",
       "    </tr>\n",
       "    <tr>\n",
       "      <th>e11</th>\n",
       "      <td>0.607306</td>\n",
       "      <td>0.294343</td>\n",
       "      <td>-0.110923</td>\n",
       "      <td>-0.090014</td>\n",
       "    </tr>\n",
       "    <tr>\n",
       "      <th>e12</th>\n",
       "      <td>0.457525</td>\n",
       "      <td>0.376678</td>\n",
       "      <td>0.431391</td>\n",
       "      <td>0.120460</td>\n",
       "    </tr>\n",
       "  </tbody>\n",
       "</table>\n",
       "</div>"
      ],
      "text/plain": [
       "           F1        F2        F3        F4\n",
       "e1   0.746731 -0.259467 -0.016012 -0.302649\n",
       "e2   0.769004 -0.364312 -0.000957  0.281676\n",
       "e3   0.582640  0.402019  0.476606 -0.135526\n",
       "e4   0.563172  0.291738 -0.274500  0.200396\n",
       "e5   0.695196 -0.335919  0.061153 -0.179471\n",
       "e6   0.722729 -0.310767 -0.009162  0.167908\n",
       "e7   0.675575  0.398699 -0.465296 -0.188224\n",
       "e8   0.577266  0.249788 -0.073649  0.274039\n",
       "e9   0.717223 -0.183525  0.067337 -0.242321\n",
       "e10  0.519157 -0.191664  0.062131  0.233505\n",
       "e11  0.607306  0.294343 -0.110923 -0.090014\n",
       "e12  0.457525  0.376678  0.431391  0.120460"
      ]
     },
     "execution_count": 9,
     "metadata": {},
     "output_type": "execute_result"
    }
   ],
   "source": [
    "fa = FactorAnalyzer(n_factors=4, rotation=None)\n",
    "fa.fit(scaled_df)\n",
    "\n",
    "loadings = pd.DataFrame(fa.loadings_, index=scaled_df.columns)\n",
    "print(\"Cargas Factoriales:\")\n",
    "loadings.columns += 1\n",
    "loadings = loadings.add_prefix(\"F\")\n",
    "loadings"
   ]
  },
  {
   "cell_type": "markdown",
   "metadata": {
    "slideshow": {
     "slide_type": "subslide"
    }
   },
   "source": [
    "Podemos apreciar que **los factores se extraen en el orden de su varianza extraída**. El primer factor tiende a ser un factor general con casi todas las variables cargadas de manera significativa, y representa la mayor cantidad de varianza. El segundo factor y los siguientes se basan entonces en la cantidad residual de varianza. \n",
    "\n",
    "Cada uno explica porciones de variación sucesivamente más pequeñas. Debemos tener en cuenta que **el primer factor** no es necesariamente más \"importante\" que los factores subsiguientes para cualquier otro propósito (por ejemplo, predicción), pero solo que **representa la mayor varianza contabilizada en el conjunto de variables**."
   ]
  },
  {
   "cell_type": "code",
   "execution_count": 10,
   "metadata": {
    "hideCode": true,
    "hidePrompt": true,
    "slideshow": {
     "slide_type": "subslide"
    }
   },
   "outputs": [
    {
     "data": {
      "text/html": [
       "<div>\n",
       "<style scoped>\n",
       "    .dataframe tbody tr th:only-of-type {\n",
       "        vertical-align: middle;\n",
       "    }\n",
       "\n",
       "    .dataframe tbody tr th {\n",
       "        vertical-align: top;\n",
       "    }\n",
       "\n",
       "    .dataframe thead th {\n",
       "        text-align: right;\n",
       "    }\n",
       "</style>\n",
       "<table border=\"1\" class=\"dataframe\">\n",
       "  <thead>\n",
       "    <tr style=\"text-align: right;\">\n",
       "      <th></th>\n",
       "      <th>Communalities</th>\n",
       "    </tr>\n",
       "  </thead>\n",
       "  <tbody>\n",
       "    <tr>\n",
       "      <th>e1</th>\n",
       "      <td>0.716783</td>\n",
       "    </tr>\n",
       "    <tr>\n",
       "      <th>e2</th>\n",
       "      <td>0.803432</td>\n",
       "    </tr>\n",
       "    <tr>\n",
       "      <th>e3</th>\n",
       "      <td>0.746609</td>\n",
       "    </tr>\n",
       "    <tr>\n",
       "      <th>e4</th>\n",
       "      <td>0.517782</td>\n",
       "    </tr>\n",
       "    <tr>\n",
       "      <th>e5</th>\n",
       "      <td>0.632088</td>\n",
       "    </tr>\n",
       "    <tr>\n",
       "      <th>e6</th>\n",
       "      <td>0.647191</td>\n",
       "    </tr>\n",
       "    <tr>\n",
       "      <th>e7</th>\n",
       "      <td>0.867293</td>\n",
       "    </tr>\n",
       "    <tr>\n",
       "      <th>e8</th>\n",
       "      <td>0.476151</td>\n",
       "    </tr>\n",
       "    <tr>\n",
       "      <th>e9</th>\n",
       "      <td>0.611344</td>\n",
       "    </tr>\n",
       "    <tr>\n",
       "      <th>e10</th>\n",
       "      <td>0.364644</td>\n",
       "    </tr>\n",
       "    <tr>\n",
       "      <th>e11</th>\n",
       "      <td>0.475865</td>\n",
       "    </tr>\n",
       "    <tr>\n",
       "      <th>e12</th>\n",
       "      <td>0.551824</td>\n",
       "    </tr>\n",
       "  </tbody>\n",
       "</table>\n",
       "</div>"
      ],
      "text/plain": [
       "     Communalities\n",
       "e1        0.716783\n",
       "e2        0.803432\n",
       "e3        0.746609\n",
       "e4        0.517782\n",
       "e5        0.632088\n",
       "e6        0.647191\n",
       "e7        0.867293\n",
       "e8        0.476151\n",
       "e9        0.611344\n",
       "e10       0.364644\n",
       "e11       0.475865\n",
       "e12       0.551824"
      ]
     },
     "execution_count": 10,
     "metadata": {},
     "output_type": "execute_result"
    }
   ],
   "source": [
    "communalities = pd.DataFrame(\n",
    "    fa.get_communalities(), index=df.columns.values, columns=[\"Communalities\"]\n",
    ")\n",
    "communalities"
   ]
  },
  {
   "cell_type": "markdown",
   "metadata": {
    "slideshow": {
     "slide_type": "slide"
    }
   },
   "source": [
    "## Rotación de factores\n",
    "\n",
    "El término rotación significa exactamente lo que implica. Específicamente, los ejes de referencia de los factores giran alrededor del origen hasta que se alcanza alguna otra posición.\n",
    "\n",
    "El efecto final de rotar la matriz de factores es **redistribuir la varianza de los primeros factores a los últimos para lograr un patrón de factores más simple y teóricamente más significativo**."
   ]
  },
  {
   "cell_type": "markdown",
   "metadata": {
    "slideshow": {
     "slide_type": "subslide"
    }
   },
   "source": [
    "Apliquemos la rotación ortogonal a nuestro ejemplo:"
   ]
  },
  {
   "cell_type": "code",
   "execution_count": 11,
   "metadata": {
    "hideCode": true,
    "hidePrompt": true,
    "slideshow": {
     "slide_type": "fragment"
    }
   },
   "outputs": [
    {
     "name": "stdout",
     "output_type": "stream",
     "text": [
      "Cargas Factoriales:\n"
     ]
    },
    {
     "data": {
      "text/html": [
       "<div>\n",
       "<style scoped>\n",
       "    .dataframe tbody tr th:only-of-type {\n",
       "        vertical-align: middle;\n",
       "    }\n",
       "\n",
       "    .dataframe tbody tr th {\n",
       "        vertical-align: top;\n",
       "    }\n",
       "\n",
       "    .dataframe thead th {\n",
       "        text-align: right;\n",
       "    }\n",
       "</style>\n",
       "<table border=\"1\" class=\"dataframe\">\n",
       "  <thead>\n",
       "    <tr style=\"text-align: right;\">\n",
       "      <th></th>\n",
       "      <th>F1</th>\n",
       "      <th>F2</th>\n",
       "      <th>F3</th>\n",
       "      <th>F4</th>\n",
       "    </tr>\n",
       "  </thead>\n",
       "  <tbody>\n",
       "    <tr>\n",
       "      <th>e1</th>\n",
       "      <td>0.759255</td>\n",
       "      <td>0.234900</td>\n",
       "      <td>0.268340</td>\n",
       "      <td>0.114587</td>\n",
       "    </tr>\n",
       "    <tr>\n",
       "      <th>e2</th>\n",
       "      <td>0.428575</td>\n",
       "      <td>0.188419</td>\n",
       "      <td>0.759220</td>\n",
       "      <td>0.088539</td>\n",
       "    </tr>\n",
       "    <tr>\n",
       "      <th>e3</th>\n",
       "      <td>0.278379</td>\n",
       "      <td>0.216322</td>\n",
       "      <td>0.043672</td>\n",
       "      <td>0.787662</td>\n",
       "    </tr>\n",
       "    <tr>\n",
       "      <th>e4</th>\n",
       "      <td>0.055105</td>\n",
       "      <td>0.633675</td>\n",
       "      <td>0.298707</td>\n",
       "      <td>0.154838</td>\n",
       "    </tr>\n",
       "    <tr>\n",
       "      <th>e5</th>\n",
       "      <td>0.684145</td>\n",
       "      <td>0.117821</td>\n",
       "      <td>0.369717</td>\n",
       "      <td>0.116022</td>\n",
       "    </tr>\n",
       "    <tr>\n",
       "      <th>e6</th>\n",
       "      <td>0.453114</td>\n",
       "      <td>0.198522</td>\n",
       "      <td>0.627683</td>\n",
       "      <td>0.092095</td>\n",
       "    </tr>\n",
       "    <tr>\n",
       "      <th>e7</th>\n",
       "      <td>0.324917</td>\n",
       "      <td>0.866867</td>\n",
       "      <td>0.013462</td>\n",
       "      <td>0.100408</td>\n",
       "    </tr>\n",
       "    <tr>\n",
       "      <th>e8</th>\n",
       "      <td>0.042483</td>\n",
       "      <td>0.489038</td>\n",
       "      <td>0.387208</td>\n",
       "      <td>0.291991</td>\n",
       "    </tr>\n",
       "    <tr>\n",
       "      <th>e9</th>\n",
       "      <td>0.671468</td>\n",
       "      <td>0.210938</td>\n",
       "      <td>0.268763</td>\n",
       "      <td>0.209157</td>\n",
       "    </tr>\n",
       "    <tr>\n",
       "      <th>e10</th>\n",
       "      <td>0.239053</td>\n",
       "      <td>0.118731</td>\n",
       "      <td>0.523929</td>\n",
       "      <td>0.137473</td>\n",
       "    </tr>\n",
       "    <tr>\n",
       "      <th>e11</th>\n",
       "      <td>0.282406</td>\n",
       "      <td>0.546373</td>\n",
       "      <td>0.111597</td>\n",
       "      <td>0.291778</td>\n",
       "    </tr>\n",
       "    <tr>\n",
       "      <th>e12</th>\n",
       "      <td>0.042111</td>\n",
       "      <td>0.172602</td>\n",
       "      <td>0.178721</td>\n",
       "      <td>0.698798</td>\n",
       "    </tr>\n",
       "  </tbody>\n",
       "</table>\n",
       "</div>"
      ],
      "text/plain": [
       "           F1        F2        F3        F4\n",
       "e1   0.759255  0.234900  0.268340  0.114587\n",
       "e2   0.428575  0.188419  0.759220  0.088539\n",
       "e3   0.278379  0.216322  0.043672  0.787662\n",
       "e4   0.055105  0.633675  0.298707  0.154838\n",
       "e5   0.684145  0.117821  0.369717  0.116022\n",
       "e6   0.453114  0.198522  0.627683  0.092095\n",
       "e7   0.324917  0.866867  0.013462  0.100408\n",
       "e8   0.042483  0.489038  0.387208  0.291991\n",
       "e9   0.671468  0.210938  0.268763  0.209157\n",
       "e10  0.239053  0.118731  0.523929  0.137473\n",
       "e11  0.282406  0.546373  0.111597  0.291778\n",
       "e12  0.042111  0.172602  0.178721  0.698798"
      ]
     },
     "execution_count": 11,
     "metadata": {},
     "output_type": "execute_result"
    }
   ],
   "source": [
    "fa = FactorAnalyzer(n_factors=4, rotation=\"varimax\")\n",
    "fa.fit(scaled_df)\n",
    "\n",
    "loadings = pd.DataFrame(fa.loadings_, index=scaled_df.columns)\n",
    "print(\"Cargas Factoriales:\")\n",
    "loadings.columns += 1\n",
    "loadings = loadings.add_prefix(\"F\")\n",
    "loadings"
   ]
  },
  {
   "cell_type": "markdown",
   "metadata": {
    "slideshow": {
     "slide_type": "fragment"
    }
   },
   "source": [
    "Podemos apreciar cómo la rotación forzó las cargas factoriales a valores cercanos a cero para las variables no relacionadas a cada factor. "
   ]
  },
  {
   "cell_type": "markdown",
   "metadata": {
    "slideshow": {
     "slide_type": "subslide"
    }
   },
   "source": [
    "Ahora veamos la estructura factorial gráficamente:"
   ]
  },
  {
   "cell_type": "code",
   "execution_count": 19,
   "metadata": {
    "hideCode": true,
    "hidePrompt": true,
    "slideshow": {
     "slide_type": "fragment"
    }
   },
   "outputs": [
    {
     "data": {
      "image/png": "[encoded data removed]"
     },
     "metadata": {},
     "output_type": "display_data"
    }
   ],
   "source": [
    "%%R -i scaled_df\n",
    "# Extrae los factores\n",
    "fit <- fa(scaled_df, nfactors=4,rotate=\"varimax\")\n",
    "\n",
    "# Genera gráfico de la estructura factorial\n",
    "structure <- fa.diagram(fit, digits=2, cut=.3)"
   ]
  },
  {
   "cell_type": "markdown",
   "metadata": {
    "slideshow": {
     "slide_type": "slide"
    }
   },
   "source": [
    "#### Métodos de extracción oblicua\n",
    "\n",
    "Las rotaciones oblicuas son similares a las rotaciones ortogonales, excepto que las rotaciones oblicuas **permiten factores correlacionados en lugar de mantener la independencia entre los factores rotados**.\n",
    "\n",
    "Con la posibilidad de factores correlacionados, el investigador de factores debe tener un cuidado adicional para validar los factores rotados oblicuamente, porque **tienen una forma adicional (no ortogonalidad) de volverse específicos de la muestra y no generalizables, particularmente con muestras pequeñas**."
   ]
  },
  {
   "cell_type": "markdown",
   "metadata": {
    "slideshow": {
     "slide_type": "subslide"
    }
   },
   "source": [
    "Se cuentan con algunas alternativas:\n",
    "\n",
    "- Oblimin: Es la más común. \n",
    "- Promax: Se puede calcular más rápidamente que una rotación oblimin directa, por lo que es útil para grandes conjuntos de datos. "
   ]
  },
  {
   "cell_type": "markdown",
   "metadata": {
    "slideshow": {
     "slide_type": "subslide"
    }
   },
   "source": [
    "Apliquemos la rotación oblicua a nuestro ejemplo:"
   ]
  },
  {
   "cell_type": "code",
   "execution_count": 12,
   "metadata": {
    "hideCode": true,
    "hidePrompt": true,
    "slideshow": {
     "slide_type": "fragment"
    }
   },
   "outputs": [
    {
     "name": "stdout",
     "output_type": "stream",
     "text": [
      "Cargas Factoriales:\n"
     ]
    },
    {
     "data": {
      "text/html": [
       "<div>\n",
       "<style scoped>\n",
       "    .dataframe tbody tr th:only-of-type {\n",
       "        vertical-align: middle;\n",
       "    }\n",
       "\n",
       "    .dataframe tbody tr th {\n",
       "        vertical-align: top;\n",
       "    }\n",
       "\n",
       "    .dataframe thead th {\n",
       "        text-align: right;\n",
       "    }\n",
       "</style>\n",
       "<table border=\"1\" class=\"dataframe\">\n",
       "  <thead>\n",
       "    <tr style=\"text-align: right;\">\n",
       "      <th></th>\n",
       "      <th>F1</th>\n",
       "      <th>F2</th>\n",
       "      <th>F3</th>\n",
       "      <th>F4</th>\n",
       "    </tr>\n",
       "  </thead>\n",
       "  <tbody>\n",
       "    <tr>\n",
       "      <th>e1</th>\n",
       "      <td>0.397107</td>\n",
       "      <td>0.201834</td>\n",
       "      <td>0.069122</td>\n",
       "      <td>0.492619</td>\n",
       "    </tr>\n",
       "    <tr>\n",
       "      <th>e2</th>\n",
       "      <td>0.918961</td>\n",
       "      <td>-0.017542</td>\n",
       "      <td>-0.022722</td>\n",
       "      <td>-0.019491</td>\n",
       "    </tr>\n",
       "    <tr>\n",
       "      <th>e3</th>\n",
       "      <td>-0.076456</td>\n",
       "      <td>0.028047</td>\n",
       "      <td>0.862679</td>\n",
       "      <td>0.101513</td>\n",
       "    </tr>\n",
       "    <tr>\n",
       "      <th>e4</th>\n",
       "      <td>0.232403</td>\n",
       "      <td>0.578918</td>\n",
       "      <td>0.034724</td>\n",
       "      <td>-0.260607</td>\n",
       "    </tr>\n",
       "    <tr>\n",
       "      <th>e5</th>\n",
       "      <td>0.518799</td>\n",
       "      <td>0.033631</td>\n",
       "      <td>0.075419</td>\n",
       "      <td>0.406685</td>\n",
       "    </tr>\n",
       "    <tr>\n",
       "      <th>e6</th>\n",
       "      <td>0.768151</td>\n",
       "      <td>0.035069</td>\n",
       "      <td>-0.002647</td>\n",
       "      <td>0.060743</td>\n",
       "    </tr>\n",
       "    <tr>\n",
       "      <th>e7</th>\n",
       "      <td>-0.074991</td>\n",
       "      <td>0.962508</td>\n",
       "      <td>-0.023864</td>\n",
       "      <td>0.062771</td>\n",
       "    </tr>\n",
       "    <tr>\n",
       "      <th>e8</th>\n",
       "      <td>0.329802</td>\n",
       "      <td>0.350162</td>\n",
       "      <td>0.203184</td>\n",
       "      <td>-0.290404</td>\n",
       "    </tr>\n",
       "    <tr>\n",
       "      <th>e9</th>\n",
       "      <td>0.367315</td>\n",
       "      <td>0.142194</td>\n",
       "      <td>0.179593</td>\n",
       "      <td>0.409873</td>\n",
       "    </tr>\n",
       "    <tr>\n",
       "      <th>e10</th>\n",
       "      <td>0.611126</td>\n",
       "      <td>-0.050136</td>\n",
       "      <td>0.072485</td>\n",
       "      <td>-0.069287</td>\n",
       "    </tr>\n",
       "    <tr>\n",
       "      <th>e11</th>\n",
       "      <td>0.044906</td>\n",
       "      <td>0.516322</td>\n",
       "      <td>0.233552</td>\n",
       "      <td>0.039855</td>\n",
       "    </tr>\n",
       "    <tr>\n",
       "      <th>e12</th>\n",
       "      <td>0.059873</td>\n",
       "      <td>-0.054307</td>\n",
       "      <td>0.746892</td>\n",
       "      <td>-0.155114</td>\n",
       "    </tr>\n",
       "  </tbody>\n",
       "</table>\n",
       "</div>"
      ],
      "text/plain": [
       "           F1        F2        F3        F4\n",
       "e1   0.397107  0.201834  0.069122  0.492619\n",
       "e2   0.918961 -0.017542 -0.022722 -0.019491\n",
       "e3  -0.076456  0.028047  0.862679  0.101513\n",
       "e4   0.232403  0.578918  0.034724 -0.260607\n",
       "e5   0.518799  0.033631  0.075419  0.406685\n",
       "e6   0.768151  0.035069 -0.002647  0.060743\n",
       "e7  -0.074991  0.962508 -0.023864  0.062771\n",
       "e8   0.329802  0.350162  0.203184 -0.290404\n",
       "e9   0.367315  0.142194  0.179593  0.409873\n",
       "e10  0.611126 -0.050136  0.072485 -0.069287\n",
       "e11  0.044906  0.516322  0.233552  0.039855\n",
       "e12  0.059873 -0.054307  0.746892 -0.155114"
      ]
     },
     "execution_count": 12,
     "metadata": {},
     "output_type": "execute_result"
    }
   ],
   "source": [
    "fa = FactorAnalyzer(n_factors=4, rotation=\"oblimin\")\n",
    "fa.fit(scaled_df)\n",
    "\n",
    "loadings = pd.DataFrame(fa.loadings_, index=scaled_df.columns)\n",
    "print(\"Cargas Factoriales:\")\n",
    "loadings.columns += 1\n",
    "loadings = loadings.add_prefix(\"F\")\n",
    "loadings"
   ]
  },
  {
   "cell_type": "markdown",
   "metadata": {
    "slideshow": {
     "slide_type": "subslide"
    }
   },
   "source": [
    "Dado que los factores no son necesariamente ortogonales, podemos explorar la correlación entre estos:"
   ]
  },
  {
   "cell_type": "code",
   "execution_count": 13,
   "metadata": {
    "hideCode": true,
    "hidePrompt": true,
    "slideshow": {
     "slide_type": "fragment"
    }
   },
   "outputs": [
    {
     "name": "stdout",
     "output_type": "stream",
     "text": [
      "Correalación entre factores:\n"
     ]
    },
    {
     "data": {
      "text/html": [
       "<div>\n",
       "<style scoped>\n",
       "    .dataframe tbody tr th:only-of-type {\n",
       "        vertical-align: middle;\n",
       "    }\n",
       "\n",
       "    .dataframe tbody tr th {\n",
       "        vertical-align: top;\n",
       "    }\n",
       "\n",
       "    .dataframe thead th {\n",
       "        text-align: right;\n",
       "    }\n",
       "</style>\n",
       "<table border=\"1\" class=\"dataframe\">\n",
       "  <thead>\n",
       "    <tr style=\"text-align: right;\">\n",
       "      <th></th>\n",
       "      <th>F1</th>\n",
       "      <th>F2</th>\n",
       "      <th>F3</th>\n",
       "      <th>F4</th>\n",
       "    </tr>\n",
       "  </thead>\n",
       "  <tbody>\n",
       "    <tr>\n",
       "      <th>F1</th>\n",
       "      <td>1.000000</td>\n",
       "      <td>0.464985</td>\n",
       "      <td>0.407983</td>\n",
       "      <td>0.302323</td>\n",
       "    </tr>\n",
       "    <tr>\n",
       "      <th>F2</th>\n",
       "      <td>0.464985</td>\n",
       "      <td>1.000000</td>\n",
       "      <td>0.457979</td>\n",
       "      <td>0.171127</td>\n",
       "    </tr>\n",
       "    <tr>\n",
       "      <th>F3</th>\n",
       "      <td>0.407983</td>\n",
       "      <td>0.457979</td>\n",
       "      <td>1.000000</td>\n",
       "      <td>0.130324</td>\n",
       "    </tr>\n",
       "    <tr>\n",
       "      <th>F4</th>\n",
       "      <td>0.302323</td>\n",
       "      <td>0.171127</td>\n",
       "      <td>0.130324</td>\n",
       "      <td>1.000000</td>\n",
       "    </tr>\n",
       "  </tbody>\n",
       "</table>\n",
       "</div>"
      ],
      "text/plain": [
       "          F1        F2        F3        F4\n",
       "F1  1.000000  0.464985  0.407983  0.302323\n",
       "F2  0.464985  1.000000  0.457979  0.171127\n",
       "F3  0.407983  0.457979  1.000000  0.130324\n",
       "F4  0.302323  0.171127  0.130324  1.000000"
      ]
     },
     "execution_count": 13,
     "metadata": {},
     "output_type": "execute_result"
    }
   ],
   "source": [
    "factor_corr = pd.DataFrame(fa.phi_)\n",
    "print(\"Correalación entre factores:\")\n",
    "factor_corr.columns += 1\n",
    "factor_corr.index += 1\n",
    "factor_corr.set_index(\"F\" + factor_corr.index.astype(str), inplace=True)\n",
    "factor_corr = factor_corr.add_prefix(\"F\")\n",
    "factor_corr"
   ]
  },
  {
   "cell_type": "markdown",
   "metadata": {
    "hidePrompt": false,
    "slideshow": {
     "slide_type": "subslide"
    }
   },
   "source": [
    "Además, podemos examinar la matriz de estructura, la cual muestra las correlaciones entre las variables observadas y los factores. \n",
    "\n",
    "> Nota: La matriz de estructura se puede obtener multiplicando la matriz de cargas factoriales por la matriz de correlación entre factores."
   ]
  },
  {
   "cell_type": "code",
   "execution_count": 14,
   "metadata": {
    "hideCode": true,
    "hidePrompt": true,
    "slideshow": {
     "slide_type": "fragment"
    }
   },
   "outputs": [
    {
     "name": "stdout",
     "output_type": "stream",
     "text": [
      "Matriz de estructura:\n"
     ]
    },
    {
     "data": {
      "text/html": [
       "<div>\n",
       "<style scoped>\n",
       "    .dataframe tbody tr th:only-of-type {\n",
       "        vertical-align: middle;\n",
       "    }\n",
       "\n",
       "    .dataframe tbody tr th {\n",
       "        vertical-align: top;\n",
       "    }\n",
       "\n",
       "    .dataframe thead th {\n",
       "        text-align: right;\n",
       "    }\n",
       "</style>\n",
       "<table border=\"1\" class=\"dataframe\">\n",
       "  <thead>\n",
       "    <tr style=\"text-align: right;\">\n",
       "      <th></th>\n",
       "      <th>F1</th>\n",
       "      <th>F2</th>\n",
       "      <th>F3</th>\n",
       "      <th>F4</th>\n",
       "    </tr>\n",
       "  </thead>\n",
       "  <tbody>\n",
       "    <tr>\n",
       "      <th>e1</th>\n",
       "      <td>0.668088</td>\n",
       "      <td>0.502440</td>\n",
       "      <td>0.387771</td>\n",
       "      <td>0.656221</td>\n",
       "    </tr>\n",
       "    <tr>\n",
       "      <th>e2</th>\n",
       "      <td>0.895642</td>\n",
       "      <td>0.396020</td>\n",
       "      <td>0.341624</td>\n",
       "      <td>0.252369</td>\n",
       "    </tr>\n",
       "    <tr>\n",
       "      <th>e3</th>\n",
       "      <td>0.319233</td>\n",
       "      <td>0.404956</td>\n",
       "      <td>0.857561</td>\n",
       "      <td>0.195626</td>\n",
       "    </tr>\n",
       "    <tr>\n",
       "      <th>e4</th>\n",
       "      <td>0.436971</td>\n",
       "      <td>0.658288</td>\n",
       "      <td>0.360709</td>\n",
       "      <td>-0.086752</td>\n",
       "    </tr>\n",
       "    <tr>\n",
       "      <th>e5</th>\n",
       "      <td>0.688157</td>\n",
       "      <td>0.379000</td>\n",
       "      <td>0.355483</td>\n",
       "      <td>0.579114</td>\n",
       "    </tr>\n",
       "    <tr>\n",
       "      <th>e6</th>\n",
       "      <td>0.801742</td>\n",
       "      <td>0.401431</td>\n",
       "      <td>0.334723</td>\n",
       "      <td>0.298629</td>\n",
       "    </tr>\n",
       "    <tr>\n",
       "      <th>e7</th>\n",
       "      <td>0.381802</td>\n",
       "      <td>0.927451</td>\n",
       "      <td>0.394529</td>\n",
       "      <td>0.201700</td>\n",
       "    </tr>\n",
       "    <tr>\n",
       "      <th>e8</th>\n",
       "      <td>0.487722</td>\n",
       "      <td>0.546874</td>\n",
       "      <td>0.460258</td>\n",
       "      <td>-0.104296</td>\n",
       "    </tr>\n",
       "    <tr>\n",
       "      <th>e9</th>\n",
       "      <td>0.630618</td>\n",
       "      <td>0.465381</td>\n",
       "      <td>0.447990</td>\n",
       "      <td>0.568659</td>\n",
       "    </tr>\n",
       "    <tr>\n",
       "      <th>e10</th>\n",
       "      <td>0.596440</td>\n",
       "      <td>0.255369</td>\n",
       "      <td>0.289823</td>\n",
       "      <td>0.116338</td>\n",
       "    </tr>\n",
       "    <tr>\n",
       "      <th>e11</th>\n",
       "      <td>0.392323</td>\n",
       "      <td>0.650985</td>\n",
       "      <td>0.493531</td>\n",
       "      <td>0.172225</td>\n",
       "    </tr>\n",
       "    <tr>\n",
       "      <th>e12</th>\n",
       "      <td>0.292445</td>\n",
       "      <td>0.289049</td>\n",
       "      <td>0.726232</td>\n",
       "      <td>-0.048968</td>\n",
       "    </tr>\n",
       "  </tbody>\n",
       "</table>\n",
       "</div>"
      ],
      "text/plain": [
       "           F1        F2        F3        F4\n",
       "e1   0.668088  0.502440  0.387771  0.656221\n",
       "e2   0.895642  0.396020  0.341624  0.252369\n",
       "e3   0.319233  0.404956  0.857561  0.195626\n",
       "e4   0.436971  0.658288  0.360709 -0.086752\n",
       "e5   0.688157  0.379000  0.355483  0.579114\n",
       "e6   0.801742  0.401431  0.334723  0.298629\n",
       "e7   0.381802  0.927451  0.394529  0.201700\n",
       "e8   0.487722  0.546874  0.460258 -0.104296\n",
       "e9   0.630618  0.465381  0.447990  0.568659\n",
       "e10  0.596440  0.255369  0.289823  0.116338\n",
       "e11  0.392323  0.650985  0.493531  0.172225\n",
       "e12  0.292445  0.289049  0.726232 -0.048968"
      ]
     },
     "execution_count": 14,
     "metadata": {},
     "output_type": "execute_result"
    }
   ],
   "source": [
    "structure = pd.DataFrame(fa.structure_, index=scaled_df.columns)\n",
    "print(\"Matriz de estructura:\")\n",
    "structure.columns += 1\n",
    "structure = structure.add_prefix(\"F\")\n",
    "structure"
   ]
  },
  {
   "cell_type": "markdown",
   "metadata": {
    "slideshow": {
     "slide_type": "subslide"
    }
   },
   "source": [
    "Podemos sintetizar esta información gráficamente: "
   ]
  },
  {
   "cell_type": "code",
   "execution_count": 23,
   "metadata": {
    "hideCode": true,
    "hidePrompt": true,
    "slideshow": {
     "slide_type": "fragment"
    }
   },
   "outputs": [
    {
     "name": "stderr",
     "output_type": "stream",
     "text": [
      "R[write to console]: Loading required namespace: GPArotation\n",
      "\n"
     ]
    },
    {
     "data": {
      "image/png": "[encoded data removed]"
     },
     "metadata": {},
     "output_type": "display_data"
    }
   ],
   "source": [
    "%%R -i scaled_df\n",
    "# Extrae los factores\n",
    "fit <- fa(scaled_df, nfactors=4,rotate=\"oblimin\")\n",
    "\n",
    "# Genera gráfico de la estructura factorial\n",
    "structure <- fa.diagram(fit, digits=2, cut=.3)"
   ]
  },
  {
   "cell_type": "markdown",
   "metadata": {
    "slideshow": {
     "slide_type": "slide"
    }
   },
   "source": [
    "## Interpretación de Factores\n",
    "\n"
   ]
  },
  {
   "cell_type": "markdown",
   "metadata": {
    "slideshow": {
     "slide_type": "slide"
    }
   },
   "source": [
    "### Examinar las Cargas Factoriales\n",
    "\n",
    "#### Signifcancia práctica\n",
    "\n",
    "Utilizando la importancia práctica como criterio, podemos evaluar las cargas de la siguiente manera:\n",
    "- Las cargas factoriales inferiores a .10 pueden considerarse equivalentes a cero con el fin de evaluar la estructura simple.\n",
    "- Se considera que las cargas factoriales en el rango de .30 a .40 cumplen con el nivel mínimo para la interpretación de la estructura.\n",
    "- Las cargas de .50 o más se consideran significativas practicamente.\n",
    "- Las cargas superiores a .70 se consideran indicativas de una estructura bien definida y son el objetivo de cualquier análisis factorial."
   ]
  },
  {
   "cell_type": "markdown",
   "metadata": {
    "slideshow": {
     "slide_type": "subslide"
    }
   },
   "source": [
    "En nuestro ejemplo de modelo simple de 4 factores extraidos rotados ortogonalmente, consideremos un punto de corte de .5 para evaluar la significancia práctica de las cargas factoriales:"
   ]
  },
  {
   "cell_type": "code",
   "execution_count": 24,
   "metadata": {
    "hideCode": true,
    "hidePrompt": true,
    "slideshow": {
     "slide_type": "fragment"
    }
   },
   "outputs": [
    {
     "data": {
      "image/png": "[encoded data removed]"
     },
     "metadata": {},
     "output_type": "display_data"
    }
   ],
   "source": [
    "%%R\n",
    "# Extrae los factores\n",
    "fit <- fa(scaled_df, nfactors=4,rotate=\"varimax\")\n",
    "\n",
    "# Genera gráfico de la estructura factorial\n",
    "structure <- fa.diagram(fit, digits=2, cut=.5)"
   ]
  },
  {
   "cell_type": "markdown",
   "metadata": {
    "slideshow": {
     "slide_type": "fragment"
    }
   },
   "source": [
    "Podemos observar que la variable `e8` no alcanza el mínimo para ser asociado a uno de los factores latentes. "
   ]
  },
  {
   "cell_type": "markdown",
   "metadata": {
    "slideshow": {
     "slide_type": "slide"
    }
   },
   "source": [
    "#### Cargas cruzadas\n",
    "\n",
    "Una **estructura de factores óptima**, denominada estructura simple, **existe cuando todas las variables tienen cargas altas solo en un factor y cargas muy bajas en todos los demás factores**.\n",
    "\n",
    "Las cargas cruzadas de una variable (cargas en dos factores) pueden evaluarse por la **razón de sus cargas al cuadrado** y clasificarse como problemáticas (razón entre 1.0 y 1.5), potenciales (razón entre 1.5 y 2.0) o ignorables (razón mayor que 2.0). \n",
    "\n",
    "Las cargas cruzadas problemáticas, y quizás incluso las potenciales, se eliminan a menos que estén justificadas teóricamente o el objetivo sea estrictamente la reducción de datos."
   ]
  },
  {
   "cell_type": "markdown",
   "metadata": {
    "slideshow": {
     "slide_type": "subslide"
    }
   },
   "source": [
    "Evaluemos las cargas cruzadas en nuestro ejemplo:"
   ]
  },
  {
   "cell_type": "code",
   "execution_count": 26,
   "metadata": {
    "hideCode": true,
    "hidePrompt": true,
    "slideshow": {
     "slide_type": "fragment"
    }
   },
   "outputs": [
    {
     "data": {
      "text/html": [
       "<div>\n",
       "<style scoped>\n",
       "    .dataframe tbody tr th:only-of-type {\n",
       "        vertical-align: middle;\n",
       "    }\n",
       "\n",
       "    .dataframe tbody tr th {\n",
       "        vertical-align: top;\n",
       "    }\n",
       "\n",
       "    .dataframe thead th {\n",
       "        text-align: right;\n",
       "    }\n",
       "</style>\n",
       "<table border=\"1\" class=\"dataframe\">\n",
       "  <thead>\n",
       "    <tr style=\"text-align: right;\">\n",
       "      <th></th>\n",
       "      <th>F1</th>\n",
       "      <th>F2</th>\n",
       "      <th>F3</th>\n",
       "      <th>F4</th>\n",
       "    </tr>\n",
       "  </thead>\n",
       "  <tbody>\n",
       "    <tr>\n",
       "      <th>e1</th>\n",
       "      <td>0.759255</td>\n",
       "      <td>NaN</td>\n",
       "      <td>NaN</td>\n",
       "      <td>NaN</td>\n",
       "    </tr>\n",
       "    <tr>\n",
       "      <th>e2</th>\n",
       "      <td>0.428575</td>\n",
       "      <td>NaN</td>\n",
       "      <td>0.759220</td>\n",
       "      <td>NaN</td>\n",
       "    </tr>\n",
       "    <tr>\n",
       "      <th>e3</th>\n",
       "      <td>NaN</td>\n",
       "      <td>NaN</td>\n",
       "      <td>NaN</td>\n",
       "      <td>0.787662</td>\n",
       "    </tr>\n",
       "    <tr>\n",
       "      <th>e4</th>\n",
       "      <td>NaN</td>\n",
       "      <td>0.633675</td>\n",
       "      <td>NaN</td>\n",
       "      <td>NaN</td>\n",
       "    </tr>\n",
       "    <tr>\n",
       "      <th>e5</th>\n",
       "      <td>0.684145</td>\n",
       "      <td>NaN</td>\n",
       "      <td>0.369717</td>\n",
       "      <td>NaN</td>\n",
       "    </tr>\n",
       "    <tr>\n",
       "      <th>e6</th>\n",
       "      <td>0.453114</td>\n",
       "      <td>NaN</td>\n",
       "      <td>0.627683</td>\n",
       "      <td>NaN</td>\n",
       "    </tr>\n",
       "    <tr>\n",
       "      <th>e7</th>\n",
       "      <td>0.324917</td>\n",
       "      <td>0.866867</td>\n",
       "      <td>NaN</td>\n",
       "      <td>NaN</td>\n",
       "    </tr>\n",
       "    <tr>\n",
       "      <th>e8</th>\n",
       "      <td>NaN</td>\n",
       "      <td>0.489038</td>\n",
       "      <td>0.387208</td>\n",
       "      <td>NaN</td>\n",
       "    </tr>\n",
       "    <tr>\n",
       "      <th>e9</th>\n",
       "      <td>0.671468</td>\n",
       "      <td>NaN</td>\n",
       "      <td>NaN</td>\n",
       "      <td>NaN</td>\n",
       "    </tr>\n",
       "    <tr>\n",
       "      <th>e10</th>\n",
       "      <td>NaN</td>\n",
       "      <td>NaN</td>\n",
       "      <td>0.523929</td>\n",
       "      <td>NaN</td>\n",
       "    </tr>\n",
       "    <tr>\n",
       "      <th>e11</th>\n",
       "      <td>NaN</td>\n",
       "      <td>0.546373</td>\n",
       "      <td>NaN</td>\n",
       "      <td>NaN</td>\n",
       "    </tr>\n",
       "    <tr>\n",
       "      <th>e12</th>\n",
       "      <td>NaN</td>\n",
       "      <td>NaN</td>\n",
       "      <td>NaN</td>\n",
       "      <td>0.698798</td>\n",
       "    </tr>\n",
       "  </tbody>\n",
       "</table>\n",
       "</div>"
      ],
      "text/plain": [
       "           F1        F2        F3        F4\n",
       "e1   0.759255       NaN       NaN       NaN\n",
       "e2   0.428575       NaN  0.759220       NaN\n",
       "e3        NaN       NaN       NaN  0.787662\n",
       "e4        NaN  0.633675       NaN       NaN\n",
       "e5   0.684145       NaN  0.369717       NaN\n",
       "e6   0.453114       NaN  0.627683       NaN\n",
       "e7   0.324917  0.866867       NaN       NaN\n",
       "e8        NaN  0.489038  0.387208       NaN\n",
       "e9   0.671468       NaN       NaN       NaN\n",
       "e10       NaN       NaN  0.523929       NaN\n",
       "e11       NaN  0.546373       NaN       NaN\n",
       "e12       NaN       NaN       NaN  0.698798"
      ]
     },
     "execution_count": 26,
     "metadata": {},
     "output_type": "execute_result"
    }
   ],
   "source": [
    "fa_int = FactorAnalyzer(n_factors=4, rotation=\"varimax\")\n",
    "fa_int.fit(scaled_df)\n",
    "\n",
    "sig_loadings = pd.DataFrame(fa_int.loadings_, index=scaled_df.columns)\n",
    "sig_loadings[sig_loadings < 0.3] = None\n",
    "sig_loadings.columns += 1\n",
    "sig_loadings = sig_loadings.add_prefix(\"F\")\n",
    "sig_loadings"
   ]
  },
  {
   "cell_type": "markdown",
   "metadata": {
    "slideshow": {
     "slide_type": "fragment"
    }
   },
   "source": [
    "Aquí se muestran las cargas factoriales con significancia estadística. Podemos observar más de una variable con cargas cruzadas. "
   ]
  },
  {
   "cell_type": "markdown",
   "metadata": {
    "slideshow": {
     "slide_type": "subslide"
    }
   },
   "source": [
    "Ahora examinemos la razón de sus cargas al cuadrado:"
   ]
  },
  {
   "cell_type": "code",
   "execution_count": 15,
   "metadata": {
    "hideCode": true,
    "hidePrompt": true,
    "slideshow": {
     "slide_type": "fragment"
    }
   },
   "outputs": [
    {
     "name": "stdout",
     "output_type": "stream",
     "text": [
      "Cargas Factoriales al cuadrado:\n"
     ]
    },
    {
     "data": {
      "text/html": [
       "<div>\n",
       "<style scoped>\n",
       "    .dataframe tbody tr th:only-of-type {\n",
       "        vertical-align: middle;\n",
       "    }\n",
       "\n",
       "    .dataframe tbody tr th {\n",
       "        vertical-align: top;\n",
       "    }\n",
       "\n",
       "    .dataframe thead th {\n",
       "        text-align: right;\n",
       "    }\n",
       "</style>\n",
       "<table border=\"1\" class=\"dataframe\">\n",
       "  <thead>\n",
       "    <tr style=\"text-align: right;\">\n",
       "      <th></th>\n",
       "      <th>F1</th>\n",
       "      <th>F2</th>\n",
       "      <th>F3</th>\n",
       "      <th>F4</th>\n",
       "      <th>Ratio</th>\n",
       "      <th>Classification</th>\n",
       "    </tr>\n",
       "  </thead>\n",
       "  <tbody>\n",
       "    <tr>\n",
       "      <th>e1</th>\n",
       "      <td>0.576468</td>\n",
       "      <td>0.055178</td>\n",
       "      <td>0.072006</td>\n",
       "      <td>0.013130</td>\n",
       "      <td>8.005786</td>\n",
       "      <td>Ignorable</td>\n",
       "    </tr>\n",
       "    <tr>\n",
       "      <th>e2</th>\n",
       "      <td>0.183677</td>\n",
       "      <td>0.035502</td>\n",
       "      <td>0.576415</td>\n",
       "      <td>0.007839</td>\n",
       "      <td>3.138204</td>\n",
       "      <td>Ignorable</td>\n",
       "    </tr>\n",
       "    <tr>\n",
       "      <th>e3</th>\n",
       "      <td>0.077495</td>\n",
       "      <td>0.046795</td>\n",
       "      <td>0.001907</td>\n",
       "      <td>0.620411</td>\n",
       "      <td>8.005811</td>\n",
       "      <td>Ignorable</td>\n",
       "    </tr>\n",
       "    <tr>\n",
       "      <th>e4</th>\n",
       "      <td>0.003037</td>\n",
       "      <td>0.401544</td>\n",
       "      <td>0.089226</td>\n",
       "      <td>0.023975</td>\n",
       "      <td>4.500301</td>\n",
       "      <td>Ignorable</td>\n",
       "    </tr>\n",
       "    <tr>\n",
       "      <th>e5</th>\n",
       "      <td>0.468054</td>\n",
       "      <td>0.013882</td>\n",
       "      <td>0.136691</td>\n",
       "      <td>0.013461</td>\n",
       "      <td>3.424181</td>\n",
       "      <td>Ignorable</td>\n",
       "    </tr>\n",
       "    <tr>\n",
       "      <th>e6</th>\n",
       "      <td>0.205312</td>\n",
       "      <td>0.039411</td>\n",
       "      <td>0.393986</td>\n",
       "      <td>0.008481</td>\n",
       "      <td>1.918960</td>\n",
       "      <td>Potential</td>\n",
       "    </tr>\n",
       "    <tr>\n",
       "      <th>e7</th>\n",
       "      <td>0.105571</td>\n",
       "      <td>0.751458</td>\n",
       "      <td>0.000181</td>\n",
       "      <td>0.010082</td>\n",
       "      <td>7.118011</td>\n",
       "      <td>Ignorable</td>\n",
       "    </tr>\n",
       "    <tr>\n",
       "      <th>e8</th>\n",
       "      <td>0.001805</td>\n",
       "      <td>0.239158</td>\n",
       "      <td>0.149930</td>\n",
       "      <td>0.085259</td>\n",
       "      <td>1.595129</td>\n",
       "      <td>Potential</td>\n",
       "    </tr>\n",
       "    <tr>\n",
       "      <th>e9</th>\n",
       "      <td>0.450869</td>\n",
       "      <td>0.044495</td>\n",
       "      <td>0.072233</td>\n",
       "      <td>0.043747</td>\n",
       "      <td>6.241851</td>\n",
       "      <td>Ignorable</td>\n",
       "    </tr>\n",
       "    <tr>\n",
       "      <th>e10</th>\n",
       "      <td>0.057146</td>\n",
       "      <td>0.014097</td>\n",
       "      <td>0.274502</td>\n",
       "      <td>0.018899</td>\n",
       "      <td>4.803476</td>\n",
       "      <td>Ignorable</td>\n",
       "    </tr>\n",
       "    <tr>\n",
       "      <th>e11</th>\n",
       "      <td>0.079753</td>\n",
       "      <td>0.298523</td>\n",
       "      <td>0.012454</td>\n",
       "      <td>0.085135</td>\n",
       "      <td>3.506484</td>\n",
       "      <td>Ignorable</td>\n",
       "    </tr>\n",
       "    <tr>\n",
       "      <th>e12</th>\n",
       "      <td>0.001773</td>\n",
       "      <td>0.029791</td>\n",
       "      <td>0.031941</td>\n",
       "      <td>0.488318</td>\n",
       "      <td>15.288116</td>\n",
       "      <td>Ignorable</td>\n",
       "    </tr>\n",
       "  </tbody>\n",
       "</table>\n",
       "</div>"
      ],
      "text/plain": [
       "           F1        F2        F3        F4      Ratio Classification\n",
       "e1   0.576468  0.055178  0.072006  0.013130   8.005786      Ignorable\n",
       "e2   0.183677  0.035502  0.576415  0.007839   3.138204      Ignorable\n",
       "e3   0.077495  0.046795  0.001907  0.620411   8.005811      Ignorable\n",
       "e4   0.003037  0.401544  0.089226  0.023975   4.500301      Ignorable\n",
       "e5   0.468054  0.013882  0.136691  0.013461   3.424181      Ignorable\n",
       "e6   0.205312  0.039411  0.393986  0.008481   1.918960      Potential\n",
       "e7   0.105571  0.751458  0.000181  0.010082   7.118011      Ignorable\n",
       "e8   0.001805  0.239158  0.149930  0.085259   1.595129      Potential\n",
       "e9   0.450869  0.044495  0.072233  0.043747   6.241851      Ignorable\n",
       "e10  0.057146  0.014097  0.274502  0.018899   4.803476      Ignorable\n",
       "e11  0.079753  0.298523  0.012454  0.085135   3.506484      Ignorable\n",
       "e12  0.001773  0.029791  0.031941  0.488318  15.288116      Ignorable"
      ]
     },
     "execution_count": 15,
     "metadata": {},
     "output_type": "execute_result"
    }
   ],
   "source": [
    "fa_int = FactorAnalyzer(n_factors=4, rotation=\"varimax\")\n",
    "fa_int.fit(scaled_df)\n",
    "\n",
    "\n",
    "def cross_loading_eval(ratio):\n",
    "    if ratio < 1.5:\n",
    "        return \"Problematic\"\n",
    "    elif ratio < 2:\n",
    "        return \"Potential\"\n",
    "    else:\n",
    "        return \"Ignorable\"\n",
    "\n",
    "\n",
    "squared_loadings = pd.DataFrame(fa_int.loadings_**2, index=scaled_df.columns)\n",
    "squared_loadings.columns += 1\n",
    "squared_loadings = squared_loadings.add_prefix(\"F\")\n",
    "squared_loadings[\"Ratio\"] = squared_loadings.apply(\n",
    "    lambda x: x.nlargest(2).values[0] / x.nlargest(2).values[1], axis=1\n",
    ")\n",
    "squared_loadings[\"Classification\"] = squared_loadings[\"Ratio\"].apply(\n",
    "    cross_loading_eval\n",
    ")\n",
    "print(\"Cargas Factoriales al cuadrado:\")\n",
    "squared_loadings"
   ]
  },
  {
   "cell_type": "markdown",
   "metadata": {
    "slideshow": {
     "slide_type": "fragment"
    }
   },
   "source": [
    "Las variables `e6` y `e8` presentan cargas cruzadas que pueden ser clasificadas como potencialmente problemáticas.  "
   ]
  },
  {
   "cell_type": "markdown",
   "metadata": {
    "slideshow": {
     "slide_type": "slide"
    }
   },
   "source": [
    "### Evaluar las comunalidades\n",
    "\n",
    "El investigador debe buscar cualquier variable que no esté adecuadamente considerada por la solución factorial. El investigador debe ver las comunalidades para evaluar si las variables cumplen con niveles aceptables de explicación. \n",
    "\n",
    "Por lo general, **las variables deben tener comunalidades superiores a .50 para ser retenidas en el análisis**."
   ]
  },
  {
   "cell_type": "markdown",
   "metadata": {
    "slideshow": {
     "slide_type": "subslide"
    }
   },
   "source": [
    "Evaluemos las comunalidades en nuestro ejemplo.  "
   ]
  },
  {
   "cell_type": "code",
   "execution_count": 16,
   "metadata": {
    "hideCode": true,
    "hidePrompt": true,
    "slideshow": {
     "slide_type": "fragment"
    }
   },
   "outputs": [
    {
     "data": {
      "text/html": [
       "<div>\n",
       "<style scoped>\n",
       "    .dataframe tbody tr th:only-of-type {\n",
       "        vertical-align: middle;\n",
       "    }\n",
       "\n",
       "    .dataframe tbody tr th {\n",
       "        vertical-align: top;\n",
       "    }\n",
       "\n",
       "    .dataframe thead th {\n",
       "        text-align: right;\n",
       "    }\n",
       "</style>\n",
       "<table border=\"1\" class=\"dataframe\">\n",
       "  <thead>\n",
       "    <tr style=\"text-align: right;\">\n",
       "      <th></th>\n",
       "      <th>Communalities</th>\n",
       "    </tr>\n",
       "  </thead>\n",
       "  <tbody>\n",
       "    <tr>\n",
       "      <th>e1</th>\n",
       "      <td>0.716783</td>\n",
       "    </tr>\n",
       "    <tr>\n",
       "      <th>e2</th>\n",
       "      <td>0.803432</td>\n",
       "    </tr>\n",
       "    <tr>\n",
       "      <th>e3</th>\n",
       "      <td>0.746609</td>\n",
       "    </tr>\n",
       "    <tr>\n",
       "      <th>e4</th>\n",
       "      <td>0.517782</td>\n",
       "    </tr>\n",
       "    <tr>\n",
       "      <th>e5</th>\n",
       "      <td>0.632088</td>\n",
       "    </tr>\n",
       "    <tr>\n",
       "      <th>e6</th>\n",
       "      <td>0.647191</td>\n",
       "    </tr>\n",
       "    <tr>\n",
       "      <th>e7</th>\n",
       "      <td>0.867293</td>\n",
       "    </tr>\n",
       "    <tr>\n",
       "      <th>e8</th>\n",
       "      <td>0.476151</td>\n",
       "    </tr>\n",
       "    <tr>\n",
       "      <th>e9</th>\n",
       "      <td>0.611344</td>\n",
       "    </tr>\n",
       "    <tr>\n",
       "      <th>e10</th>\n",
       "      <td>0.364644</td>\n",
       "    </tr>\n",
       "    <tr>\n",
       "      <th>e11</th>\n",
       "      <td>0.475865</td>\n",
       "    </tr>\n",
       "    <tr>\n",
       "      <th>e12</th>\n",
       "      <td>0.551824</td>\n",
       "    </tr>\n",
       "  </tbody>\n",
       "</table>\n",
       "</div>"
      ],
      "text/plain": [
       "     Communalities\n",
       "e1        0.716783\n",
       "e2        0.803432\n",
       "e3        0.746609\n",
       "e4        0.517782\n",
       "e5        0.632088\n",
       "e6        0.647191\n",
       "e7        0.867293\n",
       "e8        0.476151\n",
       "e9        0.611344\n",
       "e10       0.364644\n",
       "e11       0.475865\n",
       "e12       0.551824"
      ]
     },
     "execution_count": 16,
     "metadata": {},
     "output_type": "execute_result"
    }
   ],
   "source": [
    "communalities = pd.DataFrame(\n",
    "    fa_int.get_communalities(),\n",
    "    index=df.columns.values,\n",
    "    columns=[\"Communalities\"],\n",
    ")\n",
    "communalities"
   ]
  },
  {
   "cell_type": "markdown",
   "metadata": {
    "slideshow": {
     "slide_type": "fragment"
    }
   },
   "source": [
    "Las comunalidades sugieren que la variables `e8`, `e10` y `e11` no se explican adecuadamente por nuestra solución factorial."
   ]
  },
  {
   "cell_type": "markdown",
   "metadata": {
    "slideshow": {
     "slide_type": "slide"
    }
   },
   "source": [
    "## Uso de resultados del AF en análisis subsecuentes"
   ]
  },
  {
   "cell_type": "markdown",
   "metadata": {
    "slideshow": {
     "slide_type": "slide"
    }
   },
   "source": [
    "### Escalas sumadas\n",
    "\n",
    "En términos simples, **todas las variables que cargan mucho en un factor se combinan** y el total, o más comúnmente el puntaje promedio de las variables, **se usa como una variable de reemplazo**.\n",
    "\n",
    "El cálculo de una escala sumada es un proceso sencillo mediante el cual los elementos que componen la escala sumada (es decir, los elementos con cargas altas del análisis factorial) se suman o promedian. **El enfoque más común es tomar el promedio de los ítems de la escala**, lo que proporciona al investigador un control completo sobre el cálculo y facilita su uso en análisis posteriores."
   ]
  },
  {
   "cell_type": "markdown",
   "metadata": {
    "slideshow": {
     "slide_type": "subslide"
    }
   },
   "source": [
    "Calculemos una escala sumada a partir de nuestro ejemplo:"
   ]
  },
  {
   "cell_type": "code",
   "execution_count": 18,
   "metadata": {
    "hideCode": true,
    "hidePrompt": true,
    "slideshow": {
     "slide_type": "fragment"
    }
   },
   "outputs": [
    {
     "name": "stdout",
     "output_type": "stream",
     "text": [
      "Escala sumada:\n"
     ]
    },
    {
     "data": {
      "text/html": [
       "<div>\n",
       "<style scoped>\n",
       "    .dataframe tbody tr th:only-of-type {\n",
       "        vertical-align: middle;\n",
       "    }\n",
       "\n",
       "    .dataframe tbody tr th {\n",
       "        vertical-align: top;\n",
       "    }\n",
       "\n",
       "    .dataframe thead th {\n",
       "        text-align: right;\n",
       "    }\n",
       "</style>\n",
       "<table border=\"1\" class=\"dataframe\">\n",
       "  <thead>\n",
       "    <tr style=\"text-align: right;\">\n",
       "      <th></th>\n",
       "      <th>F1</th>\n",
       "      <th>F2</th>\n",
       "      <th>F3</th>\n",
       "    </tr>\n",
       "  </thead>\n",
       "  <tbody>\n",
       "    <tr>\n",
       "      <th>0</th>\n",
       "      <td>5.000000</td>\n",
       "      <td>3.666667</td>\n",
       "      <td>3.0</td>\n",
       "    </tr>\n",
       "    <tr>\n",
       "      <th>1</th>\n",
       "      <td>3.500000</td>\n",
       "      <td>2.666667</td>\n",
       "      <td>2.5</td>\n",
       "    </tr>\n",
       "    <tr>\n",
       "      <th>2</th>\n",
       "      <td>5.000000</td>\n",
       "      <td>4.333333</td>\n",
       "      <td>2.5</td>\n",
       "    </tr>\n",
       "    <tr>\n",
       "      <th>3</th>\n",
       "      <td>4.500000</td>\n",
       "      <td>4.000000</td>\n",
       "      <td>2.0</td>\n",
       "    </tr>\n",
       "    <tr>\n",
       "      <th>4</th>\n",
       "      <td>3.500000</td>\n",
       "      <td>3.333333</td>\n",
       "      <td>4.0</td>\n",
       "    </tr>\n",
       "    <tr>\n",
       "      <th>...</th>\n",
       "      <td>...</td>\n",
       "      <td>...</td>\n",
       "      <td>...</td>\n",
       "    </tr>\n",
       "    <tr>\n",
       "      <th>352</th>\n",
       "      <td>4.500000</td>\n",
       "      <td>3.333333</td>\n",
       "      <td>2.0</td>\n",
       "    </tr>\n",
       "    <tr>\n",
       "      <th>353</th>\n",
       "      <td>5.000000</td>\n",
       "      <td>2.666667</td>\n",
       "      <td>2.0</td>\n",
       "    </tr>\n",
       "    <tr>\n",
       "      <th>354</th>\n",
       "      <td>5.000000</td>\n",
       "      <td>5.000000</td>\n",
       "      <td>3.0</td>\n",
       "    </tr>\n",
       "    <tr>\n",
       "      <th>355</th>\n",
       "      <td>4.166667</td>\n",
       "      <td>4.000000</td>\n",
       "      <td>2.5</td>\n",
       "    </tr>\n",
       "    <tr>\n",
       "      <th>356</th>\n",
       "      <td>5.000000</td>\n",
       "      <td>4.333333</td>\n",
       "      <td>3.0</td>\n",
       "    </tr>\n",
       "  </tbody>\n",
       "</table>\n",
       "<p>357 rows × 3 columns</p>\n",
       "</div>"
      ],
      "text/plain": [
       "           F1        F2   F3\n",
       "0    5.000000  3.666667  3.0\n",
       "1    3.500000  2.666667  2.5\n",
       "2    5.000000  4.333333  2.5\n",
       "3    4.500000  4.000000  2.0\n",
       "4    3.500000  3.333333  4.0\n",
       "..        ...       ...  ...\n",
       "352  4.500000  3.333333  2.0\n",
       "353  5.000000  2.666667  2.0\n",
       "354  5.000000  5.000000  3.0\n",
       "355  4.166667  4.000000  2.5\n",
       "356  5.000000  4.333333  3.0\n",
       "\n",
       "[357 rows x 3 columns]"
      ]
     },
     "execution_count": 18,
     "metadata": {},
     "output_type": "execute_result"
    }
   ],
   "source": [
    "# Creamos una variable que mapee cada factor a las variables con las que presenta una mayor carga.\n",
    "factor_index = {\n",
    "    \"F1\": [\"e1\", \"e2\", \"e5\", \"e6\", \"e9\", \"e10\"],\n",
    "    \"F2\": [\"e4\", \"e7\", \"e11\"],\n",
    "    \"F3\": [\"e12\", \"e3\"],\n",
    "}\n",
    "\n",
    "print(\"Escala sumada:\")\n",
    "summated_scale = pd.DataFrame()\n",
    "for i in factor_index:\n",
    "    summated_scale[i] = df[factor_index[i]].mean(axis=1)\n",
    "summated_scale"
   ]
  },
  {
   "cell_type": "markdown",
   "metadata": {
    "slideshow": {
     "slide_type": "subslide"
    }
   },
   "source": [
    "Este es el **procedimiento comunmente utilizado en el desarrollo de escalas psicométricas**. Recuerda que deben tomarse en cuenta cuatro aspectos básicos para la construcción de cualquier escala sumada: definición conceptual, dimensionalidad, confiabilidad y validez de constructo."
   ]
  },
  {
   "cell_type": "markdown",
   "metadata": {
    "slideshow": {
     "slide_type": "fragment"
    }
   },
   "source": [
    "Calculemos la medida de confiabilidad Alfa de Cronbach en nuestro ejemplo:"
   ]
  },
  {
   "cell_type": "code",
   "execution_count": 19,
   "metadata": {
    "hideCode": true,
    "hidePrompt": true,
    "slideshow": {
     "slide_type": "fragment"
    }
   },
   "outputs": [
    {
     "data": {
      "text/html": [
       "<div>\n",
       "<style scoped>\n",
       "    .dataframe tbody tr th:only-of-type {\n",
       "        vertical-align: middle;\n",
       "    }\n",
       "\n",
       "    .dataframe tbody tr th {\n",
       "        vertical-align: top;\n",
       "    }\n",
       "\n",
       "    .dataframe thead th {\n",
       "        text-align: right;\n",
       "    }\n",
       "</style>\n",
       "<table border=\"1\" class=\"dataframe\">\n",
       "  <thead>\n",
       "    <tr style=\"text-align: right;\">\n",
       "      <th></th>\n",
       "      <th>F1</th>\n",
       "      <th>F2</th>\n",
       "      <th>F3</th>\n",
       "    </tr>\n",
       "  </thead>\n",
       "  <tbody>\n",
       "    <tr>\n",
       "      <th>Cronbach’s α</th>\n",
       "      <td>0.868176</td>\n",
       "      <td>0.781722</td>\n",
       "      <td>0.75553</td>\n",
       "    </tr>\n",
       "    <tr>\n",
       "      <th>C.I. - 95%</th>\n",
       "      <td>[0.846, 0.888]</td>\n",
       "      <td>[0.739, 0.818]</td>\n",
       "      <td>[0.699, 0.801]</td>\n",
       "    </tr>\n",
       "  </tbody>\n",
       "</table>\n",
       "</div>"
      ],
      "text/plain": [
       "                          F1              F2              F3\n",
       "Cronbach’s α        0.868176        0.781722         0.75553\n",
       "C.I. - 95%    [0.846, 0.888]  [0.739, 0.818]  [0.699, 0.801]"
      ]
     },
     "execution_count": 19,
     "metadata": {},
     "output_type": "execute_result"
    }
   ],
   "source": [
    "cronbach = pd.DataFrame()\n",
    "for i in factor_index:\n",
    "    cronbach[i] = pg.cronbach_alpha(data=df[factor_index[i]])\n",
    "cronbach.index = [\"Cronbach’s α\", \"C.I. - 95%\"]\n",
    "cronbach"
   ]
  },
  {
   "cell_type": "markdown",
   "metadata": {},
   "source": [
    "# Introducción a los modelos de ecuaciones estructurales"
   ]
  },
  {
   "cell_type": "markdown",
   "metadata": {},
   "source": [
    "Partamos de un ejemplo:"
   ]
  },
  {
   "cell_type": "code",
   "execution_count": null,
   "metadata": {},
   "outputs": [],
   "source": [
    "#!pip install semopy"
   ]
  },
  {
   "cell_type": "code",
   "execution_count": 1,
   "metadata": {},
   "outputs": [
    {
     "data": {
      "text/html": [
       "<div>\n",
       "<style scoped>\n",
       "    .dataframe tbody tr th:only-of-type {\n",
       "        vertical-align: middle;\n",
       "    }\n",
       "\n",
       "    .dataframe tbody tr th {\n",
       "        vertical-align: top;\n",
       "    }\n",
       "\n",
       "    .dataframe thead th {\n",
       "        text-align: right;\n",
       "    }\n",
       "</style>\n",
       "<table border=\"1\" class=\"dataframe\">\n",
       "  <thead>\n",
       "    <tr style=\"text-align: right;\">\n",
       "      <th></th>\n",
       "      <th>y1</th>\n",
       "      <th>y2</th>\n",
       "      <th>y3</th>\n",
       "      <th>y4</th>\n",
       "      <th>y5</th>\n",
       "      <th>y6</th>\n",
       "      <th>y7</th>\n",
       "      <th>y8</th>\n",
       "      <th>x1</th>\n",
       "      <th>x2</th>\n",
       "      <th>x3</th>\n",
       "    </tr>\n",
       "  </thead>\n",
       "  <tbody>\n",
       "    <tr>\n",
       "      <th>1</th>\n",
       "      <td>2.50</td>\n",
       "      <td>0.000000</td>\n",
       "      <td>3.333333</td>\n",
       "      <td>0.000000</td>\n",
       "      <td>1.250000</td>\n",
       "      <td>0.000000</td>\n",
       "      <td>3.726360</td>\n",
       "      <td>3.333333</td>\n",
       "      <td>4.442651</td>\n",
       "      <td>3.637586</td>\n",
       "      <td>2.557615</td>\n",
       "    </tr>\n",
       "    <tr>\n",
       "      <th>2</th>\n",
       "      <td>1.25</td>\n",
       "      <td>0.000000</td>\n",
       "      <td>3.333333</td>\n",
       "      <td>0.000000</td>\n",
       "      <td>6.250000</td>\n",
       "      <td>1.100000</td>\n",
       "      <td>6.666666</td>\n",
       "      <td>0.736999</td>\n",
       "      <td>5.384495</td>\n",
       "      <td>5.062595</td>\n",
       "      <td>3.568079</td>\n",
       "    </tr>\n",
       "    <tr>\n",
       "      <th>3</th>\n",
       "      <td>7.50</td>\n",
       "      <td>8.800000</td>\n",
       "      <td>9.999998</td>\n",
       "      <td>9.199991</td>\n",
       "      <td>8.750000</td>\n",
       "      <td>8.094061</td>\n",
       "      <td>9.999998</td>\n",
       "      <td>8.211809</td>\n",
       "      <td>5.961005</td>\n",
       "      <td>6.255750</td>\n",
       "      <td>5.224433</td>\n",
       "    </tr>\n",
       "    <tr>\n",
       "      <th>4</th>\n",
       "      <td>8.90</td>\n",
       "      <td>8.800000</td>\n",
       "      <td>9.999998</td>\n",
       "      <td>9.199991</td>\n",
       "      <td>8.907948</td>\n",
       "      <td>8.127979</td>\n",
       "      <td>9.999998</td>\n",
       "      <td>4.615086</td>\n",
       "      <td>6.285998</td>\n",
       "      <td>7.567863</td>\n",
       "      <td>6.267495</td>\n",
       "    </tr>\n",
       "    <tr>\n",
       "      <th>5</th>\n",
       "      <td>10.00</td>\n",
       "      <td>3.333333</td>\n",
       "      <td>9.999998</td>\n",
       "      <td>6.666666</td>\n",
       "      <td>7.500000</td>\n",
       "      <td>3.333333</td>\n",
       "      <td>9.999998</td>\n",
       "      <td>6.666666</td>\n",
       "      <td>5.863631</td>\n",
       "      <td>6.818924</td>\n",
       "      <td>4.573679</td>\n",
       "    </tr>\n",
       "    <tr>\n",
       "      <th>...</th>\n",
       "      <td>...</td>\n",
       "      <td>...</td>\n",
       "      <td>...</td>\n",
       "      <td>...</td>\n",
       "      <td>...</td>\n",
       "      <td>...</td>\n",
       "      <td>...</td>\n",
       "      <td>...</td>\n",
       "      <td>...</td>\n",
       "      <td>...</td>\n",
       "      <td>...</td>\n",
       "    </tr>\n",
       "    <tr>\n",
       "      <th>71</th>\n",
       "      <td>5.40</td>\n",
       "      <td>9.999998</td>\n",
       "      <td>6.666666</td>\n",
       "      <td>3.333333</td>\n",
       "      <td>3.750000</td>\n",
       "      <td>6.666666</td>\n",
       "      <td>6.666666</td>\n",
       "      <td>1.485166</td>\n",
       "      <td>4.477337</td>\n",
       "      <td>3.091042</td>\n",
       "      <td>1.987909</td>\n",
       "    </tr>\n",
       "    <tr>\n",
       "      <th>72</th>\n",
       "      <td>7.50</td>\n",
       "      <td>8.800000</td>\n",
       "      <td>9.999998</td>\n",
       "      <td>6.066666</td>\n",
       "      <td>7.500000</td>\n",
       "      <td>6.666666</td>\n",
       "      <td>9.999998</td>\n",
       "      <td>6.666666</td>\n",
       "      <td>5.337538</td>\n",
       "      <td>5.631212</td>\n",
       "      <td>3.491004</td>\n",
       "    </tr>\n",
       "    <tr>\n",
       "      <th>73</th>\n",
       "      <td>7.50</td>\n",
       "      <td>7.000000</td>\n",
       "      <td>9.999998</td>\n",
       "      <td>6.852998</td>\n",
       "      <td>7.500000</td>\n",
       "      <td>6.348340</td>\n",
       "      <td>6.666666</td>\n",
       "      <td>7.508044</td>\n",
       "      <td>6.129050</td>\n",
       "      <td>6.403574</td>\n",
       "      <td>5.001796</td>\n",
       "    </tr>\n",
       "    <tr>\n",
       "      <th>74</th>\n",
       "      <td>10.00</td>\n",
       "      <td>6.666666</td>\n",
       "      <td>9.999998</td>\n",
       "      <td>10.000000</td>\n",
       "      <td>10.000000</td>\n",
       "      <td>6.666666</td>\n",
       "      <td>9.999998</td>\n",
       "      <td>10.000000</td>\n",
       "      <td>5.003946</td>\n",
       "      <td>4.962845</td>\n",
       "      <td>3.976994</td>\n",
       "    </tr>\n",
       "    <tr>\n",
       "      <th>75</th>\n",
       "      <td>3.75</td>\n",
       "      <td>3.333333</td>\n",
       "      <td>0.000000</td>\n",
       "      <td>0.000000</td>\n",
       "      <td>1.250000</td>\n",
       "      <td>3.333333</td>\n",
       "      <td>0.000000</td>\n",
       "      <td>0.000000</td>\n",
       "      <td>4.488636</td>\n",
       "      <td>4.897840</td>\n",
       "      <td>2.867566</td>\n",
       "    </tr>\n",
       "  </tbody>\n",
       "</table>\n",
       "<p>75 rows × 11 columns</p>\n",
       "</div>"
      ],
      "text/plain": [
       "       y1        y2        y3         y4         y5        y6        y7  \\\n",
       "1    2.50  0.000000  3.333333   0.000000   1.250000  0.000000  3.726360   \n",
       "2    1.25  0.000000  3.333333   0.000000   6.250000  1.100000  6.666666   \n",
       "3    7.50  8.800000  9.999998   9.199991   8.750000  8.094061  9.999998   \n",
       "4    8.90  8.800000  9.999998   9.199991   8.907948  8.127979  9.999998   \n",
       "5   10.00  3.333333  9.999998   6.666666   7.500000  3.333333  9.999998   \n",
       "..    ...       ...       ...        ...        ...       ...       ...   \n",
       "71   5.40  9.999998  6.666666   3.333333   3.750000  6.666666  6.666666   \n",
       "72   7.50  8.800000  9.999998   6.066666   7.500000  6.666666  9.999998   \n",
       "73   7.50  7.000000  9.999998   6.852998   7.500000  6.348340  6.666666   \n",
       "74  10.00  6.666666  9.999998  10.000000  10.000000  6.666666  9.999998   \n",
       "75   3.75  3.333333  0.000000   0.000000   1.250000  3.333333  0.000000   \n",
       "\n",
       "           y8        x1        x2        x3  \n",
       "1    3.333333  4.442651  3.637586  2.557615  \n",
       "2    0.736999  5.384495  5.062595  3.568079  \n",
       "3    8.211809  5.961005  6.255750  5.224433  \n",
       "4    4.615086  6.285998  7.567863  6.267495  \n",
       "5    6.666666  5.863631  6.818924  4.573679  \n",
       "..        ...       ...       ...       ...  \n",
       "71   1.485166  4.477337  3.091042  1.987909  \n",
       "72   6.666666  5.337538  5.631212  3.491004  \n",
       "73   7.508044  6.129050  6.403574  5.001796  \n",
       "74  10.000000  5.003946  4.962845  3.976994  \n",
       "75   0.000000  4.488636  4.897840  2.867566  \n",
       "\n",
       "[75 rows x 11 columns]"
      ]
     },
     "execution_count": 1,
     "metadata": {},
     "output_type": "execute_result"
    }
   ],
   "source": [
    "import pandas as pd\n",
    "from semopy.examples import political_democracy\n",
    "\n",
    "df = political_democracy.get_data()\n",
    "df"
   ]
  },
  {
   "cell_type": "code",
   "execution_count": null,
   "metadata": {},
   "outputs": [],
   "source": [
    "import semopy\n",
    "\n",
    "measure_desc = \"\"\"\n",
    "# Measurement\n",
    "ind60 =~ x1 + x2 + x3\n",
    "dem60 =~ y1 + y2 + y3 + y4\n",
    "dem65 =~ y5 + y6 + y7 + y8\n",
    "\"\"\"\n",
    "\n",
    "g = semopy.semplot(measure_desc, \"out.png\")\n",
    "g"
   ]
  },
  {
   "cell_type": "markdown",
   "metadata": {},
   "source": [
    "### Reporte\n",
    "\n",
    "Se deben usar índices de ajuste múltiples para evaluar la bondad de ajuste de un modelo y deben incluir:\n",
    "- El valor $X^{2}$ y el gl asociado.\n",
    "- Un índice de ajuste absoluto (GFI, RMSEA o SRMR).\n",
    "- Un índice de ajuste incremental (CFI o TLI).\n",
    "- Un índice de bondad de ajuste (GFI, CFI, TLI, etc.).\n",
    "- Un índice de mal ajuste (RMSEA, SRMR, etc.).\n",
    "\n",
    "En general, reportar $X^{2}$, CFI y RMSEA puede ser suficiente para evaluar un modelo SEM."
   ]
  },
  {
   "cell_type": "markdown",
   "metadata": {},
   "source": [
    "Revisemos estos índices en nuestro ejemplo:"
   ]
  },
  {
   "cell_type": "code",
   "execution_count": 6,
   "metadata": {},
   "outputs": [],
   "source": [
    "measure_model = semopy.Model(measure_desc)\n",
    "res = measure_model.fit(df)"
   ]
  },
  {
   "cell_type": "code",
   "execution_count": 7,
   "metadata": {},
   "outputs": [
    {
     "name": "stdout",
     "output_type": "stream",
     "text": [
      "                    Value\n",
      "DoF             41.000000\n",
      "DoF Baseline    55.000000\n",
      "chi2            72.461632\n",
      "chi2 p-value     0.001761\n",
      "chi2 Baseline  730.654577\n",
      "CFI              0.953435\n",
      "GFI              0.900826\n",
      "AGFI             0.866962\n",
      "NFI              0.900826\n",
      "TLI              0.937535\n",
      "RMSEA            0.101832\n",
      "AIC             48.067690\n",
      "BIC            106.004893\n",
      "LogLik           0.966155\n"
     ]
    }
   ],
   "source": [
    "stats = semopy.calc_stats(measure_model)\n",
    "print(stats.T)"
   ]
  },
  {
   "cell_type": "markdown",
   "metadata": {},
   "source": [
    "## Especificación el modelo estructural\n",
    "\n",
    "Consiste en **especificar el modelo estructural asignando relaciones de un constructo a otro con base en el modelo teórico propuesto**.\n",
    "\n",
    "En otras palabras, el **investigador identifica las relaciones de dependencia que se supone que existen entre los constructos, y cada hipótesis representa una relación específica que debe especificarse**. Las relaciones muestran cómo un constructo influye en otro y puede ser directo o indirecto. Por tanto, el modelo muestra todas las relaciones de dependencia que existen entre los constructos.\n",
    "\n",
    "Veamos como esto aplica a nuestro ejemplo:\n"
   ]
  },
  {
   "cell_type": "code",
   "execution_count": 8,
   "metadata": {},
   "outputs": [],
   "source": [
    "struct_desc = \"\"\"\n",
    "# Measurement\n",
    "ind60 =~ x1 + x2 + x3\n",
    "dem60 =~ y1 + y2 + y3 + y4\n",
    "dem65 =~ y5 + y6 + y7 + y8\n",
    "\n",
    "# Structure\n",
    "dem60 ~ ind60\n",
    "dem65 ~ ind60 + dem60\n",
    "\n",
    "# Covariances\n",
    "y1 ~~ y5\n",
    "y2 ~~ y4 + y6\n",
    "y3 ~~ y7\n",
    "y4 ~~ y8\n",
    "y6 ~~ y8\n",
    "\n",
    "\"\"\"\n",
    "\n",
    "g = semopy.semplot(struct_desc, \"out.png\", plot_covs=True)\n",
    "g"
   ]
  },
  {
   "cell_type": "markdown",
   "metadata": {},
   "source": [
    "Validemos el modelo estructural de nuestro ejemplo:"
   ]
  },
  {
   "cell_type": "code",
   "execution_count": 9,
   "metadata": {},
   "outputs": [],
   "source": [
    "struct_model = semopy.Model(struct_desc)\n",
    "res = struct_model.fit(df)"
   ]
  },
  {
   "cell_type": "code",
   "execution_count": 10,
   "metadata": {},
   "outputs": [
    {
     "name": "stdout",
     "output_type": "stream",
     "text": [
      "                    Value\n",
      "DoF             35.000000\n",
      "DoF Baseline    55.000000\n",
      "chi2            38.125446\n",
      "chi2 p-value     0.329171\n",
      "chi2 Baseline  730.654577\n",
      "CFI              0.995374\n",
      "GFI              0.947820\n",
      "AGFI             0.918003\n",
      "NFI              0.947820\n",
      "TLI              0.992731\n",
      "RMSEA            0.034738\n",
      "AIC             60.983321\n",
      "BIC            132.825453\n",
      "LogLik           0.508339\n"
     ]
    }
   ],
   "source": [
    "stats = semopy.calc_stats(struct_model)\n",
    "print(stats.T)"
   ]
  },
  {
   "cell_type": "markdown",
   "metadata": {},
   "source": [
    "Procedamos ahora a examinar las estimaciones de los parámetros:"
   ]
  },
  {
   "cell_type": "code",
   "execution_count": null,
   "metadata": {},
   "outputs": [],
   "source": [
    "g = semopy.semplot(struct_model, \"out.png\", std_ests=True, plot_covs=True)\n",
    "g"
   ]
  },
  {
   "cell_type": "code",
   "execution_count": 11,
   "metadata": {},
   "outputs": [
    {
     "data": {
      "text/html": [
       "<div>\n",
       "<style scoped>\n",
       "    .dataframe tbody tr th:only-of-type {\n",
       "        vertical-align: middle;\n",
       "    }\n",
       "\n",
       "    .dataframe tbody tr th {\n",
       "        vertical-align: top;\n",
       "    }\n",
       "\n",
       "    .dataframe thead th {\n",
       "        text-align: right;\n",
       "    }\n",
       "</style>\n",
       "<table border=\"1\" class=\"dataframe\">\n",
       "  <thead>\n",
       "    <tr style=\"text-align: right;\">\n",
       "      <th></th>\n",
       "      <th>lval</th>\n",
       "      <th>op</th>\n",
       "      <th>rval</th>\n",
       "      <th>Estimate</th>\n",
       "      <th>Est. Std</th>\n",
       "      <th>Std. Err</th>\n",
       "      <th>z-value</th>\n",
       "      <th>p-value</th>\n",
       "    </tr>\n",
       "  </thead>\n",
       "  <tbody>\n",
       "    <tr>\n",
       "      <th>0</th>\n",
       "      <td>dem60</td>\n",
       "      <td>~</td>\n",
       "      <td>ind60</td>\n",
       "      <td>1.482379</td>\n",
       "      <td>0.446751</td>\n",
       "      <td>0.399024</td>\n",
       "      <td>3.715017</td>\n",
       "      <td>0.000203</td>\n",
       "    </tr>\n",
       "    <tr>\n",
       "      <th>1</th>\n",
       "      <td>dem65</td>\n",
       "      <td>~</td>\n",
       "      <td>ind60</td>\n",
       "      <td>0.571912</td>\n",
       "      <td>0.182178</td>\n",
       "      <td>0.221383</td>\n",
       "      <td>2.583364</td>\n",
       "      <td>0.009784</td>\n",
       "    </tr>\n",
       "    <tr>\n",
       "      <th>2</th>\n",
       "      <td>dem65</td>\n",
       "      <td>~</td>\n",
       "      <td>dem60</td>\n",
       "      <td>0.837574</td>\n",
       "      <td>0.885286</td>\n",
       "      <td>0.098446</td>\n",
       "      <td>8.507992</td>\n",
       "      <td>0.0</td>\n",
       "    </tr>\n",
       "    <tr>\n",
       "      <th>3</th>\n",
       "      <td>x1</td>\n",
       "      <td>~</td>\n",
       "      <td>ind60</td>\n",
       "      <td>1.000000</td>\n",
       "      <td>0.919814</td>\n",
       "      <td>-</td>\n",
       "      <td>-</td>\n",
       "      <td>-</td>\n",
       "    </tr>\n",
       "    <tr>\n",
       "      <th>4</th>\n",
       "      <td>x2</td>\n",
       "      <td>~</td>\n",
       "      <td>ind60</td>\n",
       "      <td>2.180494</td>\n",
       "      <td>0.973010</td>\n",
       "      <td>0.138565</td>\n",
       "      <td>15.736254</td>\n",
       "      <td>0.0</td>\n",
       "    </tr>\n",
       "    <tr>\n",
       "      <th>5</th>\n",
       "      <td>x3</td>\n",
       "      <td>~</td>\n",
       "      <td>ind60</td>\n",
       "      <td>1.818546</td>\n",
       "      <td>0.872109</td>\n",
       "      <td>0.151993</td>\n",
       "      <td>11.96465</td>\n",
       "      <td>0.0</td>\n",
       "    </tr>\n",
       "    <tr>\n",
       "      <th>6</th>\n",
       "      <td>y1</td>\n",
       "      <td>~</td>\n",
       "      <td>dem60</td>\n",
       "      <td>1.000000</td>\n",
       "      <td>0.850193</td>\n",
       "      <td>-</td>\n",
       "      <td>-</td>\n",
       "      <td>-</td>\n",
       "    </tr>\n",
       "    <tr>\n",
       "      <th>7</th>\n",
       "      <td>y2</td>\n",
       "      <td>~</td>\n",
       "      <td>dem60</td>\n",
       "      <td>1.256819</td>\n",
       "      <td>0.716628</td>\n",
       "      <td>0.182687</td>\n",
       "      <td>6.879647</td>\n",
       "      <td>0.0</td>\n",
       "    </tr>\n",
       "    <tr>\n",
       "      <th>8</th>\n",
       "      <td>y3</td>\n",
       "      <td>~</td>\n",
       "      <td>dem60</td>\n",
       "      <td>1.058174</td>\n",
       "      <td>0.722308</td>\n",
       "      <td>0.151521</td>\n",
       "      <td>6.983699</td>\n",
       "      <td>0.0</td>\n",
       "    </tr>\n",
       "    <tr>\n",
       "      <th>9</th>\n",
       "      <td>y4</td>\n",
       "      <td>~</td>\n",
       "      <td>dem60</td>\n",
       "      <td>1.265186</td>\n",
       "      <td>0.845633</td>\n",
       "      <td>0.145151</td>\n",
       "      <td>8.716344</td>\n",
       "      <td>0.0</td>\n",
       "    </tr>\n",
       "    <tr>\n",
       "      <th>10</th>\n",
       "      <td>y5</td>\n",
       "      <td>~</td>\n",
       "      <td>dem65</td>\n",
       "      <td>1.000000</td>\n",
       "      <td>0.807842</td>\n",
       "      <td>-</td>\n",
       "      <td>-</td>\n",
       "      <td>-</td>\n",
       "    </tr>\n",
       "    <tr>\n",
       "      <th>11</th>\n",
       "      <td>y6</td>\n",
       "      <td>~</td>\n",
       "      <td>dem65</td>\n",
       "      <td>1.185743</td>\n",
       "      <td>0.745866</td>\n",
       "      <td>0.168908</td>\n",
       "      <td>7.020032</td>\n",
       "      <td>0.0</td>\n",
       "    </tr>\n",
       "    <tr>\n",
       "      <th>12</th>\n",
       "      <td>y7</td>\n",
       "      <td>~</td>\n",
       "      <td>dem65</td>\n",
       "      <td>1.279717</td>\n",
       "      <td>0.823655</td>\n",
       "      <td>0.159996</td>\n",
       "      <td>7.99841</td>\n",
       "      <td>0.0</td>\n",
       "    </tr>\n",
       "    <tr>\n",
       "      <th>13</th>\n",
       "      <td>y8</td>\n",
       "      <td>~</td>\n",
       "      <td>dem65</td>\n",
       "      <td>1.266084</td>\n",
       "      <td>0.827667</td>\n",
       "      <td>0.158238</td>\n",
       "      <td>8.001141</td>\n",
       "      <td>0.0</td>\n",
       "    </tr>\n",
       "    <tr>\n",
       "      <th>14</th>\n",
       "      <td>dem60</td>\n",
       "      <td>~~</td>\n",
       "      <td>dem60</td>\n",
       "      <td>3.950849</td>\n",
       "      <td>0.800413</td>\n",
       "      <td>0.920451</td>\n",
       "      <td>4.292296</td>\n",
       "      <td>0.000018</td>\n",
       "    </tr>\n",
       "    <tr>\n",
       "      <th>15</th>\n",
       "      <td>dem65</td>\n",
       "      <td>~~</td>\n",
       "      <td>dem65</td>\n",
       "      <td>0.172210</td>\n",
       "      <td>0.038976</td>\n",
       "      <td>0.214861</td>\n",
       "      <td>0.801494</td>\n",
       "      <td>0.422846</td>\n",
       "    </tr>\n",
       "    <tr>\n",
       "      <th>16</th>\n",
       "      <td>ind60</td>\n",
       "      <td>~~</td>\n",
       "      <td>ind60</td>\n",
       "      <td>0.448321</td>\n",
       "      <td>1.000000</td>\n",
       "      <td>0.086677</td>\n",
       "      <td>5.172345</td>\n",
       "      <td>0.0</td>\n",
       "    </tr>\n",
       "    <tr>\n",
       "      <th>17</th>\n",
       "      <td>y1</td>\n",
       "      <td>~~</td>\n",
       "      <td>y5</td>\n",
       "      <td>0.624423</td>\n",
       "      <td>0.091835</td>\n",
       "      <td>0.358435</td>\n",
       "      <td>1.742083</td>\n",
       "      <td>0.081494</td>\n",
       "    </tr>\n",
       "    <tr>\n",
       "      <th>18</th>\n",
       "      <td>y1</td>\n",
       "      <td>~~</td>\n",
       "      <td>y1</td>\n",
       "      <td>1.892743</td>\n",
       "      <td>0.277173</td>\n",
       "      <td>0.44456</td>\n",
       "      <td>4.257565</td>\n",
       "      <td>0.000021</td>\n",
       "    </tr>\n",
       "    <tr>\n",
       "      <th>19</th>\n",
       "      <td>y2</td>\n",
       "      <td>~~</td>\n",
       "      <td>y4</td>\n",
       "      <td>1.319589</td>\n",
       "      <td>0.101885</td>\n",
       "      <td>0.70268</td>\n",
       "      <td>1.877937</td>\n",
       "      <td>0.06039</td>\n",
       "    </tr>\n",
       "    <tr>\n",
       "      <th>20</th>\n",
       "      <td>y2</td>\n",
       "      <td>~~</td>\n",
       "      <td>y6</td>\n",
       "      <td>2.156164</td>\n",
       "      <td>0.165599</td>\n",
       "      <td>0.734155</td>\n",
       "      <td>2.936934</td>\n",
       "      <td>0.003315</td>\n",
       "    </tr>\n",
       "    <tr>\n",
       "      <th>21</th>\n",
       "      <td>y2</td>\n",
       "      <td>~~</td>\n",
       "      <td>y2</td>\n",
       "      <td>7.385292</td>\n",
       "      <td>0.486445</td>\n",
       "      <td>1.375671</td>\n",
       "      <td>5.368501</td>\n",
       "      <td>0.0</td>\n",
       "    </tr>\n",
       "    <tr>\n",
       "      <th>22</th>\n",
       "      <td>y3</td>\n",
       "      <td>~~</td>\n",
       "      <td>y7</td>\n",
       "      <td>0.793329</td>\n",
       "      <td>0.074634</td>\n",
       "      <td>0.607642</td>\n",
       "      <td>1.305585</td>\n",
       "      <td>0.191694</td>\n",
       "    </tr>\n",
       "    <tr>\n",
       "      <th>23</th>\n",
       "      <td>y3</td>\n",
       "      <td>~~</td>\n",
       "      <td>y3</td>\n",
       "      <td>5.066628</td>\n",
       "      <td>0.478271</td>\n",
       "      <td>0.951722</td>\n",
       "      <td>5.323646</td>\n",
       "      <td>0.0</td>\n",
       "    </tr>\n",
       "    <tr>\n",
       "      <th>24</th>\n",
       "      <td>y4</td>\n",
       "      <td>~~</td>\n",
       "      <td>y8</td>\n",
       "      <td>0.347222</td>\n",
       "      <td>0.032487</td>\n",
       "      <td>0.442234</td>\n",
       "      <td>0.785154</td>\n",
       "      <td>0.432363</td>\n",
       "    </tr>\n",
       "    <tr>\n",
       "      <th>25</th>\n",
       "      <td>y4</td>\n",
       "      <td>~~</td>\n",
       "      <td>y4</td>\n",
       "      <td>3.147911</td>\n",
       "      <td>0.284906</td>\n",
       "      <td>0.738841</td>\n",
       "      <td>4.260605</td>\n",
       "      <td>0.00002</td>\n",
       "    </tr>\n",
       "    <tr>\n",
       "      <th>26</th>\n",
       "      <td>y6</td>\n",
       "      <td>~~</td>\n",
       "      <td>y8</td>\n",
       "      <td>1.357037</td>\n",
       "      <td>0.126299</td>\n",
       "      <td>0.5685</td>\n",
       "      <td>2.387047</td>\n",
       "      <td>0.016984</td>\n",
       "    </tr>\n",
       "    <tr>\n",
       "      <th>27</th>\n",
       "      <td>y6</td>\n",
       "      <td>~~</td>\n",
       "      <td>y6</td>\n",
       "      <td>4.954364</td>\n",
       "      <td>0.443683</td>\n",
       "      <td>0.914284</td>\n",
       "      <td>5.418843</td>\n",
       "      <td>0.0</td>\n",
       "    </tr>\n",
       "    <tr>\n",
       "      <th>28</th>\n",
       "      <td>x1</td>\n",
       "      <td>~~</td>\n",
       "      <td>x1</td>\n",
       "      <td>0.081573</td>\n",
       "      <td>0.153942</td>\n",
       "      <td>0.019495</td>\n",
       "      <td>4.184317</td>\n",
       "      <td>0.000029</td>\n",
       "    </tr>\n",
       "    <tr>\n",
       "      <th>29</th>\n",
       "      <td>x2</td>\n",
       "      <td>~~</td>\n",
       "      <td>x2</td>\n",
       "      <td>0.119894</td>\n",
       "      <td>0.053252</td>\n",
       "      <td>0.069747</td>\n",
       "      <td>1.718973</td>\n",
       "      <td>0.085619</td>\n",
       "    </tr>\n",
       "    <tr>\n",
       "      <th>30</th>\n",
       "      <td>x3</td>\n",
       "      <td>~~</td>\n",
       "      <td>x3</td>\n",
       "      <td>0.466732</td>\n",
       "      <td>0.239426</td>\n",
       "      <td>0.090168</td>\n",
       "      <td>5.176276</td>\n",
       "      <td>0.0</td>\n",
       "    </tr>\n",
       "    <tr>\n",
       "      <th>31</th>\n",
       "      <td>y5</td>\n",
       "      <td>~~</td>\n",
       "      <td>y5</td>\n",
       "      <td>2.351910</td>\n",
       "      <td>0.347391</td>\n",
       "      <td>0.480369</td>\n",
       "      <td>4.896044</td>\n",
       "      <td>0.000001</td>\n",
       "    </tr>\n",
       "    <tr>\n",
       "      <th>32</th>\n",
       "      <td>y7</td>\n",
       "      <td>~~</td>\n",
       "      <td>y7</td>\n",
       "      <td>3.430032</td>\n",
       "      <td>0.321592</td>\n",
       "      <td>0.712732</td>\n",
       "      <td>4.812512</td>\n",
       "      <td>0.000001</td>\n",
       "    </tr>\n",
       "    <tr>\n",
       "      <th>33</th>\n",
       "      <td>y8</td>\n",
       "      <td>~~</td>\n",
       "      <td>y8</td>\n",
       "      <td>3.256389</td>\n",
       "      <td>0.314968</td>\n",
       "      <td>0.69504</td>\n",
       "      <td>4.685182</td>\n",
       "      <td>0.000003</td>\n",
       "    </tr>\n",
       "  </tbody>\n",
       "</table>\n",
       "</div>"
      ],
      "text/plain": [
       "     lval  op   rval  Estimate  Est. Std  Std. Err    z-value   p-value\n",
       "0   dem60   ~  ind60  1.482379  0.446751  0.399024   3.715017  0.000203\n",
       "1   dem65   ~  ind60  0.571912  0.182178  0.221383   2.583364  0.009784\n",
       "2   dem65   ~  dem60  0.837574  0.885286  0.098446   8.507992       0.0\n",
       "3      x1   ~  ind60  1.000000  0.919814         -          -         -\n",
       "4      x2   ~  ind60  2.180494  0.973010  0.138565  15.736254       0.0\n",
       "5      x3   ~  ind60  1.818546  0.872109  0.151993   11.96465       0.0\n",
       "6      y1   ~  dem60  1.000000  0.850193         -          -         -\n",
       "7      y2   ~  dem60  1.256819  0.716628  0.182687   6.879647       0.0\n",
       "8      y3   ~  dem60  1.058174  0.722308  0.151521   6.983699       0.0\n",
       "9      y4   ~  dem60  1.265186  0.845633  0.145151   8.716344       0.0\n",
       "10     y5   ~  dem65  1.000000  0.807842         -          -         -\n",
       "11     y6   ~  dem65  1.185743  0.745866  0.168908   7.020032       0.0\n",
       "12     y7   ~  dem65  1.279717  0.823655  0.159996    7.99841       0.0\n",
       "13     y8   ~  dem65  1.266084  0.827667  0.158238   8.001141       0.0\n",
       "14  dem60  ~~  dem60  3.950849  0.800413  0.920451   4.292296  0.000018\n",
       "15  dem65  ~~  dem65  0.172210  0.038976  0.214861   0.801494  0.422846\n",
       "16  ind60  ~~  ind60  0.448321  1.000000  0.086677   5.172345       0.0\n",
       "17     y1  ~~     y5  0.624423  0.091835  0.358435   1.742083  0.081494\n",
       "18     y1  ~~     y1  1.892743  0.277173   0.44456   4.257565  0.000021\n",
       "19     y2  ~~     y4  1.319589  0.101885   0.70268   1.877937   0.06039\n",
       "20     y2  ~~     y6  2.156164  0.165599  0.734155   2.936934  0.003315\n",
       "21     y2  ~~     y2  7.385292  0.486445  1.375671   5.368501       0.0\n",
       "22     y3  ~~     y7  0.793329  0.074634  0.607642   1.305585  0.191694\n",
       "23     y3  ~~     y3  5.066628  0.478271  0.951722   5.323646       0.0\n",
       "24     y4  ~~     y8  0.347222  0.032487  0.442234   0.785154  0.432363\n",
       "25     y4  ~~     y4  3.147911  0.284906  0.738841   4.260605   0.00002\n",
       "26     y6  ~~     y8  1.357037  0.126299    0.5685   2.387047  0.016984\n",
       "27     y6  ~~     y6  4.954364  0.443683  0.914284   5.418843       0.0\n",
       "28     x1  ~~     x1  0.081573  0.153942  0.019495   4.184317  0.000029\n",
       "29     x2  ~~     x2  0.119894  0.053252  0.069747   1.718973  0.085619\n",
       "30     x3  ~~     x3  0.466732  0.239426  0.090168   5.176276       0.0\n",
       "31     y5  ~~     y5  2.351910  0.347391  0.480369   4.896044  0.000001\n",
       "32     y7  ~~     y7  3.430032  0.321592  0.712732   4.812512  0.000001\n",
       "33     y8  ~~     y8  3.256389  0.314968   0.69504   4.685182  0.000003"
      ]
     },
     "execution_count": 11,
     "metadata": {},
     "output_type": "execute_result"
    }
   ],
   "source": [
    "estimates = struct_model.inspect(std_est=True)\n",
    "estimates"
   ]
  },
  {
   "cell_type": "markdown",
   "metadata": {},
   "source": [
    "Para contar con un reporte más detallado de nuestro modelo estructural podemos examinar el reporte generado por el paquete `semopy`:"
   ]
  },
  {
   "cell_type": "code",
   "execution_count": null,
   "metadata": {},
   "outputs": [],
   "source": [
    "semopy.report(struct_model, \"Job\")"
   ]
  },
  {
   "cell_type": "markdown",
   "metadata": {},
   "source": [
    "# Análisis Factorial Confirmatorio\n"
   ]
  },
  {
   "cell_type": "markdown",
   "metadata": {},
   "source": [
    "## ¿Qué es el Análisis Factorial Confirmatorio (AFC)?\n",
    "\n",
    "AFC es **una forma de probar qué tan bien una teoría de medición preespecificada compuesta de variables y factores medidos se ajusta a la realidad** capturada por los datos.\n",
    "\n",
    ">Una teoría de medición especifica con precisión cómo las variables medidas representan lógica y sistemáticamente los constructos involucrados en un modelo teórico. En otras palabras, la teoría de la medición especifica una serie de **relaciones y restricciones** que sugieren cómo las variables medidas representan un factor latente."
   ]
  },
  {
   "cell_type": "markdown",
   "metadata": {},
   "source": [
    "Veamos un ejemplo:"
   ]
  },
  {
   "cell_type": "code",
   "execution_count": 12,
   "metadata": {},
   "outputs": [
    {
     "data": {
      "text/html": [
       "<div>\n",
       "<style scoped>\n",
       "    .dataframe tbody tr th:only-of-type {\n",
       "        vertical-align: middle;\n",
       "    }\n",
       "\n",
       "    .dataframe tbody tr th {\n",
       "        vertical-align: top;\n",
       "    }\n",
       "\n",
       "    .dataframe thead th {\n",
       "        text-align: right;\n",
       "    }\n",
       "</style>\n",
       "<table border=\"1\" class=\"dataframe\">\n",
       "  <thead>\n",
       "    <tr style=\"text-align: right;\">\n",
       "      <th></th>\n",
       "      <th>id</th>\n",
       "      <th>sex</th>\n",
       "      <th>ageyr</th>\n",
       "      <th>agemo</th>\n",
       "      <th>school</th>\n",
       "      <th>grade</th>\n",
       "      <th>x1</th>\n",
       "      <th>x2</th>\n",
       "      <th>x3</th>\n",
       "      <th>x4</th>\n",
       "      <th>x5</th>\n",
       "      <th>x6</th>\n",
       "      <th>x7</th>\n",
       "      <th>x8</th>\n",
       "      <th>x9</th>\n",
       "    </tr>\n",
       "  </thead>\n",
       "  <tbody>\n",
       "    <tr>\n",
       "      <th>1</th>\n",
       "      <td>1</td>\n",
       "      <td>1</td>\n",
       "      <td>13</td>\n",
       "      <td>1</td>\n",
       "      <td>Pasteur</td>\n",
       "      <td>7.0</td>\n",
       "      <td>3.333333</td>\n",
       "      <td>7.75</td>\n",
       "      <td>0.375</td>\n",
       "      <td>2.333333</td>\n",
       "      <td>5.75</td>\n",
       "      <td>1.285714</td>\n",
       "      <td>3.391304</td>\n",
       "      <td>5.75</td>\n",
       "      <td>6.361111</td>\n",
       "    </tr>\n",
       "    <tr>\n",
       "      <th>2</th>\n",
       "      <td>2</td>\n",
       "      <td>2</td>\n",
       "      <td>13</td>\n",
       "      <td>7</td>\n",
       "      <td>Pasteur</td>\n",
       "      <td>7.0</td>\n",
       "      <td>5.333333</td>\n",
       "      <td>5.25</td>\n",
       "      <td>2.125</td>\n",
       "      <td>1.666667</td>\n",
       "      <td>3.00</td>\n",
       "      <td>1.285714</td>\n",
       "      <td>3.782609</td>\n",
       "      <td>6.25</td>\n",
       "      <td>7.916667</td>\n",
       "    </tr>\n",
       "    <tr>\n",
       "      <th>3</th>\n",
       "      <td>3</td>\n",
       "      <td>2</td>\n",
       "      <td>13</td>\n",
       "      <td>1</td>\n",
       "      <td>Pasteur</td>\n",
       "      <td>7.0</td>\n",
       "      <td>4.500000</td>\n",
       "      <td>5.25</td>\n",
       "      <td>1.875</td>\n",
       "      <td>1.000000</td>\n",
       "      <td>1.75</td>\n",
       "      <td>0.428571</td>\n",
       "      <td>3.260870</td>\n",
       "      <td>3.90</td>\n",
       "      <td>4.416667</td>\n",
       "    </tr>\n",
       "    <tr>\n",
       "      <th>4</th>\n",
       "      <td>4</td>\n",
       "      <td>1</td>\n",
       "      <td>13</td>\n",
       "      <td>2</td>\n",
       "      <td>Pasteur</td>\n",
       "      <td>7.0</td>\n",
       "      <td>5.333333</td>\n",
       "      <td>7.75</td>\n",
       "      <td>3.000</td>\n",
       "      <td>2.666667</td>\n",
       "      <td>4.50</td>\n",
       "      <td>2.428571</td>\n",
       "      <td>3.000000</td>\n",
       "      <td>5.30</td>\n",
       "      <td>4.861111</td>\n",
       "    </tr>\n",
       "    <tr>\n",
       "      <th>5</th>\n",
       "      <td>5</td>\n",
       "      <td>2</td>\n",
       "      <td>12</td>\n",
       "      <td>2</td>\n",
       "      <td>Pasteur</td>\n",
       "      <td>7.0</td>\n",
       "      <td>4.833333</td>\n",
       "      <td>4.75</td>\n",
       "      <td>0.875</td>\n",
       "      <td>2.666667</td>\n",
       "      <td>4.00</td>\n",
       "      <td>2.571429</td>\n",
       "      <td>3.695652</td>\n",
       "      <td>6.30</td>\n",
       "      <td>5.916667</td>\n",
       "    </tr>\n",
       "    <tr>\n",
       "      <th>...</th>\n",
       "      <td>...</td>\n",
       "      <td>...</td>\n",
       "      <td>...</td>\n",
       "      <td>...</td>\n",
       "      <td>...</td>\n",
       "      <td>...</td>\n",
       "      <td>...</td>\n",
       "      <td>...</td>\n",
       "      <td>...</td>\n",
       "      <td>...</td>\n",
       "      <td>...</td>\n",
       "      <td>...</td>\n",
       "      <td>...</td>\n",
       "      <td>...</td>\n",
       "      <td>...</td>\n",
       "    </tr>\n",
       "    <tr>\n",
       "      <th>297</th>\n",
       "      <td>346</td>\n",
       "      <td>1</td>\n",
       "      <td>13</td>\n",
       "      <td>5</td>\n",
       "      <td>Grant-White</td>\n",
       "      <td>8.0</td>\n",
       "      <td>4.000000</td>\n",
       "      <td>7.00</td>\n",
       "      <td>1.375</td>\n",
       "      <td>2.666667</td>\n",
       "      <td>4.25</td>\n",
       "      <td>1.000000</td>\n",
       "      <td>5.086957</td>\n",
       "      <td>5.60</td>\n",
       "      <td>5.250000</td>\n",
       "    </tr>\n",
       "    <tr>\n",
       "      <th>298</th>\n",
       "      <td>347</td>\n",
       "      <td>2</td>\n",
       "      <td>14</td>\n",
       "      <td>10</td>\n",
       "      <td>Grant-White</td>\n",
       "      <td>8.0</td>\n",
       "      <td>3.000000</td>\n",
       "      <td>6.00</td>\n",
       "      <td>1.625</td>\n",
       "      <td>2.333333</td>\n",
       "      <td>4.00</td>\n",
       "      <td>1.000000</td>\n",
       "      <td>4.608696</td>\n",
       "      <td>6.05</td>\n",
       "      <td>6.083333</td>\n",
       "    </tr>\n",
       "    <tr>\n",
       "      <th>299</th>\n",
       "      <td>348</td>\n",
       "      <td>2</td>\n",
       "      <td>14</td>\n",
       "      <td>3</td>\n",
       "      <td>Grant-White</td>\n",
       "      <td>8.0</td>\n",
       "      <td>4.666667</td>\n",
       "      <td>5.50</td>\n",
       "      <td>1.875</td>\n",
       "      <td>3.666667</td>\n",
       "      <td>5.75</td>\n",
       "      <td>4.285714</td>\n",
       "      <td>4.000000</td>\n",
       "      <td>6.00</td>\n",
       "      <td>7.611111</td>\n",
       "    </tr>\n",
       "    <tr>\n",
       "      <th>300</th>\n",
       "      <td>349</td>\n",
       "      <td>1</td>\n",
       "      <td>14</td>\n",
       "      <td>2</td>\n",
       "      <td>Grant-White</td>\n",
       "      <td>8.0</td>\n",
       "      <td>4.333333</td>\n",
       "      <td>6.75</td>\n",
       "      <td>0.500</td>\n",
       "      <td>3.666667</td>\n",
       "      <td>4.50</td>\n",
       "      <td>2.000000</td>\n",
       "      <td>5.086957</td>\n",
       "      <td>6.20</td>\n",
       "      <td>4.388889</td>\n",
       "    </tr>\n",
       "    <tr>\n",
       "      <th>301</th>\n",
       "      <td>351</td>\n",
       "      <td>1</td>\n",
       "      <td>13</td>\n",
       "      <td>5</td>\n",
       "      <td>Grant-White</td>\n",
       "      <td>NaN</td>\n",
       "      <td>4.333333</td>\n",
       "      <td>6.00</td>\n",
       "      <td>3.375</td>\n",
       "      <td>3.666667</td>\n",
       "      <td>5.75</td>\n",
       "      <td>3.142857</td>\n",
       "      <td>4.086957</td>\n",
       "      <td>6.95</td>\n",
       "      <td>5.166667</td>\n",
       "    </tr>\n",
       "  </tbody>\n",
       "</table>\n",
       "<p>301 rows × 15 columns</p>\n",
       "</div>"
      ],
      "text/plain": [
       "      id  sex  ageyr  agemo       school  grade        x1    x2     x3  \\\n",
       "1      1    1     13      1      Pasteur    7.0  3.333333  7.75  0.375   \n",
       "2      2    2     13      7      Pasteur    7.0  5.333333  5.25  2.125   \n",
       "3      3    2     13      1      Pasteur    7.0  4.500000  5.25  1.875   \n",
       "4      4    1     13      2      Pasteur    7.0  5.333333  7.75  3.000   \n",
       "5      5    2     12      2      Pasteur    7.0  4.833333  4.75  0.875   \n",
       "..   ...  ...    ...    ...          ...    ...       ...   ...    ...   \n",
       "297  346    1     13      5  Grant-White    8.0  4.000000  7.00  1.375   \n",
       "298  347    2     14     10  Grant-White    8.0  3.000000  6.00  1.625   \n",
       "299  348    2     14      3  Grant-White    8.0  4.666667  5.50  1.875   \n",
       "300  349    1     14      2  Grant-White    8.0  4.333333  6.75  0.500   \n",
       "301  351    1     13      5  Grant-White    NaN  4.333333  6.00  3.375   \n",
       "\n",
       "           x4    x5        x6        x7    x8        x9  \n",
       "1    2.333333  5.75  1.285714  3.391304  5.75  6.361111  \n",
       "2    1.666667  3.00  1.285714  3.782609  6.25  7.916667  \n",
       "3    1.000000  1.75  0.428571  3.260870  3.90  4.416667  \n",
       "4    2.666667  4.50  2.428571  3.000000  5.30  4.861111  \n",
       "5    2.666667  4.00  2.571429  3.695652  6.30  5.916667  \n",
       "..        ...   ...       ...       ...   ...       ...  \n",
       "297  2.666667  4.25  1.000000  5.086957  5.60  5.250000  \n",
       "298  2.333333  4.00  1.000000  4.608696  6.05  6.083333  \n",
       "299  3.666667  5.75  4.285714  4.000000  6.00  7.611111  \n",
       "300  3.666667  4.50  2.000000  5.086957  6.20  4.388889  \n",
       "301  3.666667  5.75  3.142857  4.086957  6.95  5.166667  \n",
       "\n",
       "[301 rows x 15 columns]"
      ]
     },
     "execution_count": 12,
     "metadata": {},
     "output_type": "execute_result"
    }
   ],
   "source": [
    "import pandas as pd\n",
    "from semopy.examples import holzinger39\n",
    "\n",
    "df = holzinger39.get_data()\n",
    "df"
   ]
  },
  {
   "cell_type": "code",
   "execution_count": 13,
   "metadata": {},
   "outputs": [],
   "source": [
    "import semopy\n",
    "\n",
    "measure_desc = \"\"\"\n",
    "# Measurement\n",
    "visual =~ x1 + x2 + x3\n",
    "textual =~ x4 + x5 + x6\n",
    "speed =~ x7 + x8 + x9\n",
    "\"\"\"\n",
    "\n",
    "measure_model = semopy.Model(measure_desc)\n",
    "res = measure_model.fit(df)\n",
    "g = semopy.semplot(measure_model, \"out.png\", std_ests=True)\n",
    "g"
   ]
  },
  {
   "cell_type": "code",
   "execution_count": 14,
   "metadata": {},
   "outputs": [
    {
     "data": {
      "text/html": [
       "<div>\n",
       "<style scoped>\n",
       "    .dataframe tbody tr th:only-of-type {\n",
       "        vertical-align: middle;\n",
       "    }\n",
       "\n",
       "    .dataframe tbody tr th {\n",
       "        vertical-align: top;\n",
       "    }\n",
       "\n",
       "    .dataframe thead th {\n",
       "        text-align: right;\n",
       "    }\n",
       "</style>\n",
       "<table border=\"1\" class=\"dataframe\">\n",
       "  <thead>\n",
       "    <tr style=\"text-align: right;\">\n",
       "      <th></th>\n",
       "      <th>lval</th>\n",
       "      <th>op</th>\n",
       "      <th>rval</th>\n",
       "      <th>Estimate</th>\n",
       "      <th>Est. Std</th>\n",
       "      <th>Std. Err</th>\n",
       "      <th>z-value</th>\n",
       "      <th>p-value</th>\n",
       "    </tr>\n",
       "  </thead>\n",
       "  <tbody>\n",
       "    <tr>\n",
       "      <th>0</th>\n",
       "      <td>x1</td>\n",
       "      <td>~</td>\n",
       "      <td>visual</td>\n",
       "      <td>1.000000</td>\n",
       "      <td>0.771372</td>\n",
       "      <td>-</td>\n",
       "      <td>-</td>\n",
       "      <td>-</td>\n",
       "    </tr>\n",
       "    <tr>\n",
       "      <th>1</th>\n",
       "      <td>x2</td>\n",
       "      <td>~</td>\n",
       "      <td>visual</td>\n",
       "      <td>0.554421</td>\n",
       "      <td>0.424031</td>\n",
       "      <td>0.099727</td>\n",
       "      <td>5.559413</td>\n",
       "      <td>0.0</td>\n",
       "    </tr>\n",
       "    <tr>\n",
       "      <th>2</th>\n",
       "      <td>x3</td>\n",
       "      <td>~</td>\n",
       "      <td>visual</td>\n",
       "      <td>0.730526</td>\n",
       "      <td>0.581638</td>\n",
       "      <td>0.10918</td>\n",
       "      <td>6.691009</td>\n",
       "      <td>0.0</td>\n",
       "    </tr>\n",
       "    <tr>\n",
       "      <th>3</th>\n",
       "      <td>x4</td>\n",
       "      <td>~</td>\n",
       "      <td>textual</td>\n",
       "      <td>1.000000</td>\n",
       "      <td>0.851665</td>\n",
       "      <td>-</td>\n",
       "      <td>-</td>\n",
       "      <td>-</td>\n",
       "    </tr>\n",
       "    <tr>\n",
       "      <th>4</th>\n",
       "      <td>x5</td>\n",
       "      <td>~</td>\n",
       "      <td>textual</td>\n",
       "      <td>1.113076</td>\n",
       "      <td>0.855141</td>\n",
       "      <td>0.065392</td>\n",
       "      <td>17.021522</td>\n",
       "      <td>0.0</td>\n",
       "    </tr>\n",
       "    <tr>\n",
       "      <th>5</th>\n",
       "      <td>x6</td>\n",
       "      <td>~</td>\n",
       "      <td>textual</td>\n",
       "      <td>0.926120</td>\n",
       "      <td>0.838083</td>\n",
       "      <td>0.055425</td>\n",
       "      <td>16.709493</td>\n",
       "      <td>0.0</td>\n",
       "    </tr>\n",
       "    <tr>\n",
       "      <th>6</th>\n",
       "      <td>x7</td>\n",
       "      <td>~</td>\n",
       "      <td>speed</td>\n",
       "      <td>1.000000</td>\n",
       "      <td>0.569252</td>\n",
       "      <td>-</td>\n",
       "      <td>-</td>\n",
       "      <td>-</td>\n",
       "    </tr>\n",
       "    <tr>\n",
       "      <th>7</th>\n",
       "      <td>x8</td>\n",
       "      <td>~</td>\n",
       "      <td>speed</td>\n",
       "      <td>1.179980</td>\n",
       "      <td>0.722802</td>\n",
       "      <td>0.165045</td>\n",
       "      <td>7.149459</td>\n",
       "      <td>0.0</td>\n",
       "    </tr>\n",
       "    <tr>\n",
       "      <th>8</th>\n",
       "      <td>x9</td>\n",
       "      <td>~</td>\n",
       "      <td>speed</td>\n",
       "      <td>1.082517</td>\n",
       "      <td>0.665275</td>\n",
       "      <td>0.151354</td>\n",
       "      <td>7.152197</td>\n",
       "      <td>0.0</td>\n",
       "    </tr>\n",
       "    <tr>\n",
       "      <th>9</th>\n",
       "      <td>speed</td>\n",
       "      <td>~~</td>\n",
       "      <td>speed</td>\n",
       "      <td>0.383377</td>\n",
       "      <td>1.000000</td>\n",
       "      <td>0.086171</td>\n",
       "      <td>4.449045</td>\n",
       "      <td>0.000009</td>\n",
       "    </tr>\n",
       "    <tr>\n",
       "      <th>10</th>\n",
       "      <td>textual</td>\n",
       "      <td>~~</td>\n",
       "      <td>textual</td>\n",
       "      <td>0.980034</td>\n",
       "      <td>1.000000</td>\n",
       "      <td>0.112145</td>\n",
       "      <td>8.739002</td>\n",
       "      <td>0.0</td>\n",
       "    </tr>\n",
       "    <tr>\n",
       "      <th>11</th>\n",
       "      <td>textual</td>\n",
       "      <td>~~</td>\n",
       "      <td>speed</td>\n",
       "      <td>0.173603</td>\n",
       "      <td>0.283220</td>\n",
       "      <td>0.049316</td>\n",
       "      <td>3.520223</td>\n",
       "      <td>0.000431</td>\n",
       "    </tr>\n",
       "    <tr>\n",
       "      <th>12</th>\n",
       "      <td>textual</td>\n",
       "      <td>~~</td>\n",
       "      <td>visual</td>\n",
       "      <td>0.408277</td>\n",
       "      <td>0.458718</td>\n",
       "      <td>0.073527</td>\n",
       "      <td>5.55273</td>\n",
       "      <td>0.0</td>\n",
       "    </tr>\n",
       "    <tr>\n",
       "      <th>13</th>\n",
       "      <td>visual</td>\n",
       "      <td>~~</td>\n",
       "      <td>visual</td>\n",
       "      <td>0.808310</td>\n",
       "      <td>1.000000</td>\n",
       "      <td>0.145287</td>\n",
       "      <td>5.563548</td>\n",
       "      <td>0.0</td>\n",
       "    </tr>\n",
       "    <tr>\n",
       "      <th>14</th>\n",
       "      <td>visual</td>\n",
       "      <td>~~</td>\n",
       "      <td>speed</td>\n",
       "      <td>0.262135</td>\n",
       "      <td>0.470895</td>\n",
       "      <td>0.056252</td>\n",
       "      <td>4.659977</td>\n",
       "      <td>0.000003</td>\n",
       "    </tr>\n",
       "    <tr>\n",
       "      <th>15</th>\n",
       "      <td>x1</td>\n",
       "      <td>~~</td>\n",
       "      <td>x1</td>\n",
       "      <td>0.550161</td>\n",
       "      <td>0.404985</td>\n",
       "      <td>0.113439</td>\n",
       "      <td>4.84983</td>\n",
       "      <td>0.000001</td>\n",
       "    </tr>\n",
       "    <tr>\n",
       "      <th>16</th>\n",
       "      <td>x2</td>\n",
       "      <td>~~</td>\n",
       "      <td>x2</td>\n",
       "      <td>1.133391</td>\n",
       "      <td>0.820197</td>\n",
       "      <td>0.101711</td>\n",
       "      <td>11.143202</td>\n",
       "      <td>0.0</td>\n",
       "    </tr>\n",
       "    <tr>\n",
       "      <th>17</th>\n",
       "      <td>x3</td>\n",
       "      <td>~~</td>\n",
       "      <td>x3</td>\n",
       "      <td>0.843731</td>\n",
       "      <td>0.661698</td>\n",
       "      <td>0.090625</td>\n",
       "      <td>9.31016</td>\n",
       "      <td>0.0</td>\n",
       "    </tr>\n",
       "    <tr>\n",
       "      <th>18</th>\n",
       "      <td>x4</td>\n",
       "      <td>~~</td>\n",
       "      <td>x4</td>\n",
       "      <td>0.371117</td>\n",
       "      <td>0.274667</td>\n",
       "      <td>0.047712</td>\n",
       "      <td>7.778264</td>\n",
       "      <td>0.0</td>\n",
       "    </tr>\n",
       "    <tr>\n",
       "      <th>19</th>\n",
       "      <td>x5</td>\n",
       "      <td>~~</td>\n",
       "      <td>x5</td>\n",
       "      <td>0.446208</td>\n",
       "      <td>0.268734</td>\n",
       "      <td>0.058387</td>\n",
       "      <td>7.642264</td>\n",
       "      <td>0.0</td>\n",
       "    </tr>\n",
       "    <tr>\n",
       "      <th>20</th>\n",
       "      <td>x6</td>\n",
       "      <td>~~</td>\n",
       "      <td>x6</td>\n",
       "      <td>0.356171</td>\n",
       "      <td>0.297617</td>\n",
       "      <td>0.04303</td>\n",
       "      <td>8.277334</td>\n",
       "      <td>0.0</td>\n",
       "    </tr>\n",
       "    <tr>\n",
       "      <th>21</th>\n",
       "      <td>x7</td>\n",
       "      <td>~~</td>\n",
       "      <td>x7</td>\n",
       "      <td>0.799708</td>\n",
       "      <td>0.675952</td>\n",
       "      <td>0.081387</td>\n",
       "      <td>9.825966</td>\n",
       "      <td>0.0</td>\n",
       "    </tr>\n",
       "    <tr>\n",
       "      <th>22</th>\n",
       "      <td>x8</td>\n",
       "      <td>~~</td>\n",
       "      <td>x8</td>\n",
       "      <td>0.487934</td>\n",
       "      <td>0.477557</td>\n",
       "      <td>0.074167</td>\n",
       "      <td>6.578856</td>\n",
       "      <td>0.0</td>\n",
       "    </tr>\n",
       "    <tr>\n",
       "      <th>23</th>\n",
       "      <td>x9</td>\n",
       "      <td>~~</td>\n",
       "      <td>x9</td>\n",
       "      <td>0.565804</td>\n",
       "      <td>0.557409</td>\n",
       "      <td>0.070757</td>\n",
       "      <td>7.996483</td>\n",
       "      <td>0.0</td>\n",
       "    </tr>\n",
       "  </tbody>\n",
       "</table>\n",
       "</div>"
      ],
      "text/plain": [
       "       lval  op     rval  Estimate  Est. Std  Std. Err    z-value   p-value\n",
       "0        x1   ~   visual  1.000000  0.771372         -          -         -\n",
       "1        x2   ~   visual  0.554421  0.424031  0.099727   5.559413       0.0\n",
       "2        x3   ~   visual  0.730526  0.581638   0.10918   6.691009       0.0\n",
       "3        x4   ~  textual  1.000000  0.851665         -          -         -\n",
       "4        x5   ~  textual  1.113076  0.855141  0.065392  17.021522       0.0\n",
       "5        x6   ~  textual  0.926120  0.838083  0.055425  16.709493       0.0\n",
       "6        x7   ~    speed  1.000000  0.569252         -          -         -\n",
       "7        x8   ~    speed  1.179980  0.722802  0.165045   7.149459       0.0\n",
       "8        x9   ~    speed  1.082517  0.665275  0.151354   7.152197       0.0\n",
       "9     speed  ~~    speed  0.383377  1.000000  0.086171   4.449045  0.000009\n",
       "10  textual  ~~  textual  0.980034  1.000000  0.112145   8.739002       0.0\n",
       "11  textual  ~~    speed  0.173603  0.283220  0.049316   3.520223  0.000431\n",
       "12  textual  ~~   visual  0.408277  0.458718  0.073527    5.55273       0.0\n",
       "13   visual  ~~   visual  0.808310  1.000000  0.145287   5.563548       0.0\n",
       "14   visual  ~~    speed  0.262135  0.470895  0.056252   4.659977  0.000003\n",
       "15       x1  ~~       x1  0.550161  0.404985  0.113439    4.84983  0.000001\n",
       "16       x2  ~~       x2  1.133391  0.820197  0.101711  11.143202       0.0\n",
       "17       x3  ~~       x3  0.843731  0.661698  0.090625    9.31016       0.0\n",
       "18       x4  ~~       x4  0.371117  0.274667  0.047712   7.778264       0.0\n",
       "19       x5  ~~       x5  0.446208  0.268734  0.058387   7.642264       0.0\n",
       "20       x6  ~~       x6  0.356171  0.297617   0.04303   8.277334       0.0\n",
       "21       x7  ~~       x7  0.799708  0.675952  0.081387   9.825966       0.0\n",
       "22       x8  ~~       x8  0.487934  0.477557  0.074167   6.578856       0.0\n",
       "23       x9  ~~       x9  0.565804  0.557409  0.070757   7.996483       0.0"
      ]
     },
     "execution_count": 14,
     "metadata": {},
     "output_type": "execute_result"
    }
   ],
   "source": [
    "estimates = measure_model.inspect(std_est=True)\n",
    "estimates"
   ]
  },
  {
   "cell_type": "code",
   "execution_count": 15,
   "metadata": {},
   "outputs": [
    {
     "name": "stdout",
     "output_type": "stream",
     "text": [
      "                 Value\n",
      "DoF             24.000\n",
      "DoF Baseline    36.000\n",
      "chi2            85.306\n",
      "chi2 p-value     0.000\n",
      "chi2 Baseline  918.852\n",
      "CFI              0.931\n",
      "GFI              0.907\n",
      "AGFI             0.861\n",
      "NFI              0.907\n",
      "TLI              0.896\n",
      "RMSEA            0.092\n",
      "AIC             41.433\n",
      "BIC            119.283\n",
      "LogLik           0.283\n"
     ]
    }
   ],
   "source": [
    "stats = semopy.calc_stats(measure_model).round(3)\n",
    "print(stats.T)"
   ]
  },
  {
   "cell_type": "markdown",
   "metadata": {},
   "source": [
    "## Evaluación de la validez del modelo de medición\n",
    "\n",
    "Una vez que el modelo de medición se especifica correctamente, se estima un modelo SEM correspondiente para proporcionar una evaluación empírica de la precisión de la teoría de medición. \n",
    "\n",
    "Los resultados nos permiten comparar la teoría con la realidad representada por los datos de la muestra."
   ]
  },
  {
   "cell_type": "markdown",
   "metadata": {},
   "source": [
    "Las estimaciones de carga pueden ser estadísticamente significativas pero aún ser demasiado bajas para calificar como un buen elemento.\n",
    "\n",
    "- En AFC, **los elementos con cargas bajas (por debajo de 0.5) se convierten en candidatos para eliminación**.\n",
    "- Las cargas estandarizadas por encima de 1 o por debajo de - 1 están fuera del rango posible y pueden ser un indicador importante de algún problema con los datos."
   ]
  },
  {
   "cell_type": "markdown",
   "metadata": {},
   "source": [
    "Los patrones de residuos relativamente altos sugieren que falta algo en el modelo, como otro factor.\n",
    "\n",
    "- Normalmente, los **residuos estandarizados inferiores a |2.5| no sugieren un problema**.\n",
    "- Los residuos estandarizados superiores a |4| indican un grado de error potencialmente inaceptable que puede requerir la eliminación de un elemento infractor.\n",
    "- Los residuos estandarizados entre |2.5| y |4| merecen cierta atención, pero es posible que no sugieran ningún cambio en el modelo si no hay otros problemas asociados con esos dos elementos."
   ]
  },
  {
   "cell_type": "markdown",
   "metadata": {},
   "source": [
    "Evaluemos estos criterios en nuestro ejemplo:"
   ]
  },
  {
   "cell_type": "code",
   "execution_count": null,
   "metadata": {},
   "outputs": [],
   "source": [
    "g = semopy.semplot(measure_model, \"out.png\", std_ests=True)\n",
    "g"
   ]
  },
  {
   "cell_type": "markdown",
   "metadata": {},
   "source": [
    "Podemos apreciar que la variable `x2` es candidata a ser eliminada por presentar una carga factorial menor a 0.5. "
   ]
  },
  {
   "cell_type": "code",
   "execution_count": 16,
   "metadata": {},
   "outputs": [
    {
     "data": {
      "text/html": [
       "<div>\n",
       "<style scoped>\n",
       "    .dataframe tbody tr th:only-of-type {\n",
       "        vertical-align: middle;\n",
       "    }\n",
       "\n",
       "    .dataframe tbody tr th {\n",
       "        vertical-align: top;\n",
       "    }\n",
       "\n",
       "    .dataframe thead th {\n",
       "        text-align: right;\n",
       "    }\n",
       "</style>\n",
       "<table border=\"1\" class=\"dataframe\">\n",
       "  <thead>\n",
       "    <tr style=\"text-align: right;\">\n",
       "      <th></th>\n",
       "      <th>x1</th>\n",
       "      <th>x2</th>\n",
       "      <th>x3</th>\n",
       "      <th>x4</th>\n",
       "      <th>x5</th>\n",
       "      <th>x6</th>\n",
       "      <th>x7</th>\n",
       "      <th>x8</th>\n",
       "      <th>x9</th>\n",
       "    </tr>\n",
       "  </thead>\n",
       "  <tbody>\n",
       "    <tr>\n",
       "      <th>x1</th>\n",
       "      <td>-0.001162</td>\n",
       "      <td>-0.472395</td>\n",
       "      <td>-0.122718</td>\n",
       "      <td>1.118730</td>\n",
       "      <td>-0.160213</td>\n",
       "      <td>0.888591</td>\n",
       "      <td>-2.055027</td>\n",
       "      <td>-0.526897</td>\n",
       "      <td>2.022619</td>\n",
       "    </tr>\n",
       "    <tr>\n",
       "      <th>x2</th>\n",
       "      <td>-0.472395</td>\n",
       "      <td>-0.000782</td>\n",
       "      <td>1.433007</td>\n",
       "      <td>-0.201994</td>\n",
       "      <td>-0.473432</td>\n",
       "      <td>0.439234</td>\n",
       "      <td>-2.804817</td>\n",
       "      <td>-0.716381</td>\n",
       "      <td>1.004327</td>\n",
       "    </tr>\n",
       "    <tr>\n",
       "      <th>x3</th>\n",
       "      <td>-0.122718</td>\n",
       "      <td>1.433007</td>\n",
       "      <td>-0.002723</td>\n",
       "      <td>-1.043764</td>\n",
       "      <td>-2.545314</td>\n",
       "      <td>-0.372063</td>\n",
       "      <td>-1.195163</td>\n",
       "      <td>-0.158029</td>\n",
       "      <td>1.929717</td>\n",
       "    </tr>\n",
       "    <tr>\n",
       "      <th>x4</th>\n",
       "      <td>1.118730</td>\n",
       "      <td>-0.201994</td>\n",
       "      <td>-1.043764</td>\n",
       "      <td>-0.005639</td>\n",
       "      <td>0.079946</td>\n",
       "      <td>-0.140347</td>\n",
       "      <td>0.534581</td>\n",
       "      <td>-0.918251</td>\n",
       "      <td>0.642273</td>\n",
       "    </tr>\n",
       "    <tr>\n",
       "      <th>x5</th>\n",
       "      <td>-0.160213</td>\n",
       "      <td>-0.473432</td>\n",
       "      <td>-2.545314</td>\n",
       "      <td>0.079946</td>\n",
       "      <td>-0.007229</td>\n",
       "      <td>0.049400</td>\n",
       "      <td>-0.582012</td>\n",
       "      <td>-0.549251</td>\n",
       "      <td>0.997138</td>\n",
       "    </tr>\n",
       "    <tr>\n",
       "      <th>x6</th>\n",
       "      <td>0.888591</td>\n",
       "      <td>0.439234</td>\n",
       "      <td>-0.372063</td>\n",
       "      <td>-0.140347</td>\n",
       "      <td>0.049400</td>\n",
       "      <td>-0.004471</td>\n",
       "      <td>-0.193472</td>\n",
       "      <td>-0.281341</td>\n",
       "      <td>0.717796</td>\n",
       "    </tr>\n",
       "    <tr>\n",
       "      <th>x7</th>\n",
       "      <td>-2.055027</td>\n",
       "      <td>-2.804817</td>\n",
       "      <td>-1.195163</td>\n",
       "      <td>0.534581</td>\n",
       "      <td>-0.582012</td>\n",
       "      <td>-0.193472</td>\n",
       "      <td>0.000641</td>\n",
       "      <td>0.960126</td>\n",
       "      <td>-0.483307</td>\n",
       "    </tr>\n",
       "    <tr>\n",
       "      <th>x8</th>\n",
       "      <td>-0.526897</td>\n",
       "      <td>-0.716381</td>\n",
       "      <td>-0.158029</td>\n",
       "      <td>-0.918251</td>\n",
       "      <td>-0.549251</td>\n",
       "      <td>-0.281341</td>\n",
       "      <td>0.960126</td>\n",
       "      <td>0.002934</td>\n",
       "      <td>-0.375258</td>\n",
       "    </tr>\n",
       "    <tr>\n",
       "      <th>x9</th>\n",
       "      <td>2.022619</td>\n",
       "      <td>1.004327</td>\n",
       "      <td>1.929717</td>\n",
       "      <td>0.642273</td>\n",
       "      <td>0.997138</td>\n",
       "      <td>0.717796</td>\n",
       "      <td>-0.483307</td>\n",
       "      <td>-0.375258</td>\n",
       "      <td>-0.000666</td>\n",
       "    </tr>\n",
       "  </tbody>\n",
       "</table>\n",
       "</div>"
      ],
      "text/plain": [
       "          x1        x2        x3        x4        x5        x6        x7  \\\n",
       "x1 -0.001162 -0.472395 -0.122718  1.118730 -0.160213  0.888591 -2.055027   \n",
       "x2 -0.472395 -0.000782  1.433007 -0.201994 -0.473432  0.439234 -2.804817   \n",
       "x3 -0.122718  1.433007 -0.002723 -1.043764 -2.545314 -0.372063 -1.195163   \n",
       "x4  1.118730 -0.201994 -1.043764 -0.005639  0.079946 -0.140347  0.534581   \n",
       "x5 -0.160213 -0.473432 -2.545314  0.079946 -0.007229  0.049400 -0.582012   \n",
       "x6  0.888591  0.439234 -0.372063 -0.140347  0.049400 -0.004471 -0.193472   \n",
       "x7 -2.055027 -2.804817 -1.195163  0.534581 -0.582012 -0.193472  0.000641   \n",
       "x8 -0.526897 -0.716381 -0.158029 -0.918251 -0.549251 -0.281341  0.960126   \n",
       "x9  2.022619  1.004327  1.929717  0.642273  0.997138  0.717796 -0.483307   \n",
       "\n",
       "          x8        x9  \n",
       "x1 -0.526897  2.022619  \n",
       "x2 -0.716381  1.004327  \n",
       "x3 -0.158029  1.929717  \n",
       "x4 -0.918251  0.642273  \n",
       "x5 -0.549251  0.997138  \n",
       "x6 -0.281341  0.717796  \n",
       "x7  0.960126 -0.483307  \n",
       "x8  0.002934 -0.375258  \n",
       "x9 -0.375258 -0.000666  "
      ]
     },
     "execution_count": 16,
     "metadata": {},
     "output_type": "execute_result"
    }
   ],
   "source": [
    "import numpy as np\n",
    "\n",
    "cov_estimate, _ = measure_model.calc_sigma()\n",
    "cov = measure_model.mx_cov\n",
    "residual = cov - cov_estimate\n",
    "std_residual = residual / np.std(residual)\n",
    "\n",
    "std_res = pd.DataFrame(\n",
    "    std_residual,\n",
    "    columns=measure_model.names_lambda[0],\n",
    "    index=measure_model.names_lambda[0],\n",
    ")\n",
    "std_res"
   ]
  },
  {
   "cell_type": "markdown",
   "metadata": {},
   "source": [
    "Podemos apreciar que los residuos estandarizados se mantienen dentro de rangos aceptables (< 2.5), a excepción de las covaraciones `x2-x7` y `x5-x3`."
   ]
  },
  {
   "cell_type": "markdown",
   "metadata": {},
   "source": [
    "### Validez de constructo\n",
    "\n",
    "La validez de constructo es **la medida en que un conjunto de elementos medidos reflejan con precisión los constructos latentes teóricos que están diseñados para medir**. Por tanto, la validez de constructo se ocupa de la precisión de la medición.\n",
    "\n",
    "En general, **las estimaciones de carga estandarizadas deben ser .5 o más, e idealmente, .7 o más, para indicar validez convergente**. \n",
    "\n",
    ">Validez convergente: Mide el grado en el que los ítems que son indicadores de un constructo específico comparten una alta proporción de varianza en común.\n",
    "\n",
    "Ahora procederemos a revisar sus índices más importantes:"
   ]
  },
  {
   "cell_type": "markdown",
   "metadata": {},
   "source": [
    "#### Varianza extraida promedio (AVE)\n",
    "\n",
    "La varianza media extraída (AVE) se calcula como la varianza media extraída para los elementos que se cargan en un constructo y es un indicador resumido de convergencia:\n",
    "\n",
    "$$ AVE = \\frac{\\sum_{i=1}^{n} L^{2}_{i}}{n}   $$\n",
    "\n",
    "$L_{i}$ representa la carga factorial completamente estandarizada para la i-ésima variable medida y $n$ es el número de indicadores de ítem para un constructo."
   ]
  },
  {
   "cell_type": "markdown",
   "metadata": {},
   "source": [
    "Se debe calcular una medida **AVE para cada constructo latente en un modelo de medición**.\n",
    "\n",
    "Un AVE de .5 o más sugiere una validez convergente adecuada. Un AVE de menos de .5 indica que, en promedio, permanece más error en los ítems que la varianza que se tiene en común con el factor latente sobre el que se cargan. "
   ]
  },
  {
   "cell_type": "markdown",
   "metadata": {},
   "source": [
    "Examinemos la AVE en nuestro ejemplo:"
   ]
  },
  {
   "cell_type": "code",
   "execution_count": 17,
   "metadata": {},
   "outputs": [
    {
     "name": "stdout",
     "output_type": "stream",
     "text": [
      "AVE\n",
      "visual : 0.3710397858553595\n",
      "textual : 0.7196608737682286\n",
      "speed : 0.42969400059140545\n"
     ]
    }
   ],
   "source": [
    "# Get loadings and constructs\n",
    "estimates = measure_model.inspect(std_est=True)\n",
    "loadings = estimates[estimates[\"op\"] == \"~\"]\n",
    "constructs = loadings[\"rval\"].unique().tolist()\n",
    "\n",
    "# AVE computation\n",
    "print(\"AVE\")\n",
    "for cons in constructs:\n",
    "    squared_loadings = loadings[loadings[\"rval\"] == cons][\"Est. Std\"] ** 2\n",
    "    ave = squared_loadings.sum() / squared_loadings.size\n",
    "    print(cons, \":\", ave)"
   ]
  },
  {
   "cell_type": "markdown",
   "metadata": {},
   "source": [
    "Podemos apreciar que solo el factor `textual` tiene una validez convergente adecuada."
   ]
  },
  {
   "cell_type": "markdown",
   "metadata": {},
   "source": [
    "Para evaluar la validez discriminante, **las estimaciones de AVE para cada factor deben ser mayores que el cuadrado de las correlaciones asociadas a dicho factor**. Esto debido a que un constructo latente debería explicar más la varianza en sus medidas de ítem que lo que comparte con otro constructo.\n",
    "\n",
    ">Validez discriminante: Mide **el grado en que un constructo o variable es realmente distinto de otros constructos o variables**. Por lo tanto, una alta validez discriminante proporciona evidencia de que un constructo es único y captura algunos fenómenos que otras medidas no captan."
   ]
  },
  {
   "cell_type": "markdown",
   "metadata": {},
   "source": [
    "Evaluemos este criterio en nuestro ejemplo:"
   ]
  },
  {
   "cell_type": "code",
   "execution_count": 18,
   "metadata": {},
   "outputs": [
    {
     "data": {
      "text/html": [
       "<div>\n",
       "<style scoped>\n",
       "    .dataframe tbody tr th:only-of-type {\n",
       "        vertical-align: middle;\n",
       "    }\n",
       "\n",
       "    .dataframe tbody tr th {\n",
       "        vertical-align: top;\n",
       "    }\n",
       "\n",
       "    .dataframe thead th {\n",
       "        text-align: right;\n",
       "    }\n",
       "</style>\n",
       "<table border=\"1\" class=\"dataframe\">\n",
       "  <thead>\n",
       "    <tr style=\"text-align: right;\">\n",
       "      <th></th>\n",
       "      <th>lval</th>\n",
       "      <th>op</th>\n",
       "      <th>rval</th>\n",
       "      <th>Estimate</th>\n",
       "      <th>Est. Std</th>\n",
       "      <th>r^2</th>\n",
       "      <th>Std. Err</th>\n",
       "      <th>z-value</th>\n",
       "      <th>p-value</th>\n",
       "    </tr>\n",
       "  </thead>\n",
       "  <tbody>\n",
       "    <tr>\n",
       "      <th>11</th>\n",
       "      <td>textual</td>\n",
       "      <td>~~</td>\n",
       "      <td>speed</td>\n",
       "      <td>0.173603</td>\n",
       "      <td>0.283220</td>\n",
       "      <td>0.080213</td>\n",
       "      <td>0.049316</td>\n",
       "      <td>3.520223</td>\n",
       "      <td>0.000431</td>\n",
       "    </tr>\n",
       "    <tr>\n",
       "      <th>12</th>\n",
       "      <td>textual</td>\n",
       "      <td>~~</td>\n",
       "      <td>visual</td>\n",
       "      <td>0.408277</td>\n",
       "      <td>0.458718</td>\n",
       "      <td>0.210422</td>\n",
       "      <td>0.073527</td>\n",
       "      <td>5.55273</td>\n",
       "      <td>0.0</td>\n",
       "    </tr>\n",
       "    <tr>\n",
       "      <th>14</th>\n",
       "      <td>visual</td>\n",
       "      <td>~~</td>\n",
       "      <td>speed</td>\n",
       "      <td>0.262135</td>\n",
       "      <td>0.470895</td>\n",
       "      <td>0.221742</td>\n",
       "      <td>0.056252</td>\n",
       "      <td>4.659977</td>\n",
       "      <td>0.000003</td>\n",
       "    </tr>\n",
       "  </tbody>\n",
       "</table>\n",
       "</div>"
      ],
      "text/plain": [
       "       lval  op    rval  Estimate  Est. Std       r^2  Std. Err   z-value  \\\n",
       "11  textual  ~~   speed  0.173603  0.283220  0.080213  0.049316  3.520223   \n",
       "12  textual  ~~  visual  0.408277  0.458718  0.210422  0.073527   5.55273   \n",
       "14   visual  ~~   speed  0.262135  0.470895  0.221742  0.056252  4.659977   \n",
       "\n",
       "     p-value  \n",
       "11  0.000431  \n",
       "12       0.0  \n",
       "14  0.000003  "
      ]
     },
     "execution_count": 18,
     "metadata": {},
     "output_type": "execute_result"
    }
   ],
   "source": [
    "cors = estimates.query(f'op == \"~~\" & rval == {constructs} & rval != lval')\n",
    "cors.insert(5, \"r^2\", cors[\"Est. Std\"] ** 2)\n",
    "cors"
   ]
  },
  {
   "cell_type": "markdown",
   "metadata": {},
   "source": [
    "Podemos apreciar que para cada constructo, los valores AVE son mayores al cuadrado de las correlaciones asociadas a dicho constructo. Esto da cuenta de una buena validez discriminante."
   ]
  },
  {
   "cell_type": "markdown",
   "metadata": {},
   "source": [
    "#### Confiabilidad de constructo (CR)\n",
    "\n",
    "La confiabilidad es también un indicador de validez convergente. La confiabilidad de constructo se calcula a partir de la suma al cuadrado de las cargas factoriales $L_{i}$ y la suma de los términos de varianza del error $e_{i}$, para cada constructo:\n",
    "\n",
    "$$ CR = \\frac{ (\\sum_{i=1}^{n} L_{i})^{2} } { (\\sum_{i=1}^{n} L_{i})^{2} + (\\sum_{i=1}^{n} e_{i})^{2}   } $$\n",
    "\n",
    "\n",
    "Una alta confiabilidad de constructo (> |.7|) indica que existe consistencia interna, lo que significa que todas las medidas representan consistentemente el mismo constructo latente."
   ]
  },
  {
   "cell_type": "markdown",
   "metadata": {},
   "source": [
    "Evaluemos este criterio en nuestro ejemplo:"
   ]
  },
  {
   "cell_type": "code",
   "execution_count": 19,
   "metadata": {},
   "outputs": [
    {
     "name": "stdout",
     "output_type": "stream",
     "text": [
      "CR\n",
      "visual : 0.4700481355960279\n",
      "textual : 0.901540531736004\n",
      "speed : 0.5668724304728705\n"
     ]
    }
   ],
   "source": [
    "# Get loadings and constructs\n",
    "estimates = measure_model.inspect(std_est=True)\n",
    "loadings = estimates[estimates[\"op\"] == \"~\"]\n",
    "lambdas = pd.DataFrame(\n",
    "    measure_model.mx_lambda,\n",
    "    columns=measure_model.names_lambda[1],\n",
    "    index=measure_model.names_lambda[0],\n",
    ")\n",
    "constructs = loadings[\"rval\"].unique().tolist()\n",
    "\n",
    "# CR computation\n",
    "print(\"CR\")\n",
    "for cons in constructs:\n",
    "    loads = loadings[loadings[\"rval\"] == cons][\"Est. Std\"]\n",
    "    idx = np.array(lambdas[cons].to_numpy().nonzero()[0])\n",
    "    vars = np.array(measure_model.names_lambda[0])[idx].tolist()\n",
    "    errors = estimates.query(f' op == \"~~\" & lval == rval & rval == {vars} ')[\n",
    "        \"Est. Std\"\n",
    "    ]\n",
    "    cr = loads.sum() ** 2 / (loads.sum() ** 2 + errors.sum() ** 2)\n",
    "    print(cons, \":\", cr)"
   ]
  },
  {
   "cell_type": "markdown",
   "metadata": {},
   "source": [
    "Podemos apreciar que solo `textual` presenta niveles adecuados de confiabilidad de constructo, lo cual sugiere que `visual` y `speed` no cuentan con evidencia de validez convergente."
   ]
  },
  {
   "cell_type": "markdown",
   "metadata": {},
   "source": [
    "En general, **el AFC no es una herramienta exploratoria**. Se trata de una técnica que permite confirmar teorías de medición a partir de una muestra.\n",
    "\n",
    "Los **resultados de AFC que sugieren más que una modificación menor deben reevaluarse con un nuevo conjunto de datos**. Por ejemplo, si se eliminan más del 20% por ciento de las variables medidas, las modificaciones no pueden considerarse menores."
   ]
  }
 ],
 "metadata": {
  "celltoolbar": "Slideshow",
  "kernelspec": {
   "display_name": "Python 3 (ipykernel)",
   "language": "python",
   "name": "python3"
  },
  "language_info": {
   "codemirror_mode": {
    "name": "ipython",
    "version": 3
   },
   "file_extension": ".py",
   "mimetype": "text/x-python",
   "name": "python",
   "nbconvert_exporter": "python",
   "pygments_lexer": "ipython3",
   "version": "3.10.12"
  },
  "vscode": {
   "interpreter": {
    "hash": "8df12303a5084d795bcef355ea103bbaab8787933417cf27c2f95a588cdf8ee7"
   }
  }
 },
 "nbformat": 4,
 "nbformat_minor": 2
}
