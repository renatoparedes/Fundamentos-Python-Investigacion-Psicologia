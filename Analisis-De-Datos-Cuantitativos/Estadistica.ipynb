{
 "cells": [
  {
   "cell_type": "markdown",
   "metadata": {
    "slideshow": {
     "slide_type": "slide"
    }
   },
   "source": [
    "# Estadística descriptiva e inferencial con Pingouin y Statsmodels\n",
    "\n",
    "Este tutorial es una adaptación al español de los materiales del curso [Quantitative Neuroscience](http://www.compneurosci.com/NSCI801.html) desarrollado por Gunnar Blohm y Joe Nashed en la [Universidad de Queens](https://www.queensu.ca/). \n",
    "\n",
    "También incluye fragmentos de los tutoriales [Python Statistics Fundamentals: How to Describe Your Data](https://realpython.com/python-statistics/#summary-of-descriptive-statistics) y [NumPy, SciPy, and Pandas: Correlation With Python](https://realpython.com/numpy-scipy-pandas-correlation-python/#linear-correlation)\n",
    "desarrollados por Mirko Stojiljković en el portal Real Python."
   ]
  },
  {
   "cell_type": "markdown",
   "metadata": {},
   "source": [
    "Para este tutorial es necesario instalar el paquete de estadística `Pingouin`:"
   ]
  },
  {
   "cell_type": "code",
   "execution_count": null,
   "metadata": {},
   "outputs": [],
   "source": [
    "#!pip install pingouin"
   ]
  },
  {
   "cell_type": "markdown",
   "metadata": {
    "slideshow": {
     "slide_type": "subslide"
    }
   },
   "source": [
    "## Estadística descriptiva\n",
    "\n",
    "Todas las estadísticas descriptivas son medidas de tendencia central o medidas de variabilidad, también conocidas como medidas de dispersión. \n",
    "\n",
    "Las medidas de tendencia central se centran en los promedios o valores medios de los conjuntos de datos; mientras que las medidas de variabilidad se centran en la dispersión de los datos. \n",
    "\n",
    "Estas dos medidas utilizan gráficos, tablas y discusiones generales para ayudar a las personas a comprender el significado de los datos analizados."
   ]
  },
  {
   "cell_type": "markdown",
   "metadata": {
    "slideshow": {
     "slide_type": "subslide"
    }
   },
   "source": [
    "### Resumen global de medidas estadísticas\n",
    "\n",
    "Pandas ofrece rutinas útiles para obtener rápidamente estadísticas descriptivas con una sola función o llamada a un método. \n",
    "\n",
    "Puedes usar `describe()` así:"
   ]
  },
  {
   "cell_type": "code",
   "execution_count": 1,
   "metadata": {
    "slideshow": {
     "slide_type": "subslide"
    }
   },
   "outputs": [
    {
     "data": {
      "text/html": [
       "<div>\n",
       "<style scoped>\n",
       "    .dataframe tbody tr th:only-of-type {\n",
       "        vertical-align: middle;\n",
       "    }\n",
       "\n",
       "    .dataframe tbody tr th {\n",
       "        vertical-align: top;\n",
       "    }\n",
       "\n",
       "    .dataframe thead th {\n",
       "        text-align: right;\n",
       "    }\n",
       "</style>\n",
       "<table border=\"1\" class=\"dataframe\">\n",
       "  <thead>\n",
       "    <tr style=\"text-align: right;\">\n",
       "      <th></th>\n",
       "      <th>name</th>\n",
       "      <th>gender</th>\n",
       "      <th>height</th>\n",
       "      <th>weight</th>\n",
       "      <th>eyecolor</th>\n",
       "      <th>haircolor</th>\n",
       "      <th>skincolor</th>\n",
       "      <th>homeland</th>\n",
       "      <th>born</th>\n",
       "      <th>died</th>\n",
       "      <th>jedi</th>\n",
       "      <th>species</th>\n",
       "      <th>weapon</th>\n",
       "    </tr>\n",
       "  </thead>\n",
       "  <tbody>\n",
       "    <tr>\n",
       "      <th>0</th>\n",
       "      <td>Anakin Skywalker</td>\n",
       "      <td>male</td>\n",
       "      <td>1.88</td>\n",
       "      <td>84.0</td>\n",
       "      <td>blue</td>\n",
       "      <td>blond</td>\n",
       "      <td>fair</td>\n",
       "      <td>Tatooine</td>\n",
       "      <td>41.9BBY</td>\n",
       "      <td>4ABY</td>\n",
       "      <td>yes_jedi</td>\n",
       "      <td>human</td>\n",
       "      <td>lightsaber</td>\n",
       "    </tr>\n",
       "    <tr>\n",
       "      <th>1</th>\n",
       "      <td>Padme Amidala</td>\n",
       "      <td>female</td>\n",
       "      <td>1.65</td>\n",
       "      <td>45.0</td>\n",
       "      <td>brown</td>\n",
       "      <td>brown</td>\n",
       "      <td>light</td>\n",
       "      <td>Naboo</td>\n",
       "      <td>46BBY</td>\n",
       "      <td>19BBY</td>\n",
       "      <td>no_jedi</td>\n",
       "      <td>human</td>\n",
       "      <td>unarmed</td>\n",
       "    </tr>\n",
       "    <tr>\n",
       "      <th>2</th>\n",
       "      <td>Luke Skywalker</td>\n",
       "      <td>male</td>\n",
       "      <td>1.72</td>\n",
       "      <td>77.0</td>\n",
       "      <td>blue</td>\n",
       "      <td>blond</td>\n",
       "      <td>fair</td>\n",
       "      <td>Tatooine</td>\n",
       "      <td>19BBY</td>\n",
       "      <td>unk_died</td>\n",
       "      <td>yes_jedi</td>\n",
       "      <td>human</td>\n",
       "      <td>lightsaber</td>\n",
       "    </tr>\n",
       "    <tr>\n",
       "      <th>3</th>\n",
       "      <td>Leia Organa</td>\n",
       "      <td>female</td>\n",
       "      <td>1.50</td>\n",
       "      <td>49.0</td>\n",
       "      <td>brown</td>\n",
       "      <td>brown</td>\n",
       "      <td>light</td>\n",
       "      <td>Alderaan</td>\n",
       "      <td>19BBY</td>\n",
       "      <td>unk_died</td>\n",
       "      <td>no_jedi</td>\n",
       "      <td>human</td>\n",
       "      <td>blaster</td>\n",
       "    </tr>\n",
       "    <tr>\n",
       "      <th>4</th>\n",
       "      <td>Qui-Gon Jinn</td>\n",
       "      <td>male</td>\n",
       "      <td>1.93</td>\n",
       "      <td>88.5</td>\n",
       "      <td>blue</td>\n",
       "      <td>brown</td>\n",
       "      <td>light</td>\n",
       "      <td>unk_planet</td>\n",
       "      <td>92BBY</td>\n",
       "      <td>32BBY</td>\n",
       "      <td>yes_jedi</td>\n",
       "      <td>human</td>\n",
       "      <td>lightsaber</td>\n",
       "    </tr>\n",
       "  </tbody>\n",
       "</table>\n",
       "</div>"
      ],
      "text/plain": [
       "               name  gender  height  weight eyecolor haircolor skincolor  \\\n",
       "0  Anakin Skywalker    male    1.88    84.0     blue     blond      fair   \n",
       "1     Padme Amidala  female    1.65    45.0    brown     brown     light   \n",
       "2    Luke Skywalker    male    1.72    77.0     blue     blond      fair   \n",
       "3       Leia Organa  female    1.50    49.0    brown     brown     light   \n",
       "4      Qui-Gon Jinn    male    1.93    88.5     blue     brown     light   \n",
       "\n",
       "     homeland     born      died      jedi species      weapon  \n",
       "0    Tatooine  41.9BBY      4ABY  yes_jedi   human  lightsaber  \n",
       "1       Naboo    46BBY     19BBY   no_jedi   human     unarmed  \n",
       "2    Tatooine    19BBY  unk_died  yes_jedi   human  lightsaber  \n",
       "3    Alderaan    19BBY  unk_died   no_jedi   human     blaster  \n",
       "4  unk_planet    92BBY     32BBY  yes_jedi   human  lightsaber  "
      ]
     },
     "execution_count": 1,
     "metadata": {},
     "output_type": "execute_result"
    }
   ],
   "source": [
    "import pandas as pd\n",
    "\n",
    "sw = pd.read_csv(\n",
    "    \"https://raw.githubusercontent.com/gastonstat/matrix4sl/master/data/starwars.csv\"\n",
    ")\n",
    "sw.head()"
   ]
  },
  {
   "cell_type": "code",
   "execution_count": 2,
   "metadata": {
    "slideshow": {
     "slide_type": "subslide"
    }
   },
   "outputs": [
    {
     "data": {
      "text/html": [
       "<div>\n",
       "<style scoped>\n",
       "    .dataframe tbody tr th:only-of-type {\n",
       "        vertical-align: middle;\n",
       "    }\n",
       "\n",
       "    .dataframe tbody tr th {\n",
       "        vertical-align: top;\n",
       "    }\n",
       "\n",
       "    .dataframe thead th {\n",
       "        text-align: right;\n",
       "    }\n",
       "</style>\n",
       "<table border=\"1\" class=\"dataframe\">\n",
       "  <thead>\n",
       "    <tr style=\"text-align: right;\">\n",
       "      <th></th>\n",
       "      <th>height</th>\n",
       "      <th>weight</th>\n",
       "    </tr>\n",
       "  </thead>\n",
       "  <tbody>\n",
       "    <tr>\n",
       "      <th>count</th>\n",
       "      <td>20.000000</td>\n",
       "      <td>19.000000</td>\n",
       "    </tr>\n",
       "    <tr>\n",
       "      <th>mean</th>\n",
       "      <td>1.789000</td>\n",
       "      <td>74.868421</td>\n",
       "    </tr>\n",
       "    <tr>\n",
       "      <th>std</th>\n",
       "      <td>0.632405</td>\n",
       "      <td>30.112678</td>\n",
       "    </tr>\n",
       "    <tr>\n",
       "      <th>min</th>\n",
       "      <td>0.660000</td>\n",
       "      <td>17.000000</td>\n",
       "    </tr>\n",
       "    <tr>\n",
       "      <th>25%</th>\n",
       "      <td>1.665000</td>\n",
       "      <td>62.500000</td>\n",
       "    </tr>\n",
       "    <tr>\n",
       "      <th>50%</th>\n",
       "      <td>1.790000</td>\n",
       "      <td>78.000000</td>\n",
       "    </tr>\n",
       "    <tr>\n",
       "      <th>75%</th>\n",
       "      <td>1.892500</td>\n",
       "      <td>82.000000</td>\n",
       "    </tr>\n",
       "    <tr>\n",
       "      <th>max</th>\n",
       "      <td>3.900000</td>\n",
       "      <td>159.000000</td>\n",
       "    </tr>\n",
       "  </tbody>\n",
       "</table>\n",
       "</div>"
      ],
      "text/plain": [
       "          height      weight\n",
       "count  20.000000   19.000000\n",
       "mean    1.789000   74.868421\n",
       "std     0.632405   30.112678\n",
       "min     0.660000   17.000000\n",
       "25%     1.665000   62.500000\n",
       "50%     1.790000   78.000000\n",
       "75%     1.892500   82.000000\n",
       "max     3.900000  159.000000"
      ]
     },
     "execution_count": 2,
     "metadata": {},
     "output_type": "execute_result"
    }
   ],
   "source": [
    "sw.describe()"
   ]
  },
  {
   "cell_type": "markdown",
   "metadata": {
    "slideshow": {
     "slide_type": "fragment"
    }
   },
   "source": [
    "Este método devuelve un nuevo DataFrame que contiene lo siguiente:\n",
    "\n",
    "- count: la cantidad de elementos en su conjunto de datos\n",
    "- mean: la media de su conjunto de datos\n",
    "- std: la desviación estándar de su conjunto de datos\n",
    "- min y max: los valores mínimo y máximo de su conjunto de datos\n",
    "- 25%, 50% y 75%: los cuartiles de su conjunto de datos\n",
    "\n",
    "Si deseas que el objeto Serie resultante contenga otros percentiles, debes especificar el valor de los percentiles de los parámetros opcionales."
   ]
  },
  {
   "cell_type": "markdown",
   "metadata": {
    "slideshow": {
     "slide_type": "subslide"
    }
   },
   "source": [
    "Puedes calcular cada resultado por separado llamando a los métodos específicos:"
   ]
  },
  {
   "cell_type": "code",
   "execution_count": 9,
   "metadata": {
    "slideshow": {
     "slide_type": "fragment"
    }
   },
   "outputs": [
    {
     "data": {
      "text/plain": [
       "name         20\n",
       "gender       20\n",
       "height       20\n",
       "weight       19\n",
       "eyecolor     18\n",
       "haircolor    18\n",
       "skincolor    17\n",
       "homeland     20\n",
       "born         20\n",
       "died         20\n",
       "jedi         20\n",
       "species      20\n",
       "weapon       20\n",
       "dtype: int64"
      ]
     },
     "execution_count": 9,
     "metadata": {},
     "output_type": "execute_result"
    }
   ],
   "source": [
    "sw.count()"
   ]
  },
  {
   "cell_type": "code",
   "execution_count": 5,
   "metadata": {
    "slideshow": {
     "slide_type": "subslide"
    }
   },
   "outputs": [
    {
     "data": {
      "text/plain": [
       "height     1.789000\n",
       "weight    74.868421\n",
       "dtype: float64"
      ]
     },
     "execution_count": 5,
     "metadata": {},
     "output_type": "execute_result"
    }
   ],
   "source": [
    "sw.mean(numeric_only=True)"
   ]
  },
  {
   "cell_type": "code",
   "execution_count": 6,
   "metadata": {
    "slideshow": {
     "slide_type": "fragment"
    }
   },
   "outputs": [
    {
     "data": {
      "text/plain": [
       "height     0.632405\n",
       "weight    30.112678\n",
       "dtype: float64"
      ]
     },
     "execution_count": 6,
     "metadata": {},
     "output_type": "execute_result"
    }
   ],
   "source": [
    "sw.std(numeric_only=True)"
   ]
  },
  {
   "cell_type": "code",
   "execution_count": 7,
   "metadata": {
    "slideshow": {
     "slide_type": "fragment"
    }
   },
   "outputs": [
    {
     "data": {
      "text/plain": [
       "height     0.66\n",
       "weight    17.00\n",
       "dtype: float64"
      ]
     },
     "execution_count": 7,
     "metadata": {},
     "output_type": "execute_result"
    }
   ],
   "source": [
    "sw.min(numeric_only=True)"
   ]
  },
  {
   "cell_type": "code",
   "execution_count": 8,
   "metadata": {
    "slideshow": {
     "slide_type": "subslide"
    }
   },
   "outputs": [
    {
     "data": {
      "text/plain": [
       "height      3.9\n",
       "weight    159.0\n",
       "dtype: float64"
      ]
     },
     "execution_count": 8,
     "metadata": {},
     "output_type": "execute_result"
    }
   ],
   "source": [
    "sw.max(numeric_only=True)"
   ]
  },
  {
   "cell_type": "code",
   "execution_count": 18,
   "metadata": {
    "slideshow": {
     "slide_type": "fragment"
    }
   },
   "outputs": [
    {
     "data": {
      "text/plain": [
       "height     1.665\n",
       "weight    62.500\n",
       "Name: 0.25, dtype: float64"
      ]
     },
     "execution_count": 18,
     "metadata": {},
     "output_type": "execute_result"
    }
   ],
   "source": [
    "sw.quantile(0.25, numeric_only=True)"
   ]
  },
  {
   "cell_type": "code",
   "execution_count": 19,
   "metadata": {
    "slideshow": {
     "slide_type": "fragment"
    }
   },
   "outputs": [
    {
     "data": {
      "text/plain": [
       "height     1.8925\n",
       "weight    82.0000\n",
       "Name: 0.75, dtype: float64"
      ]
     },
     "execution_count": 19,
     "metadata": {},
     "output_type": "execute_result"
    }
   ],
   "source": [
    "sw.quantile(0.75, numeric_only=True)"
   ]
  },
  {
   "cell_type": "markdown",
   "metadata": {
    "slideshow": {
     "slide_type": "slide"
    }
   },
   "source": [
    "### Forma de la distribución\n",
    "\n",
    "La asimetría es un parámetro para medir la simetría de un conjunto de datos y la curtosis para medir qué tan pesadas son sus colas en comparación con una distribución normal."
   ]
  },
  {
   "cell_type": "markdown",
   "metadata": {
    "slideshow": {
     "slide_type": "subslide"
    }
   },
   "source": [
    "Veámoslo en nuestro ejemplo:"
   ]
  },
  {
   "cell_type": "code",
   "execution_count": 23,
   "metadata": {
    "slideshow": {
     "slide_type": "fragment"
    }
   },
   "outputs": [
    {
     "data": {
      "image/png": "[encoded data removed]",
      "text/plain": [
       "<Figure size 432x288 with 1 Axes>"
      ]
     },
     "metadata": {
      "needs_background": "light"
     },
     "output_type": "display_data"
    }
   ],
   "source": [
    "import seaborn as sns\n",
    "import matplotlib.pyplot as plt\n",
    "\n",
    "sns.histplot(x=\"weight\", data=sw)\n",
    "plt.show()"
   ]
  },
  {
   "cell_type": "code",
   "execution_count": 24,
   "metadata": {
    "slideshow": {
     "slide_type": "fragment"
    }
   },
   "outputs": [
    {
     "name": "stdout",
     "output_type": "stream",
     "text": [
      "skew: 0.7274902112518916\n",
      "kurtosis: 2.871429772733397\n"
     ]
    }
   ],
   "source": [
    "print(\"skew:\", sw[\"weight\"].skew())\n",
    "print(\"kurtosis:\", sw[\"weight\"].kurtosis())"
   ]
  },
  {
   "cell_type": "code",
   "execution_count": 26,
   "metadata": {
    "slideshow": {
     "slide_type": "subslide"
    }
   },
   "outputs": [
    {
     "data": {
      "image/png": "[encoded data removed]",
      "text/plain": [
       "<Figure size 432x288 with 1 Axes>"
      ]
     },
     "metadata": {
      "needs_background": "light"
     },
     "output_type": "display_data"
    }
   ],
   "source": [
    "sns.histplot(x=\"height\", data=sw)\n",
    "plt.show()"
   ]
  },
  {
   "cell_type": "code",
   "execution_count": 28,
   "metadata": {
    "slideshow": {
     "slide_type": "fragment"
    }
   },
   "outputs": [
    {
     "name": "stdout",
     "output_type": "stream",
     "text": [
      "skew: 1.6310448597414178\n",
      "kurtosis: 6.5905839871644964\n"
     ]
    }
   ],
   "source": [
    "print(\"skew:\", sw[\"height\"].skew())\n",
    "print(\"kurtosis:\", sw[\"height\"].kurtosis())"
   ]
  },
  {
   "cell_type": "markdown",
   "metadata": {
    "slideshow": {
     "slide_type": "subslide"
    }
   },
   "source": [
    "También podemos armar un reporte integrado:"
   ]
  },
  {
   "cell_type": "code",
   "execution_count": 58,
   "metadata": {
    "slideshow": {
     "slide_type": "fragment"
    }
   },
   "outputs": [
    {
     "data": {
      "text/html": [
       "<div>\n",
       "<style scoped>\n",
       "    .dataframe tbody tr th:only-of-type {\n",
       "        vertical-align: middle;\n",
       "    }\n",
       "\n",
       "    .dataframe tbody tr th {\n",
       "        vertical-align: top;\n",
       "    }\n",
       "\n",
       "    .dataframe thead th {\n",
       "        text-align: right;\n",
       "    }\n",
       "</style>\n",
       "<table border=\"1\" class=\"dataframe\">\n",
       "  <thead>\n",
       "    <tr style=\"text-align: right;\">\n",
       "      <th></th>\n",
       "      <th>height</th>\n",
       "      <th>weight</th>\n",
       "    </tr>\n",
       "  </thead>\n",
       "  <tbody>\n",
       "    <tr>\n",
       "      <th>count</th>\n",
       "      <td>20.000000</td>\n",
       "      <td>19.000000</td>\n",
       "    </tr>\n",
       "    <tr>\n",
       "      <th>mean</th>\n",
       "      <td>1.789000</td>\n",
       "      <td>74.868421</td>\n",
       "    </tr>\n",
       "    <tr>\n",
       "      <th>std</th>\n",
       "      <td>0.632405</td>\n",
       "      <td>30.112678</td>\n",
       "    </tr>\n",
       "    <tr>\n",
       "      <th>min</th>\n",
       "      <td>0.660000</td>\n",
       "      <td>17.000000</td>\n",
       "    </tr>\n",
       "    <tr>\n",
       "      <th>25%</th>\n",
       "      <td>1.665000</td>\n",
       "      <td>62.500000</td>\n",
       "    </tr>\n",
       "    <tr>\n",
       "      <th>50%</th>\n",
       "      <td>1.790000</td>\n",
       "      <td>78.000000</td>\n",
       "    </tr>\n",
       "    <tr>\n",
       "      <th>75%</th>\n",
       "      <td>1.892500</td>\n",
       "      <td>82.000000</td>\n",
       "    </tr>\n",
       "    <tr>\n",
       "      <th>max</th>\n",
       "      <td>3.900000</td>\n",
       "      <td>159.000000</td>\n",
       "    </tr>\n",
       "    <tr>\n",
       "      <th>var</th>\n",
       "      <td>0.399936</td>\n",
       "      <td>906.773392</td>\n",
       "    </tr>\n",
       "    <tr>\n",
       "      <th>IQR</th>\n",
       "      <td>0.227500</td>\n",
       "      <td>19.500000</td>\n",
       "    </tr>\n",
       "    <tr>\n",
       "      <th>skew</th>\n",
       "      <td>1.631045</td>\n",
       "      <td>0.727490</td>\n",
       "    </tr>\n",
       "    <tr>\n",
       "      <th>kurtosis</th>\n",
       "      <td>6.590584</td>\n",
       "      <td>2.871430</td>\n",
       "    </tr>\n",
       "  </tbody>\n",
       "</table>\n",
       "</div>"
      ],
      "text/plain": [
       "             height      weight\n",
       "count     20.000000   19.000000\n",
       "mean       1.789000   74.868421\n",
       "std        0.632405   30.112678\n",
       "min        0.660000   17.000000\n",
       "25%        1.665000   62.500000\n",
       "50%        1.790000   78.000000\n",
       "75%        1.892500   82.000000\n",
       "max        3.900000  159.000000\n",
       "var        0.399936  906.773392\n",
       "IQR        0.227500   19.500000\n",
       "skew       1.631045    0.727490\n",
       "kurtosis   6.590584    2.871430"
      ]
     },
     "execution_count": 58,
     "metadata": {},
     "output_type": "execute_result"
    }
   ],
   "source": [
    "skew = sw.skew(numeric_only=True)\n",
    "skew.name = \"skew\"\n",
    "\n",
    "kurt = sw.kurtosis(numeric_only=True)\n",
    "kurt.name = \"kurtosis\"\n",
    "\n",
    "iqr = sw.quantile(0.75) - sw.quantile(0.25)\n",
    "iqr.name = \"IQR\"\n",
    "\n",
    "var = sw.std(numeric_only=True) ** 2\n",
    "var.name = \"var\"\n",
    "\n",
    "extra = pd.DataFrame([var, iqr, skew, kurt])\n",
    "\n",
    "pd.concat([sw.describe(), extra])"
   ]
  },
  {
   "cell_type": "markdown",
   "metadata": {
    "slideshow": {
     "slide_type": "slide"
    }
   },
   "source": [
    "## Análisis de correlación \n",
    "\n",
    "La correlación está estrechamente relacionada con otras cantidades estadísticas como la media, la desviación estándar, la varianza y la covarianza. \n",
    "\n",
    "Hay varias estadísticas que puedes utilizar para cuantificar la correlación. En esta sección, aprenderás acerca de tres coeficientes de correlación:\n",
    "\n",
    "- R de Pearson\n",
    "- Rho de Spearman\n",
    "- Tau de Kendall\n",
    "\n",
    "El coeficiente de Pearson mide la correlación lineal, mientras que los coeficientes de Spearman y Kendall comparan los rankings de datos. Hay métodos de Pandas que pueden utilizar para calcular estos coeficientes. También puedes utilizar Seaborn para ilustrar convenientemente los resultados."
   ]
  },
  {
   "cell_type": "markdown",
   "metadata": {
    "slideshow": {
     "slide_type": "subslide"
    }
   },
   "source": [
    "En Pandas puedes llamar al método `.corr()` presente en los objetos de tipo Series o DataFrame. \n",
    "\n",
    ">**Nota:** Cuando trabajes con instancias de DataFrame, debes tener en cuenta que las filas son observaciones y las columnas son características o variables."
   ]
  },
  {
   "cell_type": "code",
   "execution_count": 59,
   "metadata": {
    "slideshow": {
     "slide_type": "subslide"
    }
   },
   "outputs": [
    {
     "data": {
      "text/html": [
       "<div>\n",
       "<style scoped>\n",
       "    .dataframe tbody tr th:only-of-type {\n",
       "        vertical-align: middle;\n",
       "    }\n",
       "\n",
       "    .dataframe tbody tr th {\n",
       "        vertical-align: top;\n",
       "    }\n",
       "\n",
       "    .dataframe thead th {\n",
       "        text-align: right;\n",
       "    }\n",
       "</style>\n",
       "<table border=\"1\" class=\"dataframe\">\n",
       "  <thead>\n",
       "    <tr style=\"text-align: right;\">\n",
       "      <th></th>\n",
       "      <th>height</th>\n",
       "      <th>weight</th>\n",
       "    </tr>\n",
       "  </thead>\n",
       "  <tbody>\n",
       "    <tr>\n",
       "      <th>height</th>\n",
       "      <td>1.000000</td>\n",
       "      <td>0.853301</td>\n",
       "    </tr>\n",
       "    <tr>\n",
       "      <th>weight</th>\n",
       "      <td>0.853301</td>\n",
       "      <td>1.000000</td>\n",
       "    </tr>\n",
       "  </tbody>\n",
       "</table>\n",
       "</div>"
      ],
      "text/plain": [
       "          height    weight\n",
       "height  1.000000  0.853301\n",
       "weight  0.853301  1.000000"
      ]
     },
     "execution_count": 59,
     "metadata": {},
     "output_type": "execute_result"
    }
   ],
   "source": [
    "corr_matrix = sw.corr()\n",
    "corr_matrix"
   ]
  },
  {
   "cell_type": "markdown",
   "metadata": {
    "slideshow": {
     "slide_type": "fragment"
    }
   },
   "source": [
    "La matriz de correlación resultante es una nueva instancia de DataFrame y contiene los coeficientes de correlación para las columnas `sw['height']` y `sw['weight']`. Estos resultados etiquetados suelen ser muy convenientes para trabajar porque puedes acceder a ellos con sus etiquetas o sus índices de posición:"
   ]
  },
  {
   "cell_type": "code",
   "execution_count": 63,
   "metadata": {
    "slideshow": {
     "slide_type": "subslide"
    }
   },
   "outputs": [
    {
     "name": "stdout",
     "output_type": "stream",
     "text": [
      "0.8533009433159517\n",
      "0.8533009433159517\n"
     ]
    }
   ],
   "source": [
    "print(corr_matrix.at[\"height\", \"weight\"])\n",
    "print(corr_matrix.iat[0, 1])"
   ]
  },
  {
   "cell_type": "markdown",
   "metadata": {
    "slideshow": {
     "slide_type": "fragment"
    }
   },
   "source": [
    "Este ejemplo muestra dos formas de acceder a los valores:\n",
    "\n",
    "- Utiliza `.at[]` para acceder a un solo valor por sus etiquetas de fila y columna.\n",
    "- Utiliza `.iat[]` para acceder a un valor por sus posiciones de su fila y columna."
   ]
  },
  {
   "cell_type": "markdown",
   "metadata": {
    "slideshow": {
     "slide_type": "subslide"
    }
   },
   "source": [
    "O de manera más sencilla:"
   ]
  },
  {
   "cell_type": "code",
   "execution_count": 76,
   "metadata": {
    "slideshow": {
     "slide_type": "fragment"
    }
   },
   "outputs": [
    {
     "name": "stdout",
     "output_type": "stream",
     "text": [
      "height    1.000000\n",
      "weight    0.815491\n",
      "Name: height, dtype: float64\n"
     ]
    }
   ],
   "source": [
    "print(corr_matrix[\"height\"])"
   ]
  },
  {
   "cell_type": "code",
   "execution_count": 77,
   "metadata": {
    "slideshow": {
     "slide_type": "fragment"
    }
   },
   "outputs": [
    {
     "name": "stdout",
     "output_type": "stream",
     "text": [
      "height    0.815491\n",
      "weight    1.000000\n",
      "Name: weight, dtype: float64\n"
     ]
    }
   ],
   "source": [
    "print(corr_matrix[\"weight\"])"
   ]
  },
  {
   "cell_type": "markdown",
   "metadata": {
    "slideshow": {
     "slide_type": "subslide"
    }
   },
   "source": [
    "Puedes usar `.corr()` para calcular los tres coeficientes de correlación:\n",
    "\n",
    "- 'pearson'\n",
    "- 'spearman'\n",
    "- 'kendall'"
   ]
  },
  {
   "cell_type": "code",
   "execution_count": 64,
   "metadata": {
    "slideshow": {
     "slide_type": "subslide"
    }
   },
   "outputs": [
    {
     "data": {
      "text/html": [
       "<div>\n",
       "<style scoped>\n",
       "    .dataframe tbody tr th:only-of-type {\n",
       "        vertical-align: middle;\n",
       "    }\n",
       "\n",
       "    .dataframe tbody tr th {\n",
       "        vertical-align: top;\n",
       "    }\n",
       "\n",
       "    .dataframe thead th {\n",
       "        text-align: right;\n",
       "    }\n",
       "</style>\n",
       "<table border=\"1\" class=\"dataframe\">\n",
       "  <thead>\n",
       "    <tr style=\"text-align: right;\">\n",
       "      <th></th>\n",
       "      <th>height</th>\n",
       "      <th>weight</th>\n",
       "    </tr>\n",
       "  </thead>\n",
       "  <tbody>\n",
       "    <tr>\n",
       "      <th>height</th>\n",
       "      <td>1.000000</td>\n",
       "      <td>0.853301</td>\n",
       "    </tr>\n",
       "    <tr>\n",
       "      <th>weight</th>\n",
       "      <td>0.853301</td>\n",
       "      <td>1.000000</td>\n",
       "    </tr>\n",
       "  </tbody>\n",
       "</table>\n",
       "</div>"
      ],
      "text/plain": [
       "          height    weight\n",
       "height  1.000000  0.853301\n",
       "weight  0.853301  1.000000"
      ]
     },
     "execution_count": 64,
     "metadata": {},
     "output_type": "execute_result"
    }
   ],
   "source": [
    "pearson_corr_matrix = sw.corr(method=\"pearson\")\n",
    "pearson_corr_matrix"
   ]
  },
  {
   "cell_type": "code",
   "execution_count": 65,
   "metadata": {
    "slideshow": {
     "slide_type": "fragment"
    }
   },
   "outputs": [
    {
     "data": {
      "text/html": [
       "<div>\n",
       "<style scoped>\n",
       "    .dataframe tbody tr th:only-of-type {\n",
       "        vertical-align: middle;\n",
       "    }\n",
       "\n",
       "    .dataframe tbody tr th {\n",
       "        vertical-align: top;\n",
       "    }\n",
       "\n",
       "    .dataframe thead th {\n",
       "        text-align: right;\n",
       "    }\n",
       "</style>\n",
       "<table border=\"1\" class=\"dataframe\">\n",
       "  <thead>\n",
       "    <tr style=\"text-align: right;\">\n",
       "      <th></th>\n",
       "      <th>height</th>\n",
       "      <th>weight</th>\n",
       "    </tr>\n",
       "  </thead>\n",
       "  <tbody>\n",
       "    <tr>\n",
       "      <th>height</th>\n",
       "      <td>1.000000</td>\n",
       "      <td>0.936236</td>\n",
       "    </tr>\n",
       "    <tr>\n",
       "      <th>weight</th>\n",
       "      <td>0.936236</td>\n",
       "      <td>1.000000</td>\n",
       "    </tr>\n",
       "  </tbody>\n",
       "</table>\n",
       "</div>"
      ],
      "text/plain": [
       "          height    weight\n",
       "height  1.000000  0.936236\n",
       "weight  0.936236  1.000000"
      ]
     },
     "execution_count": 65,
     "metadata": {},
     "output_type": "execute_result"
    }
   ],
   "source": [
    "spearman_corr_matrix = sw.corr(method=\"spearman\")\n",
    "spearman_corr_matrix"
   ]
  },
  {
   "cell_type": "code",
   "execution_count": 66,
   "metadata": {
    "slideshow": {
     "slide_type": "fragment"
    }
   },
   "outputs": [
    {
     "data": {
      "text/html": [
       "<div>\n",
       "<style scoped>\n",
       "    .dataframe tbody tr th:only-of-type {\n",
       "        vertical-align: middle;\n",
       "    }\n",
       "\n",
       "    .dataframe tbody tr th {\n",
       "        vertical-align: top;\n",
       "    }\n",
       "\n",
       "    .dataframe thead th {\n",
       "        text-align: right;\n",
       "    }\n",
       "</style>\n",
       "<table border=\"1\" class=\"dataframe\">\n",
       "  <thead>\n",
       "    <tr style=\"text-align: right;\">\n",
       "      <th></th>\n",
       "      <th>height</th>\n",
       "      <th>weight</th>\n",
       "    </tr>\n",
       "  </thead>\n",
       "  <tbody>\n",
       "    <tr>\n",
       "      <th>height</th>\n",
       "      <td>1.000000</td>\n",
       "      <td>0.815491</td>\n",
       "    </tr>\n",
       "    <tr>\n",
       "      <th>weight</th>\n",
       "      <td>0.815491</td>\n",
       "      <td>1.000000</td>\n",
       "    </tr>\n",
       "  </tbody>\n",
       "</table>\n",
       "</div>"
      ],
      "text/plain": [
       "          height    weight\n",
       "height  1.000000  0.815491\n",
       "weight  0.815491  1.000000"
      ]
     },
     "execution_count": 66,
     "metadata": {},
     "output_type": "execute_result"
    }
   ],
   "source": [
    "kendall_corr_matrix = sw.corr(method=\"kendall\")\n",
    "kendall_corr_matrix"
   ]
  },
  {
   "cell_type": "markdown",
   "metadata": {
    "slideshow": {
     "slide_type": "subslide"
    }
   },
   "source": [
    "\n",
    "\n",
    "Puedes aplicar `.corr()` de la misma manera con los objetos DataFrame que contienen tres o más columnas:"
   ]
  },
  {
   "cell_type": "code",
   "execution_count": 67,
   "metadata": {
    "slideshow": {
     "slide_type": "fragment"
    }
   },
   "outputs": [
    {
     "data": {
      "text/html": [
       "<div>\n",
       "<style scoped>\n",
       "    .dataframe tbody tr th:only-of-type {\n",
       "        vertical-align: middle;\n",
       "    }\n",
       "\n",
       "    .dataframe tbody tr th {\n",
       "        vertical-align: top;\n",
       "    }\n",
       "\n",
       "    .dataframe thead th {\n",
       "        text-align: right;\n",
       "    }\n",
       "</style>\n",
       "<table border=\"1\" class=\"dataframe\">\n",
       "  <thead>\n",
       "    <tr style=\"text-align: right;\">\n",
       "      <th></th>\n",
       "      <th>sex</th>\n",
       "      <th>weight</th>\n",
       "      <th>height</th>\n",
       "      <th>reportedWeight</th>\n",
       "      <th>reportedHeight</th>\n",
       "    </tr>\n",
       "  </thead>\n",
       "  <tbody>\n",
       "    <tr>\n",
       "      <th>1</th>\n",
       "      <td>M</td>\n",
       "      <td>77</td>\n",
       "      <td>182</td>\n",
       "      <td>77.0</td>\n",
       "      <td>180.0</td>\n",
       "    </tr>\n",
       "    <tr>\n",
       "      <th>2</th>\n",
       "      <td>F</td>\n",
       "      <td>58</td>\n",
       "      <td>161</td>\n",
       "      <td>51.0</td>\n",
       "      <td>159.0</td>\n",
       "    </tr>\n",
       "    <tr>\n",
       "      <th>3</th>\n",
       "      <td>F</td>\n",
       "      <td>53</td>\n",
       "      <td>161</td>\n",
       "      <td>54.0</td>\n",
       "      <td>158.0</td>\n",
       "    </tr>\n",
       "    <tr>\n",
       "      <th>4</th>\n",
       "      <td>M</td>\n",
       "      <td>68</td>\n",
       "      <td>177</td>\n",
       "      <td>70.0</td>\n",
       "      <td>175.0</td>\n",
       "    </tr>\n",
       "    <tr>\n",
       "      <th>5</th>\n",
       "      <td>F</td>\n",
       "      <td>59</td>\n",
       "      <td>157</td>\n",
       "      <td>59.0</td>\n",
       "      <td>155.0</td>\n",
       "    </tr>\n",
       "  </tbody>\n",
       "</table>\n",
       "</div>"
      ],
      "text/plain": [
       "  sex  weight  height  reportedWeight  reportedHeight\n",
       "1   M      77     182            77.0           180.0\n",
       "2   F      58     161            51.0           159.0\n",
       "3   F      53     161            54.0           158.0\n",
       "4   M      68     177            70.0           175.0\n",
       "5   F      59     157            59.0           155.0"
      ]
     },
     "execution_count": 67,
     "metadata": {},
     "output_type": "execute_result"
    }
   ],
   "source": [
    "davis_data = pd.read_csv(\n",
    "    \"https://socialsciences.mcmaster.ca/jfox/Books/Applied-Regression-3E/datasets/Davis.txt\",\n",
    "    sep=r\"\\s{1,}\",\n",
    "    engine=\"python\",\n",
    ")\n",
    "davis_data.head()"
   ]
  },
  {
   "cell_type": "code",
   "execution_count": 68,
   "metadata": {
    "slideshow": {
     "slide_type": "fragment"
    }
   },
   "outputs": [
    {
     "data": {
      "text/html": [
       "<div>\n",
       "<style scoped>\n",
       "    .dataframe tbody tr th:only-of-type {\n",
       "        vertical-align: middle;\n",
       "    }\n",
       "\n",
       "    .dataframe tbody tr th {\n",
       "        vertical-align: top;\n",
       "    }\n",
       "\n",
       "    .dataframe thead th {\n",
       "        text-align: right;\n",
       "    }\n",
       "</style>\n",
       "<table border=\"1\" class=\"dataframe\">\n",
       "  <thead>\n",
       "    <tr style=\"text-align: right;\">\n",
       "      <th></th>\n",
       "      <th>weight</th>\n",
       "      <th>height</th>\n",
       "      <th>reportedWeight</th>\n",
       "      <th>reportedHeight</th>\n",
       "    </tr>\n",
       "  </thead>\n",
       "  <tbody>\n",
       "    <tr>\n",
       "      <th>weight</th>\n",
       "      <td>1.000000</td>\n",
       "      <td>0.189650</td>\n",
       "      <td>0.835841</td>\n",
       "      <td>0.636326</td>\n",
       "    </tr>\n",
       "    <tr>\n",
       "      <th>height</th>\n",
       "      <td>0.189650</td>\n",
       "      <td>1.000000</td>\n",
       "      <td>0.603269</td>\n",
       "      <td>0.744637</td>\n",
       "    </tr>\n",
       "    <tr>\n",
       "      <th>reportedWeight</th>\n",
       "      <td>0.835841</td>\n",
       "      <td>0.603269</td>\n",
       "      <td>1.000000</td>\n",
       "      <td>0.761860</td>\n",
       "    </tr>\n",
       "    <tr>\n",
       "      <th>reportedHeight</th>\n",
       "      <td>0.636326</td>\n",
       "      <td>0.744637</td>\n",
       "      <td>0.761860</td>\n",
       "      <td>1.000000</td>\n",
       "    </tr>\n",
       "  </tbody>\n",
       "</table>\n",
       "</div>"
      ],
      "text/plain": [
       "                  weight    height  reportedWeight  reportedHeight\n",
       "weight          1.000000  0.189650        0.835841        0.636326\n",
       "height          0.189650  1.000000        0.603269        0.744637\n",
       "reportedWeight  0.835841  0.603269        1.000000        0.761860\n",
       "reportedHeight  0.636326  0.744637        0.761860        1.000000"
      ]
     },
     "execution_count": 68,
     "metadata": {},
     "output_type": "execute_result"
    }
   ],
   "source": [
    "davis_data.corr()"
   ]
  },
  {
   "cell_type": "markdown",
   "metadata": {
    "slideshow": {
     "slide_type": "slide"
    }
   },
   "source": [
    "### Mapas de calor de matrices de correlación\n",
    "\n",
    "¡La matriz de correlación puede volverse realmente grande y confusa cuando tiene muchas funciones! Afortunadamente, puedes presentarlo visualmente como un mapa de calor donde cada campo tiene el color que corresponde a su valor."
   ]
  },
  {
   "cell_type": "markdown",
   "metadata": {
    "slideshow": {
     "slide_type": "subslide"
    }
   },
   "source": [
    "Para realizarlo, nos apoyaremos en la función `heatmap` presente en el paquete seaborn:"
   ]
  },
  {
   "cell_type": "code",
   "execution_count": 69,
   "metadata": {
    "slideshow": {
     "slide_type": "fragment"
    }
   },
   "outputs": [
    {
     "data": {
      "text/plain": [
       "<AxesSubplot:>"
      ]
     },
     "execution_count": 69,
     "metadata": {},
     "output_type": "execute_result"
    },
    {
     "data": {
      "image/png": "[encoded data removed]",
      "text/plain": [
       "<Figure size 432x288 with 2 Axes>"
      ]
     },
     "metadata": {
      "needs_background": "light"
     },
     "output_type": "display_data"
    }
   ],
   "source": [
    "import seaborn as sns\n",
    "\n",
    "sns.heatmap(davis_data.corr())"
   ]
  },
  {
   "cell_type": "markdown",
   "metadata": {},
   "source": [
    "## Estadística Inferencial"
   ]
  },
  {
   "cell_type": "markdown",
   "metadata": {},
   "source": [
    "### Comparación de grupos\n",
    "\n",
    "Cuando queremos comparar grupos o condiciones experimentales recurrimos a métodos de comparación de distribuciones. Estos pueden estar basados en las medias (pruebas paramétricas) o en el orden de los datos (pruebas no paramétricas)."
   ]
  },
  {
   "cell_type": "markdown",
   "metadata": {},
   "source": [
    "### Análisis de normalidad\n",
    "\n",
    "Un procedimiento común para elegir entre ambas consiste en verificar la normalidad de las distribuciones a analizar. \n",
    "\n",
    "Para ello existen métodos gráficos e inferenciales."
   ]
  },
  {
   "cell_type": "markdown",
   "metadata": {},
   "source": [
    "En Python podemos generar la gráfica de probabilidad normal con la función `qqplot` disponible en el paquete `pingouin`:"
   ]
  },
  {
   "cell_type": "code",
   "execution_count": 1,
   "metadata": {},
   "outputs": [
    {
     "data": {
      "image/png": "[encoded data removed]",
      "text/plain": [
       "<Figure size 640x480 with 1 Axes>"
      ]
     },
     "metadata": {},
     "output_type": "display_data"
    },
    {
     "name": "stderr",
     "output_type": "stream",
     "text": [
      "/home/renato/.virtualenvs/python/lib/python3.10/site-packages/outdated/utils.py:14: OutdatedPackageWarning: The package pingouin is out of date. Your version is 0.5.3, the latest is 0.5.4.\n",
      "Set the environment variable OUTDATED_IGNORE=1 to disable these warnings.\n",
      "  return warn(\n"
     ]
    }
   ],
   "source": [
    "import pingouin as pg\n",
    "import pandas as pd\n",
    "\n",
    "df_subsdis = pd.read_csv(\n",
    "    \"https://raw.githubusercontent.com/renatoparedes/IntroPythonInvestigacionPsicologia/master/AnalisisdeDatosCuantitativos/depression-data-subsdis.csv\"\n",
    ")\n",
    "pg.qqplot(df_subsdis[\"schizophrenia\"], dist=\"norm\");"
   ]
  },
  {
   "cell_type": "markdown",
   "metadata": {},
   "source": [
    "En este gráfico se aprecia que la línea azul que representa a los datos presenta curvaturas. Esto sugiere una desviación respecto a la distribución normal. "
   ]
  },
  {
   "cell_type": "markdown",
   "metadata": {},
   "source": [
    "Las **pruebas inferenciales** específicas de normalidad también están disponibles en todos los programas estadísticos. Los dos más comunes son la prueba de Shapiro-Wilks y una modificación de la prueba de Kolmogorov-Smirnov. Cada uno **calcula el nivel de significancia para las diferencias en relación a una distribución normal**. "
   ]
  },
  {
   "cell_type": "markdown",
   "metadata": {},
   "source": [
    "En nuestro ejemplo, veamos a continuación el resultado de una prueba de Shapiro-Wilks:"
   ]
  },
  {
   "cell_type": "code",
   "execution_count": 2,
   "metadata": {},
   "outputs": [
    {
     "data": {
      "text/html": [
       "<div>\n",
       "<style scoped>\n",
       "    .dataframe tbody tr th:only-of-type {\n",
       "        vertical-align: middle;\n",
       "    }\n",
       "\n",
       "    .dataframe tbody tr th {\n",
       "        vertical-align: top;\n",
       "    }\n",
       "\n",
       "    .dataframe thead th {\n",
       "        text-align: right;\n",
       "    }\n",
       "</style>\n",
       "<table border=\"1\" class=\"dataframe\">\n",
       "  <thead>\n",
       "    <tr style=\"text-align: right;\">\n",
       "      <th></th>\n",
       "      <th>W</th>\n",
       "      <th>pval</th>\n",
       "      <th>normal</th>\n",
       "    </tr>\n",
       "  </thead>\n",
       "  <tbody>\n",
       "    <tr>\n",
       "      <th>schizophrenia</th>\n",
       "      <td>0.90627</td>\n",
       "      <td>7.514724e-11</td>\n",
       "      <td>False</td>\n",
       "    </tr>\n",
       "  </tbody>\n",
       "</table>\n",
       "</div>"
      ],
      "text/plain": [
       "                     W          pval  normal\n",
       "schizophrenia  0.90627  7.514724e-11   False"
      ]
     },
     "execution_count": 2,
     "metadata": {},
     "output_type": "execute_result"
    }
   ],
   "source": [
    "pg.normality(df_subsdis[\"schizophrenia\"], method=\"shapiro\")"
   ]
  },
  {
   "cell_type": "markdown",
   "metadata": {},
   "source": [
    "### Análisis de heterocedasticidad\n",
    "\n",
    "En el caso de las pruebas paramétricas, también suele interesarnos si las varianzas entre las distribuciones a analizar son homogéneas o no. \n",
    "\n",
    "Para este procedimiento, también podemos aplicar métodos gráficos e inferenciales."
   ]
  },
  {
   "cell_type": "markdown",
   "metadata": {},
   "source": [
    "Veámoslo en nuestro ejemplo:"
   ]
  },
  {
   "cell_type": "code",
   "execution_count": 3,
   "metadata": {},
   "outputs": [
    {
     "data": {
      "image/png": "[encoded data removed]",
      "text/plain": [
       "<Figure size 600x600 with 3 Axes>"
      ]
     },
     "metadata": {},
     "output_type": "display_data"
    }
   ],
   "source": [
    "import seaborn as sns\n",
    "\n",
    "ax = sns.jointplot(x=\"schizophrenia\", y=\"depression\", data=df_subsdis)\n",
    "ax.plot_marginals(sns.histplot, kde=True);"
   ]
  },
  {
   "cell_type": "markdown",
   "metadata": {},
   "source": [
    "Podemos apreciar que para los diferentes valores de la variable `depression` existen diferentes patrones de dispersion para la variable `schizophrenia`. "
   ]
  },
  {
   "cell_type": "markdown",
   "metadata": {},
   "source": [
    "Las **pruebas inferenciales** para la dispersión igual de varianza **evalúan la igualdad de varianzas dentro de grupos formados por variables categóricas**. \n",
    "\n",
    "La prueba más común, la prueba de **Levene**, se usa para evaluar si las varianzas de una sola variable métrica son iguales en cualquier número de grupos. "
   ]
  },
  {
   "cell_type": "markdown",
   "metadata": {},
   "source": [
    "Apliquemos la prueba de Levene en nuestro ejemplo:"
   ]
  },
  {
   "cell_type": "code",
   "execution_count": 4,
   "metadata": {},
   "outputs": [
    {
     "data": {
      "text/html": [
       "<div>\n",
       "<style scoped>\n",
       "    .dataframe tbody tr th:only-of-type {\n",
       "        vertical-align: middle;\n",
       "    }\n",
       "\n",
       "    .dataframe tbody tr th {\n",
       "        vertical-align: top;\n",
       "    }\n",
       "\n",
       "    .dataframe thead th {\n",
       "        text-align: right;\n",
       "    }\n",
       "</style>\n",
       "<table border=\"1\" class=\"dataframe\">\n",
       "  <thead>\n",
       "    <tr style=\"text-align: right;\">\n",
       "      <th></th>\n",
       "      <th>W</th>\n",
       "      <th>pval</th>\n",
       "      <th>equal_var</th>\n",
       "    </tr>\n",
       "  </thead>\n",
       "  <tbody>\n",
       "    <tr>\n",
       "      <th>levene</th>\n",
       "      <td>321.241223</td>\n",
       "      <td>7.172701e-55</td>\n",
       "      <td>False</td>\n",
       "    </tr>\n",
       "  </tbody>\n",
       "</table>\n",
       "</div>"
      ],
      "text/plain": [
       "                 W          pval  equal_var\n",
       "levene  321.241223  7.172701e-55      False"
      ]
     },
     "execution_count": 4,
     "metadata": {},
     "output_type": "execute_result"
    }
   ],
   "source": [
    "pg.homoscedasticity(df_subsdis[[\"depression\", \"schizophrenia\"]])"
   ]
  },
  {
   "cell_type": "markdown",
   "metadata": {},
   "source": [
    "### Prueba t de student\n",
    "\n",
    "El procedimiento más común para comparar distribuciones consiste en aplicar la prueba paramétrica t de student. "
   ]
  },
  {
   "cell_type": "markdown",
   "metadata": {},
   "source": [
    "En Python podemos emplear la función `ttest` disponible en el paquete `pingouin`:"
   ]
  },
  {
   "cell_type": "code",
   "execution_count": 5,
   "metadata": {},
   "outputs": [
    {
     "data": {
      "text/html": [
       "<div>\n",
       "<style scoped>\n",
       "    .dataframe tbody tr th:only-of-type {\n",
       "        vertical-align: middle;\n",
       "    }\n",
       "\n",
       "    .dataframe tbody tr th {\n",
       "        vertical-align: top;\n",
       "    }\n",
       "\n",
       "    .dataframe thead th {\n",
       "        text-align: right;\n",
       "    }\n",
       "</style>\n",
       "<table border=\"1\" class=\"dataframe\">\n",
       "  <thead>\n",
       "    <tr style=\"text-align: right;\">\n",
       "      <th></th>\n",
       "      <th>T</th>\n",
       "      <th>dof</th>\n",
       "      <th>alternative</th>\n",
       "      <th>p-val</th>\n",
       "      <th>CI95%</th>\n",
       "      <th>cohen-d</th>\n",
       "      <th>BF10</th>\n",
       "      <th>power</th>\n",
       "    </tr>\n",
       "  </thead>\n",
       "  <tbody>\n",
       "    <tr>\n",
       "      <th>T-test</th>\n",
       "      <td>77.874635</td>\n",
       "      <td>460</td>\n",
       "      <td>two-sided</td>\n",
       "      <td>4.733661e-267</td>\n",
       "      <td>[3.16, 3.32]</td>\n",
       "      <td>7.246112</td>\n",
       "      <td>3.046e+262</td>\n",
       "      <td>1.0</td>\n",
       "    </tr>\n",
       "  </tbody>\n",
       "</table>\n",
       "</div>"
      ],
      "text/plain": [
       "                T  dof alternative          p-val         CI95%   cohen-d  \\\n",
       "T-test  77.874635  460   two-sided  4.733661e-267  [3.16, 3.32]  7.246112   \n",
       "\n",
       "              BF10  power  \n",
       "T-test  3.046e+262    1.0  "
      ]
     },
     "execution_count": 5,
     "metadata": {},
     "output_type": "execute_result"
    }
   ],
   "source": [
    "pg.ttest(df_subsdis[\"depression\"], df_subsdis[\"schizophrenia\"], paired=False)"
   ]
  },
  {
   "cell_type": "markdown",
   "metadata": {},
   "source": [
    "Esta función nos permite aplicar la prueba t para muestras independientes o relacionadas manipulando el argumento `paired`. Además, podemos especificar si queremos la prueba de Welch con el argumento `correction`."
   ]
  },
  {
   "cell_type": "markdown",
   "metadata": {},
   "source": [
    "#### Alternativas no paramétricas: Mann-Whitney y Wilcoxon\n",
    "\n",
    "En caso sea necesario basar nuestro análisis en técnicas no paramétricas, podemos optar por la prueba U de Mann-Whitney (muestras independientes) o la prueba de Wilcoxon (muestras relacionadas)."
   ]
  },
  {
   "cell_type": "markdown",
   "metadata": {},
   "source": [
    "En `pingouin` encontramos funciones dedicadas para estas pruebas:"
   ]
  },
  {
   "cell_type": "code",
   "execution_count": 6,
   "metadata": {},
   "outputs": [
    {
     "data": {
      "text/html": [
       "<div>\n",
       "<style scoped>\n",
       "    .dataframe tbody tr th:only-of-type {\n",
       "        vertical-align: middle;\n",
       "    }\n",
       "\n",
       "    .dataframe tbody tr th {\n",
       "        vertical-align: top;\n",
       "    }\n",
       "\n",
       "    .dataframe thead th {\n",
       "        text-align: right;\n",
       "    }\n",
       "</style>\n",
       "<table border=\"1\" class=\"dataframe\">\n",
       "  <thead>\n",
       "    <tr style=\"text-align: right;\">\n",
       "      <th></th>\n",
       "      <th>U-val</th>\n",
       "      <th>alternative</th>\n",
       "      <th>p-val</th>\n",
       "      <th>RBC</th>\n",
       "      <th>CLES</th>\n",
       "    </tr>\n",
       "  </thead>\n",
       "  <tbody>\n",
       "    <tr>\n",
       "      <th>MWU</th>\n",
       "      <td>53361.0</td>\n",
       "      <td>two-sided</td>\n",
       "      <td>3.590233e-77</td>\n",
       "      <td>-1.0</td>\n",
       "      <td>1.0</td>\n",
       "    </tr>\n",
       "  </tbody>\n",
       "</table>\n",
       "</div>"
      ],
      "text/plain": [
       "       U-val alternative         p-val  RBC  CLES\n",
       "MWU  53361.0   two-sided  3.590233e-77 -1.0   1.0"
      ]
     },
     "execution_count": 6,
     "metadata": {},
     "output_type": "execute_result"
    }
   ],
   "source": [
    "pg.mwu(df_subsdis[\"depression\"], df_subsdis[\"schizophrenia\"])"
   ]
  },
  {
   "cell_type": "code",
   "execution_count": 7,
   "metadata": {},
   "outputs": [
    {
     "data": {
      "text/html": [
       "<div>\n",
       "<style scoped>\n",
       "    .dataframe tbody tr th:only-of-type {\n",
       "        vertical-align: middle;\n",
       "    }\n",
       "\n",
       "    .dataframe tbody tr th {\n",
       "        vertical-align: top;\n",
       "    }\n",
       "\n",
       "    .dataframe thead th {\n",
       "        text-align: right;\n",
       "    }\n",
       "</style>\n",
       "<table border=\"1\" class=\"dataframe\">\n",
       "  <thead>\n",
       "    <tr style=\"text-align: right;\">\n",
       "      <th></th>\n",
       "      <th>W-val</th>\n",
       "      <th>alternative</th>\n",
       "      <th>p-val</th>\n",
       "      <th>RBC</th>\n",
       "      <th>CLES</th>\n",
       "    </tr>\n",
       "  </thead>\n",
       "  <tbody>\n",
       "    <tr>\n",
       "      <th>Wilcoxon</th>\n",
       "      <td>0.0</td>\n",
       "      <td>two-sided</td>\n",
       "      <td>1.203607e-39</td>\n",
       "      <td>1.0</td>\n",
       "      <td>1.0</td>\n",
       "    </tr>\n",
       "  </tbody>\n",
       "</table>\n",
       "</div>"
      ],
      "text/plain": [
       "          W-val alternative         p-val  RBC  CLES\n",
       "Wilcoxon    0.0   two-sided  1.203607e-39  1.0   1.0"
      ]
     },
     "execution_count": 7,
     "metadata": {},
     "output_type": "execute_result"
    }
   ],
   "source": [
    "pg.wilcoxon(df_subsdis[\"depression\"], df_subsdis[\"schizophrenia\"])"
   ]
  },
  {
   "cell_type": "markdown",
   "metadata": {},
   "source": [
    "### ANOVA\n",
    "\n",
    "El análisis de varianza (ANOVA) se puede considerar como una extensión de la prueba t. La prueba t independiente se utiliza para comparar las medias de una condición entre 2 grupos. ANOVA se usa cuando se quiere comparar las medias de una condición entre más de 2 grupos. "
   ]
  },
  {
   "cell_type": "markdown",
   "metadata": {},
   "source": [
    "En `pingouin` contamos con una función dedicada para este análisis:"
   ]
  },
  {
   "cell_type": "code",
   "execution_count": 57,
   "metadata": {},
   "outputs": [
    {
     "data": {
      "text/html": [
       "<div>\n",
       "<style scoped>\n",
       "    .dataframe tbody tr th:only-of-type {\n",
       "        vertical-align: middle;\n",
       "    }\n",
       "\n",
       "    .dataframe tbody tr th {\n",
       "        vertical-align: top;\n",
       "    }\n",
       "\n",
       "    .dataframe thead th {\n",
       "        text-align: right;\n",
       "    }\n",
       "</style>\n",
       "<table border=\"1\" class=\"dataframe\">\n",
       "  <thead>\n",
       "    <tr style=\"text-align: right;\">\n",
       "      <th></th>\n",
       "      <th>Subject</th>\n",
       "      <th>Hair color</th>\n",
       "      <th>Pain threshold</th>\n",
       "    </tr>\n",
       "  </thead>\n",
       "  <tbody>\n",
       "    <tr>\n",
       "      <th>0</th>\n",
       "      <td>1</td>\n",
       "      <td>Light Blond</td>\n",
       "      <td>62</td>\n",
       "    </tr>\n",
       "    <tr>\n",
       "      <th>1</th>\n",
       "      <td>2</td>\n",
       "      <td>Light Blond</td>\n",
       "      <td>60</td>\n",
       "    </tr>\n",
       "    <tr>\n",
       "      <th>2</th>\n",
       "      <td>3</td>\n",
       "      <td>Light Blond</td>\n",
       "      <td>71</td>\n",
       "    </tr>\n",
       "    <tr>\n",
       "      <th>3</th>\n",
       "      <td>4</td>\n",
       "      <td>Light Blond</td>\n",
       "      <td>55</td>\n",
       "    </tr>\n",
       "    <tr>\n",
       "      <th>4</th>\n",
       "      <td>5</td>\n",
       "      <td>Light Blond</td>\n",
       "      <td>48</td>\n",
       "    </tr>\n",
       "    <tr>\n",
       "      <th>5</th>\n",
       "      <td>6</td>\n",
       "      <td>Dark Blond</td>\n",
       "      <td>63</td>\n",
       "    </tr>\n",
       "    <tr>\n",
       "      <th>6</th>\n",
       "      <td>7</td>\n",
       "      <td>Dark Blond</td>\n",
       "      <td>57</td>\n",
       "    </tr>\n",
       "    <tr>\n",
       "      <th>7</th>\n",
       "      <td>8</td>\n",
       "      <td>Dark Blond</td>\n",
       "      <td>52</td>\n",
       "    </tr>\n",
       "    <tr>\n",
       "      <th>8</th>\n",
       "      <td>9</td>\n",
       "      <td>Dark Blond</td>\n",
       "      <td>41</td>\n",
       "    </tr>\n",
       "    <tr>\n",
       "      <th>9</th>\n",
       "      <td>10</td>\n",
       "      <td>Dark Blond</td>\n",
       "      <td>43</td>\n",
       "    </tr>\n",
       "    <tr>\n",
       "      <th>10</th>\n",
       "      <td>11</td>\n",
       "      <td>Light Brunette</td>\n",
       "      <td>42</td>\n",
       "    </tr>\n",
       "    <tr>\n",
       "      <th>11</th>\n",
       "      <td>12</td>\n",
       "      <td>Light Brunette</td>\n",
       "      <td>50</td>\n",
       "    </tr>\n",
       "    <tr>\n",
       "      <th>12</th>\n",
       "      <td>13</td>\n",
       "      <td>Light Brunette</td>\n",
       "      <td>41</td>\n",
       "    </tr>\n",
       "    <tr>\n",
       "      <th>13</th>\n",
       "      <td>14</td>\n",
       "      <td>Light Brunette</td>\n",
       "      <td>37</td>\n",
       "    </tr>\n",
       "    <tr>\n",
       "      <th>14</th>\n",
       "      <td>15</td>\n",
       "      <td>Dark Brunette</td>\n",
       "      <td>32</td>\n",
       "    </tr>\n",
       "    <tr>\n",
       "      <th>15</th>\n",
       "      <td>16</td>\n",
       "      <td>Dark Brunette</td>\n",
       "      <td>39</td>\n",
       "    </tr>\n",
       "    <tr>\n",
       "      <th>16</th>\n",
       "      <td>17</td>\n",
       "      <td>Dark Brunette</td>\n",
       "      <td>51</td>\n",
       "    </tr>\n",
       "    <tr>\n",
       "      <th>17</th>\n",
       "      <td>18</td>\n",
       "      <td>Dark Brunette</td>\n",
       "      <td>30</td>\n",
       "    </tr>\n",
       "    <tr>\n",
       "      <th>18</th>\n",
       "      <td>19</td>\n",
       "      <td>Dark Brunette</td>\n",
       "      <td>35</td>\n",
       "    </tr>\n",
       "  </tbody>\n",
       "</table>\n",
       "</div>"
      ],
      "text/plain": [
       "    Subject      Hair color  Pain threshold\n",
       "0         1     Light Blond              62\n",
       "1         2     Light Blond              60\n",
       "2         3     Light Blond              71\n",
       "3         4     Light Blond              55\n",
       "4         5     Light Blond              48\n",
       "5         6      Dark Blond              63\n",
       "6         7      Dark Blond              57\n",
       "7         8      Dark Blond              52\n",
       "8         9      Dark Blond              41\n",
       "9        10      Dark Blond              43\n",
       "10       11  Light Brunette              42\n",
       "11       12  Light Brunette              50\n",
       "12       13  Light Brunette              41\n",
       "13       14  Light Brunette              37\n",
       "14       15   Dark Brunette              32\n",
       "15       16   Dark Brunette              39\n",
       "16       17   Dark Brunette              51\n",
       "17       18   Dark Brunette              30\n",
       "18       19   Dark Brunette              35"
      ]
     },
     "execution_count": 57,
     "metadata": {},
     "output_type": "execute_result"
    }
   ],
   "source": [
    "df = pg.read_dataset(\"anova\")\n",
    "df"
   ]
  },
  {
   "cell_type": "code",
   "execution_count": 58,
   "metadata": {},
   "outputs": [
    {
     "data": {
      "text/html": [
       "<div>\n",
       "<style scoped>\n",
       "    .dataframe tbody tr th:only-of-type {\n",
       "        vertical-align: middle;\n",
       "    }\n",
       "\n",
       "    .dataframe tbody tr th {\n",
       "        vertical-align: top;\n",
       "    }\n",
       "\n",
       "    .dataframe thead th {\n",
       "        text-align: right;\n",
       "    }\n",
       "</style>\n",
       "<table border=\"1\" class=\"dataframe\">\n",
       "  <thead>\n",
       "    <tr style=\"text-align: right;\">\n",
       "      <th></th>\n",
       "      <th>Source</th>\n",
       "      <th>ddof1</th>\n",
       "      <th>ddof2</th>\n",
       "      <th>F</th>\n",
       "      <th>p-unc</th>\n",
       "      <th>np2</th>\n",
       "    </tr>\n",
       "  </thead>\n",
       "  <tbody>\n",
       "    <tr>\n",
       "      <th>0</th>\n",
       "      <td>Hair color</td>\n",
       "      <td>3</td>\n",
       "      <td>15</td>\n",
       "      <td>6.791407</td>\n",
       "      <td>0.004114</td>\n",
       "      <td>0.575962</td>\n",
       "    </tr>\n",
       "  </tbody>\n",
       "</table>\n",
       "</div>"
      ],
      "text/plain": [
       "       Source  ddof1  ddof2         F     p-unc       np2\n",
       "0  Hair color      3     15  6.791407  0.004114  0.575962"
      ]
     },
     "execution_count": 58,
     "metadata": {},
     "output_type": "execute_result"
    }
   ],
   "source": [
    "pg.anova(dv=\"Pain threshold\", between=\"Hair color\", data=df)"
   ]
  },
  {
   "cell_type": "code",
   "execution_count": 63,
   "metadata": {},
   "outputs": [
    {
     "data": {
      "text/html": [
       "<div>\n",
       "<style scoped>\n",
       "    .dataframe tbody tr th:only-of-type {\n",
       "        vertical-align: middle;\n",
       "    }\n",
       "\n",
       "    .dataframe tbody tr th {\n",
       "        vertical-align: top;\n",
       "    }\n",
       "\n",
       "    .dataframe thead th {\n",
       "        text-align: right;\n",
       "    }\n",
       "</style>\n",
       "<table border=\"1\" class=\"dataframe\">\n",
       "  <thead>\n",
       "    <tr style=\"text-align: right;\">\n",
       "      <th></th>\n",
       "      <th>Contrast</th>\n",
       "      <th>A</th>\n",
       "      <th>B</th>\n",
       "      <th>Paired</th>\n",
       "      <th>Parametric</th>\n",
       "      <th>T</th>\n",
       "      <th>dof</th>\n",
       "      <th>alternative</th>\n",
       "      <th>p-unc</th>\n",
       "      <th>BF10</th>\n",
       "      <th>Cohen</th>\n",
       "    </tr>\n",
       "  </thead>\n",
       "  <tbody>\n",
       "    <tr>\n",
       "      <th>0</th>\n",
       "      <td>Hair color</td>\n",
       "      <td>Dark Blond</td>\n",
       "      <td>Dark Brunette</td>\n",
       "      <td>False</td>\n",
       "      <td>True</td>\n",
       "      <td>2.474565</td>\n",
       "      <td>8.000000</td>\n",
       "      <td>two-sided</td>\n",
       "      <td>0.038436</td>\n",
       "      <td>2.183</td>\n",
       "      <td>1.565052</td>\n",
       "    </tr>\n",
       "    <tr>\n",
       "      <th>1</th>\n",
       "      <td>Hair color</td>\n",
       "      <td>Dark Blond</td>\n",
       "      <td>Light Blond</td>\n",
       "      <td>False</td>\n",
       "      <td>True</td>\n",
       "      <td>-1.419100</td>\n",
       "      <td>8.000000</td>\n",
       "      <td>two-sided</td>\n",
       "      <td>0.193635</td>\n",
       "      <td>0.875</td>\n",
       "      <td>-0.897518</td>\n",
       "    </tr>\n",
       "    <tr>\n",
       "      <th>2</th>\n",
       "      <td>Hair color</td>\n",
       "      <td>Dark Blond</td>\n",
       "      <td>Light Brunette</td>\n",
       "      <td>False</td>\n",
       "      <td>True</td>\n",
       "      <td>1.752072</td>\n",
       "      <td>6.562510</td>\n",
       "      <td>two-sided</td>\n",
       "      <td>0.126065</td>\n",
       "      <td>1.133</td>\n",
       "      <td>1.105156</td>\n",
       "    </tr>\n",
       "    <tr>\n",
       "      <th>3</th>\n",
       "      <td>Hair color</td>\n",
       "      <td>Dark Brunette</td>\n",
       "      <td>Light Blond</td>\n",
       "      <td>False</td>\n",
       "      <td>True</td>\n",
       "      <td>-4.090697</td>\n",
       "      <td>8.000000</td>\n",
       "      <td>two-sided</td>\n",
       "      <td>0.003482</td>\n",
       "      <td>10.877</td>\n",
       "      <td>-2.587184</td>\n",
       "    </tr>\n",
       "    <tr>\n",
       "      <th>4</th>\n",
       "      <td>Hair color</td>\n",
       "      <td>Dark Brunette</td>\n",
       "      <td>Light Brunette</td>\n",
       "      <td>False</td>\n",
       "      <td>True</td>\n",
       "      <td>-1.105652</td>\n",
       "      <td>6.821772</td>\n",
       "      <td>two-sided</td>\n",
       "      <td>0.306339</td>\n",
       "      <td>0.723</td>\n",
       "      <td>-0.705115</td>\n",
       "    </tr>\n",
       "    <tr>\n",
       "      <th>5</th>\n",
       "      <td>Hair color</td>\n",
       "      <td>Light Blond</td>\n",
       "      <td>Light Brunette</td>\n",
       "      <td>False</td>\n",
       "      <td>True</td>\n",
       "      <td>3.563964</td>\n",
       "      <td>6.772089</td>\n",
       "      <td>two-sided</td>\n",
       "      <td>0.009690</td>\n",
       "      <td>5.498</td>\n",
       "      <td>2.267190</td>\n",
       "    </tr>\n",
       "  </tbody>\n",
       "</table>\n",
       "</div>"
      ],
      "text/plain": [
       "     Contrast              A               B  Paired  Parametric         T  \\\n",
       "0  Hair color     Dark Blond   Dark Brunette   False        True  2.474565   \n",
       "1  Hair color     Dark Blond     Light Blond   False        True -1.419100   \n",
       "2  Hair color     Dark Blond  Light Brunette   False        True  1.752072   \n",
       "3  Hair color  Dark Brunette     Light Blond   False        True -4.090697   \n",
       "4  Hair color  Dark Brunette  Light Brunette   False        True -1.105652   \n",
       "5  Hair color    Light Blond  Light Brunette   False        True  3.563964   \n",
       "\n",
       "        dof alternative     p-unc    BF10     Cohen  \n",
       "0  8.000000   two-sided  0.038436   2.183  1.565052  \n",
       "1  8.000000   two-sided  0.193635   0.875 -0.897518  \n",
       "2  6.562510   two-sided  0.126065   1.133  1.105156  \n",
       "3  8.000000   two-sided  0.003482  10.877 -2.587184  \n",
       "4  6.821772   two-sided  0.306339   0.723 -0.705115  \n",
       "5  6.772089   two-sided  0.009690   5.498  2.267190  "
      ]
     },
     "execution_count": 63,
     "metadata": {},
     "output_type": "execute_result"
    }
   ],
   "source": [
    "pg.pairwise_tests(\n",
    "    dv=\"Pain threshold\",\n",
    "    between=\"Hair color\",\n",
    "    subject=\"Subject\",\n",
    "    effsize=\"Cohen\",\n",
    "    data=df,\n",
    ")"
   ]
  },
  {
   "cell_type": "markdown",
   "metadata": {},
   "source": [
    "En caso de Anova de dos vías o más seguir empleando esta función:"
   ]
  },
  {
   "cell_type": "code",
   "execution_count": 10,
   "metadata": {},
   "outputs": [
    {
     "data": {
      "text/html": [
       "<div>\n",
       "<style scoped>\n",
       "    .dataframe tbody tr th:only-of-type {\n",
       "        vertical-align: middle;\n",
       "    }\n",
       "\n",
       "    .dataframe tbody tr th {\n",
       "        vertical-align: top;\n",
       "    }\n",
       "\n",
       "    .dataframe thead th {\n",
       "        text-align: right;\n",
       "    }\n",
       "</style>\n",
       "<table border=\"1\" class=\"dataframe\">\n",
       "  <thead>\n",
       "    <tr style=\"text-align: right;\">\n",
       "      <th></th>\n",
       "      <th>Sub_id</th>\n",
       "      <th>rt</th>\n",
       "      <th>iv1</th>\n",
       "      <th>iv2</th>\n",
       "    </tr>\n",
       "  </thead>\n",
       "  <tbody>\n",
       "    <tr>\n",
       "      <th>0</th>\n",
       "      <td>1</td>\n",
       "      <td>1082.986553</td>\n",
       "      <td>noise</td>\n",
       "      <td>down</td>\n",
       "    </tr>\n",
       "    <tr>\n",
       "      <th>1</th>\n",
       "      <td>2</td>\n",
       "      <td>938.799689</td>\n",
       "      <td>noise</td>\n",
       "      <td>down</td>\n",
       "    </tr>\n",
       "    <tr>\n",
       "      <th>2</th>\n",
       "      <td>3</td>\n",
       "      <td>1101.470970</td>\n",
       "      <td>noise</td>\n",
       "      <td>down</td>\n",
       "    </tr>\n",
       "    <tr>\n",
       "      <th>3</th>\n",
       "      <td>4</td>\n",
       "      <td>1123.030275</td>\n",
       "      <td>noise</td>\n",
       "      <td>down</td>\n",
       "    </tr>\n",
       "    <tr>\n",
       "      <th>4</th>\n",
       "      <td>5</td>\n",
       "      <td>938.051589</td>\n",
       "      <td>noise</td>\n",
       "      <td>down</td>\n",
       "    </tr>\n",
       "    <tr>\n",
       "      <th>...</th>\n",
       "      <td>...</td>\n",
       "      <td>...</td>\n",
       "      <td>...</td>\n",
       "      <td>...</td>\n",
       "    </tr>\n",
       "    <tr>\n",
       "      <th>355</th>\n",
       "      <td>56</td>\n",
       "      <td>683.514099</td>\n",
       "      <td>quiet</td>\n",
       "      <td>middle</td>\n",
       "    </tr>\n",
       "    <tr>\n",
       "      <th>356</th>\n",
       "      <td>57</td>\n",
       "      <td>781.766827</td>\n",
       "      <td>quiet</td>\n",
       "      <td>middle</td>\n",
       "    </tr>\n",
       "    <tr>\n",
       "      <th>357</th>\n",
       "      <td>58</td>\n",
       "      <td>632.937575</td>\n",
       "      <td>quiet</td>\n",
       "      <td>middle</td>\n",
       "    </tr>\n",
       "    <tr>\n",
       "      <th>358</th>\n",
       "      <td>59</td>\n",
       "      <td>774.468696</td>\n",
       "      <td>quiet</td>\n",
       "      <td>middle</td>\n",
       "    </tr>\n",
       "    <tr>\n",
       "      <th>359</th>\n",
       "      <td>60</td>\n",
       "      <td>857.286326</td>\n",
       "      <td>quiet</td>\n",
       "      <td>middle</td>\n",
       "    </tr>\n",
       "  </tbody>\n",
       "</table>\n",
       "<p>360 rows × 4 columns</p>\n",
       "</div>"
      ],
      "text/plain": [
       "     Sub_id           rt    iv1     iv2\n",
       "0         1  1082.986553  noise    down\n",
       "1         2   938.799689  noise    down\n",
       "2         3  1101.470970  noise    down\n",
       "3         4  1123.030275  noise    down\n",
       "4         5   938.051589  noise    down\n",
       "..      ...          ...    ...     ...\n",
       "355      56   683.514099  quiet  middle\n",
       "356      57   781.766827  quiet  middle\n",
       "357      58   632.937575  quiet  middle\n",
       "358      59   774.468696  quiet  middle\n",
       "359      60   857.286326  quiet  middle\n",
       "\n",
       "[360 rows x 4 columns]"
      ]
     },
     "execution_count": 10,
     "metadata": {},
     "output_type": "execute_result"
    }
   ],
   "source": [
    "df_2way = pd.read_csv(\n",
    "    \"https://raw.githubusercontent.com/BlohmLab/NSCI801-QuantNeuro/master/Figures/rmAOV2way.csv\"\n",
    ")\n",
    "df_2way"
   ]
  },
  {
   "cell_type": "code",
   "execution_count": 11,
   "metadata": {},
   "outputs": [
    {
     "data": {
      "text/html": [
       "<div>\n",
       "<style scoped>\n",
       "    .dataframe tbody tr th:only-of-type {\n",
       "        vertical-align: middle;\n",
       "    }\n",
       "\n",
       "    .dataframe tbody tr th {\n",
       "        vertical-align: top;\n",
       "    }\n",
       "\n",
       "    .dataframe thead th {\n",
       "        text-align: right;\n",
       "    }\n",
       "</style>\n",
       "<table border=\"1\" class=\"dataframe\">\n",
       "  <thead>\n",
       "    <tr style=\"text-align: right;\">\n",
       "      <th></th>\n",
       "      <th>Source</th>\n",
       "      <th>SS</th>\n",
       "      <th>DF</th>\n",
       "      <th>MS</th>\n",
       "      <th>F</th>\n",
       "      <th>p-unc</th>\n",
       "      <th>np2</th>\n",
       "    </tr>\n",
       "  </thead>\n",
       "  <tbody>\n",
       "    <tr>\n",
       "      <th>0</th>\n",
       "      <td>iv1</td>\n",
       "      <td>2.418569e+07</td>\n",
       "      <td>1</td>\n",
       "      <td>2.418569e+07</td>\n",
       "      <td>2398.303385</td>\n",
       "      <td>1.009670e-159</td>\n",
       "      <td>0.871380</td>\n",
       "    </tr>\n",
       "    <tr>\n",
       "      <th>1</th>\n",
       "      <td>iv2</td>\n",
       "      <td>4.836439e+06</td>\n",
       "      <td>2</td>\n",
       "      <td>2.418219e+06</td>\n",
       "      <td>239.795690</td>\n",
       "      <td>1.461700e-66</td>\n",
       "      <td>0.575332</td>\n",
       "    </tr>\n",
       "    <tr>\n",
       "      <th>2</th>\n",
       "      <td>iv1 * iv2</td>\n",
       "      <td>3.924650e+04</td>\n",
       "      <td>2</td>\n",
       "      <td>1.962325e+04</td>\n",
       "      <td>1.945883</td>\n",
       "      <td>1.443861e-01</td>\n",
       "      <td>0.010874</td>\n",
       "    </tr>\n",
       "    <tr>\n",
       "      <th>3</th>\n",
       "      <td>Residual</td>\n",
       "      <td>3.569913e+06</td>\n",
       "      <td>354</td>\n",
       "      <td>1.008450e+04</td>\n",
       "      <td>NaN</td>\n",
       "      <td>NaN</td>\n",
       "      <td>NaN</td>\n",
       "    </tr>\n",
       "  </tbody>\n",
       "</table>\n",
       "</div>"
      ],
      "text/plain": [
       "      Source            SS   DF            MS            F          p-unc  \\\n",
       "0        iv1  2.418569e+07    1  2.418569e+07  2398.303385  1.009670e-159   \n",
       "1        iv2  4.836439e+06    2  2.418219e+06   239.795690   1.461700e-66   \n",
       "2  iv1 * iv2  3.924650e+04    2  1.962325e+04     1.945883   1.443861e-01   \n",
       "3   Residual  3.569913e+06  354  1.008450e+04          NaN            NaN   \n",
       "\n",
       "        np2  \n",
       "0  0.871380  \n",
       "1  0.575332  \n",
       "2  0.010874  \n",
       "3       NaN  "
      ]
     },
     "execution_count": 11,
     "metadata": {},
     "output_type": "execute_result"
    }
   ],
   "source": [
    "pg.anova(dv=\"rt\", between=[\"iv1\", \"iv2\"], data=df_2way)"
   ]
  },
  {
   "cell_type": "markdown",
   "metadata": {},
   "source": [
    "En caso de Anova de medidas repetidas podemos emplear la función `rm_anova`:"
   ]
  },
  {
   "cell_type": "code",
   "execution_count": 12,
   "metadata": {},
   "outputs": [
    {
     "data": {
      "text/html": [
       "<div>\n",
       "<style scoped>\n",
       "    .dataframe tbody tr th:only-of-type {\n",
       "        vertical-align: middle;\n",
       "    }\n",
       "\n",
       "    .dataframe tbody tr th {\n",
       "        vertical-align: top;\n",
       "    }\n",
       "\n",
       "    .dataframe thead th {\n",
       "        text-align: right;\n",
       "    }\n",
       "</style>\n",
       "<table border=\"1\" class=\"dataframe\">\n",
       "  <thead>\n",
       "    <tr style=\"text-align: right;\">\n",
       "      <th></th>\n",
       "      <th>Sub_id</th>\n",
       "      <th>rt</th>\n",
       "      <th>cond</th>\n",
       "    </tr>\n",
       "  </thead>\n",
       "  <tbody>\n",
       "    <tr>\n",
       "      <th>0</th>\n",
       "      <td>1</td>\n",
       "      <td>971.826563</td>\n",
       "      <td>noise</td>\n",
       "    </tr>\n",
       "    <tr>\n",
       "      <th>1</th>\n",
       "      <td>2</td>\n",
       "      <td>857.608167</td>\n",
       "      <td>noise</td>\n",
       "    </tr>\n",
       "    <tr>\n",
       "      <th>2</th>\n",
       "      <td>3</td>\n",
       "      <td>1035.354758</td>\n",
       "      <td>noise</td>\n",
       "    </tr>\n",
       "    <tr>\n",
       "      <th>3</th>\n",
       "      <td>4</td>\n",
       "      <td>867.620871</td>\n",
       "      <td>noise</td>\n",
       "    </tr>\n",
       "    <tr>\n",
       "      <th>4</th>\n",
       "      <td>5</td>\n",
       "      <td>928.381831</td>\n",
       "      <td>noise</td>\n",
       "    </tr>\n",
       "    <tr>\n",
       "      <th>...</th>\n",
       "      <td>...</td>\n",
       "      <td>...</td>\n",
       "      <td>...</td>\n",
       "    </tr>\n",
       "    <tr>\n",
       "      <th>115</th>\n",
       "      <td>56</td>\n",
       "      <td>562.575663</td>\n",
       "      <td>quiet</td>\n",
       "    </tr>\n",
       "    <tr>\n",
       "      <th>116</th>\n",
       "      <td>57</td>\n",
       "      <td>672.512938</td>\n",
       "      <td>quiet</td>\n",
       "    </tr>\n",
       "    <tr>\n",
       "      <th>117</th>\n",
       "      <td>58</td>\n",
       "      <td>583.308165</td>\n",
       "      <td>quiet</td>\n",
       "    </tr>\n",
       "    <tr>\n",
       "      <th>118</th>\n",
       "      <td>59</td>\n",
       "      <td>762.600382</td>\n",
       "      <td>quiet</td>\n",
       "    </tr>\n",
       "    <tr>\n",
       "      <th>119</th>\n",
       "      <td>60</td>\n",
       "      <td>754.486406</td>\n",
       "      <td>quiet</td>\n",
       "    </tr>\n",
       "  </tbody>\n",
       "</table>\n",
       "<p>120 rows × 3 columns</p>\n",
       "</div>"
      ],
      "text/plain": [
       "     Sub_id           rt   cond\n",
       "0         1   971.826563  noise\n",
       "1         2   857.608167  noise\n",
       "2         3  1035.354758  noise\n",
       "3         4   867.620871  noise\n",
       "4         5   928.381831  noise\n",
       "..      ...          ...    ...\n",
       "115      56   562.575663  quiet\n",
       "116      57   672.512938  quiet\n",
       "117      58   583.308165  quiet\n",
       "118      59   762.600382  quiet\n",
       "119      60   754.486406  quiet\n",
       "\n",
       "[120 rows x 3 columns]"
      ]
     },
     "execution_count": 12,
     "metadata": {},
     "output_type": "execute_result"
    }
   ],
   "source": [
    "df_repeated = pd.read_csv(\n",
    "    \"https://raw.githubusercontent.com/BlohmLab/NSCI801-QuantNeuro/master/Figures/rmAOV1way.csv\"\n",
    ")\n",
    "\n",
    "df_repeated"
   ]
  },
  {
   "cell_type": "code",
   "execution_count": 13,
   "metadata": {},
   "outputs": [
    {
     "data": {
      "text/html": [
       "<div>\n",
       "<style scoped>\n",
       "    .dataframe tbody tr th:only-of-type {\n",
       "        vertical-align: middle;\n",
       "    }\n",
       "\n",
       "    .dataframe tbody tr th {\n",
       "        vertical-align: top;\n",
       "    }\n",
       "\n",
       "    .dataframe thead th {\n",
       "        text-align: right;\n",
       "    }\n",
       "</style>\n",
       "<table border=\"1\" class=\"dataframe\">\n",
       "  <thead>\n",
       "    <tr style=\"text-align: right;\">\n",
       "      <th></th>\n",
       "      <th>Source</th>\n",
       "      <th>ddof1</th>\n",
       "      <th>ddof2</th>\n",
       "      <th>F</th>\n",
       "      <th>p-unc</th>\n",
       "      <th>ng2</th>\n",
       "      <th>eps</th>\n",
       "    </tr>\n",
       "  </thead>\n",
       "  <tbody>\n",
       "    <tr>\n",
       "      <th>0</th>\n",
       "      <td>cond</td>\n",
       "      <td>1</td>\n",
       "      <td>59</td>\n",
       "      <td>499.154857</td>\n",
       "      <td>1.774052e-30</td>\n",
       "      <td>0.771358</td>\n",
       "      <td>1.0</td>\n",
       "    </tr>\n",
       "  </tbody>\n",
       "</table>\n",
       "</div>"
      ],
      "text/plain": [
       "  Source  ddof1  ddof2           F         p-unc       ng2  eps\n",
       "0   cond      1     59  499.154857  1.774052e-30  0.771358  1.0"
      ]
     },
     "execution_count": 13,
     "metadata": {},
     "output_type": "execute_result"
    }
   ],
   "source": [
    "pg.rm_anova(dv=\"rt\", within=\"cond\", subject=\"Sub_id\", data=df_repeated)"
   ]
  },
  {
   "cell_type": "markdown",
   "metadata": {},
   "source": [
    "Al igual que en el caso anterior, puedes colocar una lista en el argumento `within` para optar por una prueba N-way de medidas repetidas. "
   ]
  },
  {
   "cell_type": "markdown",
   "metadata": {},
   "source": [
    "#### Alternativas no paramétricas: Kruskal-Wallis y Friedman"
   ]
  },
  {
   "cell_type": "markdown",
   "metadata": {},
   "source": [
    "En caso sea necesario basar nuestro análisis en técnicas no paramétricas, podemos optar por la prueba H de Kruskal-Wallis (muestras independientes) o la prueba de Friedman (muestras relacionadas)."
   ]
  },
  {
   "cell_type": "markdown",
   "metadata": {},
   "source": [
    "En `pingouin` encontramos funciones dedicadas para estas pruebas:"
   ]
  },
  {
   "cell_type": "code",
   "execution_count": 18,
   "metadata": {},
   "outputs": [
    {
     "data": {
      "text/html": [
       "<div>\n",
       "<style scoped>\n",
       "    .dataframe tbody tr th:only-of-type {\n",
       "        vertical-align: middle;\n",
       "    }\n",
       "\n",
       "    .dataframe tbody tr th {\n",
       "        vertical-align: top;\n",
       "    }\n",
       "\n",
       "    .dataframe thead th {\n",
       "        text-align: right;\n",
       "    }\n",
       "</style>\n",
       "<table border=\"1\" class=\"dataframe\">\n",
       "  <thead>\n",
       "    <tr style=\"text-align: right;\">\n",
       "      <th></th>\n",
       "      <th>Source</th>\n",
       "      <th>ddof1</th>\n",
       "      <th>H</th>\n",
       "      <th>p-unc</th>\n",
       "    </tr>\n",
       "  </thead>\n",
       "  <tbody>\n",
       "    <tr>\n",
       "      <th>Kruskal</th>\n",
       "      <td>Hair color</td>\n",
       "      <td>3</td>\n",
       "      <td>10.58863</td>\n",
       "      <td>0.014172</td>\n",
       "    </tr>\n",
       "  </tbody>\n",
       "</table>\n",
       "</div>"
      ],
      "text/plain": [
       "             Source  ddof1         H     p-unc\n",
       "Kruskal  Hair color      3  10.58863  0.014172"
      ]
     },
     "execution_count": 18,
     "metadata": {},
     "output_type": "execute_result"
    }
   ],
   "source": [
    "pg.kruskal(dv=\"Pain threshold\", between=\"Hair color\", data=df)"
   ]
  },
  {
   "cell_type": "code",
   "execution_count": 19,
   "metadata": {},
   "outputs": [
    {
     "data": {
      "text/html": [
       "<div>\n",
       "<style scoped>\n",
       "    .dataframe tbody tr th:only-of-type {\n",
       "        vertical-align: middle;\n",
       "    }\n",
       "\n",
       "    .dataframe tbody tr th {\n",
       "        vertical-align: top;\n",
       "    }\n",
       "\n",
       "    .dataframe thead th {\n",
       "        text-align: right;\n",
       "    }\n",
       "</style>\n",
       "<table border=\"1\" class=\"dataframe\">\n",
       "  <thead>\n",
       "    <tr style=\"text-align: right;\">\n",
       "      <th></th>\n",
       "      <th>Source</th>\n",
       "      <th>W</th>\n",
       "      <th>ddof1</th>\n",
       "      <th>Q</th>\n",
       "      <th>p-unc</th>\n",
       "    </tr>\n",
       "  </thead>\n",
       "  <tbody>\n",
       "    <tr>\n",
       "      <th>Friedman</th>\n",
       "      <td>cond</td>\n",
       "      <td>1.0</td>\n",
       "      <td>1</td>\n",
       "      <td>60.0</td>\n",
       "      <td>9.485738e-15</td>\n",
       "    </tr>\n",
       "  </tbody>\n",
       "</table>\n",
       "</div>"
      ],
      "text/plain": [
       "         Source    W  ddof1     Q         p-unc\n",
       "Friedman   cond  1.0      1  60.0  9.485738e-15"
      ]
     },
     "execution_count": 19,
     "metadata": {},
     "output_type": "execute_result"
    }
   ],
   "source": [
    "pg.friedman(dv=\"rt\", within=\"cond\", subject=\"Sub_id\", data=df_repeated)"
   ]
  },
  {
   "cell_type": "markdown",
   "metadata": {},
   "source": [
    "### Análisis de correlación"
   ]
  },
  {
   "cell_type": "markdown",
   "metadata": {},
   "source": [
    "Podemos emplear `pingouin` para obtener los resultados inferenciales de nuestros análisis de correlación:"
   ]
  },
  {
   "cell_type": "code",
   "execution_count": 27,
   "metadata": {},
   "outputs": [
    {
     "data": {
      "text/html": [
       "<div>\n",
       "<style scoped>\n",
       "    .dataframe tbody tr th:only-of-type {\n",
       "        vertical-align: middle;\n",
       "    }\n",
       "\n",
       "    .dataframe tbody tr th {\n",
       "        vertical-align: top;\n",
       "    }\n",
       "\n",
       "    .dataframe thead th {\n",
       "        text-align: right;\n",
       "    }\n",
       "</style>\n",
       "<table border=\"1\" class=\"dataframe\">\n",
       "  <thead>\n",
       "    <tr style=\"text-align: right;\">\n",
       "      <th></th>\n",
       "      <th>weight</th>\n",
       "      <th>height</th>\n",
       "      <th>reportedWeight</th>\n",
       "      <th>reportedHeight</th>\n",
       "    </tr>\n",
       "  </thead>\n",
       "  <tbody>\n",
       "    <tr>\n",
       "      <th>1</th>\n",
       "      <td>77</td>\n",
       "      <td>182</td>\n",
       "      <td>77.0</td>\n",
       "      <td>180.0</td>\n",
       "    </tr>\n",
       "    <tr>\n",
       "      <th>2</th>\n",
       "      <td>58</td>\n",
       "      <td>161</td>\n",
       "      <td>51.0</td>\n",
       "      <td>159.0</td>\n",
       "    </tr>\n",
       "    <tr>\n",
       "      <th>3</th>\n",
       "      <td>53</td>\n",
       "      <td>161</td>\n",
       "      <td>54.0</td>\n",
       "      <td>158.0</td>\n",
       "    </tr>\n",
       "    <tr>\n",
       "      <th>4</th>\n",
       "      <td>68</td>\n",
       "      <td>177</td>\n",
       "      <td>70.0</td>\n",
       "      <td>175.0</td>\n",
       "    </tr>\n",
       "    <tr>\n",
       "      <th>5</th>\n",
       "      <td>59</td>\n",
       "      <td>157</td>\n",
       "      <td>59.0</td>\n",
       "      <td>155.0</td>\n",
       "    </tr>\n",
       "  </tbody>\n",
       "</table>\n",
       "</div>"
      ],
      "text/plain": [
       "   weight  height  reportedWeight  reportedHeight\n",
       "1      77     182            77.0           180.0\n",
       "2      58     161            51.0           159.0\n",
       "3      53     161            54.0           158.0\n",
       "4      68     177            70.0           175.0\n",
       "5      59     157            59.0           155.0"
      ]
     },
     "execution_count": 27,
     "metadata": {},
     "output_type": "execute_result"
    }
   ],
   "source": [
    "davis_data = pd.read_csv(\n",
    "    \"https://socialsciences.mcmaster.ca/jfox/Books/Applied-Regression-3E/datasets/Davis.txt\",\n",
    "    sep=r\"\\s{1,}\",\n",
    "    engine=\"python\",\n",
    ")\n",
    "davis_data.drop(columns=\"sex\", inplace=True)\n",
    "davis_data.head()"
   ]
  },
  {
   "cell_type": "code",
   "execution_count": 28,
   "metadata": {},
   "outputs": [
    {
     "data": {
      "text/html": [
       "<div>\n",
       "<style scoped>\n",
       "    .dataframe tbody tr th:only-of-type {\n",
       "        vertical-align: middle;\n",
       "    }\n",
       "\n",
       "    .dataframe tbody tr th {\n",
       "        vertical-align: top;\n",
       "    }\n",
       "\n",
       "    .dataframe thead th {\n",
       "        text-align: right;\n",
       "    }\n",
       "</style>\n",
       "<table border=\"1\" class=\"dataframe\">\n",
       "  <thead>\n",
       "    <tr style=\"text-align: right;\">\n",
       "      <th></th>\n",
       "      <th>weight</th>\n",
       "      <th>height</th>\n",
       "      <th>reportedWeight</th>\n",
       "      <th>reportedHeight</th>\n",
       "    </tr>\n",
       "  </thead>\n",
       "  <tbody>\n",
       "    <tr>\n",
       "      <th>weight</th>\n",
       "      <td>1.000000</td>\n",
       "      <td>0.189650</td>\n",
       "      <td>0.835841</td>\n",
       "      <td>0.636326</td>\n",
       "    </tr>\n",
       "    <tr>\n",
       "      <th>height</th>\n",
       "      <td>0.189650</td>\n",
       "      <td>1.000000</td>\n",
       "      <td>0.603269</td>\n",
       "      <td>0.744637</td>\n",
       "    </tr>\n",
       "    <tr>\n",
       "      <th>reportedWeight</th>\n",
       "      <td>0.835841</td>\n",
       "      <td>0.603269</td>\n",
       "      <td>1.000000</td>\n",
       "      <td>0.761860</td>\n",
       "    </tr>\n",
       "    <tr>\n",
       "      <th>reportedHeight</th>\n",
       "      <td>0.636326</td>\n",
       "      <td>0.744637</td>\n",
       "      <td>0.761860</td>\n",
       "      <td>1.000000</td>\n",
       "    </tr>\n",
       "  </tbody>\n",
       "</table>\n",
       "</div>"
      ],
      "text/plain": [
       "                  weight    height  reportedWeight  reportedHeight\n",
       "weight          1.000000  0.189650        0.835841        0.636326\n",
       "height          0.189650  1.000000        0.603269        0.744637\n",
       "reportedWeight  0.835841  0.603269        1.000000        0.761860\n",
       "reportedHeight  0.636326  0.744637        0.761860        1.000000"
      ]
     },
     "execution_count": 28,
     "metadata": {},
     "output_type": "execute_result"
    }
   ],
   "source": [
    "davis_data.corr()"
   ]
  },
  {
   "cell_type": "code",
   "execution_count": 29,
   "metadata": {},
   "outputs": [
    {
     "name": "stderr",
     "output_type": "stream",
     "text": [
      "/home/renato/.virtualenvs/python/lib/python3.10/site-packages/pingouin/correlation.py:1111: FutureWarning: DataFrame.applymap has been deprecated. Use DataFrame.map instead.\n",
      "  mat_upper = mat_upper.applymap(replace_pval)\n"
     ]
    },
    {
     "data": {
      "text/html": [
       "<div>\n",
       "<style scoped>\n",
       "    .dataframe tbody tr th:only-of-type {\n",
       "        vertical-align: middle;\n",
       "    }\n",
       "\n",
       "    .dataframe tbody tr th {\n",
       "        vertical-align: top;\n",
       "    }\n",
       "\n",
       "    .dataframe thead th {\n",
       "        text-align: right;\n",
       "    }\n",
       "</style>\n",
       "<table border=\"1\" class=\"dataframe\">\n",
       "  <thead>\n",
       "    <tr style=\"text-align: right;\">\n",
       "      <th></th>\n",
       "      <th>weight</th>\n",
       "      <th>height</th>\n",
       "      <th>reportedWeight</th>\n",
       "      <th>reportedHeight</th>\n",
       "    </tr>\n",
       "  </thead>\n",
       "  <tbody>\n",
       "    <tr>\n",
       "      <th>weight</th>\n",
       "      <td>-</td>\n",
       "      <td>**</td>\n",
       "      <td>***</td>\n",
       "      <td>***</td>\n",
       "    </tr>\n",
       "    <tr>\n",
       "      <th>height</th>\n",
       "      <td>0.19</td>\n",
       "      <td>-</td>\n",
       "      <td>***</td>\n",
       "      <td>***</td>\n",
       "    </tr>\n",
       "    <tr>\n",
       "      <th>reportedWeight</th>\n",
       "      <td>0.836</td>\n",
       "      <td>0.603</td>\n",
       "      <td>-</td>\n",
       "      <td>***</td>\n",
       "    </tr>\n",
       "    <tr>\n",
       "      <th>reportedHeight</th>\n",
       "      <td>0.636</td>\n",
       "      <td>0.745</td>\n",
       "      <td>0.762</td>\n",
       "      <td>-</td>\n",
       "    </tr>\n",
       "  </tbody>\n",
       "</table>\n",
       "</div>"
      ],
      "text/plain": [
       "               weight height reportedWeight reportedHeight\n",
       "weight              -     **            ***            ***\n",
       "height           0.19      -            ***            ***\n",
       "reportedWeight  0.836  0.603              -            ***\n",
       "reportedHeight  0.636  0.745          0.762              -"
      ]
     },
     "execution_count": 29,
     "metadata": {},
     "output_type": "execute_result"
    }
   ],
   "source": [
    "davis_data.rcorr()"
   ]
  },
  {
   "cell_type": "markdown",
   "metadata": {},
   "source": [
    "## Análisis de regresión múltiple"
   ]
  },
  {
   "cell_type": "code",
   "execution_count": 37,
   "metadata": {},
   "outputs": [
    {
     "data": {
      "text/html": [
       "<div>\n",
       "<style scoped>\n",
       "    .dataframe tbody tr th:only-of-type {\n",
       "        vertical-align: middle;\n",
       "    }\n",
       "\n",
       "    .dataframe tbody tr th {\n",
       "        vertical-align: top;\n",
       "    }\n",
       "\n",
       "    .dataframe thead th {\n",
       "        text-align: right;\n",
       "    }\n",
       "</style>\n",
       "<table border=\"1\" class=\"dataframe\">\n",
       "  <thead>\n",
       "    <tr style=\"text-align: right;\">\n",
       "      <th></th>\n",
       "      <th>simplicity</th>\n",
       "      <th>fatalism</th>\n",
       "      <th>depression</th>\n",
       "    </tr>\n",
       "  </thead>\n",
       "  <tbody>\n",
       "    <tr>\n",
       "      <th>1</th>\n",
       "      <td>0.75934</td>\n",
       "      <td>0.10673</td>\n",
       "      <td>0.41865</td>\n",
       "    </tr>\n",
       "    <tr>\n",
       "      <th>2</th>\n",
       "      <td>0.72717</td>\n",
       "      <td>0.99915</td>\n",
       "      <td>0.51688</td>\n",
       "    </tr>\n",
       "    <tr>\n",
       "      <th>3</th>\n",
       "      <td>0.62176</td>\n",
       "      <td>0.03811</td>\n",
       "      <td>0.70699</td>\n",
       "    </tr>\n",
       "    <tr>\n",
       "      <th>4</th>\n",
       "      <td>0.83522</td>\n",
       "      <td>0.42218</td>\n",
       "      <td>0.65639</td>\n",
       "    </tr>\n",
       "    <tr>\n",
       "      <th>5</th>\n",
       "      <td>0.47697</td>\n",
       "      <td>0.81423</td>\n",
       "      <td>0.53518</td>\n",
       "    </tr>\n",
       "    <tr>\n",
       "      <th>...</th>\n",
       "      <td>...</td>\n",
       "      <td>...</td>\n",
       "      <td>...</td>\n",
       "    </tr>\n",
       "    <tr>\n",
       "      <th>78</th>\n",
       "      <td>0.72117</td>\n",
       "      <td>1.50039</td>\n",
       "      <td>1.14913</td>\n",
       "    </tr>\n",
       "    <tr>\n",
       "      <th>79</th>\n",
       "      <td>1.59752</td>\n",
       "      <td>2.05016</td>\n",
       "      <td>1.16443</td>\n",
       "    </tr>\n",
       "    <tr>\n",
       "      <th>80</th>\n",
       "      <td>2.39515</td>\n",
       "      <td>0.88910</td>\n",
       "      <td>2.24452</td>\n",
       "    </tr>\n",
       "    <tr>\n",
       "      <th>81</th>\n",
       "      <td>1.31493</td>\n",
       "      <td>1.04058</td>\n",
       "      <td>1.37153</td>\n",
       "    </tr>\n",
       "    <tr>\n",
       "      <th>82</th>\n",
       "      <td>0.97903</td>\n",
       "      <td>1.23973</td>\n",
       "      <td>1.65687</td>\n",
       "    </tr>\n",
       "  </tbody>\n",
       "</table>\n",
       "<p>82 rows × 3 columns</p>\n",
       "</div>"
      ],
      "text/plain": [
       "    simplicity  fatalism  depression\n",
       "1      0.75934   0.10673     0.41865\n",
       "2      0.72717   0.99915     0.51688\n",
       "3      0.62176   0.03811     0.70699\n",
       "4      0.83522   0.42218     0.65639\n",
       "5      0.47697   0.81423     0.53518\n",
       "..         ...       ...         ...\n",
       "78     0.72117   1.50039     1.14913\n",
       "79     1.59752   2.05016     1.16443\n",
       "80     2.39515   0.88910     2.24452\n",
       "81     1.31493   1.04058     1.37153\n",
       "82     0.97903   1.23973     1.65687\n",
       "\n",
       "[82 rows x 3 columns]"
      ]
     },
     "execution_count": 37,
     "metadata": {},
     "output_type": "execute_result"
    }
   ],
   "source": [
    "df = pd.read_csv(\n",
    "    \"https://socialsciences.mcmaster.ca/jfox/Books/Applied-Regression-3E/datasets/Ginzberg.txt\",\n",
    "    sep=r\"\\s{1,}\",\n",
    "    engine=\"python\",\n",
    ")\n",
    "ginzberg_data = df.drop(columns=[\"simplicity\", \"fatalism\", \"depression\"])\n",
    "ginzberg_data.rename(\n",
    "    columns={\n",
    "        \"adjsimplicity\": \"simplicity\",\n",
    "        \"adjfatalism\": \"fatalism\",\n",
    "        \"adjdepression\": \"depression\",\n",
    "    },\n",
    "    inplace=True,\n",
    ")\n",
    "ginzberg_data"
   ]
  },
  {
   "cell_type": "code",
   "execution_count": 38,
   "metadata": {},
   "outputs": [
    {
     "data": {
      "text/html": [
       "<table class=\"simpletable\">\n",
       "<caption>OLS Regression Results</caption>\n",
       "<tr>\n",
       "  <th>Dep. Variable:</th>       <td>depression</td>    <th>  R-squared:         </th> <td>   0.433</td>\n",
       "</tr>\n",
       "<tr>\n",
       "  <th>Model:</th>                   <td>OLS</td>       <th>  Adj. R-squared:    </th> <td>   0.419</td>\n",
       "</tr>\n",
       "<tr>\n",
       "  <th>Method:</th>             <td>Least Squares</td>  <th>  F-statistic:       </th> <td>   30.19</td>\n",
       "</tr>\n",
       "<tr>\n",
       "  <th>Date:</th>             <td>Thu, 18 Jan 2024</td> <th>  Prob (F-statistic):</th> <td>1.82e-10</td>\n",
       "</tr>\n",
       "<tr>\n",
       "  <th>Time:</th>                 <td>21:58:12</td>     <th>  Log-Likelihood:    </th> <td> -35.735</td>\n",
       "</tr>\n",
       "<tr>\n",
       "  <th>No. Observations:</th>      <td>    82</td>      <th>  AIC:               </th> <td>   77.47</td>\n",
       "</tr>\n",
       "<tr>\n",
       "  <th>Df Residuals:</th>          <td>    79</td>      <th>  BIC:               </th> <td>   84.69</td>\n",
       "</tr>\n",
       "<tr>\n",
       "  <th>Df Model:</th>              <td>     2</td>      <th>                     </th>     <td> </td>   \n",
       "</tr>\n",
       "<tr>\n",
       "  <th>Covariance Type:</th>      <td>nonrobust</td>    <th>                     </th>     <td> </td>   \n",
       "</tr>\n",
       "</table>\n",
       "<table class=\"simpletable\">\n",
       "<tr>\n",
       "       <td></td>         <th>coef</th>     <th>std err</th>      <th>t</th>      <th>P>|t|</th>  <th>[0.025</th>    <th>0.975]</th>  \n",
       "</tr>\n",
       "<tr>\n",
       "  <th>Intercept</th>  <td>    0.2492</td> <td>    0.105</td> <td>    2.365</td> <td> 0.021</td> <td>    0.039</td> <td>    0.459</td>\n",
       "</tr>\n",
       "<tr>\n",
       "  <th>fatalism</th>   <td>    0.3845</td> <td>    0.100</td> <td>    3.829</td> <td> 0.000</td> <td>    0.185</td> <td>    0.584</td>\n",
       "</tr>\n",
       "<tr>\n",
       "  <th>simplicity</th> <td>    0.3663</td> <td>    0.100</td> <td>    3.649</td> <td> 0.000</td> <td>    0.166</td> <td>    0.566</td>\n",
       "</tr>\n",
       "</table>\n",
       "<table class=\"simpletable\">\n",
       "<tr>\n",
       "  <th>Omnibus:</th>       <td>10.510</td> <th>  Durbin-Watson:     </th> <td>   1.178</td>\n",
       "</tr>\n",
       "<tr>\n",
       "  <th>Prob(Omnibus):</th> <td> 0.005</td> <th>  Jarque-Bera (JB):  </th> <td>  10.561</td>\n",
       "</tr>\n",
       "<tr>\n",
       "  <th>Skew:</th>          <td> 0.836</td> <th>  Prob(JB):          </th> <td> 0.00509</td>\n",
       "</tr>\n",
       "<tr>\n",
       "  <th>Kurtosis:</th>      <td> 3.542</td> <th>  Cond. No.          </th> <td>    5.34</td>\n",
       "</tr>\n",
       "</table><br/><br/>Notes:<br/>[1] Standard Errors assume that the covariance matrix of the errors is correctly specified."
      ],
      "text/latex": [
       "\\begin{center}\n",
       "\\begin{tabular}{lclc}\n",
       "\\toprule\n",
       "\\textbf{Dep. Variable:}    &    depression    & \\textbf{  R-squared:         } &     0.433   \\\\\n",
       "\\textbf{Model:}            &       OLS        & \\textbf{  Adj. R-squared:    } &     0.419   \\\\\n",
       "\\textbf{Method:}           &  Least Squares   & \\textbf{  F-statistic:       } &     30.19   \\\\\n",
       "\\textbf{Date:}             & Thu, 18 Jan 2024 & \\textbf{  Prob (F-statistic):} &  1.82e-10   \\\\\n",
       "\\textbf{Time:}             &     21:58:12     & \\textbf{  Log-Likelihood:    } &   -35.735   \\\\\n",
       "\\textbf{No. Observations:} &          82      & \\textbf{  AIC:               } &     77.47   \\\\\n",
       "\\textbf{Df Residuals:}     &          79      & \\textbf{  BIC:               } &     84.69   \\\\\n",
       "\\textbf{Df Model:}         &           2      & \\textbf{                     } &             \\\\\n",
       "\\textbf{Covariance Type:}  &    nonrobust     & \\textbf{                     } &             \\\\\n",
       "\\bottomrule\n",
       "\\end{tabular}\n",
       "\\begin{tabular}{lcccccc}\n",
       "                    & \\textbf{coef} & \\textbf{std err} & \\textbf{t} & \\textbf{P$> |$t$|$} & \\textbf{[0.025} & \\textbf{0.975]}  \\\\\n",
       "\\midrule\n",
       "\\textbf{Intercept}  &       0.2492  &        0.105     &     2.365  &         0.021        &        0.039    &        0.459     \\\\\n",
       "\\textbf{fatalism}   &       0.3845  &        0.100     &     3.829  &         0.000        &        0.185    &        0.584     \\\\\n",
       "\\textbf{simplicity} &       0.3663  &        0.100     &     3.649  &         0.000        &        0.166    &        0.566     \\\\\n",
       "\\bottomrule\n",
       "\\end{tabular}\n",
       "\\begin{tabular}{lclc}\n",
       "\\textbf{Omnibus:}       & 10.510 & \\textbf{  Durbin-Watson:     } &    1.178  \\\\\n",
       "\\textbf{Prob(Omnibus):} &  0.005 & \\textbf{  Jarque-Bera (JB):  } &   10.561  \\\\\n",
       "\\textbf{Skew:}          &  0.836 & \\textbf{  Prob(JB):          } &  0.00509  \\\\\n",
       "\\textbf{Kurtosis:}      &  3.542 & \\textbf{  Cond. No.          } &     5.34  \\\\\n",
       "\\bottomrule\n",
       "\\end{tabular}\n",
       "%\\caption{OLS Regression Results}\n",
       "\\end{center}\n",
       "\n",
       "Notes: \\newline\n",
       " [1] Standard Errors assume that the covariance matrix of the errors is correctly specified."
      ],
      "text/plain": [
       "<class 'statsmodels.iolib.summary.Summary'>\n",
       "\"\"\"\n",
       "                            OLS Regression Results                            \n",
       "==============================================================================\n",
       "Dep. Variable:             depression   R-squared:                       0.433\n",
       "Model:                            OLS   Adj. R-squared:                  0.419\n",
       "Method:                 Least Squares   F-statistic:                     30.19\n",
       "Date:                Thu, 18 Jan 2024   Prob (F-statistic):           1.82e-10\n",
       "Time:                        21:58:12   Log-Likelihood:                -35.735\n",
       "No. Observations:                  82   AIC:                             77.47\n",
       "Df Residuals:                      79   BIC:                             84.69\n",
       "Df Model:                           2                                         \n",
       "Covariance Type:            nonrobust                                         \n",
       "==============================================================================\n",
       "                 coef    std err          t      P>|t|      [0.025      0.975]\n",
       "------------------------------------------------------------------------------\n",
       "Intercept      0.2492      0.105      2.365      0.021       0.039       0.459\n",
       "fatalism       0.3845      0.100      3.829      0.000       0.185       0.584\n",
       "simplicity     0.3663      0.100      3.649      0.000       0.166       0.566\n",
       "==============================================================================\n",
       "Omnibus:                       10.510   Durbin-Watson:                   1.178\n",
       "Prob(Omnibus):                  0.005   Jarque-Bera (JB):               10.561\n",
       "Skew:                           0.836   Prob(JB):                      0.00509\n",
       "Kurtosis:                       3.542   Cond. No.                         5.34\n",
       "==============================================================================\n",
       "\n",
       "Notes:\n",
       "[1] Standard Errors assume that the covariance matrix of the errors is correctly specified.\n",
       "\"\"\""
      ]
     },
     "execution_count": 38,
     "metadata": {},
     "output_type": "execute_result"
    }
   ],
   "source": [
    "import statsmodels.formula.api as smf\n",
    "\n",
    "# Fit regression model\n",
    "model = smf.ols(\"depression ~ fatalism + simplicity\", data=ginzberg_data).fit()\n",
    "model.summary()"
   ]
  },
  {
   "cell_type": "markdown",
   "metadata": {},
   "source": [
    "## Análisis de regresión logística"
   ]
  },
  {
   "cell_type": "code",
   "execution_count": 55,
   "metadata": {},
   "outputs": [
    {
     "data": {
      "text/html": [
       "<div>\n",
       "<style scoped>\n",
       "    .dataframe tbody tr th:only-of-type {\n",
       "        vertical-align: middle;\n",
       "    }\n",
       "\n",
       "    .dataframe tbody tr th {\n",
       "        vertical-align: top;\n",
       "    }\n",
       "\n",
       "    .dataframe thead th {\n",
       "        text-align: right;\n",
       "    }\n",
       "</style>\n",
       "<table border=\"1\" class=\"dataframe\">\n",
       "  <thead>\n",
       "    <tr style=\"text-align: right;\">\n",
       "      <th></th>\n",
       "      <th>neuroticism</th>\n",
       "      <th>extraversion</th>\n",
       "      <th>sex_male</th>\n",
       "      <th>volunteer_yes</th>\n",
       "    </tr>\n",
       "  </thead>\n",
       "  <tbody>\n",
       "    <tr>\n",
       "      <th>1</th>\n",
       "      <td>17.0</td>\n",
       "      <td>13.0</td>\n",
       "      <td>0</td>\n",
       "      <td>0</td>\n",
       "    </tr>\n",
       "    <tr>\n",
       "      <th>2</th>\n",
       "      <td>9.0</td>\n",
       "      <td>14.0</td>\n",
       "      <td>1</td>\n",
       "      <td>0</td>\n",
       "    </tr>\n",
       "    <tr>\n",
       "      <th>3</th>\n",
       "      <td>6.0</td>\n",
       "      <td>16.0</td>\n",
       "      <td>1</td>\n",
       "      <td>0</td>\n",
       "    </tr>\n",
       "    <tr>\n",
       "      <th>4</th>\n",
       "      <td>9.0</td>\n",
       "      <td>20.0</td>\n",
       "      <td>0</td>\n",
       "      <td>0</td>\n",
       "    </tr>\n",
       "    <tr>\n",
       "      <th>5</th>\n",
       "      <td>10.0</td>\n",
       "      <td>19.0</td>\n",
       "      <td>1</td>\n",
       "      <td>0</td>\n",
       "    </tr>\n",
       "    <tr>\n",
       "      <th>...</th>\n",
       "      <td>...</td>\n",
       "      <td>...</td>\n",
       "      <td>...</td>\n",
       "      <td>...</td>\n",
       "    </tr>\n",
       "    <tr>\n",
       "      <th>1417</th>\n",
       "      <td>6.0</td>\n",
       "      <td>10.0</td>\n",
       "      <td>1</td>\n",
       "      <td>1</td>\n",
       "    </tr>\n",
       "    <tr>\n",
       "      <th>1418</th>\n",
       "      <td>9.0</td>\n",
       "      <td>4.0</td>\n",
       "      <td>0</td>\n",
       "      <td>1</td>\n",
       "    </tr>\n",
       "    <tr>\n",
       "      <th>1419</th>\n",
       "      <td>9.0</td>\n",
       "      <td>8.0</td>\n",
       "      <td>1</td>\n",
       "      <td>1</td>\n",
       "    </tr>\n",
       "    <tr>\n",
       "      <th>1420</th>\n",
       "      <td>20.0</td>\n",
       "      <td>20.0</td>\n",
       "      <td>0</td>\n",
       "      <td>1</td>\n",
       "    </tr>\n",
       "    <tr>\n",
       "      <th>1421</th>\n",
       "      <td>16.0</td>\n",
       "      <td>20.0</td>\n",
       "      <td>1</td>\n",
       "      <td>1</td>\n",
       "    </tr>\n",
       "  </tbody>\n",
       "</table>\n",
       "<p>1421 rows × 4 columns</p>\n",
       "</div>"
      ],
      "text/plain": [
       "      neuroticism  extraversion  sex_male  volunteer_yes\n",
       "1            17.0          13.0         0              0\n",
       "2             9.0          14.0         1              0\n",
       "3             6.0          16.0         1              0\n",
       "4             9.0          20.0         0              0\n",
       "5            10.0          19.0         1              0\n",
       "...           ...           ...       ...            ...\n",
       "1417          6.0          10.0         1              1\n",
       "1418          9.0           4.0         0              1\n",
       "1419          9.0           8.0         1              1\n",
       "1420         20.0          20.0         0              1\n",
       "1421         16.0          20.0         1              1\n",
       "\n",
       "[1421 rows x 4 columns]"
      ]
     },
     "execution_count": 55,
     "metadata": {},
     "output_type": "execute_result"
    }
   ],
   "source": [
    "df = pd.read_csv(\n",
    "    \"https://socialsciences.mcmaster.ca/jfox/Books/Applied-Regression-3E/datasets/Cowles.txt\",\n",
    "    sep=r\"\\s{1,}\",\n",
    "    engine=\"python\",\n",
    ")\n",
    "df.dropna(inplace=True)\n",
    "cowles_data = pd.get_dummies(df, drop_first=True, dtype=int)\n",
    "cowles_data[\"neuroticism\"] = cowles_data[\"neuroticism\"] + 1\n",
    "cowles_data"
   ]
  },
  {
   "cell_type": "code",
   "execution_count": 56,
   "metadata": {},
   "outputs": [
    {
     "name": "stdout",
     "output_type": "stream",
     "text": [
      "Optimization terminated successfully.\n",
      "         Current function value: 0.670676\n",
      "         Iterations 4\n"
     ]
    },
    {
     "data": {
      "text/html": [
       "<table class=\"simpletable\">\n",
       "<caption>Logit Regression Results</caption>\n",
       "<tr>\n",
       "  <th>Dep. Variable:</th>     <td>volunteer_yes</td>  <th>  No. Observations:  </th>  <td>  1421</td>  \n",
       "</tr>\n",
       "<tr>\n",
       "  <th>Model:</th>                 <td>Logit</td>      <th>  Df Residuals:      </th>  <td>  1417</td>  \n",
       "</tr>\n",
       "<tr>\n",
       "  <th>Method:</th>                 <td>MLE</td>       <th>  Df Model:          </th>  <td>     3</td>  \n",
       "</tr>\n",
       "<tr>\n",
       "  <th>Date:</th>            <td>Thu, 18 Jan 2024</td> <th>  Pseudo R-squ.:     </th>  <td>0.01419</td> \n",
       "</tr>\n",
       "<tr>\n",
       "  <th>Time:</th>                <td>22:42:06</td>     <th>  Log-Likelihood:    </th> <td> -953.03</td> \n",
       "</tr>\n",
       "<tr>\n",
       "  <th>converged:</th>             <td>True</td>       <th>  LL-Null:           </th> <td> -966.75</td> \n",
       "</tr>\n",
       "<tr>\n",
       "  <th>Covariance Type:</th>     <td>nonrobust</td>    <th>  LLR p-value:       </th> <td>4.750e-06</td>\n",
       "</tr>\n",
       "</table>\n",
       "<table class=\"simpletable\">\n",
       "<tr>\n",
       "        <td></td>          <th>coef</th>     <th>std err</th>      <th>z</th>      <th>P>|z|</th>  <th>[0.025</th>    <th>0.975]</th>  \n",
       "</tr>\n",
       "<tr>\n",
       "  <th>Intercept</th>    <td>   -1.1229</td> <td>    0.256</td> <td>   -4.378</td> <td> 0.000</td> <td>   -1.625</td> <td>   -0.620</td>\n",
       "</tr>\n",
       "<tr>\n",
       "  <th>extraversion</th> <td>    0.0663</td> <td>    0.014</td> <td>    4.651</td> <td> 0.000</td> <td>    0.038</td> <td>    0.094</td>\n",
       "</tr>\n",
       "<tr>\n",
       "  <th>neuroticism</th>  <td>    0.0064</td> <td>    0.011</td> <td>    0.560</td> <td> 0.575</td> <td>   -0.016</td> <td>    0.029</td>\n",
       "</tr>\n",
       "<tr>\n",
       "  <th>sex_male</th>     <td>   -0.2352</td> <td>    0.111</td> <td>   -2.115</td> <td> 0.034</td> <td>   -0.453</td> <td>   -0.017</td>\n",
       "</tr>\n",
       "</table>"
      ],
      "text/latex": [
       "\\begin{center}\n",
       "\\begin{tabular}{lclc}\n",
       "\\toprule\n",
       "\\textbf{Dep. Variable:}   &  volunteer\\_yes  & \\textbf{  No. Observations:  } &     1421    \\\\\n",
       "\\textbf{Model:}           &      Logit       & \\textbf{  Df Residuals:      } &     1417    \\\\\n",
       "\\textbf{Method:}          &       MLE        & \\textbf{  Df Model:          } &        3    \\\\\n",
       "\\textbf{Date:}            & Thu, 18 Jan 2024 & \\textbf{  Pseudo R-squ.:     } &  0.01419    \\\\\n",
       "\\textbf{Time:}            &     22:42:06     & \\textbf{  Log-Likelihood:    } &   -953.03   \\\\\n",
       "\\textbf{converged:}       &       True       & \\textbf{  LL-Null:           } &   -966.75   \\\\\n",
       "\\textbf{Covariance Type:} &    nonrobust     & \\textbf{  LLR p-value:       } & 4.750e-06   \\\\\n",
       "\\bottomrule\n",
       "\\end{tabular}\n",
       "\\begin{tabular}{lcccccc}\n",
       "                      & \\textbf{coef} & \\textbf{std err} & \\textbf{z} & \\textbf{P$> |$z$|$} & \\textbf{[0.025} & \\textbf{0.975]}  \\\\\n",
       "\\midrule\n",
       "\\textbf{Intercept}    &      -1.1229  &        0.256     &    -4.378  &         0.000        &       -1.625    &       -0.620     \\\\\n",
       "\\textbf{extraversion} &       0.0663  &        0.014     &     4.651  &         0.000        &        0.038    &        0.094     \\\\\n",
       "\\textbf{neuroticism}  &       0.0064  &        0.011     &     0.560  &         0.575        &       -0.016    &        0.029     \\\\\n",
       "\\textbf{sex\\_male}    &      -0.2352  &        0.111     &    -2.115  &         0.034        &       -0.453    &       -0.017     \\\\\n",
       "\\bottomrule\n",
       "\\end{tabular}\n",
       "%\\caption{Logit Regression Results}\n",
       "\\end{center}"
      ],
      "text/plain": [
       "<class 'statsmodels.iolib.summary.Summary'>\n",
       "\"\"\"\n",
       "                           Logit Regression Results                           \n",
       "==============================================================================\n",
       "Dep. Variable:          volunteer_yes   No. Observations:                 1421\n",
       "Model:                          Logit   Df Residuals:                     1417\n",
       "Method:                           MLE   Df Model:                            3\n",
       "Date:                Thu, 18 Jan 2024   Pseudo R-squ.:                 0.01419\n",
       "Time:                        22:42:06   Log-Likelihood:                -953.03\n",
       "converged:                       True   LL-Null:                       -966.75\n",
       "Covariance Type:            nonrobust   LLR p-value:                 4.750e-06\n",
       "================================================================================\n",
       "                   coef    std err          z      P>|z|      [0.025      0.975]\n",
       "--------------------------------------------------------------------------------\n",
       "Intercept       -1.1229      0.256     -4.378      0.000      -1.625      -0.620\n",
       "extraversion     0.0663      0.014      4.651      0.000       0.038       0.094\n",
       "neuroticism      0.0064      0.011      0.560      0.575      -0.016       0.029\n",
       "sex_male        -0.2352      0.111     -2.115      0.034      -0.453      -0.017\n",
       "================================================================================\n",
       "\"\"\""
      ]
     },
     "execution_count": 56,
     "metadata": {},
     "output_type": "execute_result"
    }
   ],
   "source": [
    "import statsmodels.formula.api as smf\n",
    "\n",
    "model = smf.logit(\n",
    "    \"volunteer_yes ~ extraversion + neuroticism + sex_male\", data=cowles_data\n",
    ").fit()\n",
    "model.summary()"
   ]
  }
 ],
 "metadata": {
  "celltoolbar": "Slideshow",
  "kernelspec": {
   "display_name": "Python 3 (ipykernel)",
   "language": "python",
   "name": "python3"
  },
  "language_info": {
   "codemirror_mode": {
    "name": "ipython",
    "version": 3
   },
   "file_extension": ".py",
   "mimetype": "text/x-python",
   "name": "python",
   "nbconvert_exporter": "python",
   "pygments_lexer": "ipython3",
   "version": "3.10.12"
  },
  "vscode": {
   "interpreter": {
    "hash": "94285bb15823d6808010e9c4aa3c0f3449aea2861795e388604752bf8b5281bb"
   }
  }
 },
 "nbformat": 4,
 "nbformat_minor": 2
}
