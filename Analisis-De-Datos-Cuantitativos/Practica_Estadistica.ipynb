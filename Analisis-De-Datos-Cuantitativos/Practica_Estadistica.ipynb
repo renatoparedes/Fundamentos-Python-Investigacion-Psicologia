{
 "cells": [
  {
   "cell_type": "markdown",
   "metadata": {},
   "source": [
    "# Práctica: Estadística descriptiva e inferencial con Pingouin y Statsmodels\n",
    " \n",
    "## Prevalencia de desórdenes de salud mental a nivel mundial\n",
    "\n",
    "Después de tu experiencia exitosa en el gobierno Uruguayo recibiste una oferta para trabajar en la OMS en un área encargada de analizar métricas de salud mental. Ahora tienes el reto de encontrar qué variables demográficas están relacionadas a una mayor prevalencia de desórdenes de salud mental en los distintos países. \n",
    "\n",
    "Primero carguemos los datos que se te han brindado para esta tarea. Estos provienen del portal [Data World](https://data.world/vizzup/mental-health-depression-disorder-data)."
   ]
  },
  {
   "cell_type": "code",
   "execution_count": null,
   "metadata": {},
   "outputs": [],
   "source": [
    "#!pip install pingouin"
   ]
  },
  {
   "cell_type": "code",
   "execution_count": 3,
   "metadata": {},
   "outputs": [],
   "source": [
    "import pandas as pd\n",
    "import matplotlib.pyplot as plt\n",
    "import seaborn as sns\n",
    "import pingouin as pg\n",
    "\n",
    "df_age = pd.read_csv(\n",
    "    \"https://raw.githubusercontent.com/renatoparedes/IntroPythonInvestigacionPsicologia/master/AnalisisdeDatosCuantitativos/depression-data-age.csv\"\n",
    ")\n",
    "df_subsdis = pd.read_csv(\n",
    "    \"https://raw.githubusercontent.com/renatoparedes/IntroPythonInvestigacionPsicologia/master/AnalisisdeDatosCuantitativos/depression-data-subsdis.csv\"\n",
    ")"
   ]
  },
  {
   "cell_type": "markdown",
   "metadata": {},
   "source": [
    "## Depresión según edad\n",
    "\n",
    "En el DataFrame `df_age` encontrarás datos de prevalencia de depresión según grupo etario en los diferentes países. Dale un primer vistazo a la tabla:"
   ]
  },
  {
   "cell_type": "code",
   "execution_count": 4,
   "metadata": {},
   "outputs": [
    {
     "data": {
      "text/html": [
       "<div>\n",
       "<style scoped>\n",
       "    .dataframe tbody tr th:only-of-type {\n",
       "        vertical-align: middle;\n",
       "    }\n",
       "\n",
       "    .dataframe tbody tr th {\n",
       "        vertical-align: top;\n",
       "    }\n",
       "\n",
       "    .dataframe thead th {\n",
       "        text-align: right;\n",
       "    }\n",
       "</style>\n",
       "<table border=\"1\" class=\"dataframe\">\n",
       "  <thead>\n",
       "    <tr style=\"text-align: right;\">\n",
       "      <th></th>\n",
       "      <th>entity</th>\n",
       "      <th>code</th>\n",
       "      <th>year</th>\n",
       "      <th>20_24_years_old</th>\n",
       "      <th>10_14_years_old</th>\n",
       "      <th>all_ages</th>\n",
       "      <th>70_years_old</th>\n",
       "      <th>30_34_years_old</th>\n",
       "      <th>15_19_years_old</th>\n",
       "      <th>25_29_years_old</th>\n",
       "      <th>50_69_years_old</th>\n",
       "      <th>age_standardized</th>\n",
       "      <th>15_49_years_old</th>\n",
       "    </tr>\n",
       "  </thead>\n",
       "  <tbody>\n",
       "    <tr>\n",
       "      <th>0</th>\n",
       "      <td>Afghanistan</td>\n",
       "      <td>AFG</td>\n",
       "      <td>2017</td>\n",
       "      <td>4.386172</td>\n",
       "      <td>1.618270</td>\n",
       "      <td>3.050785</td>\n",
       "      <td>5.279772</td>\n",
       "      <td>5.749905</td>\n",
       "      <td>3.433750</td>\n",
       "      <td>5.105028</td>\n",
       "      <td>6.131183</td>\n",
       "      <td>4.136347</td>\n",
       "      <td>5.010372</td>\n",
       "    </tr>\n",
       "    <tr>\n",
       "      <th>1</th>\n",
       "      <td>Albania</td>\n",
       "      <td>ALB</td>\n",
       "      <td>2017</td>\n",
       "      <td>2.437424</td>\n",
       "      <td>0.900396</td>\n",
       "      <td>2.607896</td>\n",
       "      <td>4.399558</td>\n",
       "      <td>2.401418</td>\n",
       "      <td>2.004014</td>\n",
       "      <td>2.398396</td>\n",
       "      <td>3.664052</td>\n",
       "      <td>2.208414</td>\n",
       "      <td>2.487747</td>\n",
       "    </tr>\n",
       "    <tr>\n",
       "      <th>2</th>\n",
       "      <td>Algeria</td>\n",
       "      <td>DZA</td>\n",
       "      <td>2017</td>\n",
       "      <td>3.854475</td>\n",
       "      <td>1.757578</td>\n",
       "      <td>3.691020</td>\n",
       "      <td>4.848270</td>\n",
       "      <td>4.630534</td>\n",
       "      <td>3.404122</td>\n",
       "      <td>4.256386</td>\n",
       "      <td>5.402483</td>\n",
       "      <td>3.661094</td>\n",
       "      <td>4.522808</td>\n",
       "    </tr>\n",
       "    <tr>\n",
       "      <th>3</th>\n",
       "      <td>American Samoa</td>\n",
       "      <td>ASM</td>\n",
       "      <td>2017</td>\n",
       "      <td>2.885708</td>\n",
       "      <td>1.063623</td>\n",
       "      <td>2.787788</td>\n",
       "      <td>5.746022</td>\n",
       "      <td>2.971754</td>\n",
       "      <td>2.438167</td>\n",
       "      <td>2.862544</td>\n",
       "      <td>5.451378</td>\n",
       "      <td>2.939668</td>\n",
       "      <td>3.115501</td>\n",
       "    </tr>\n",
       "    <tr>\n",
       "      <th>4</th>\n",
       "      <td>Andean Latin America</td>\n",
       "      <td>NaN</td>\n",
       "      <td>2017</td>\n",
       "      <td>2.884113</td>\n",
       "      <td>1.024932</td>\n",
       "      <td>2.538325</td>\n",
       "      <td>4.663443</td>\n",
       "      <td>2.966047</td>\n",
       "      <td>2.354958</td>\n",
       "      <td>2.933790</td>\n",
       "      <td>4.408046</td>\n",
       "      <td>2.610385</td>\n",
       "      <td>2.969004</td>\n",
       "    </tr>\n",
       "  </tbody>\n",
       "</table>\n",
       "</div>"
      ],
      "text/plain": [
       "                 entity code  year  20_24_years_old  10_14_years_old  \\\n",
       "0           Afghanistan  AFG  2017         4.386172         1.618270   \n",
       "1               Albania  ALB  2017         2.437424         0.900396   \n",
       "2               Algeria  DZA  2017         3.854475         1.757578   \n",
       "3        American Samoa  ASM  2017         2.885708         1.063623   \n",
       "4  Andean Latin America  NaN  2017         2.884113         1.024932   \n",
       "\n",
       "   all_ages  70_years_old  30_34_years_old  15_19_years_old  25_29_years_old  \\\n",
       "0  3.050785      5.279772         5.749905         3.433750         5.105028   \n",
       "1  2.607896      4.399558         2.401418         2.004014         2.398396   \n",
       "2  3.691020      4.848270         4.630534         3.404122         4.256386   \n",
       "3  2.787788      5.746022         2.971754         2.438167         2.862544   \n",
       "4  2.538325      4.663443         2.966047         2.354958         2.933790   \n",
       "\n",
       "   50_69_years_old  age_standardized  15_49_years_old  \n",
       "0         6.131183          4.136347         5.010372  \n",
       "1         3.664052          2.208414         2.487747  \n",
       "2         5.402483          3.661094         4.522808  \n",
       "3         5.451378          2.939668         3.115501  \n",
       "4         4.408046          2.610385         2.969004  "
      ]
     },
     "execution_count": 4,
     "metadata": {},
     "output_type": "execute_result"
    }
   ],
   "source": [
    "df_age.head()"
   ]
  },
  {
   "cell_type": "markdown",
   "metadata": {},
   "source": [
    "### Estadística sumaria\n",
    "\n",
    "- Elabora un reporte que incluya medidas de tendencia central y dispersión de los datos de prevalencia de depresión en cada uno de los grupos etarios presentes en la tabla. Considera también métricas acerca de la forma de la distribución (asimetría y curtosis)."
   ]
  },
  {
   "cell_type": "code",
   "execution_count": 1,
   "metadata": {},
   "outputs": [],
   "source": [
    "# Escribe tu respuesta aquí"
   ]
  },
  {
   "cell_type": "markdown",
   "metadata": {},
   "source": [
    "- ¿Cuál o cuáles son los grupos etarios con mayor prevalencia de depresión? ¿Y con menor prevalencia? Elabora un gráfico para ilustrar tus resultados (sugerencia: usa la función violinplot del paquete seaborn).   "
   ]
  },
  {
   "cell_type": "code",
   "execution_count": 2,
   "metadata": {},
   "outputs": [],
   "source": [
    "# Escribe tu respuesta aquí"
   ]
  },
  {
   "cell_type": "markdown",
   "metadata": {},
   "source": [
    "## Prevalencia de desórdenes de salud mental a nivel mundial\n",
    "\n",
    "En el DataFrame `df_subsdis` encontrarás datos de prevalencia de de desórdenes de salud mental de los diferentes países. Dale un primer vistazo a la tabla:"
   ]
  },
  {
   "cell_type": "code",
   "execution_count": 13,
   "metadata": {},
   "outputs": [
    {
     "data": {
      "text/html": [
       "<div>\n",
       "<style scoped>\n",
       "    .dataframe tbody tr th:only-of-type {\n",
       "        vertical-align: middle;\n",
       "    }\n",
       "\n",
       "    .dataframe tbody tr th {\n",
       "        vertical-align: top;\n",
       "    }\n",
       "\n",
       "    .dataframe thead th {\n",
       "        text-align: right;\n",
       "    }\n",
       "</style>\n",
       "<table border=\"1\" class=\"dataframe\">\n",
       "  <thead>\n",
       "    <tr style=\"text-align: right;\">\n",
       "      <th></th>\n",
       "      <th>entity</th>\n",
       "      <th>code</th>\n",
       "      <th>year</th>\n",
       "      <th>schizophrenia</th>\n",
       "      <th>bipolar_disorder</th>\n",
       "      <th>eating_disorders</th>\n",
       "      <th>anxiety_disorders</th>\n",
       "      <th>drug_use_disorders</th>\n",
       "      <th>depression</th>\n",
       "      <th>alcohol_use_disorders</th>\n",
       "    </tr>\n",
       "  </thead>\n",
       "  <tbody>\n",
       "    <tr>\n",
       "      <th>0</th>\n",
       "      <td>Afghanistan</td>\n",
       "      <td>AFG</td>\n",
       "      <td>2017</td>\n",
       "      <td>0.166158</td>\n",
       "      <td>0.708089</td>\n",
       "      <td>0.107142</td>\n",
       "      <td>4.882481</td>\n",
       "      <td>2.473934</td>\n",
       "      <td>4.136347</td>\n",
       "      <td>0.661217</td>\n",
       "    </tr>\n",
       "    <tr>\n",
       "      <th>1</th>\n",
       "      <td>Albania</td>\n",
       "      <td>ALB</td>\n",
       "      <td>2017</td>\n",
       "      <td>0.201025</td>\n",
       "      <td>0.704480</td>\n",
       "      <td>0.174046</td>\n",
       "      <td>3.385245</td>\n",
       "      <td>0.517614</td>\n",
       "      <td>2.208414</td>\n",
       "      <td>1.837955</td>\n",
       "    </tr>\n",
       "    <tr>\n",
       "      <th>2</th>\n",
       "      <td>Algeria</td>\n",
       "      <td>DZA</td>\n",
       "      <td>2017</td>\n",
       "      <td>0.197913</td>\n",
       "      <td>0.818687</td>\n",
       "      <td>0.213612</td>\n",
       "      <td>5.065876</td>\n",
       "      <td>1.717218</td>\n",
       "      <td>3.661094</td>\n",
       "      <td>0.665191</td>\n",
       "    </tr>\n",
       "    <tr>\n",
       "      <th>3</th>\n",
       "      <td>American Samoa</td>\n",
       "      <td>ASM</td>\n",
       "      <td>2017</td>\n",
       "      <td>0.248557</td>\n",
       "      <td>0.468305</td>\n",
       "      <td>0.177808</td>\n",
       "      <td>3.315834</td>\n",
       "      <td>0.772801</td>\n",
       "      <td>2.939668</td>\n",
       "      <td>1.142277</td>\n",
       "    </tr>\n",
       "    <tr>\n",
       "      <th>4</th>\n",
       "      <td>Andean Latin America</td>\n",
       "      <td>NaN</td>\n",
       "      <td>2017</td>\n",
       "      <td>0.201471</td>\n",
       "      <td>0.881737</td>\n",
       "      <td>0.355475</td>\n",
       "      <td>4.267738</td>\n",
       "      <td>0.661481</td>\n",
       "      <td>2.610385</td>\n",
       "      <td>1.533573</td>\n",
       "    </tr>\n",
       "  </tbody>\n",
       "</table>\n",
       "</div>"
      ],
      "text/plain": [
       "                 entity code  year  schizophrenia  bipolar_disorder  \\\n",
       "0           Afghanistan  AFG  2017       0.166158          0.708089   \n",
       "1               Albania  ALB  2017       0.201025          0.704480   \n",
       "2               Algeria  DZA  2017       0.197913          0.818687   \n",
       "3        American Samoa  ASM  2017       0.248557          0.468305   \n",
       "4  Andean Latin America  NaN  2017       0.201471          0.881737   \n",
       "\n",
       "   eating_disorders  anxiety_disorders  drug_use_disorders  depression  \\\n",
       "0          0.107142           4.882481            2.473934    4.136347   \n",
       "1          0.174046           3.385245            0.517614    2.208414   \n",
       "2          0.213612           5.065876            1.717218    3.661094   \n",
       "3          0.177808           3.315834            0.772801    2.939668   \n",
       "4          0.355475           4.267738            0.661481    2.610385   \n",
       "\n",
       "   alcohol_use_disorders  \n",
       "0               0.661217  \n",
       "1               1.837955  \n",
       "2               0.665191  \n",
       "3               1.142277  \n",
       "4               1.533573  "
      ]
     },
     "execution_count": 13,
     "metadata": {},
     "output_type": "execute_result"
    }
   ],
   "source": [
    "df_subsdis.head()"
   ]
  },
  {
   "cell_type": "markdown",
   "metadata": {},
   "source": [
    "### Estadística sumaria\n",
    "\n",
    "- Elabora un reporte que incluya medidas de tendencia central y dispersión basadas en cuantiles (mediana y rango intercuartílico) de los datos de prevalencia de cada una de las condiciones de salud mental presentes en la tabla (esquizofrenia, desorden bipolar, desórdenes alimenticios, desórdenes de ansiedad, desorden de consumo de drogas).  "
   ]
  },
  {
   "cell_type": "code",
   "execution_count": 3,
   "metadata": {},
   "outputs": [],
   "source": [
    "# Escribe tu respuesta aquí"
   ]
  },
  {
   "cell_type": "markdown",
   "metadata": {},
   "source": [
    "- ¿Cuál o cuáles son los desórdenes con mayor prevalencia? ¿Y con menor prevalencia? Elabora un gráfico para ilustrar tus resultados (sugerencia: usa la función boxplot del paquete seaborn).   "
   ]
  },
  {
   "cell_type": "code",
   "execution_count": 4,
   "metadata": {},
   "outputs": [],
   "source": [
    "# Escribe tu respuesta aquí"
   ]
  },
  {
   "cell_type": "markdown",
   "metadata": {},
   "source": [
    "### Análisis de correlación\n",
    "\n",
    "- Ahora, explora si existen correlaciones entre las prevalencias de algunas de las condiciones de salud mental listadas. Primero calcula coeficientes de correlación de Spearman y luego crea un mapa de calor que facilite su interpretación."
   ]
  },
  {
   "cell_type": "code",
   "execution_count": 6,
   "metadata": {},
   "outputs": [],
   "source": [
    "# Escribe tu respuesta aquí"
   ]
  },
  {
   "cell_type": "markdown",
   "metadata": {},
   "source": [
    "- Crea una matriz de gráficos de dispersión de las variables.\n",
    "(Pista: Utiliza la función pairplot del paquete seaborn).  "
   ]
  },
  {
   "cell_type": "code",
   "execution_count": 7,
   "metadata": {},
   "outputs": [],
   "source": [
    "# Escribe tu respuesta aquí"
   ]
  },
  {
   "cell_type": "markdown",
   "metadata": {},
   "source": [
    "- Verifica la significancia de las correlaciones calculadas."
   ]
  },
  {
   "cell_type": "code",
   "execution_count": null,
   "metadata": {},
   "outputs": [],
   "source": [
    "# Escribe tu respuesta aquí"
   ]
  }
 ],
 "metadata": {
  "interpreter": {
   "hash": "429183b29f7e15a3d52783890ad1398801cfd8f8cc4f4898fadd3811035dbdaa"
  },
  "kernelspec": {
   "display_name": "Python 3.7.9 64-bit (conda)",
   "language": "python",
   "name": "python3"
  },
  "language_info": {
   "codemirror_mode": {
    "name": "ipython",
    "version": 3
   },
   "file_extension": ".py",
   "mimetype": "text/x-python",
   "name": "python",
   "nbconvert_exporter": "python",
   "pygments_lexer": "ipython3",
   "version": "3.7.13"
  },
  "orig_nbformat": 2
 },
 "nbformat": 4,
 "nbformat_minor": 2
}
